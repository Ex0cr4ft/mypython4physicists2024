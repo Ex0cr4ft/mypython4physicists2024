{
 "cells": [
  {
   "cell_type": "markdown",
   "metadata": {},
   "source": [
    "# Iterations\n",
    "\n",
    "Today we are going to walk through controlling the execution flow of a program with conditional statements and using loops to execute a task for the items in a container. We will start off with some details about strings, which we didn't cover earlier. We'll also discuss string formatting, which is a task we will want to do frequently when printing."
   ]
  },
  {
   "cell_type": "markdown",
   "metadata": {},
   "source": [
    "## 0. Strings\n",
    "\n",
    "Strings are an immutable sequence of characters, similar to a tuple, which we learned about last week. We can use the built-in `len()` method on them, as well as slicing, which we used last week to get sub-lists."
   ]
  },
  {
   "cell_type": "code",
   "execution_count": 1,
   "metadata": {},
   "outputs": [
    {
     "name": "stdout",
     "output_type": "stream",
     "text": [
      "Hello World! 12\n"
     ]
    }
   ],
   "source": [
    "my_string = \"Hello World!\"\n",
    "print(my_string, len(my_string))"
   ]
  },
  {
   "cell_type": "code",
   "execution_count": 3,
   "metadata": {},
   "outputs": [
    {
     "name": "stdout",
     "output_type": "stream",
     "text": [
      "Hello \n"
     ]
    }
   ],
   "source": [
    "print(my_string[0:6])"
   ]
  },
  {
   "cell_type": "code",
   "execution_count": 4,
   "metadata": {},
   "outputs": [
    {
     "name": "stdout",
     "output_type": "stream",
     "text": [
      "!\n"
     ]
    }
   ],
   "source": [
    "print(my_string[-1:])"
   ]
  },
  {
   "cell_type": "code",
   "execution_count": 5,
   "metadata": {},
   "outputs": [
    {
     "name": "stdout",
     "output_type": "stream",
     "text": [
      "!dlroW olleH\n"
     ]
    }
   ],
   "source": [
    "print(my_string[::-1])"
   ]
  },
  {
   "cell_type": "markdown",
   "metadata": {},
   "source": [
    "As with tuples, adding strings will concentenate them."
   ]
  },
  {
   "cell_type": "code",
   "execution_count": 6,
   "metadata": {},
   "outputs": [
    {
     "name": "stdout",
     "output_type": "stream",
     "text": [
      "Hello World!\n"
     ]
    }
   ],
   "source": [
    "my_string_1 = \"Hello \"\n",
    "my_string_2 = \"World!\"\n",
    "print(my_string_1 + my_string_2)"
   ]
  },
  {
   "cell_type": "markdown",
   "metadata": {},
   "source": [
    "Let's try out some interesting string methods: `.lower()`, `.upper()`, `.rstrip()`, `.lstrip()`, `.strip()`, `.startswith()`, `.endswith()`, `.find()`, and `.replace()`."
   ]
  },
  {
   "cell_type": "code",
   "execution_count": 8,
   "metadata": {},
   "outputs": [
    {
     "data": {
      "text/plain": [
       "'HELLO WORLD!'"
      ]
     },
     "execution_count": 8,
     "metadata": {},
     "output_type": "execute_result"
    }
   ],
   "source": [
    "my_string.upper()"
   ]
  },
  {
   "cell_type": "code",
   "execution_count": 9,
   "metadata": {},
   "outputs": [
    {
     "name": "stdout",
     "output_type": "stream",
     "text": [
      "    Hello World!    \n"
     ]
    }
   ],
   "source": [
    "my_string = \"    Hello World!    \"\n",
    "print(my_string)"
   ]
  },
  {
   "cell_type": "code",
   "execution_count": 13,
   "metadata": {},
   "outputs": [
    {
     "data": {
      "text/plain": [
       "'    Hello World!'"
      ]
     },
     "execution_count": 13,
     "metadata": {},
     "output_type": "execute_result"
    }
   ],
   "source": [
    "my_string.rstrip()"
   ]
  },
  {
   "cell_type": "code",
   "execution_count": 18,
   "metadata": {},
   "outputs": [
    {
     "data": {
      "text/plain": [
       "True"
      ]
     },
     "execution_count": 18,
     "metadata": {},
     "output_type": "execute_result"
    }
   ],
   "source": [
    "my_string = \"Hello World!\"\n",
    "my_string.endswith(\"!\")"
   ]
  },
  {
   "cell_type": "code",
   "execution_count": 22,
   "metadata": {},
   "outputs": [
    {
     "name": "stdout",
     "output_type": "stream",
     "text": [
      "4\n",
      "-1\n"
     ]
    }
   ],
   "source": [
    "print(my_string.find(\"o \"))\n",
    "print(my_string.find(\"vjke35i345\"))"
   ]
  },
  {
   "cell_type": "code",
   "execution_count": 21,
   "metadata": {},
   "outputs": [
    {
     "name": "stdout",
     "output_type": "stream",
     "text": [
      "Hello Back At You!\n"
     ]
    },
    {
     "data": {
      "text/plain": [
       "'Hello World!'"
      ]
     },
     "execution_count": 21,
     "metadata": {},
     "output_type": "execute_result"
    }
   ],
   "source": [
    "print(my_string.replace(\"World\", \"Back At You\"))\n",
    "my_string"
   ]
  },
  {
   "cell_type": "markdown",
   "metadata": {},
   "source": [
    "## 1. String formatting\n",
    "\n",
    "In python, there are several ways of building strings incorporating different types of variables. If you are curious about the disadvantages/advantages of different string formatting methods, you can read this article: https://realpython.com/python-string-formatting/#3-string-interpolation-f-strings-python-36."
   ]
  },
  {
   "cell_type": "markdown",
   "metadata": {},
   "source": [
    "### String interpolation (legacy)\n",
    "The oldest style is *[string interpolation](https://docs.python.org/3/library/stdtypes.html#old-string-formatting)*:"
   ]
  },
  {
   "cell_type": "code",
   "execution_count": 27,
   "metadata": {},
   "outputs": [
    {
     "name": "stdout",
     "output_type": "stream",
     "text": [
      "a = 1.23\n"
     ]
    }
   ],
   "source": [
    "a = 1.2345\n",
    "b = 42\n",
    "#print(\"a = %d, b = %d\" % (a, b)) # d -> integer\n",
    "#print(\"a = %02d\" % a)\n",
    "#print(\"a = %f\" % a) # f -> float\n",
    "print(\"a = %.2f\" % a)"
   ]
  },
  {
   "cell_type": "markdown",
   "metadata": {},
   "source": [
    "The `%d` and similar strings (`%s`, `%x`) are called *format strings*. This style has many pitfalls, is basically deprecated and we recommend against using it in your code, it is just included here in case you come across it in existing code. "
   ]
  },
  {
   "cell_type": "markdown",
   "metadata": {},
   "source": [
    "### f-strings and format() method\n",
    "*f-strings* are *formatted string literals* allowing to easily incorporate python variables and expressions in strings. An alternative and less compact notation uses the `format()` method."
   ]
  },
  {
   "cell_type": "code",
   "execution_count": 30,
   "metadata": {},
   "outputs": [
    {
     "name": "stdout",
     "output_type": "stream",
     "text": [
      "a = 1.2345, b = 42\n"
     ]
    }
   ],
   "source": [
    "a, b = 1.2345, 42\n",
    "#print(f\"a = {a}, b = {b}\") # this is simple\n",
    "#print(f\"{a=}, {b=}\") # this is even more compact, although less flexible\n",
    "print(\"a = {}, b = {}\".format(a, b)) # this is an alternative standard, can be more or less readable depending on the circumstances"
   ]
  },
  {
   "cell_type": "markdown",
   "metadata": {},
   "source": [
    "You can control the spacing, number of zeros, number of decimals etc. with specific format strings. "
   ]
  },
  {
   "cell_type": "code",
   "execution_count": 31,
   "metadata": {},
   "outputs": [
    {
     "name": "stdout",
     "output_type": "stream",
     "text": [
      "b = 1042\n",
      "b = 1042\n",
      "b =  1042\n",
      "a =   42\n",
      "a = 0042\n"
     ]
    }
   ],
   "source": [
    "a, b = 42, 1042\n",
    "print(f\"b = {b}\")\n",
    "print(f\"b = {b:4d}\")\n",
    "print(f\"b = {b:5d}\")\n",
    "print(f\"a = {a:4d}\") # this fill up to 4 spaces regardless of the number of digits\n",
    "print(f\"a = {a:04d}\") # this will fill with zeros instead"
   ]
  },
  {
   "cell_type": "code",
   "execution_count": 35,
   "metadata": {},
   "outputs": [
    {
     "name": "stdout",
     "output_type": "stream",
     "text": [
      "a = 1.23e+02\n"
     ]
    }
   ],
   "source": [
    "a = 123.456\n",
    "#print(f\"a = {a}\") # default\n",
    "#print(f\"a = {a:.2f}\") # only print two places past the decimal place\n",
    "#print(f\"a = {a:.6f}\") # print 6 places past the decimal place\n",
    "print(f\"a = {a:.2e}\") # exponential notation!"
   ]
  },
  {
   "cell_type": "markdown",
   "metadata": {},
   "source": [
    "You can even do inline arithmetic with f-strings."
   ]
  },
  {
   "cell_type": "code",
   "execution_count": 36,
   "metadata": {},
   "outputs": [
    {
     "name": "stdout",
     "output_type": "stream",
     "text": [
      "42 plus 1042 is 1084.\n"
     ]
    }
   ],
   "source": [
    "a, b = 42, 1042\n",
    "print(f\"42 plus 1042 is {a + b}.\")"
   ]
  },
  {
   "cell_type": "markdown",
   "metadata": {},
   "source": [
    "### Multiline strings\n",
    "You can build a multiline string using the newline (`\\n`) escape sequence. What's an escape sequence? It's a sequence of characters that starts with a special character (`\\`) and is subject to a special treatment. Do you remember where we can across escape already this term?"
   ]
  },
  {
   "cell_type": "code",
   "execution_count": 37,
   "metadata": {},
   "outputs": [
    {
     "name": "stdout",
     "output_type": "stream",
     "text": [
      "Line 1\n",
      "Line 2\n",
      "Line 3\n"
     ]
    }
   ],
   "source": [
    "print(\"Line 1\\nLine 2\\nLine 3\")"
   ]
  },
  {
   "cell_type": "markdown",
   "metadata": {},
   "source": [
    "You could get the same with three `print()` statements, however in some cases you may want to use a single one. For better readability, you could compose the string as follows:"
   ]
  },
  {
   "cell_type": "code",
   "execution_count": 38,
   "metadata": {},
   "outputs": [
    {
     "name": "stdout",
     "output_type": "stream",
     "text": [
      "Line 1\n",
      "Line 2\n",
      "Line 3\n"
     ]
    }
   ],
   "source": [
    "s = \"Line 1\\n\"\n",
    "s += \"Line 2\\n\"\n",
    "s += \"Line 3\"\n",
    "print(s)"
   ]
  },
  {
   "cell_type": "markdown",
   "metadata": {},
   "source": [
    "Code using this style can easily get very cluttered, so use this parsimoniously!"
   ]
  },
  {
   "cell_type": "markdown",
   "metadata": {},
   "source": [
    "## 3. Conditional statements\n",
    "We have talked about booleans the last two lectures, but what are they useful for? Conditional statements are one of the building blocks of computer programming. A conditional allows for controlling the execution of a sequence based on a boolean value, that can be the result of a comparison operation. Let's introduce the `if-else` construct:"
   ]
  },
  {
   "cell_type": "code",
   "execution_count": 40,
   "metadata": {},
   "outputs": [
    {
     "name": "stdout",
     "output_type": "stream",
     "text": [
      "a=2 is greater than ref_value=1\n"
     ]
    }
   ],
   "source": [
    "a = 2\n",
    "ref_value = 1\n",
    "if (a > ref_value):\n",
    "    print(f\"{a=} is greater than {ref_value=}\")\n",
    "else:\n",
    "    print(f\"{a=} is less than or equal to {ref_value=}\")\n",
    "# Change the value of a and run this cell again!"
   ]
  },
  {
   "cell_type": "markdown",
   "metadata": {},
   "source": [
    "We could have been tempted to write the condition directly as `a > 1` instead of using an auxiliary variable `ref_value`. However, this form allows us to avoid repetitions of `1` in our string and makes our code more easily reusable. When possible, make your code depend on *parameters* rather than literals. \n",
    "\n",
    "We can have cascaded selections using `elif`:"
   ]
  },
  {
   "cell_type": "code",
   "execution_count": 43,
   "metadata": {
    "scrolled": true
   },
   "outputs": [
    {
     "name": "stdout",
     "output_type": "stream",
     "text": [
      "a=0.5 is less than ref_value=1\n"
     ]
    }
   ],
   "source": [
    "a = 0.5\n",
    "ref_value = 1\n",
    "if (a == ref_value):\n",
    "    print(f\"{a=} is equal to {ref_value=}\")\n",
    "elif (a > ref_value):\n",
    "    print(f\"{a=} is greater than {ref_value=}\")\n",
    "else:\n",
    "    print(f\"{a=} is less than {ref_value=}\")\n",
    "# Change the value of a and run this cell again!"
   ]
  },
  {
   "cell_type": "markdown",
   "metadata": {},
   "source": [
    "### match-case (only since python 3.10!)\n",
    "This is also known as *switch-case* statement and has been part of other programming languages since ages. Surprisingly in python this has only been available since the recent 3.10 version. \n",
    "\n",
    "The `match` statement allows to select among different code blocks depending on the value of a variable:"
   ]
  },
  {
   "cell_type": "code",
   "execution_count": 46,
   "metadata": {},
   "outputs": [
    {
     "name": "stdout",
     "output_type": "stream",
     "text": [
      "I don't know how to write this number!\n"
     ]
    }
   ],
   "source": [
    "a = 4\n",
    "match a:\n",
    "    case 1:\n",
    "        print(\"one\")\n",
    "    case 2:\n",
    "        print(\"two\")\n",
    "    case 3:\n",
    "        print(\"three\")\n",
    "    case _:\n",
    "        print(\"I don't know how to write this number!\")\n",
    "# change the value of a and see how the construct behave..."
   ]
  },
  {
   "cell_type": "markdown",
   "metadata": {},
   "source": [
    "You can rewrite this using `if` and `elif`, but it will be much less nice to read!\n",
    "\n",
    "This feature is actually more powerful than we have shown here, as the argument of `match` can be a more sophisticated expression. For the time being, let's just take note of its existence."
   ]
  },
  {
   "cell_type": "markdown",
   "metadata": {},
   "source": [
    "## 4. Loops/Iteration\n",
    "\n",
    "Every algorithm can be built from a combination of three constructs:\n",
    "- tasks executed in a sequence\n",
    "- tasks executed according to conditionals\n",
    "- tasks executed in cycles (or loops).\n",
    "\n",
    "### Looping over a collection with `for`\n",
    "Loops are repetition of a sequence of instructions controlled by a membership statement: as long as the membership statement is true, the instructions are repeated. In `python`, loops can be a bit more abstract such as \"repeat a sequence of instructions for all the elements of a collection\", for example:"
   ]
  },
  {
   "cell_type": "code",
   "execution_count": 48,
   "metadata": {},
   "outputs": [
    {
     "name": "stdout",
     "output_type": "stream",
     "text": [
      "[1, 2, 3, 4, 5]\n",
      "1\n",
      "2\n",
      "3\n",
      "4\n",
      "5\n"
     ]
    }
   ],
   "source": [
    "# loop over a list\n",
    "l = [1, 2, 3, 4, 5]\n",
    "print(l)\n",
    "for n in l:\n",
    "    print(n)"
   ]
  },
  {
   "cell_type": "code",
   "execution_count": 51,
   "metadata": {},
   "outputs": [
    {
     "name": "stdout",
     "output_type": "stream",
     "text": [
      "Germany Berlin\n",
      "France Paris\n",
      "Ireland Dublin\n"
     ]
    }
   ],
   "source": [
    "# loop over a dictionary\n",
    "d = {'Germany':'Berlin', 'France':'Paris', 'Ireland':'Dublin'}\n",
    "for key in d:\n",
    "    value = d[key]\n",
    "    print(key, value)"
   ]
  },
  {
   "cell_type": "code",
   "execution_count": 52,
   "metadata": {},
   "outputs": [
    {
     "name": "stdout",
     "output_type": "stream",
     "text": [
      "l[0] is 1\n",
      "l[1] is 2\n",
      "l[2] is 3\n",
      "l[3] is 4\n",
      "l[4] is 5\n"
     ]
    }
   ],
   "source": [
    "# loop over a list with an index\n",
    "i = 0\n",
    "for n in l:\n",
    "    print(f\"l[{i}] is {n}\")\n",
    "    i += 1"
   ]
  },
  {
   "cell_type": "markdown",
   "metadata": {
    "tags": []
   },
   "source": [
    "### Iterating over a group of lists\n",
    "\n"
   ]
  },
  {
   "cell_type": "code",
   "execution_count": 68,
   "metadata": {},
   "outputs": [],
   "source": [
    "# Lists we're going to need\n",
    "galaxy_names = [\"NGC 5128\", \"TXS 0506+056\", \"NGC 1068\", \"GB6 J1040+0617\", \"TXS 2226-184\"]\n",
    "distances_mpc = [3.7, 1.75e3, 14.4, 1.51e4, 107.1]  # Mpc\n",
    "luminosities = [1e40, 3e46, 4.9e38, 6.2e45, 5.5e41] # erg/s"
   ]
  },
  {
   "cell_type": "markdown",
   "metadata": {},
   "source": [
    "### Introducing `range`"
   ]
  },
  {
   "cell_type": "code",
   "execution_count": 54,
   "metadata": {},
   "outputs": [
    {
     "name": "stdout",
     "output_type": "stream",
     "text": [
      "0\n",
      "1\n",
      "2\n",
      "3\n",
      "4\n"
     ]
    }
   ],
   "source": [
    "for i in range(5):\n",
    "    print(i)"
   ]
  },
  {
   "cell_type": "code",
   "execution_count": 55,
   "metadata": {},
   "outputs": [
    {
     "name": "stdout",
     "output_type": "stream",
     "text": [
      "12\n",
      "19\n",
      "26\n"
     ]
    }
   ],
   "source": [
    "for i in range(12,30,7): # start on 12, end on 29, steps of 7\n",
    "    print(i)"
   ]
  },
  {
   "cell_type": "markdown",
   "metadata": {},
   "source": [
    "### Print name and distance of each galaxy in our list"
   ]
  },
  {
   "cell_type": "code",
   "execution_count": 58,
   "metadata": {},
   "outputs": [
    {
     "name": "stdout",
     "output_type": "stream",
     "text": [
      "Name: NGC 5128; D = 3.7 Mpc\n",
      "Name: TXS 0506+056; D = 1750.0 Mpc\n",
      "Name: NGC 1068; D = 14.4 Mpc\n",
      "Name: GB6 J1040+0617; D = 15100.0 Mpc\n",
      "Name: TXS 2226-184; D = 107.1 Mpc\n"
     ]
    }
   ],
   "source": [
    "for i in range(len(galaxy_names)):\n",
    "    print(f\"Name: {galaxy_names[i]}; D = {distances_mpc[i]} Mpc\")"
   ]
  },
  {
   "cell_type": "markdown",
   "metadata": {},
   "source": [
    "### More pythonic method - iterate directly over the list elements!\n",
    "Here we can use the zip() function, which takes a iterable (such as a list or dict) and returns an iterator. The iterator makes a tuple (or tuples) from elements of the iterable. If we have iterables of different lengths, we'll get tuples covering the shortest iterable. So if we have lists with 2, 3, and 4 elements, zip() will terminate after 2 tuples."
   ]
  },
  {
   "cell_type": "code",
   "execution_count": 59,
   "metadata": {},
   "outputs": [
    {
     "name": "stdout",
     "output_type": "stream",
     "text": [
      "(3.7, 1e+40)\n",
      "(1750.0, 3e+46)\n",
      "(14.4, 4.9e+38)\n",
      "(15100.0, 6.2e+45)\n",
      "(107.1, 5.5e+41)\n"
     ]
    }
   ],
   "source": [
    "#print out tpules\n",
    "for pair in zip(distances_mpc, luminosities):\n",
    "    print(pair)"
   ]
  },
  {
   "cell_type": "code",
   "execution_count": 60,
   "metadata": {},
   "outputs": [
    {
     "name": "stdout",
     "output_type": "stream",
     "text": [
      "<zip object at 0x108245480>\n"
     ]
    },
    {
     "data": {
      "text/plain": [
       "[(3.7, 1e+40),\n",
       " (1750.0, 3e+46),\n",
       " (14.4, 4.9e+38),\n",
       " (15100.0, 6.2e+45),\n",
       " (107.1, 5.5e+41)]"
      ]
     },
     "execution_count": 60,
     "metadata": {},
     "output_type": "execute_result"
    }
   ],
   "source": [
    "pair = zip(distances_mpc, luminosities)\n",
    "print(pair) #this just returns the iterator\n",
    "list(pair) #this returns the tuples"
   ]
  },
  {
   "cell_type": "code",
   "execution_count": 64,
   "metadata": {},
   "outputs": [
    {
     "name": "stdout",
     "output_type": "stream",
     "text": [
      "3.7 1e+40\n",
      "1750.0 3e+46\n",
      "14.4 4.9e+38\n",
      "15100.0 6.2e+45\n",
      "107.1 5.5e+41\n"
     ]
    }
   ],
   "source": [
    "#print out unpacked items in tuple\n",
    "for dist, lum in zip(distances_mpc, luminosities):\n",
    "    print(dist, lum)"
   ]
  },
  {
   "cell_type": "code",
   "execution_count": 67,
   "metadata": {},
   "outputs": [
    {
     "name": "stdout",
     "output_type": "stream",
     "text": [
      "NGC 5128 1e+40\n",
      "TXS 0506+056 3e+46\n",
      "NGC 1068 4.9e+38\n",
      "GB6 J1040+0617 6.2e+45\n"
     ]
    }
   ],
   "source": [
    "#galaxy_names = [\"NGC 5128\", \"TXS 0506+056\", \"NGC 1068\", \"GB6 J1040+0617\", \"TXS 2226-184\"]\n",
    "#distances_mpc = [3.7, 1.75e3, 14.4, 1.51e4]  # Mpc\n",
    "#luminosities = [1e40, 3e46, 4.9e38, 6.2e45] # erg/s\n",
    "\n",
    "#for name, lum in zip(galaxy_names, luminosities):\n",
    "#    print(name, lum)"
   ]
  },
  {
   "cell_type": "markdown",
   "metadata": {},
   "source": [
    "### Sidenote: be careful to use zip() with ordered iterables\n",
    "zip() on e.g. sets is not guaranteed to work well"
   ]
  },
  {
   "cell_type": "code",
   "execution_count": 70,
   "metadata": {},
   "outputs": [
    {
     "data": {
      "text/plain": [
       "[('NGC 5128', 3.7), ('TXS 0506+056', 1750.0), ('NGC 1068', 14.4)]"
      ]
     },
     "execution_count": 70,
     "metadata": {},
     "output_type": "execute_result"
    }
   ],
   "source": [
    "galaxy_names_set = {\"NGC 5128\", \"TXS 0506+056\", \"NGC 1068\"}\n",
    "distances_mpc_set = {3.7, 1.75e3, 14.4}\n",
    "list(zip(galaxy_names_set, distances_mpc_set))"
   ]
  },
  {
   "cell_type": "markdown",
   "metadata": {},
   "source": [
    "### Modify the printing code above to avoid using indices"
   ]
  },
  {
   "cell_type": "code",
   "execution_count": 71,
   "metadata": {},
   "outputs": [
    {
     "name": "stdout",
     "output_type": "stream",
     "text": [
      "Name: NGC 5128; D = 3.7 Mpc; L=1e+40 erg/s\n",
      "Name: TXS 0506+056; D = 1750.0 Mpc; L=3e+46 erg/s\n",
      "Name: NGC 1068; D = 14.4 Mpc; L=4.9e+38 erg/s\n",
      "Name: GB6 J1040+0617; D = 15100.0 Mpc; L=6.2e+45 erg/s\n",
      "Name: TXS 2226-184; D = 107.1 Mpc; L=5.5e+41 erg/s\n"
     ]
    }
   ],
   "source": [
    "#for i in range(len(galaxy_names)):\n",
    "#    print(f\"Name: {galaxy_names[i]}; D = {distances_mpc[i]} Mpc\")\n",
    "    \n",
    "for name, dist, lum in zip(galaxy_names, distances_mpc, luminosities):\n",
    "    print(f\"Name: {name}; D = {dist} Mpc; L={lum} erg/s\")"
   ]
  },
  {
   "cell_type": "markdown",
   "metadata": {},
   "source": [
    "### And now a little cosmetic improvement using f-strings"
   ]
  },
  {
   "cell_type": "code",
   "execution_count": 72,
   "metadata": {},
   "outputs": [
    {
     "name": "stdout",
     "output_type": "stream",
     "text": [
      "Name: NGC 5128       ; D =        3.7 Mpc;\n",
      "Name: TXS 0506+056   ; D =     1750.0 Mpc;\n",
      "Name: NGC 1068       ; D =       14.4 Mpc;\n",
      "Name: GB6 J1040+0617 ; D =    15100.0 Mpc;\n",
      "Name: TXS 2226-184   ; D =      107.1 Mpc;\n"
     ]
    }
   ],
   "source": [
    "for name, dist in zip(galaxy_names, distances_mpc):\n",
    "    print(f\"Name: {name:15}; D = {dist:10.1f} Mpc;\")\n",
    "    # print(f\"Name: {name:15}; D = {dist:8} Mpc;\")"
   ]
  },
  {
   "cell_type": "code",
   "execution_count": 73,
   "metadata": {},
   "outputs": [
    {
     "name": "stdout",
     "output_type": "stream",
     "text": [
      "Name: NGC 5128       ; D = 3.7e+00 Mpc;\n",
      "Name: TXS 0506+056   ; D = 1.8e+03 Mpc;\n",
      "Name: NGC 1068       ; D = 1.4e+01 Mpc;\n",
      "Name: GB6 J1040+0617 ; D = 1.5e+04 Mpc;\n",
      "Name: TXS 2226-184   ; D = 1.1e+02 Mpc;\n"
     ]
    }
   ],
   "source": [
    "for name, dist in zip(galaxy_names, distances_mpc):\n",
    "    print(f\"Name: {name:15}; D = {dist:.1e} Mpc;\")  # extra points for scientific notation"
   ]
  },
  {
   "cell_type": "markdown",
   "metadata": {},
   "source": [
    "### Simplifying counting with `enumerate`"
   ]
  },
  {
   "cell_type": "code",
   "execution_count": 74,
   "metadata": {},
   "outputs": [
    {
     "data": {
      "text/plain": [
       "[(0, 'NGC 5128'),\n",
       " (1, 'TXS 0506+056'),\n",
       " (2, 'NGC 1068'),\n",
       " (3, 'GB6 J1040+0617'),\n",
       " (4, 'TXS 2226-184')]"
      ]
     },
     "execution_count": 74,
     "metadata": {},
     "output_type": "execute_result"
    }
   ],
   "source": [
    "list(enumerate(galaxy_names))"
   ]
  },
  {
   "cell_type": "code",
   "execution_count": 75,
   "metadata": {},
   "outputs": [
    {
     "name": "stdout",
     "output_type": "stream",
     "text": [
      "Position: 0; Name: NGC 5128\n",
      "Position: 1; Name: TXS 0506+056\n",
      "Position: 2; Name: NGC 1068\n",
      "Position: 3; Name: GB6 J1040+0617\n",
      "Position: 4; Name: TXS 2226-184\n"
     ]
    }
   ],
   "source": [
    "for i, name in enumerate(galaxy_names):\n",
    "    print(f\"Position: {i}; Name: {name}\")"
   ]
  },
  {
   "cell_type": "markdown",
   "metadata": {},
   "source": [
    "### Creating lists"
   ]
  },
  {
   "cell_type": "markdown",
   "metadata": {},
   "source": [
    "#### Convert distance list from Mpc to cm"
   ]
  },
  {
   "cell_type": "code",
   "execution_count": 76,
   "metadata": {},
   "outputs": [
    {
     "name": "stdout",
     "output_type": "stream",
     "text": [
      "[1.11e+25, 5.25e+27, 4.32e+25, 4.53e+28, 3.213e+26]\n"
     ]
    }
   ],
   "source": [
    "distances_cm = [] # create new list\n",
    "for d in distances_mpc:\n",
    "    distances_cm.append(d * 3e24) # use list's append() method to add items to new list\n",
    "\n",
    "print(distances_cm)"
   ]
  },
  {
   "cell_type": "markdown",
   "metadata": {},
   "source": [
    "#### Select distances < 100 Mpc and convert them to cm"
   ]
  },
  {
   "cell_type": "code",
   "execution_count": 77,
   "metadata": {},
   "outputs": [
    {
     "name": "stdout",
     "output_type": "stream",
     "text": [
      "Distance = 3.7 Mpc\n",
      "Distance = 14.4 Mpc\n",
      "[1.11e+25, 4.32e+25]\n"
     ]
    }
   ],
   "source": [
    "# Exercise: convert distance list from Mpc to cm\n",
    "short_distances_cm = []\n",
    "for d in distances_mpc:\n",
    "    if d < 100:\n",
    "        print(f\"Distance = {d} Mpc\")\n",
    "        short_distances_cm.append(d * 3e24)\n",
    "\n",
    "print(short_distances_cm)"
   ]
  },
  {
   "cell_type": "markdown",
   "metadata": {},
   "source": [
    "### Introducing list comprehension!\n",
    "List comprehension can be used to create lists. It allows us to rewrite a for loop in a single line, and can also be used for mapping and filtering. Below, we map a list of distances in Mpc to distances in cm (without having to use map()).\n",
    "\n",
    "List comprehension involves an expression, a member and an iterable:"
   ]
  },
  {
   "cell_type": "code",
   "execution_count": 78,
   "metadata": {},
   "outputs": [
    {
     "name": "stdout",
     "output_type": "stream",
     "text": [
      "[1.11e+25, 5.25e+27, 4.32e+25, 4.53e+28, 3.213e+26]\n"
     ]
    }
   ],
   "source": [
    "distances_cm = [d * 3e24 for d in distances_mpc]\n",
    "\n",
    "print(distances_cm)"
   ]
  },
  {
   "cell_type": "markdown",
   "metadata": {},
   "source": [
    "Here the expression is 'd*3e24', member is 'd' and iterable is 'distances_mpc'.\n",
    "\n",
    "We can also use list comprehension for filtering. "
   ]
  },
  {
   "cell_type": "code",
   "execution_count": 79,
   "metadata": {},
   "outputs": [
    {
     "name": "stdout",
     "output_type": "stream",
     "text": [
      "[1.11e+25, 4.32e+25]\n"
     ]
    }
   ],
   "source": [
    "# We can also select elements based on some criterium on the same one line:\n",
    "\n",
    "short_distances_cm = [d * 3e24 for d in distances_mpc if d < 100.]\n",
    "print(short_distances_cm)"
   ]
  },
  {
   "cell_type": "markdown",
   "metadata": {},
   "source": [
    "#### Get list of names based on distance critrion"
   ]
  },
  {
   "cell_type": "code",
   "execution_count": 80,
   "metadata": {},
   "outputs": [
    {
     "name": "stdout",
     "output_type": "stream",
     "text": [
      "['NGC 5128', 'NGC 1068']\n"
     ]
    }
   ],
   "source": [
    "closeby_galaxy_names = [name for name, dist in zip(galaxy_names, distances_mpc) if dist < 100 ]\n",
    "\n",
    "print(closeby_galaxy_names)"
   ]
  },
  {
   "cell_type": "markdown",
   "metadata": {},
   "source": [
    "You can do even more complicated list expressions"
   ]
  },
  {
   "cell_type": "code",
   "execution_count": 81,
   "metadata": {},
   "outputs": [
    {
     "name": "stdout",
     "output_type": "stream",
     "text": [
      "[3.7, 'Too far to care about!', 14.4, 'Too far to care about!', 'Too far to care about!']\n"
     ]
    }
   ],
   "source": [
    "distances_cm_or_opinion = [d if d < 100. else \"Too far to care about!\" for d in distances_mpc]\n",
    "print(distances_cm_or_opinion)"
   ]
  },
  {
   "cell_type": "markdown",
   "metadata": {},
   "source": [
    "### Sidenote: you can also use set comprehension in the same way\n",
    "With the caveat that if you are interested in the order of the elements, you don't want to use sets."
   ]
  },
  {
   "cell_type": "markdown",
   "metadata": {
    "tags": []
   },
   "source": [
    "### Counting number of members"
   ]
  },
  {
   "cell_type": "code",
   "execution_count": 82,
   "metadata": {},
   "outputs": [
    {
     "name": "stdout",
     "output_type": "stream",
     "text": [
      "2\n"
     ]
    }
   ],
   "source": [
    "# You can to this by building a list and checking its length:\n",
    "\n",
    "print(len(closeby_galaxy_names))"
   ]
  },
  {
   "cell_type": "code",
   "execution_count": 83,
   "metadata": {},
   "outputs": [
    {
     "name": "stdout",
     "output_type": "stream",
     "text": [
      "2\n"
     ]
    }
   ],
   "source": [
    "# Or better - if you don't need the list you don't have to create it \n",
    "\n",
    "count = 0\n",
    "\n",
    "for dist in distances_mpc:\n",
    "    if dist < 100:\n",
    "        count += 1\n",
    "print(count)"
   ]
  },
  {
   "cell_type": "markdown",
   "metadata": {},
   "source": [
    "## Simultaneously iterating through multiple lists\n",
    "zip() is very handy for iterating through multiple lists simultaneously."
   ]
  },
  {
   "cell_type": "code",
   "execution_count": 84,
   "metadata": {},
   "outputs": [
    {
     "name": "stdout",
     "output_type": "stream",
     "text": [
      "[6.4586861087531586e-12, 8.661493501599748e-11, 2.089386202070171e-14, 2.404282090867728e-13, 4.2396633647669894e-13]\n"
     ]
    }
   ],
   "source": [
    "from math import pi #Do you remember what this means?\n",
    "\n",
    "fluxes = []\n",
    "for lum, d_mpc in zip(luminosities, distances_mpc):\n",
    "    d_cm = d_mpc * 3e24\n",
    "    fluxes.append(lum / (4 * pi * d_cm ** 2))\n",
    "        \n",
    "print(fluxes)"
   ]
  },
  {
   "cell_type": "code",
   "execution_count": 85,
   "metadata": {},
   "outputs": [
    {
     "name": "stdout",
     "output_type": "stream",
     "text": [
      "[6.4586861087531586e-12, 8.661493501599748e-11, 2.089386202070171e-14, 2.404282090867728e-13, 4.2396633647669894e-13]\n"
     ]
    }
   ],
   "source": [
    "# Do the same using list comprehension!\n",
    "fluxes_new = [lum / (4 * pi * (d_mpc * 3e24) ** 2) for lum, d_mpc in zip(luminosities, distances_mpc)]\n",
    "print(fluxes_new)"
   ]
  },
  {
   "cell_type": "markdown",
   "metadata": {
    "tags": []
   },
   "source": [
    "### Iterating through tables with nested loops"
   ]
  },
  {
   "cell_type": "markdown",
   "metadata": {},
   "source": [
    "Here's a rather advanced example -  calculate a 2D table of fluxes based on the luminosities and distances. "
   ]
  },
  {
   "cell_type": "code",
   "execution_count": 86,
   "metadata": {},
   "outputs": [
    {
     "name": "stdout",
     "output_type": "stream",
     "text": [
      "2.404282090867728e-13\n"
     ]
    }
   ],
   "source": [
    "from math import pi\n",
    "\n",
    "flux_table = [] # flux table is an empty list\n",
    "for lum in luminosities:\n",
    "    flux_table.append([]) # flux table is an empty list of empty lists\n",
    "    for d_mpc in distances_mpc:\n",
    "        d_cm = d_mpc * 3e24\n",
    "        flux_table[-1].append(lum / (4 * pi * d_cm ** 2)) # flux table is being filled up with luminosities\n",
    "        \n",
    "print(flux_table[3][3])"
   ]
  },
  {
   "cell_type": "markdown",
   "metadata": {},
   "source": [
    "Use list comprehension to rewrite the function in only one line!"
   ]
  },
  {
   "cell_type": "code",
   "execution_count": 87,
   "metadata": {},
   "outputs": [
    {
     "name": "stdout",
     "output_type": "stream",
     "text": [
      "2.404282090867728e-13\n"
     ]
    }
   ],
   "source": [
    "table = [[lum / (4 * pi * (d_mpc * 3e24) ** 2) for lum in luminosities] for d_mpc in distances_mpc]    \n",
    "\n",
    "print(table[3][3])"
   ]
  }
 ],
 "metadata": {
  "kernelspec": {
   "display_name": "Python 3 (ipykernel)",
   "language": "python",
   "name": "python3"
  },
  "language_info": {
   "codemirror_mode": {
    "name": "ipython",
    "version": 3
   },
   "file_extension": ".py",
   "mimetype": "text/x-python",
   "name": "python",
   "nbconvert_exporter": "python",
   "pygments_lexer": "ipython3",
   "version": "3.12.4"
  },
  "vscode": {
   "interpreter": {
    "hash": "ad60ba3d6748ebfd779dff164ecdca54fbf007dbac97c522a9077ed5230659e8"
   }
  }
 },
 "nbformat": 4,
 "nbformat_minor": 4
}
