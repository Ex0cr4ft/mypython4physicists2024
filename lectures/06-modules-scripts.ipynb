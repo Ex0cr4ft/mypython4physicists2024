{
 "cells": [
  {
   "attachments": {},
   "cell_type": "markdown",
   "metadata": {},
   "source": [
    "# Modules and scripts"
   ]
  },
  {
   "attachments": {},
   "cell_type": "markdown",
   "metadata": {},
   "source": [
    "Pitfalls of Jupyter-based development:\n",
    "- no separation between the code implementation (i.e. a class) and its use (i.e. an analysis using that class);\n",
    "- mix-ups between global and local variables can lead to unintended consequences!\n",
    "- Jupyter allows cells to be executed in ***any order*** and it's hard to keep track of what the program is doing: you may have the impression that everything works but once you reset the program and try to execute it in a **linear** fashion it breaks!"
   ]
  },
  {
   "cell_type": "markdown",
   "metadata": {},
   "source": [
    "### Modules versus scripts\n",
    "- Scripts give a sequence of commands to execute\n",
    "- Modules have code that is designed to be imported and used by another file\n",
    "- Both are stored as plain text files\n",
    "\n",
    "In short\n",
    "- script = code to execute (it does something!)\n",
    "- module = code to import (class and function definitions)"
   ]
  },
  {
   "cell_type": "markdown",
   "metadata": {},
   "source": [
    "### Scripts\n",
    "\n",
    "Let's try making a simple script and running it with `python helloworld.py`, `./helloworld.py` and `python -m helloworld`. The last option treats the script as a module and searches for a module of this name in the module search path."
   ]
  },
  {
   "cell_type": "code",
   "execution_count": 1,
   "metadata": {},
   "outputs": [
    {
     "name": "stdout",
     "output_type": "stream",
     "text": [
      "Hello world!\n"
     ]
    }
   ],
   "source": [
    "import helloworld"
   ]
  },
  {
   "cell_type": "markdown",
   "metadata": {},
   "source": [
    "Treating this as a module doesn't make too much sense - this is code to be executed, so it is better treated as a script. Note that the execution will only happen on the first import."
   ]
  },
  {
   "cell_type": "code",
   "execution_count": 2,
   "metadata": {},
   "outputs": [],
   "source": [
    "import helloworld"
   ]
  },
  {
   "cell_type": "markdown",
   "metadata": {},
   "source": [
    "But you may have noticed that normally when you import something, nothing is executed."
   ]
  },
  {
   "cell_type": "code",
   "execution_count": 3,
   "metadata": {},
   "outputs": [],
   "source": [
    "import math"
   ]
  },
  {
   "cell_type": "markdown",
   "metadata": {},
   "source": [
    "### Modules\n",
    "\n",
    "Modules are loaded with the `import` statement. They don't necessarily have to be in python! They are helpful for organizing code and making it more reusable. \n",
    "\n",
    "Scope is an important aspect of modules, which we will see shortly. **Namespace** is an important concept here, recall the definition (from Wikipedia): a namespace is an abstract container or environment created to hold a logical grouping of unique identifiers or symbols. A namespace groups items (functions/classes/data) together and helps avoid conflicts from repeated names.\n",
    "\n",
    "Modules can be organized into packages, which we won't cover in depth."
   ]
  },
  {
   "cell_type": "code",
   "execution_count": 4,
   "metadata": {},
   "outputs": [],
   "source": [
    "import galaxy_mod"
   ]
  },
  {
   "cell_type": "markdown",
   "metadata": {},
   "source": [
    "We have seen the built-in function `dir()` before - we will use it more today to \n",
    "\n",
    "- Check what is in the module\n",
    "- Check what is in the **local symbol table** (sort of like the local namespace)."
   ]
  },
  {
   "cell_type": "code",
   "execution_count": 5,
   "metadata": {},
   "outputs": [
    {
     "data": {
      "text/plain": [
       "['MyGalaxyClass',\n",
       " '__builtins__',\n",
       " '__cached__',\n",
       " '__doc__',\n",
       " '__file__',\n",
       " '__loader__',\n",
       " '__name__',\n",
       " '__package__',\n",
       " '__spec__',\n",
       " 'galaxy_list',\n",
       " 'name',\n",
       " 'print_my_galaxy']"
      ]
     },
     "execution_count": 5,
     "metadata": {},
     "output_type": "execute_result"
    }
   ],
   "source": [
    "dir(galaxy_mod)"
   ]
  },
  {
   "cell_type": "code",
   "execution_count": 6,
   "metadata": {},
   "outputs": [
    {
     "data": {
      "text/plain": [
       "['In',\n",
       " 'Out',\n",
       " '_',\n",
       " '_5',\n",
       " '__',\n",
       " '___',\n",
       " '__builtin__',\n",
       " '__builtins__',\n",
       " '__doc__',\n",
       " '__loader__',\n",
       " '__name__',\n",
       " '__package__',\n",
       " '__session__',\n",
       " '__spec__',\n",
       " '_dh',\n",
       " '_i',\n",
       " '_i1',\n",
       " '_i2',\n",
       " '_i3',\n",
       " '_i4',\n",
       " '_i5',\n",
       " '_i6',\n",
       " '_ih',\n",
       " '_ii',\n",
       " '_iii',\n",
       " '_oh',\n",
       " 'exit',\n",
       " 'galaxy_mod',\n",
       " 'get_ipython',\n",
       " 'helloworld',\n",
       " 'math',\n",
       " 'open',\n",
       " 'quit']"
      ]
     },
     "execution_count": 6,
     "metadata": {},
     "output_type": "execute_result"
    }
   ],
   "source": [
    "dir()"
   ]
  },
  {
   "cell_type": "code",
   "execution_count": 7,
   "metadata": {},
   "outputs": [
    {
     "data": {
      "text/plain": [
       "<module 'galaxy_mod' from '/Users/elisa/Desktop/teaching/Python/galaxy_mod.py'>"
      ]
     },
     "execution_count": 7,
     "metadata": {},
     "output_type": "execute_result"
    }
   ],
   "source": [
    "galaxy_mod"
   ]
  },
  {
   "cell_type": "markdown",
   "metadata": {},
   "source": [
    "Items from the module can be accessed with the dot operator."
   ]
  },
  {
   "cell_type": "code",
   "execution_count": 8,
   "metadata": {},
   "outputs": [
    {
     "name": "stdout",
     "output_type": "stream",
     "text": [
      "Galaxy catalog\n"
     ]
    }
   ],
   "source": [
    "print(galaxy_mod.name)"
   ]
  },
  {
   "cell_type": "code",
   "execution_count": 9,
   "metadata": {},
   "outputs": [
    {
     "name": "stdout",
     "output_type": "stream",
     "text": [
      "['NGC 5128', 'TXS 0506+056', 'NGC 1068', 'GB6 J1040+0617', 'TXS 2226-184']\n"
     ]
    }
   ],
   "source": [
    "print(galaxy_mod.galaxy_list)"
   ]
  },
  {
   "cell_type": "code",
   "execution_count": 10,
   "metadata": {},
   "outputs": [
    {
     "name": "stdout",
     "output_type": "stream",
     "text": [
      "My galaxy name = NGC 1275\n"
     ]
    }
   ],
   "source": [
    "galaxy_mod.print_my_galaxy('NGC 1275')"
   ]
  },
  {
   "cell_type": "code",
   "execution_count": 11,
   "metadata": {},
   "outputs": [
    {
     "data": {
      "text/plain": [
       "<galaxy_mod.MyGalaxyClass at 0x11331e600>"
      ]
     },
     "execution_count": 11,
     "metadata": {},
     "output_type": "execute_result"
    }
   ],
   "source": [
    "galaxy_mod.MyGalaxyClass()"
   ]
  },
  {
   "cell_type": "markdown",
   "metadata": {},
   "source": [
    "But this will not work "
   ]
  },
  {
   "cell_type": "code",
   "execution_count": 12,
   "metadata": {},
   "outputs": [
    {
     "ename": "NameError",
     "evalue": "name 'galaxy_list' is not defined",
     "output_type": "error",
     "traceback": [
      "\u001b[0;31m---------------------------------------------------------------------------\u001b[0m",
      "\u001b[0;31mNameError\u001b[0m                                 Traceback (most recent call last)",
      "Cell \u001b[0;32mIn[12], line 1\u001b[0m\n\u001b[0;32m----> 1\u001b[0m \u001b[38;5;28mprint\u001b[39m(galaxy_list)\n",
      "\u001b[0;31mNameError\u001b[0m: name 'galaxy_list' is not defined"
     ]
    }
   ],
   "source": [
    "print(galaxy_list)"
   ]
  },
  {
   "cell_type": "markdown",
   "metadata": {},
   "source": [
    "You can import items from the module individually, we have seen this before."
   ]
  },
  {
   "cell_type": "code",
   "execution_count": 14,
   "metadata": {},
   "outputs": [],
   "source": [
    "from math import pi"
   ]
  },
  {
   "cell_type": "code",
   "execution_count": 15,
   "metadata": {},
   "outputs": [
    {
     "name": "stdout",
     "output_type": "stream",
     "text": [
      "3.141592653589793\n"
     ]
    }
   ],
   "source": [
    "print(pi)"
   ]
  },
  {
   "cell_type": "code",
   "execution_count": 16,
   "metadata": {},
   "outputs": [],
   "source": [
    "from galaxy_mod import galaxy_list"
   ]
  },
  {
   "cell_type": "code",
   "execution_count": 17,
   "metadata": {},
   "outputs": [
    {
     "data": {
      "text/plain": [
       "['In',\n",
       " 'Out',\n",
       " '_',\n",
       " '_11',\n",
       " '_5',\n",
       " '_6',\n",
       " '_7',\n",
       " '__',\n",
       " '___',\n",
       " '__builtin__',\n",
       " '__builtins__',\n",
       " '__doc__',\n",
       " '__loader__',\n",
       " '__name__',\n",
       " '__package__',\n",
       " '__session__',\n",
       " '__spec__',\n",
       " '_dh',\n",
       " '_i',\n",
       " '_i1',\n",
       " '_i10',\n",
       " '_i11',\n",
       " '_i12',\n",
       " '_i13',\n",
       " '_i14',\n",
       " '_i15',\n",
       " '_i16',\n",
       " '_i17',\n",
       " '_i2',\n",
       " '_i3',\n",
       " '_i4',\n",
       " '_i5',\n",
       " '_i6',\n",
       " '_i7',\n",
       " '_i8',\n",
       " '_i9',\n",
       " '_ih',\n",
       " '_ii',\n",
       " '_iii',\n",
       " '_oh',\n",
       " 'exit',\n",
       " 'galaxy_list',\n",
       " 'galaxy_mod',\n",
       " 'get_ipython',\n",
       " 'helloworld',\n",
       " 'math',\n",
       " 'open',\n",
       " 'pi',\n",
       " 'quit']"
      ]
     },
     "execution_count": 17,
     "metadata": {},
     "output_type": "execute_result"
    }
   ],
   "source": [
    "dir()"
   ]
  },
  {
   "cell_type": "code",
   "execution_count": 18,
   "metadata": {},
   "outputs": [
    {
     "name": "stdout",
     "output_type": "stream",
     "text": [
      "['NGC 5128', 'TXS 0506+056', 'NGC 1068', 'GB6 J1040+0617', 'TXS 2226-184']\n"
     ]
    }
   ],
   "source": [
    "print(galaxy_list)"
   ]
  },
  {
   "cell_type": "markdown",
   "metadata": {},
   "source": [
    "You can also import to alternative names. This can be particularly useful for avoiding overwriting a name in your local symbol table."
   ]
  },
  {
   "cell_type": "code",
   "execution_count": 19,
   "metadata": {},
   "outputs": [],
   "source": [
    "name = \"Python for Physicists\""
   ]
  },
  {
   "cell_type": "code",
   "execution_count": 20,
   "metadata": {},
   "outputs": [
    {
     "data": {
      "text/plain": [
       "['In',\n",
       " 'Out',\n",
       " '_',\n",
       " '_11',\n",
       " '_17',\n",
       " '_5',\n",
       " '_6',\n",
       " '_7',\n",
       " '__',\n",
       " '___',\n",
       " '__builtin__',\n",
       " '__builtins__',\n",
       " '__doc__',\n",
       " '__loader__',\n",
       " '__name__',\n",
       " '__package__',\n",
       " '__session__',\n",
       " '__spec__',\n",
       " '_dh',\n",
       " '_i',\n",
       " '_i1',\n",
       " '_i10',\n",
       " '_i11',\n",
       " '_i12',\n",
       " '_i13',\n",
       " '_i14',\n",
       " '_i15',\n",
       " '_i16',\n",
       " '_i17',\n",
       " '_i18',\n",
       " '_i19',\n",
       " '_i2',\n",
       " '_i20',\n",
       " '_i3',\n",
       " '_i4',\n",
       " '_i5',\n",
       " '_i6',\n",
       " '_i7',\n",
       " '_i8',\n",
       " '_i9',\n",
       " '_ih',\n",
       " '_ii',\n",
       " '_iii',\n",
       " '_oh',\n",
       " 'exit',\n",
       " 'galaxy_list',\n",
       " 'galaxy_mod',\n",
       " 'get_ipython',\n",
       " 'helloworld',\n",
       " 'math',\n",
       " 'name',\n",
       " 'open',\n",
       " 'pi',\n",
       " 'quit']"
      ]
     },
     "execution_count": 20,
     "metadata": {},
     "output_type": "execute_result"
    }
   ],
   "source": [
    "dir()"
   ]
  },
  {
   "cell_type": "code",
   "execution_count": 21,
   "metadata": {},
   "outputs": [],
   "source": [
    "from galaxy_mod import name as name_galaxy_cat"
   ]
  },
  {
   "cell_type": "code",
   "execution_count": 22,
   "metadata": {},
   "outputs": [
    {
     "name": "stdout",
     "output_type": "stream",
     "text": [
      "Python for Physicists\n",
      "Galaxy catalog\n"
     ]
    }
   ],
   "source": [
    "print(name)\n",
    "print(name_galaxy_cat)"
   ]
  },
  {
   "cell_type": "code",
   "execution_count": 23,
   "metadata": {},
   "outputs": [
    {
     "data": {
      "text/plain": [
       "['In',\n",
       " 'Out',\n",
       " '_',\n",
       " '_11',\n",
       " '_17',\n",
       " '_20',\n",
       " '_5',\n",
       " '_6',\n",
       " '_7',\n",
       " '__',\n",
       " '___',\n",
       " '__builtin__',\n",
       " '__builtins__',\n",
       " '__doc__',\n",
       " '__loader__',\n",
       " '__name__',\n",
       " '__package__',\n",
       " '__session__',\n",
       " '__spec__',\n",
       " '_dh',\n",
       " '_i',\n",
       " '_i1',\n",
       " '_i10',\n",
       " '_i11',\n",
       " '_i12',\n",
       " '_i13',\n",
       " '_i14',\n",
       " '_i15',\n",
       " '_i16',\n",
       " '_i17',\n",
       " '_i18',\n",
       " '_i19',\n",
       " '_i2',\n",
       " '_i20',\n",
       " '_i21',\n",
       " '_i22',\n",
       " '_i23',\n",
       " '_i3',\n",
       " '_i4',\n",
       " '_i5',\n",
       " '_i6',\n",
       " '_i7',\n",
       " '_i8',\n",
       " '_i9',\n",
       " '_ih',\n",
       " '_ii',\n",
       " '_iii',\n",
       " '_oh',\n",
       " 'exit',\n",
       " 'galaxy_list',\n",
       " 'galaxy_mod',\n",
       " 'get_ipython',\n",
       " 'helloworld',\n",
       " 'math',\n",
       " 'name',\n",
       " 'name_galaxy_cat',\n",
       " 'open',\n",
       " 'pi',\n",
       " 'quit']"
      ]
     },
     "execution_count": 23,
     "metadata": {},
     "output_type": "execute_result"
    }
   ],
   "source": [
    "dir()"
   ]
  },
  {
   "cell_type": "markdown",
   "metadata": {},
   "source": [
    "You can import everything from a module at once, but it is usually not a good idea. Why not?"
   ]
  },
  {
   "cell_type": "code",
   "execution_count": 24,
   "metadata": {},
   "outputs": [],
   "source": [
    "from galaxy_mod import *"
   ]
  },
  {
   "cell_type": "code",
   "execution_count": 25,
   "metadata": {},
   "outputs": [
    {
     "data": {
      "text/plain": [
       "['In',\n",
       " 'MyGalaxyClass',\n",
       " 'Out',\n",
       " '_',\n",
       " '_11',\n",
       " '_17',\n",
       " '_20',\n",
       " '_23',\n",
       " '_5',\n",
       " '_6',\n",
       " '_7',\n",
       " '__',\n",
       " '___',\n",
       " '__builtin__',\n",
       " '__builtins__',\n",
       " '__doc__',\n",
       " '__loader__',\n",
       " '__name__',\n",
       " '__package__',\n",
       " '__session__',\n",
       " '__spec__',\n",
       " '_dh',\n",
       " '_i',\n",
       " '_i1',\n",
       " '_i10',\n",
       " '_i11',\n",
       " '_i12',\n",
       " '_i13',\n",
       " '_i14',\n",
       " '_i15',\n",
       " '_i16',\n",
       " '_i17',\n",
       " '_i18',\n",
       " '_i19',\n",
       " '_i2',\n",
       " '_i20',\n",
       " '_i21',\n",
       " '_i22',\n",
       " '_i23',\n",
       " '_i24',\n",
       " '_i25',\n",
       " '_i3',\n",
       " '_i4',\n",
       " '_i5',\n",
       " '_i6',\n",
       " '_i7',\n",
       " '_i8',\n",
       " '_i9',\n",
       " '_ih',\n",
       " '_ii',\n",
       " '_iii',\n",
       " '_oh',\n",
       " 'exit',\n",
       " 'galaxy_list',\n",
       " 'galaxy_mod',\n",
       " 'get_ipython',\n",
       " 'helloworld',\n",
       " 'math',\n",
       " 'name',\n",
       " 'name_galaxy_cat',\n",
       " 'open',\n",
       " 'pi',\n",
       " 'print_my_galaxy',\n",
       " 'quit']"
      ]
     },
     "execution_count": 25,
     "metadata": {},
     "output_type": "execute_result"
    }
   ],
   "source": [
    "dir()"
   ]
  },
  {
   "attachments": {},
   "cell_type": "markdown",
   "metadata": {},
   "source": [
    "### Another example\n",
    "\n",
    "In the next lecture we will start working with `numpy`. Let's preview using `numpy.random` for random number generation. The current recommended usage does not involve calling `numpy.random` directly but rather instantiating a random number generator object, i.e.:\n",
    "\n",
    "```python\n",
    "rng = np.random.default_rng(seed)\n",
    "```\n",
    "\n",
    "As an example, we will write a \"wrapper class\", a class that \"wraps around\" existing functionality to make it more convenient for us."
   ]
  },
  {
   "cell_type": "code",
   "execution_count": 26,
   "metadata": {},
   "outputs": [],
   "source": [
    "import numpy as np\n",
    "\n",
    "class RNG:\n",
    "    def __init__(self, seed : int = 0):\n",
    "        self.rng = np.random.default_rng(seed=seed)\n",
    "\n",
    "    def generate(self, shape : tuple = None):\n",
    "        # this is a bit silly because it only replicates the behaviour of random()\n",
    "        # but this is just meant as an example\n",
    "        if shape is not None:\n",
    "            return self.rng.random(shape)\n",
    "        else:\n",
    "            return self.rng.random()"
   ]
  },
  {
   "cell_type": "code",
   "execution_count": 27,
   "metadata": {},
   "outputs": [
    {
     "data": {
      "text/plain": [
       "array([0.69773622, 0.31381427, 0.1211971 , 0.32359152, 0.93121187,\n",
       "       0.78966731, 0.01001912, 0.19893322, 0.29311369, 0.94341571])"
      ]
     },
     "execution_count": 27,
     "metadata": {},
     "output_type": "execute_result"
    }
   ],
   "source": [
    "rand = RNG(seed=27)\n",
    "\n",
    "rand.generate(10)"
   ]
  },
  {
   "cell_type": "markdown",
   "metadata": {},
   "source": [
    "Now let's make it into a module.\n",
    "\n",
    "- Move the content of the cell containing the RNG definition to a separate file under modules/utils.py!\n",
    "- Comment out the cell content and import from the file."
   ]
  },
  {
   "cell_type": "code",
   "execution_count": 29,
   "metadata": {},
   "outputs": [
    {
     "data": {
      "text/plain": [
       "modules.utils.RNG"
      ]
     },
     "execution_count": 29,
     "metadata": {},
     "output_type": "execute_result"
    }
   ],
   "source": [
    "from modules.utils import RNG\n",
    "\n",
    "rand = RNG(seed=55)\n",
    "type(rand)"
   ]
  },
  {
   "cell_type": "code",
   "execution_count": 31,
   "metadata": {},
   "outputs": [
    {
     "data": {
      "text/plain": [
       "array([0.87064561, 0.2183619 , 0.23009715, 0.4927431 , 0.7532229 ])"
      ]
     },
     "execution_count": 31,
     "metadata": {},
     "output_type": "execute_result"
    }
   ],
   "source": [
    "rand.generate(5)"
   ]
  },
  {
   "cell_type": "code",
   "execution_count": 34,
   "metadata": {},
   "outputs": [
    {
     "data": {
      "text/plain": [
       "0.8702492039700847"
      ]
     },
     "execution_count": 34,
     "metadata": {},
     "output_type": "execute_result"
    }
   ],
   "source": [
    "# 1. Import one or more items from a module with (optionally) an alias.\n",
    "\n",
    "from modules.utils import RNG as random_number_generator\n",
    "\n",
    "a = random_number_generator(9)\n",
    "a.generate()"
   ]
  },
  {
   "cell_type": "code",
   "execution_count": 35,
   "metadata": {},
   "outputs": [
    {
     "data": {
      "text/plain": [
       "0.8309833188891115"
      ]
     },
     "execution_count": 35,
     "metadata": {},
     "output_type": "execute_result"
    }
   ],
   "source": [
    "# 2. Import a reference to the module (with optional alias) and access its symbols with the '.' operator.\n",
    "import modules.utils as random_utils\n",
    "c = random_utils.RNG(14)\n",
    "# Similar to `import numpy as np`\n",
    "c.generate()"
   ]
  },
  {
   "cell_type": "markdown",
   "metadata": {},
   "source": [
    "Why are the generated random numbers identical?"
   ]
  },
  {
   "attachments": {},
   "cell_type": "markdown",
   "metadata": {},
   "source": [
    "## Packages"
   ]
  },
  {
   "attachments": {},
   "cell_type": "markdown",
   "metadata": {},
   "source": [
    "A **package** like `numpy` is a collection of modules. The package `numpy` provides the `numpy` module, that provides some basic functionality. Some features of `numpy` are accessible through other modules provided by the same package."
   ]
  },
  {
   "cell_type": "code",
   "execution_count": 36,
   "metadata": {},
   "outputs": [
    {
     "name": "stdout",
     "output_type": "stream",
     "text": [
      "<class 'module'>\n",
      "<class 'type'>\n",
      "<class 'builtin_function_or_method'>\n",
      "<class 'module'>\n",
      "<class 'builtin_function_or_method'>\n"
     ]
    }
   ],
   "source": [
    "import numpy\n",
    "\n",
    "# This is the main module of the package.\n",
    "print(type(numpy))\n",
    "# These are symbols contained in the main module.\n",
    "print(type(numpy.ndarray))\n",
    "print(type(numpy.array))\n",
    "# This is a module accessible through the main module.\n",
    "print(type(numpy.random))\n",
    "# This is a symbol contained in the previous.\n",
    "print(type(numpy.random.random))"
   ]
  },
  {
   "attachments": {},
   "cell_type": "markdown",
   "metadata": {},
   "source": [
    "The way a package makes accessible its functionality through is main module is based on a chain of `import` statements. "
   ]
  },
  {
   "attachments": {},
   "cell_type": "markdown",
   "metadata": {},
   "source": [
    "Packages that are installable through `pip install package_name` are published at [pypi](https://pypi.org/)! You may also learn how to write your own private package and install it locally."
   ]
  },
  {
   "attachments": {},
   "cell_type": "markdown",
   "metadata": {},
   "source": [
    "### Best practices\n",
    "- never use `import *`\n",
    "- if you plan to use only a few items from the module in specific places, use `from module import class as class_alias`;\n",
    "- if you plan to use many features all the time, import the module with a short alias `import numpy as np`;\n",
    "- you may store \"constants\" in modules but try not to store variables!"
   ]
  },
  {
   "attachments": {},
   "cell_type": "markdown",
   "metadata": {},
   "source": [
    "### Another script"
   ]
  },
  {
   "attachments": {},
   "cell_type": "markdown",
   "metadata": {},
   "source": [
    "To show the usefulness of modules, we want now to use the class we have written in a python **script** that we can execute outside of Jupyter.\n",
    "\n",
    "The way we write a script is creating a file such as `script.py` and defining a `main()` function to call in the body of the script as in the following:\n",
    "```python\n",
    "def main():\n",
    "    pass\n",
    "\n",
    "if __name__ == \"__main__\":\n",
    "    main()    \n",
    "```\n",
    "\n",
    "The `if(__name__) == \"__main__\"` guard statement is required to ensure that `main()` is called only when if file is run as a script! Sometimes, the same file could be imported as a module or run as a script, alternatively. "
   ]
  },
  {
   "attachments": {},
   "cell_type": "markdown",
   "metadata": {},
   "source": [
    "Take a look at `simple_script.py` for an example script using the RNG class. You can launch it by running `python simple_script.py` from your console. Alternatively, we can invoke it in Jupyter:"
   ]
  },
  {
   "cell_type": "code",
   "execution_count": 38,
   "metadata": {},
   "outputs": [
    {
     "name": "stdout",
     "output_type": "stream",
     "text": [
      "Inside main\n"
     ]
    }
   ],
   "source": [
    "# This command does not use the python interpreter internal to Jupyter but rather \"invokes\" the `python` interpreter of the underlying system!\n",
    "!python simple_script.py"
   ]
  },
  {
   "attachments": {},
   "cell_type": "markdown",
   "metadata": {},
   "source": [
    "We can also test the `main()` function of the script inside Jupyter, effectively using the script file as a module!"
   ]
  },
  {
   "cell_type": "code",
   "execution_count": 39,
   "metadata": {},
   "outputs": [],
   "source": [
    "from simple_script import main as script_main # better use an alias as main is a very common name!"
   ]
  },
  {
   "cell_type": "code",
   "execution_count": 40,
   "metadata": {},
   "outputs": [
    {
     "name": "stdout",
     "output_type": "stream",
     "text": [
      "Inside main\n"
     ]
    }
   ],
   "source": [
    "script_main()"
   ]
  }
 ],
 "metadata": {
  "kernelspec": {
   "display_name": "Python 3 (ipykernel)",
   "language": "python",
   "name": "python3"
  },
  "language_info": {
   "codemirror_mode": {
    "name": "ipython",
    "version": 3
   },
   "file_extension": ".py",
   "mimetype": "text/x-python",
   "name": "python",
   "nbconvert_exporter": "python",
   "pygments_lexer": "ipython3",
   "version": "3.12.4"
  },
  "vscode": {
   "interpreter": {
    "hash": "a27840a7b1c12ed5c4097e0c82ce74f146693c21815a51f33b43828b75394333"
   }
  }
 },
 "nbformat": 4,
 "nbformat_minor": 4
}
