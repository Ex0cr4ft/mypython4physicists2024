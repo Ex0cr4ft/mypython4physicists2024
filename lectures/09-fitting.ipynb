{
 "cells": [
  {
   "cell_type": "markdown",
   "id": "65964837",
   "metadata": {},
   "source": [
    "# Fitting and optimization\n",
    "\n",
    "We will use scipy (https://scipy.org/) for fitting and optimization, in particular scipy.optimize (https://docs.scipy.org/doc/scipy/reference/optimize.html)."
   ]
  },
  {
   "cell_type": "markdown",
   "id": "5f7cfc69-ce1b-4f54-bd73-a412544db882",
   "metadata": {},
   "source": [
    "## Physical constants (unrelated aside)"
   ]
  },
  {
   "cell_type": "code",
   "execution_count": null,
   "id": "326c5265-8849-4182-ac7f-95fa1cbece6b",
   "metadata": {},
   "outputs": [],
   "source": [
    "import scipy.constants as const"
   ]
  },
  {
   "cell_type": "code",
   "execution_count": null,
   "id": "74730c5d-3719-4152-a414-bb3d2e9142fc",
   "metadata": {},
   "outputs": [],
   "source": [
    "# convert temperatures:\n",
    "const.convert_temperature(100, old_scale='C', new_scale='K')"
   ]
  },
  {
   "cell_type": "code",
   "execution_count": null,
   "id": "2dfaa819-fa25-4491-8f40-9a541e01d305",
   "metadata": {},
   "outputs": [],
   "source": [
    "# more constants (including units and errors)!\n",
    "\n",
    "for k, v in const.physical_constants.items():\n",
    "    print(k, ':', v)"
   ]
  },
  {
   "cell_type": "code",
   "execution_count": null,
   "id": "6a1c6b11-56a2-4d37-96e0-f8b94ebe8522",
   "metadata": {},
   "outputs": [],
   "source": [
    "const.h"
   ]
  },
  {
   "cell_type": "code",
   "execution_count": null,
   "id": "bdc0e8e7-1838-4936-ac8b-637f396b706c",
   "metadata": {},
   "outputs": [],
   "source": [
    "val, unit, uncertainty = const.physical_constants['Planck constant']\n",
    "val, unit, uncertainty"
   ]
  },
  {
   "cell_type": "markdown",
   "id": "2b96d1c1-fdee-4631-9ba4-99dbe2da6966",
   "metadata": {},
   "source": [
    "## Fitting a scatter plot"
   ]
  },
  {
   "cell_type": "code",
   "execution_count": null,
   "id": "29b6896d-8fd5-48b6-9325-269922d6763e",
   "metadata": {},
   "outputs": [],
   "source": [
    "import numpy as np\n",
    "import matplotlib.pyplot as plt\n",
    "import scipy.optimize as opt"
   ]
  },
  {
   "cell_type": "code",
   "execution_count": null,
   "id": "c63ef27e-7632-450e-a087-bb21f94df0c7",
   "metadata": {},
   "outputs": [],
   "source": [
    "xdata = np.array([ -10.0, -9.0, -8.0, -7.0, -6.0, -5.0, -4.0, -3.0, -2.0, -1.0, 0.0, 1.0, 2.0, 3.0, 4.0, 5.0, 6.0, 7.0, 8.0, 9.0, 10.0])\n",
    "ydata = np.array([1.2, 4.2, 5.2, 8.3, 10.6, 11.7, 13.5, 14.5, 15.7, 16.1, 16.6, 16.0, 15.4, 14.4, 14.2, 12.7, 10.3, 8.6, 6.1, 4.9, 2.1])"
   ]
  },
  {
   "cell_type": "code",
   "execution_count": null,
   "id": "5774f000-48bf-489a-9d09-856a14cb4f41",
   "metadata": {},
   "outputs": [],
   "source": [
    "plt.scatter(xdata, ydata)"
   ]
  },
  {
   "cell_type": "markdown",
   "id": "246d5fff-7d9e-4fdc-be50-ba54d603cbfb",
   "metadata": {},
   "source": [
    "#### Let's try and fit a Gaussian to our data\n",
    "Recall that a Gaussian function has three parameters: *a* controls the height, *b* the position of the peak, and *c* the width of the function."
   ]
  },
  {
   "cell_type": "code",
   "execution_count": null,
   "id": "fa4137a1-6305-43be-b2c6-38e040c6bf91",
   "metadata": {},
   "outputs": [],
   "source": [
    "# Define the Gaussian function\n",
    "def gaussian(x, a, b, c):\n",
    "    #y = a * np.exp(-b * x ** 2)\n",
    "    y = a * np.exp( -(x - b)** 2 / 2*c**2)\n",
    "    return y\n",
    "\n",
    "# We use curve_fit (https://docs.scipy.org/doc/scipy/reference/generated/scipy.optimize.curve_fit.html), which has required inputs: \n",
    "# 1) the fit function f \n",
    "# 2) an array of data points in x \n",
    "# 3) an array of data points in y\n",
    "# curve_fit returns as default optimal values for f for a least-squares fit, and the covariance matrix, as an array and 2D array, respectively\n",
    "parameters, covariance = opt.curve_fit(gaussian, xdata, ydata)\n",
    "print(parameters)\n",
    "fitted_a, fitted_b, fitted_c = parameters\n",
    "print(fitted_a, fitted_b, fitted_c)"
   ]
  },
  {
   "cell_type": "markdown",
   "id": "15f67dca-904d-43f5-a19e-843a9f373985",
   "metadata": {},
   "source": [
    "#### Let's overplot the fit function with the optimal values over the data "
   ]
  },
  {
   "cell_type": "code",
   "execution_count": null,
   "id": "d783bb77-9d41-4edc-91a4-1444d9202c55",
   "metadata": {},
   "outputs": [],
   "source": [
    "fit_y = gaussian(xdata, fitted_a, fitted_b, fitted_c)\n",
    "plt.scatter(xdata, ydata, label='data')\n",
    "plt.plot(xdata, fit_y, '-', label='Gaussian fit', color='r', lw=3,alpha=0.7)\n",
    "plt.legend()\n",
    "plt.show()"
   ]
  },
  {
   "cell_type": "markdown",
   "id": "a82577bb-315c-41c9-b6a6-5a737e8aee3e",
   "metadata": {},
   "source": [
    "#### We can get the uncertainties from the covariance matrix:"
   ]
  },
  {
   "cell_type": "code",
   "execution_count": null,
   "id": "895ee974-5011-4881-8c94-45f554d8dbbb",
   "metadata": {},
   "outputs": [],
   "source": [
    "print(covariance)\n",
    "sigma_a = covariance[0,0] ** 0.5\n",
    "sigma_b = covariance[1,1] ** 0.5\n",
    "sigma_c = covariance[2,2] ** 0.5\n",
    "\n",
    "print(f\"\\nsigma_a={sigma_a:.1e}, sigma_b={sigma_b:.1e}, sigma_c={sigma_c:.1e}\")"
   ]
  },
  {
   "cell_type": "markdown",
   "id": "cbb3183b-bcfb-459d-bf50-6219948b18b8",
   "metadata": {},
   "source": [
    "#### We can also plot the correlation matrix\n",
    "The @ operator is used for matrix multiplication."
   ]
  },
  {
   "cell_type": "code",
   "execution_count": null,
   "id": "d1cf1a0e-f153-41ba-bf4b-92557705da91",
   "metadata": {},
   "outputs": [],
   "source": [
    "def cov2cor(cov):\n",
    "    '''Convert the covariance matrix to the correlation matrix'''\n",
    "    D = np.diag(1 / np.sqrt(np.diag(cov)))\n",
    "    return D @ cov @ D"
   ]
  },
  {
   "cell_type": "code",
   "execution_count": null,
   "id": "253db191-0b56-44f8-b3d0-8b6bad566f41",
   "metadata": {},
   "outputs": [],
   "source": [
    "correlation_matrix = cov2cor(covariance)\n",
    "\n",
    "plt.matshow(correlation_matrix, vmin=-1, vmax=1, cmap='RdBu_r')\n",
    "plt.colorbar(shrink=0.8);\n",
    "\n",
    "correlation_matrix"
   ]
  },
  {
   "cell_type": "markdown",
   "id": "d4920b01-7cfe-45a5-9ee0-dc3b4a1c8834",
   "metadata": {},
   "source": [
    "#### Now fit a cosine"
   ]
  },
  {
   "cell_type": "code",
   "execution_count": null,
   "id": "2dff37f9-8f85-4ac1-839d-eb20168cf0b5",
   "metadata": {},
   "outputs": [],
   "source": [
    "def cos_func(x, D, E):\n",
    "    y = D*np.cos(E*x)\n",
    "    return y\n",
    "\n",
    "parameters, covariance = opt.curve_fit(cos_func, xdata, ydata)\n",
    "fitted_d = parameters[0]\n",
    "fitted_e = parameters[1]\n",
    "\n",
    "fit_cosine = cos_func(xdata, fitted_d, fitted_e)\n",
    "\n",
    "plt.plot(xdata, ydata, 'o', label='data')\n",
    "plt.plot(xdata, fit_cosine, '-', label='cosine fit')"
   ]
  },
  {
   "cell_type": "markdown",
   "id": "db8cbc76-9a7f-4982-9ae1-6dadad7088cc",
   "metadata": {},
   "source": [
    "### Fit with an initial guess\n",
    "You can make an initial guess for the parameters of the function, passing curve_fit() a list or array of guesses for the function parameters. This is an optional parameter. "
   ]
  },
  {
   "cell_type": "code",
   "execution_count": null,
   "id": "59c4d53c-c3a9-4823-a306-3916ceed925d",
   "metadata": {},
   "outputs": [],
   "source": [
    "guess = [16, 0.1]\n",
    "parameters, covariance = opt.curve_fit(cos_func, xdata, ydata, p0=guess)\n",
    "fitted_d, fitted_e = parameters\n",
    "\n",
    "fit_cosine = cos_func(xdata, fitted_d, fitted_e)\n",
    "\n",
    "plt.plot(xdata, ydata, 'o', label='data')\n",
    "plt.plot(xdata, fit_cosine, '-', label='cosine fit', color='r', lw=3,alpha=0.7)\n",
    "\n",
    "print(parameters)"
   ]
  },
  {
   "cell_type": "markdown",
   "id": "1ec3a271-f0df-4c64-98b0-d35cf30dac58",
   "metadata": {},
   "source": [
    "### Fitting data with error bars"
   ]
  },
  {
   "cell_type": "markdown",
   "id": "9bde93ad-707c-4c0b-95f1-ba96807e9251",
   "metadata": {},
   "source": [
    "#### First let's make some error bars in y"
   ]
  },
  {
   "cell_type": "code",
   "execution_count": null,
   "id": "e08fee70-137a-4411-b3d7-3537976fbcf8",
   "metadata": {},
   "outputs": [],
   "source": [
    "y_err = 1./np.sqrt(ydata)\n",
    "plt.errorbar(xdata, ydata, yerr=y_err, fmt='o');"
   ]
  },
  {
   "cell_type": "markdown",
   "id": "3db3e571-d7ca-4123-aed6-19193a99492e",
   "metadata": {},
   "source": [
    "An array of uncertainties in y is an optional parameter for `curve_fit()`. This can be a 1D or 2D array (covariance matrix of errors in ydata for the latter). In general, `absolute_sigma` should be `True`, so that the covariance is calculated based on the absolute, rather than relative, values of the uncertainties. "
   ]
  },
  {
   "cell_type": "code",
   "execution_count": null,
   "id": "49d39c38-3ec5-4148-a737-d48c2465764a",
   "metadata": {},
   "outputs": [],
   "source": [
    "parameters, covariance = opt.curve_fit(gaussian, xdata, ydata, sigma=y_err,absolute_sigma=True)\n",
    "print(parameters)\n",
    "fitted_a, fitted_b, fitted_c = parameters\n",
    "print(fitted_a, fitted_b, fitted_c)"
   ]
  },
  {
   "cell_type": "code",
   "execution_count": null,
   "id": "0d267e25-9954-490a-9fed-8d291852adf5",
   "metadata": {},
   "outputs": [],
   "source": [
    "fit_y = gaussian(xdata, fitted_a, fitted_b, fitted_c)\n",
    "plt.errorbar(xdata, ydata, yerr=y_err, fmt='o');\n",
    "plt.plot(xdata, fit_y, '-', label='Gaussian fit', color='r', lw=3,alpha=0.7)\n",
    "plt.legend()\n",
    "plt.show()"
   ]
  },
  {
   "cell_type": "markdown",
   "id": "52f1e522-93ad-4115-94c9-dfe81e072cb2",
   "metadata": {},
   "source": [
    "## Fitting Histograms"
   ]
  },
  {
   "cell_type": "code",
   "execution_count": null,
   "id": "b4683383-1b7e-44da-9f8e-649453faa721",
   "metadata": {},
   "outputs": [],
   "source": [
    "# Generate random data:\n",
    "mean = 0\n",
    "sigma = 1\n",
    "x = np.random.normal(0, 1, 1000)\n",
    "plt.hist(x, bins=25);\n",
    "\n",
    "hist, bin_edges = np.histogram(x)\n",
    "# normalize to unit area\n",
    "hist=hist/sum(hist)"
   ]
  },
  {
   "cell_type": "code",
   "execution_count": null,
   "id": "057dcfb1-5e78-468d-9c4c-03a544a18b67",
   "metadata": {},
   "outputs": [],
   "source": [
    "# Extract histogram values into numpy arrays\n",
    "n = len(hist)\n",
    "x_hist=np.zeros((n),dtype=float) \n",
    "for i in range(n):\n",
    "    x_hist[i]=(bin_edges[i+1]+bin_edges[i])/2\n",
    "    \n",
    "y_hist=hist\n",
    "\n",
    "print(x_hist)\n",
    "print(y_hist)"
   ]
  },
  {
   "cell_type": "markdown",
   "id": "b22daaea-5efc-4f4a-9eb3-442dff9eb610",
   "metadata": {},
   "source": [
    "Since we have extracted the x and y data into arrays, we can use `curve_fit` very similarly to when fitting a scatter plot, passing the fit function, and arrays of data in x and y."
   ]
  },
  {
   "cell_type": "code",
   "execution_count": null,
   "id": "4254197d-e849-4c5c-9af4-689d443bb4d5",
   "metadata": {},
   "outputs": [],
   "source": [
    "# Gaussian least-square fitting process\n",
    "# no initial guess\n",
    "param_optimised,param_covariance_matrix = opt.curve_fit(gaussian,x_hist,y_hist)\n",
    "# with an initial guess\n",
    "# param_optimised,param_covariance_matrix = opt.curve_fit(gaussian,x_hist,y_hist,p0=[0.1, 0.9])"
   ]
  },
  {
   "cell_type": "code",
   "execution_count": null,
   "id": "7231f7e1-9f47-449f-befd-189f9c1c3a99",
   "metadata": {},
   "outputs": [],
   "source": [
    "fig = plt.figure()\n",
    "x_hist_2=np.linspace(np.min(x_hist),np.max(x_hist),1000)\n",
    "plt.plot(x_hist_2,gaussian(x_hist_2,*param_optimised),'r',label='Gaussian fit')\n",
    "plt.legend()\n",
    "\n",
    "#Normalise the histogram values\n",
    "weights = np.ones_like(x) / len(x)\n",
    "plt.hist(x, weights=weights)\n",
    "\n",
    "#setting the y-axis label\n",
    "plt.ylabel(\"Probability\")"
   ]
  },
  {
   "cell_type": "markdown",
   "id": "2bcb94ef-fb02-49e6-a681-b41d68ad7d03",
   "metadata": {},
   "source": [
    "## Minimization"
   ]
  },
  {
   "cell_type": "markdown",
   "id": "02036d9d-4e42-459d-871b-8a94bc56ea08",
   "metadata": {},
   "source": [
    "#### Define the function to minimize and plot it."
   ]
  },
  {
   "cell_type": "code",
   "execution_count": null,
   "id": "02f4d658-c175-495b-bd99-6ae8cb028efc",
   "metadata": {},
   "outputs": [],
   "source": [
    "f = lambda x : (x - 2) ** 2 * (x + 2) ** 2 - x\n",
    "\n",
    "x = np.linspace(-3,3,500)\n",
    "plt.plot(x, f(x))\n",
    "plt.show()"
   ]
  },
  {
   "cell_type": "code",
   "execution_count": null,
   "id": "dab7b931-b477-4f33-b3ac-69c308c6c603",
   "metadata": {},
   "outputs": [],
   "source": [
    "# We use minimize_scalar to find the minimum (https://docs.scipy.org/doc/scipy/reference/generated/scipy.optimize.minimize_scalar.html). \n",
    "# Only required argument is the function to be minimized.\n",
    "sol = opt.minimize_scalar(f)\n",
    "\n",
    "print(sol)\n",
    "\n",
    "plt.plot(x, f(x))\n",
    "plt.scatter([sol.x], [sol.fun], marker='x', s=100, c='green',label='global minimum')\n",
    "plt.legend()\n",
    "plt.show()"
   ]
  },
  {
   "cell_type": "code",
   "execution_count": null,
   "id": "fe8af8b8-4666-4ecc-bdda-9d2604e89905",
   "metadata": {},
   "outputs": [],
   "source": [
    "# To select a different local minimum: use bounded minimization\n",
    "\n",
    "sol_local = opt.minimize_scalar(f, method='bounded', bounds=[-3,0])\n",
    "\n",
    "print(sol_local)\n",
    "\n",
    "plt.plot(x, f(x))\n",
    "plt.scatter([sol_local.x], [sol_local.fun],marker='x', s=100, c='red', label='local minimum')\n",
    "plt.legend()\n",
    "plt.show()"
   ]
  },
  {
   "cell_type": "markdown",
   "id": "61fa26d5-5a66-4dab-ba0f-eba3050180d2",
   "metadata": {},
   "source": [
    "### Visualizing your multi-dimensional functions"
   ]
  },
  {
   "cell_type": "code",
   "execution_count": null,
   "id": "1983533f-7cfa-42b2-9941-ab77b7be886e",
   "metadata": {},
   "outputs": [],
   "source": [
    "def egg_crate(x,y):\n",
    "    return x ** 2 + y ** 2 + 25 * (np.sin(x) ** 2 + np.sin(y) ** 2)"
   ]
  },
  {
   "cell_type": "code",
   "execution_count": null,
   "id": "fb48f58d-588b-450d-8eb9-3de334746905",
   "metadata": {},
   "outputs": [],
   "source": [
    "x = np.arange(-5, 5, 0.1)\n",
    "y = np.arange(-5, 5, 0.1)\n",
    "X, Y = np.meshgrid(x, y)\n",
    "Z = egg_crate(X,Y)\n",
    "print (Z.shape)"
   ]
  },
  {
   "cell_type": "code",
   "execution_count": null,
   "id": "5e305b92-7fff-4f97-8c42-b0b048d459f1",
   "metadata": {},
   "outputs": [],
   "source": [
    "fig, ax = plt.subplots(figsize=(7,7))\n",
    "\n",
    "ax = fig.add_subplot(111, projection='3d')\n",
    "ax.plot_surface(X, Y, Z, cmap='RdBu')"
   ]
  },
  {
   "cell_type": "code",
   "execution_count": null,
   "id": "bc54e8e2-8cd8-4a58-b833-72905749611f",
   "metadata": {},
   "outputs": [],
   "source": [
    "def plot_heat(X=X, Y=Y, Z=Z):\n",
    "    fig, ax = plt.subplots(figsize=(7,6))\n",
    "    c = ax.pcolormesh(X, Y, Z, cmap='RdBu', vmin=np.min(Z), vmax=np.max(Z))\n",
    "    fig.colorbar(c, ax=ax)\n",
    "    plt.axis([np.min(X), np.max(X), np.min(Y), np.max(Y)])\n",
    "    \n",
    "plot_heat()\n",
    "plt.show()"
   ]
  },
  {
   "cell_type": "code",
   "execution_count": null,
   "id": "f760efc3-d49a-4344-8fde-a731836bd2da",
   "metadata": {},
   "outputs": [],
   "source": []
  }
 ],
 "metadata": {
  "kernelspec": {
   "display_name": "Python 3 (ipykernel)",
   "language": "python",
   "name": "python3"
  },
  "language_info": {
   "codemirror_mode": {
    "name": "ipython",
    "version": 3
   },
   "file_extension": ".py",
   "mimetype": "text/x-python",
   "name": "python",
   "nbconvert_exporter": "python",
   "pygments_lexer": "ipython3",
   "version": "3.12.4"
  }
 },
 "nbformat": 4,
 "nbformat_minor": 5
}
