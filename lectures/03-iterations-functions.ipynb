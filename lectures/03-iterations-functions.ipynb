{
 "cells": [
  {
   "cell_type": "markdown",
   "id": "38b2d368-89a9-4709-9358-ed473c9501ee",
   "metadata": {},
   "source": [
    "## Wrap-up iterations\n",
    "\n",
    "Recall our lists from last time:"
   ]
  },
  {
   "cell_type": "code",
   "execution_count": 1,
   "id": "01cf46d4-4184-4a0a-9658-f3b6684d86f4",
   "metadata": {},
   "outputs": [],
   "source": [
    "galaxy_names = [\"NGC 5128\", \"TXS 0506+056\", \"NGC 1068\", \"GB6 J1040+0617\", \"TXS 2226-184\"]\n",
    "distances_mpc = [3.7, 1.75e3, 14.4, 1.51e4, 107.1]  # Mpc\n",
    "luminosities = [1e40, 3e46, 4.9e38, 6.2e45, 5.5e41] # erg/s"
   ]
  },
  {
   "cell_type": "markdown",
   "id": "3c3aed03-14cd-42ea-a249-89a7e15485cd",
   "metadata": {},
   "source": [
    "### The `break` statement"
   ]
  },
  {
   "cell_type": "code",
   "execution_count": 2,
   "id": "77047457-43b4-4ebb-a582-79675ce4fd78",
   "metadata": {},
   "outputs": [
    {
     "name": "stdout",
     "output_type": "stream",
     "text": [
      "Siya\n",
      "Tiya\n",
      "Guru\n",
      "Found the name Guru\n"
     ]
    }
   ],
   "source": [
    "my_list = [\"Siya\", \"Tiya\", \"Guru\", \"Buru\"]\n",
    "\n",
    "i = 0\n",
    "\n",
    "for i, name in enumerate(my_list):\n",
    "    print(my_list[i])\n",
    "    if (my_list[i] == 'Guru'):\n",
    "        print('Found the name Guru')\n",
    "        break"
   ]
  },
  {
   "cell_type": "markdown",
   "id": "48344575-a9aa-4e19-a6c1-52645ba4f417",
   "metadata": {},
   "source": [
    "#### Breaks in nested loops"
   ]
  },
  {
   "cell_type": "code",
   "execution_count": 5,
   "id": "624293ea-cd33-45db-8952-d3bb74888968",
   "metadata": {},
   "outputs": [
    {
     "name": "stdout",
     "output_type": "stream",
     "text": [
      "i=0 and j=0\n",
      "i=0 and j=1\n",
      "i=1 and j=0\n",
      "i=1 and j=1\n",
      "i=2 and j=0\n",
      "i=2 and j=1\n",
      "i=3 and j=0\n",
      "i=3 and j=1\n"
     ]
    }
   ],
   "source": [
    "# What's the output of the following code?\n",
    "\n",
    "for i in range(4):\n",
    "    for j in range(4):          \n",
    "        if j == 2: \n",
    "            break\n",
    "        print(f\"i={i} and j={j}\");  "
   ]
  },
  {
   "cell_type": "markdown",
   "id": "5b416770-bd45-47aa-b6fd-0870717bcdc5",
   "metadata": {},
   "source": [
    "### The `continue` statement"
   ]
  },
  {
   "cell_type": "code",
   "execution_count": 13,
   "id": "ab8f3fdc-3a59-4d4d-a9b2-fbf3f84f820f",
   "metadata": {},
   "outputs": [
    {
     "name": "stdout",
     "output_type": "stream",
     "text": [
      "0 is even\n",
      "2 is even\n",
      "4 is even\n",
      "6 is even\n",
      "8 is even\n"
     ]
    }
   ],
   "source": [
    "for i in range(10): \n",
    "    if i % 2:\n",
    "        continue\n",
    "    print(f\"{i} is even\")"
   ]
  },
  {
   "cell_type": "code",
   "execution_count": 14,
   "id": "13a22a11-d33d-4ec6-b948-ef56ff280353",
   "metadata": {},
   "outputs": [
    {
     "name": "stdout",
     "output_type": "stream",
     "text": [
      "1 is odd\n",
      "3 is odd\n",
      "5 is odd\n",
      "7 is odd\n",
      "9 is odd\n"
     ]
    }
   ],
   "source": [
    "for i in range(10):    \n",
    "    if not i % 2: \n",
    "        continue\n",
    "    print(f\"{i} is odd\")"
   ]
  },
  {
   "cell_type": "markdown",
   "id": "1b81410d-d5e6-4ec3-b94a-e33a20a71074",
   "metadata": {},
   "source": [
    "#### Reprise: breaks in nested loops"
   ]
  },
  {
   "cell_type": "code",
   "execution_count": 15,
   "id": "7c3d86e9-1e12-4e66-874d-12668f3a6d0c",
   "metadata": {},
   "outputs": [
    {
     "name": "stdout",
     "output_type": "stream",
     "text": [
      "2 and 0\n",
      "2 and 1\n",
      "2 and 2\n",
      "2 and 3\n",
      "3 and 0\n",
      "3 and 1\n",
      "3 and 2\n",
      "3 and 3\n"
     ]
    }
   ],
   "source": [
    "# What's the output of the following code?\n",
    "\n",
    "for i in range(4):\n",
    "    if i < 2:\n",
    "        continue\n",
    "    for j in range(4):          \n",
    "        print(f\"{i} and {j}\");  "
   ]
  },
  {
   "cell_type": "markdown",
   "id": "4befd8fd-cf96-455a-ae21-acd59f192dae",
   "metadata": {},
   "source": [
    "### The `while` loop\n",
    "`while` loops are an alternative to `for` loops. An operation is performed until a condition is met. This can be useful in cases where there is a user input involved, or a desired condition that will be met after an unknown number of operations (for example, achieving desired precision on a numerical calculation."
   ]
  },
  {
   "cell_type": "code",
   "execution_count": 16,
   "id": "654b1f18-c0fe-4b77-b48e-1e0fd38feffe",
   "metadata": {},
   "outputs": [
    {
     "name": "stdout",
     "output_type": "stream",
     "text": [
      "Name: NGC 5128; D = 3.7 Mpc\n",
      "Name: TXS 0506+056; D = 1750.0 Mpc\n",
      "Name: NGC 1068; D = 14.4 Mpc\n",
      "Name: GB6 J1040+0617; D = 15100.0 Mpc\n",
      "Name: TXS 2226-184; D = 107.1 Mpc\n"
     ]
    }
   ],
   "source": [
    "i = 0\n",
    "while ( i < len(galaxy_names) ):\n",
    "    print(f\"Name: {galaxy_names[i]}; D = {distances_mpc[i]} Mpc\")\n",
    "    i=i+1"
   ]
  },
  {
   "cell_type": "markdown",
   "id": "433ea823-10b6-40e1-bc7e-b2f5d84c402a",
   "metadata": {},
   "source": [
    "Filtering within the `while` loop is also possible, with similar behavior to the break statement in a `for` loop."
   ]
  },
  {
   "cell_type": "code",
   "execution_count": 17,
   "id": "ac065b5d-a17d-4a9a-9932-7694d3a42e60",
   "metadata": {},
   "outputs": [
    {
     "name": "stdout",
     "output_type": "stream",
     "text": [
      "Name: NGC 5128; D = 3.7 Mpc\n"
     ]
    }
   ],
   "source": [
    "i = 0\n",
    "while ( distances_mpc[i] < 100 ):\n",
    "    print(f\"Name: {galaxy_names[i]}; D = {distances_mpc[i]} Mpc\")\n",
    "    i=i+1"
   ]
  },
  {
   "cell_type": "markdown",
   "id": "ba35f20f-12a4-451d-9652-98ff719cb7cd",
   "metadata": {},
   "source": [
    "### From lists to dictionaries\n",
    "Create dictionary mapping `galaxy_name` to `luminosity`"
   ]
  },
  {
   "cell_type": "code",
   "execution_count": 18,
   "id": "0485b0a9-b2c6-4111-a982-6f33ac7d42eb",
   "metadata": {},
   "outputs": [
    {
     "name": "stdout",
     "output_type": "stream",
     "text": [
      "{'NGC 5128': 1e+40, 'TXS 0506+056': 3e+46, 'NGC 1068': 4.9e+38, 'GB6 J1040+0617': 6.2e+45, 'TXS 2226-184': 5.5e+41}\n",
      "3e+46\n"
     ]
    }
   ],
   "source": [
    "galaxy_luminosities = {}\n",
    "\n",
    "for name, lum in zip(galaxy_names, luminosities):\n",
    "    galaxy_luminosities[name] = lum\n",
    "\n",
    "print(galaxy_luminosities)\n",
    "print(galaxy_luminosities[\"TXS 0506+056\"])"
   ]
  },
  {
   "cell_type": "markdown",
   "id": "6086b57c-0f94-44b3-b7ff-be3e75bd7a62",
   "metadata": {},
   "source": [
    "#### A more pythonic way"
   ]
  },
  {
   "cell_type": "code",
   "execution_count": 19,
   "id": "d1c0e334-7c3b-49a6-839b-9d230b7950e7",
   "metadata": {},
   "outputs": [
    {
     "name": "stdout",
     "output_type": "stream",
     "text": [
      "3e+46\n"
     ]
    }
   ],
   "source": [
    "galaxy_luminosities = {name:lum for name, lum in zip(galaxy_names, luminosities)}\n",
    "\n",
    "print(galaxy_luminosities[\"TXS 0506+056\"])"
   ]
  },
  {
   "cell_type": "markdown",
   "id": "1db4546c-6473-421a-8d66-955bc86c5621",
   "metadata": {},
   "source": [
    "#### An even more pythonic way"
   ]
  },
  {
   "cell_type": "code",
   "execution_count": 20,
   "id": "64a1f00e-9856-4c1a-8085-3f015bb47762",
   "metadata": {},
   "outputs": [
    {
     "name": "stdout",
     "output_type": "stream",
     "text": [
      "3e+46\n"
     ]
    }
   ],
   "source": [
    "galaxy_luminosities = dict(zip(galaxy_names, luminosities))\n",
    "\n",
    "print(galaxy_luminosities[\"TXS 0506+056\"])"
   ]
  },
  {
   "cell_type": "markdown",
   "id": "68b47333-75cd-4592-a471-1808c3aaf631",
   "metadata": {},
   "source": [
    "## Iterate through dictionaries"
   ]
  },
  {
   "cell_type": "code",
   "execution_count": 21,
   "id": "b3f64948-f75c-46c3-afd5-29c4bd820be5",
   "metadata": {},
   "outputs": [
    {
     "name": "stdout",
     "output_type": "stream",
     "text": [
      "NGC 5128        has 1.00e+40 erg/s \n",
      "TXS 0506+056    has 3.00e+46 erg/s \n",
      "NGC 1068        has 4.90e+38 erg/s \n",
      "GB6 J1040+0617  has 6.20e+45 erg/s \n",
      "TXS 2226-184    has 5.50e+41 erg/s \n"
     ]
    }
   ],
   "source": [
    "for k in galaxy_luminosities:\n",
    "    print(f\"{k:15s} has {galaxy_luminosities[k]:.2e} erg/s \")"
   ]
  },
  {
   "cell_type": "markdown",
   "id": "3893095a-1e27-4d3f-b8c5-6730054780f9",
   "metadata": {},
   "source": [
    "#### A more pythonic way:"
   ]
  },
  {
   "cell_type": "code",
   "execution_count": 22,
   "id": "dfea31ac-4c30-424a-9036-796731738ecf",
   "metadata": {},
   "outputs": [
    {
     "name": "stdout",
     "output_type": "stream",
     "text": [
      "NGC 5128        has 1.00e+40 erg/s \n",
      "TXS 0506+056    has 3.00e+46 erg/s \n",
      "NGC 1068        has 4.90e+38 erg/s \n",
      "GB6 J1040+0617  has 6.20e+45 erg/s \n",
      "TXS 2226-184    has 5.50e+41 erg/s \n"
     ]
    }
   ],
   "source": [
    "for k, v in galaxy_luminosities.items():\n",
    "    print(f\"{k:15s} has {v:.2e} erg/s \")"
   ]
  },
  {
   "cell_type": "markdown",
   "id": "a825e421-1eaa-4146-9c2d-8c45605d236b",
   "metadata": {},
   "source": [
    "#### Create a dictionary mapping galaxy names to their observed flux\n",
    "You can use dictionary comprehension, which is similar to list comprehension, but uses a key."
   ]
  },
  {
   "cell_type": "code",
   "execution_count": 23,
   "id": "2c284449-5634-408a-983f-62846de16095",
   "metadata": {},
   "outputs": [
    {
     "name": "stdout",
     "output_type": "stream",
     "text": [
      "NGC 5128        has an observed flux of 6.46e-12 erg/cm2/s\n",
      "TXS 0506+056    has an observed flux of 8.66e-11 erg/cm2/s\n",
      "NGC 1068        has an observed flux of 2.09e-14 erg/cm2/s\n",
      "GB6 J1040+0617  has an observed flux of 2.40e-13 erg/cm2/s\n",
      "TXS 2226-184    has an observed flux of 4.24e-13 erg/cm2/s\n"
     ]
    }
   ],
   "source": [
    "from math import pi\n",
    "\n",
    "obs_flux = {name : lum / (4 * pi * (d * 3e24) ** 2) for name, lum, d in zip(galaxy_names, \n",
    "                                                                      luminosities,\n",
    "                                                                      distances_mpc) }\n",
    "for name, flux in obs_flux.items():\n",
    "    print(f\"{name :15s} has an observed flux of {flux:.2e} erg/cm2/s\")"
   ]
  },
  {
   "cell_type": "markdown",
   "id": "32a5d58c-db70-4e98-b290-0f7ba0d8cf4d",
   "metadata": {},
   "source": [
    "## Closing note: keeping performance in mind\n",
    "List comprehension results in nice code, but if you are making a very large list, you can run into memory problems. You might be better off considering using a generator, which stores an iterable rather than a large list. This might be preferable when working with large datasets. See https://realpython.com/introduction-to-python-generators/ for more details."
   ]
  },
  {
   "cell_type": "code",
   "execution_count": null,
   "id": "1ddc923c-9e86-4970-a2ac-84ce47124fd5",
   "metadata": {},
   "outputs": [],
   "source": [
    "# This is memory-intensive\n",
    "sum([n * n for n in range(50000)])"
   ]
  },
  {
   "cell_type": "code",
   "execution_count": null,
   "id": "093a546c-5309-44ea-8749-3f76b1125567",
   "metadata": {},
   "outputs": [],
   "source": [
    "# This is less memory-intensive\n",
    "sum(n * n for n in range(50000))"
   ]
  },
  {
   "cell_type": "markdown",
   "id": "4b9ddd2a-94cf-4105-9a5e-80cd7127c114",
   "metadata": {},
   "source": [
    "# Functions"
   ]
  },
  {
   "cell_type": "markdown",
   "id": "d673c354-1ca6-4aef-9120-dcef82c00efe",
   "metadata": {},
   "source": [
    "Functions make code more maintainable and more organized/modular. If there is a task that you repeat several times in your program, packaging it as a function is much better practice than copying the code snippet for the task repeatedly. If you update the task, you only need to update the function once. Functions allow you to clearly separate different sub-tasks in your program, rather than writing one long list of commands with comments to indicate the sub-tasks.\n",
    "\n",
    "Functions start with the `def` keyword, then a ***function signature*** (name of the function). In general, a function takes ***arguments*** as input, processes them (via ***statements*** in the function body), and ***returns*** a result as output. A generic function looks like this:"
   ]
  },
  {
   "cell_type": "code",
   "execution_count": null,
   "id": "38306ab4-9379-46d2-aff6-bcf5bca7d187",
   "metadata": {},
   "outputs": [],
   "source": [
    "def <function_name>([<parameters>]):\n",
    "    <statement(s)>"
   ]
  },
  {
   "cell_type": "markdown",
   "id": "1a6e6f80-24e4-49df-983c-1c8d65a13c54",
   "metadata": {},
   "source": [
    "You have already seen built-in functions like len(), print(), etc."
   ]
  },
  {
   "cell_type": "code",
   "execution_count": 24,
   "id": "b980f657-fc59-4c89-8001-a827cf200f84",
   "metadata": {},
   "outputs": [
    {
     "data": {
      "text/plain": [
       "builtin_function_or_method"
      ]
     },
     "execution_count": 24,
     "metadata": {},
     "output_type": "execute_result"
    }
   ],
   "source": [
    "type(len)"
   ]
  },
  {
   "cell_type": "markdown",
   "id": "2ab7facb-fe1d-4258-b78a-7fef472f082e",
   "metadata": {},
   "source": [
    "The function must be called with parentheses and the right arguments."
   ]
  },
  {
   "cell_type": "code",
   "execution_count": 27,
   "id": "2166b10f-2fa7-449f-b6c2-608a15aff8d1",
   "metadata": {},
   "outputs": [
    {
     "data": {
      "text/plain": [
       "8"
      ]
     },
     "execution_count": 27,
     "metadata": {},
     "output_type": "execute_result"
    }
   ],
   "source": [
    "len(\"Hi class\")"
   ]
  },
  {
   "cell_type": "markdown",
   "id": "f84509dc-221a-4dbc-914b-e074623d18e5",
   "metadata": {},
   "source": [
    "The function is executed only if it is called in the main body of the code. Here's an example for a user-defined function:"
   ]
  },
  {
   "cell_type": "code",
   "execution_count": 33,
   "id": "49908070-3486-4dea-9b0b-9dfdd58d28bf",
   "metadata": {},
   "outputs": [
    {
     "name": "stdout",
     "output_type": "stream",
     "text": [
      "3.54e-09 erg/s\n"
     ]
    }
   ],
   "source": [
    "from math import pi\n",
    "\n",
    "def calc_flux(luminosity, distance_mpc):\n",
    "    distance_cm = distance_mpc * 3e24\n",
    "    flux = luminosity / (4 * pi * distance_cm ** 2)\n",
    "    return flux\n",
    "\n",
    "lum, dist = 4e45, 100\n",
    "\n",
    "flux = calc_flux(lum, dist)\n",
    "\n",
    "print(f\"{flux:.2e} erg/s\")"
   ]
  },
  {
   "cell_type": "markdown",
   "id": "884ee91c-5aa3-40b0-8090-3a902a8904eb",
   "metadata": {},
   "source": [
    "Here, two arguments are passed to the function. Since there are no default values for the arguments defined, the number of arguments passed must match the number of parameters the function expects, otherwise an error will be thrown. Only the ordering shows which argument is mapped to which parameter; these are called positional arguments."
   ]
  },
  {
   "cell_type": "markdown",
   "id": "f001851a-bd1f-494c-b858-444ef3843e59",
   "metadata": {},
   "source": [
    "## Indentation\n",
    "You'll notice above that indentation is important - it delimits the body of the function, and separates between the main code and the function definition. \n",
    "- *indentation* means shifting a line of code by either a given number of spaces or a tab (`Tab` key);\n",
    "- a tab is a *single* special character that is visualised as an empty space;\n",
    "- tab-style indentation may have been popular in the past, but today the standard is space-style indentation using 4 whitespaces;\n",
    "- most editors will produce 4 whitespaces by default (or can be set up to do so!)\n",
    "\n",
    "### In python\n",
    "- indentation in python is ***part of the syntax!***\n",
    "- indentation delimits the code of a function, an `if/elif/else` clause, a loop etc.\n",
    "- any number of spaces is recognised, but it has to be consistent"
   ]
  },
  {
   "cell_type": "markdown",
   "id": "72fe5329-c419-43f9-8ade-8f66e4fb178a",
   "metadata": {},
   "source": [
    "If you forget a `return` statement, your function will return `None`"
   ]
  },
  {
   "cell_type": "code",
   "execution_count": 35,
   "id": "3086271f-d046-4456-9353-7cef131893b3",
   "metadata": {},
   "outputs": [
    {
     "name": "stdout",
     "output_type": "stream",
     "text": [
      "11\n"
     ]
    }
   ],
   "source": [
    "def add_one(num):\n",
    "    num += 1\n",
    "    return num\n",
    "    \n",
    "print(add_one(10))"
   ]
  },
  {
   "cell_type": "markdown",
   "id": "f422a2db-a093-4558-be25-6788ad506bf1",
   "metadata": {},
   "source": [
    "## Scope"
   ]
  },
  {
   "cell_type": "markdown",
   "id": "9db88b51-f37c-451f-b92e-14f6c0711159",
   "metadata": {},
   "source": [
    "Scope is an important concept that dictates how repeated variable names are interpreted. The behavior of the code snippet below is probably intuitive:"
   ]
  },
  {
   "cell_type": "code",
   "execution_count": 36,
   "id": "1f16e03a-0098-4409-9257-3128f635ff23",
   "metadata": {},
   "outputs": [
    {
     "name": "stdout",
     "output_type": "stream",
     "text": [
      "2\n",
      "3\n"
     ]
    }
   ],
   "source": [
    "x = 2\n",
    "print(x)\n",
    "\n",
    "x = 3\n",
    "print(x)"
   ]
  },
  {
   "cell_type": "markdown",
   "id": "6e3e48d8-7a4a-4e7e-8ed4-6c48644904d8",
   "metadata": {},
   "source": [
    "But here it may not be:"
   ]
  },
  {
   "cell_type": "code",
   "execution_count": 37,
   "id": "673dbdaf-9b17-4e2b-a806-9d67726dca83",
   "metadata": {},
   "outputs": [
    {
     "name": "stdout",
     "output_type": "stream",
     "text": [
      "3\n",
      "2\n"
     ]
    }
   ],
   "source": [
    "x = 2\n",
    "\n",
    "def func():\n",
    "    x = 3\n",
    "    print(x)\n",
    "\n",
    "func()\n",
    "print(x)"
   ]
  },
  {
   "cell_type": "markdown",
   "id": "e9ec7e64-e4c5-4aa2-a3d3-216b55bb5f37",
   "metadata": {},
   "source": [
    "The scope inside the function is different than that outside the function. `python` uses the ***LEGB*** rule that gives the order in which variables are evaluated: **L**ocal, **E**nclosing, **G**lobal, **B**uilt-in."
   ]
  },
  {
   "cell_type": "code",
   "execution_count": 41,
   "id": "311a7254-2eb0-4216-863c-8938adadb33e",
   "metadata": {},
   "outputs": [
    {
     "ename": "UnboundLocalError",
     "evalue": "cannot access local variable 'count' where it is not associated with a value",
     "output_type": "error",
     "traceback": [
      "\u001b[0;31m---------------------------------------------------------------------------\u001b[0m",
      "\u001b[0;31mUnboundLocalError\u001b[0m                         Traceback (most recent call last)",
      "Cell \u001b[0;32mIn[41], line 7\u001b[0m\n\u001b[1;32m      4\u001b[0m     count \u001b[38;5;241m+\u001b[39m\u001b[38;5;241m=\u001b[39m \u001b[38;5;241m1\u001b[39m\n\u001b[1;32m      5\u001b[0m     \u001b[38;5;28;01mreturn\u001b[39;00m count\n\u001b[0;32m----> 7\u001b[0m bad_function()\n",
      "Cell \u001b[0;32mIn[41], line 4\u001b[0m, in \u001b[0;36mbad_function\u001b[0;34m()\u001b[0m\n\u001b[1;32m      3\u001b[0m \u001b[38;5;28;01mdef\u001b[39;00m \u001b[38;5;21mbad_function\u001b[39m():\n\u001b[0;32m----> 4\u001b[0m     count \u001b[38;5;241m+\u001b[39m\u001b[38;5;241m=\u001b[39m \u001b[38;5;241m1\u001b[39m\n\u001b[1;32m      5\u001b[0m     \u001b[38;5;28;01mreturn\u001b[39;00m count\n",
      "\u001b[0;31mUnboundLocalError\u001b[0m: cannot access local variable 'count' where it is not associated with a value"
     ]
    }
   ],
   "source": [
    "count = 0\n",
    "\n",
    "def bad_function():\n",
    "    count += 1\n",
    "    return count\n",
    "\n",
    "bad_function() # Calling this function will return an error"
   ]
  },
  {
   "cell_type": "markdown",
   "id": "62fca296-ea6e-4a7d-bf36-9c60064d0fc6",
   "metadata": {},
   "source": [
    "Variables defined inside of a function are local to that function. The namespace refers to the defined names and objects that the names refer to.\n",
    "\n",
    "Variables created outside of any function (note that functions can be nested) are called global variables."
   ]
  },
  {
   "cell_type": "code",
   "execution_count": 44,
   "id": "301d42e4-f97b-4f5a-9bf0-02548a91dca9",
   "metadata": {},
   "outputs": [
    {
     "name": "stdout",
     "output_type": "stream",
     "text": [
      "1\n",
      "1\n",
      "2\n"
     ]
    }
   ],
   "source": [
    "def add_one(count):\n",
    "    count += 1 # count is a local variable because it's an argument\n",
    "    return count\n",
    "\n",
    "\n",
    "count = 1      # global \n",
    "print(count)\n",
    "\n",
    "add_one(count) # this is returning 2 and we're doing nothing with the result\n",
    "print(count)   # global variable is unaffected\n",
    "\n",
    "count = add_one(count) # only now are we updating the variable count \n",
    "print(count)"
   ]
  },
  {
   "cell_type": "markdown",
   "id": "767e47fc-4667-4a73-8a63-36e7a7f8a62d",
   "metadata": {},
   "source": [
    "Best practice: give different names to your arguments, local variables and global variables"
   ]
  },
  {
   "cell_type": "code",
   "execution_count": 45,
   "id": "db2cc1c3-ec86-48c4-87f6-0ea82a73bbb9",
   "metadata": {},
   "outputs": [
    {
     "name": "stdout",
     "output_type": "stream",
     "text": [
      "1\n",
      "2\n"
     ]
    }
   ],
   "source": [
    "# Exercise: rewrite the code snippet above so that the local and global variables are clearly defined\n",
    "def add_one(n):\n",
    "    res = n + 1  # Both n and res are local variables\n",
    "    return res\n",
    "\n",
    "count = 1      # Calling our global and local variables differently\n",
    "               # avoids confusion\n",
    "print(count)\n",
    "count = add_one(count) # this returns 2 and we're replacing our global variable with it\n",
    "print(count)   # global variable is changed"
   ]
  },
  {
   "cell_type": "markdown",
   "id": "55321f5f-946c-4ba5-ac0a-2935e579bd20",
   "metadata": {},
   "source": [
    "Note that scope is important not just with functions, but with classes, which we'll see next week, and comprehension, which we saw last week. For example this code snippet returns an error:"
   ]
  },
  {
   "cell_type": "code",
   "execution_count": 46,
   "id": "f24660d5-486d-473a-a746-f42da3ab0b26",
   "metadata": {},
   "outputs": [
    {
     "ename": "NameError",
     "evalue": "name 'item' is not defined",
     "output_type": "error",
     "traceback": [
      "\u001b[0;31m---------------------------------------------------------------------------\u001b[0m",
      "\u001b[0;31mNameError\u001b[0m                                 Traceback (most recent call last)",
      "Cell \u001b[0;32mIn[46], line 2\u001b[0m\n\u001b[1;32m      1\u001b[0m [item \u001b[38;5;28;01mfor\u001b[39;00m item \u001b[38;5;129;01min\u001b[39;00m \u001b[38;5;28mrange\u001b[39m(\u001b[38;5;241m5\u001b[39m)]\n\u001b[0;32m----> 2\u001b[0m item\n",
      "\u001b[0;31mNameError\u001b[0m: name 'item' is not defined"
     ]
    }
   ],
   "source": [
    "[item for item in range(5)]\n",
    "item"
   ]
  },
  {
   "cell_type": "markdown",
   "id": "6c85d5ba-e217-4291-b2e3-ccc9b8f769bf",
   "metadata": {},
   "source": [
    "However this is not an issue with a standard for loop, though it might not give you the behavior you expect."
   ]
  },
  {
   "cell_type": "code",
   "execution_count": 47,
   "id": "7beb60d8-831a-4a77-95fa-cc8079d8ae36",
   "metadata": {},
   "outputs": [
    {
     "name": "stdout",
     "output_type": "stream",
     "text": [
      "0\n",
      "1\n",
      "2\n",
      "3\n",
      "4\n"
     ]
    },
    {
     "data": {
      "text/plain": [
       "4"
      ]
     },
     "execution_count": 47,
     "metadata": {},
     "output_type": "execute_result"
    }
   ],
   "source": [
    "item = 0 \n",
    "\n",
    "for item in range(5):\n",
    "    print(item)\n",
    "\n",
    "item"
   ]
  },
  {
   "cell_type": "markdown",
   "id": "e4993fa0-5975-4319-bc58-b540be27eb7f",
   "metadata": {},
   "source": [
    "### Function returns"
   ]
  },
  {
   "cell_type": "markdown",
   "id": "75f11b54-a06a-4045-8a34-45f5f37822f3",
   "metadata": {},
   "source": [
    "A function can return any type, including lists, dictionaries, booleans, or even functions."
   ]
  },
  {
   "cell_type": "code",
   "execution_count": 48,
   "id": "5522c0cf-c02f-4fa4-9bcd-24d273ded35d",
   "metadata": {},
   "outputs": [
    {
     "name": "stdout",
     "output_type": "stream",
     "text": [
      "False\n"
     ]
    }
   ],
   "source": [
    "def is_detectable(flux):\n",
    "    return flux > 1e-11\n",
    "\n",
    "print(is_detectable(1e-12))"
   ]
  },
  {
   "cell_type": "markdown",
   "id": "e5314447-95bb-4dd9-9a68-d38c7c18a299",
   "metadata": {},
   "source": [
    "Recall our galaxy catalog from last week."
   ]
  },
  {
   "cell_type": "code",
   "execution_count": 49,
   "id": "f8a37fe9-3e3e-4de9-98da-2417dc3ba6b4",
   "metadata": {},
   "outputs": [
    {
     "name": "stdout",
     "output_type": "stream",
     "text": [
      "NGC 5128        D=3.70e+00 Mpc, L=1.00e+40 erg/s\n",
      "TXS 0506+056    D=1.75e+03 Mpc, L=3.00e+46 erg/s\n",
      "NGC 1068        D=1.44e+01 Mpc, L=4.90e+38 erg/s\n",
      "GB6 J1040+0617  D=1.51e+04 Mpc, L=6.20e+45 erg/s\n",
      "TXS 2226-184    D=1.07e+02 Mpc, L=5.50e+41 erg/s\n"
     ]
    }
   ],
   "source": [
    "names = [\"NGC 5128\", \"TXS 0506+056\", \"NGC 1068\", \"GB6 J1040+0617\", \"TXS 2226-184\"]\n",
    "distances = [3.7, 1.75e3, 14.4, 1.51e4, 107.1]  # Mpc\n",
    "luminosities = [1e40, 3e46, 4.9e38, 6.2e45, 5.5e41] # erg/s\n",
    "\n",
    "gal_cat = list(zip(names, distances, luminosities))\n",
    "\n",
    "for name, dist, lum in gal_cat:\n",
    "    print(f\"{name:15s} D={dist:.2e} Mpc, L={lum:.2e} erg/s\")"
   ]
  },
  {
   "cell_type": "code",
   "execution_count": 53,
   "id": "8cec6d46-ae86-4097-9031-81b98d533a1f",
   "metadata": {},
   "outputs": [
    {
     "name": "stdout",
     "output_type": "stream",
     "text": [
      "NGC 5128        is not detectable\n",
      "TXS 0506+056    is not detectable\n",
      "NGC 1068        is not detectable\n",
      "GB6 J1040+0617  is not detectable\n",
      "TXS 2226-184    is not detectable\n"
     ]
    }
   ],
   "source": [
    "# Exercise: use function is_detectable and galaxy catalog to print whether each galaxy in catalog is detectable or not\n",
    "def is_detectable(luminosity, distance):\n",
    "    flux = calc_flux(luminosity, distance)\n",
    "    #print(flux)\n",
    "    return flux > 1e-10\n",
    "\n",
    "for name,dis,lum in gal_cat:\n",
    "    if is_detectable(lum, dis):\n",
    "        print(f\"{name:15s} is detectable\")\n",
    "    else:\n",
    "        print(f\"{name:15s} is not detectable\")"
   ]
  },
  {
   "cell_type": "markdown",
   "id": "2bb3cbad-0a29-4780-8bdb-dc6affcb7377",
   "metadata": {},
   "source": [
    "A function terminates the first time that return is called - beware of pitfalls!"
   ]
  },
  {
   "cell_type": "code",
   "execution_count": 54,
   "id": "2645b023-430f-42d1-8d15-04916822fd4c",
   "metadata": {},
   "outputs": [
    {
     "ename": "TypeError",
     "evalue": "unsupported format string passed to NoneType.__format__",
     "output_type": "error",
     "traceback": [
      "\u001b[0;31m---------------------------------------------------------------------------\u001b[0m",
      "\u001b[0;31mTypeError\u001b[0m                                 Traceback (most recent call last)",
      "Cell \u001b[0;32mIn[54], line 7\u001b[0m\n\u001b[1;32m      4\u001b[0m             \u001b[38;5;28;01mreturn\u001b[39;00m name\n\u001b[1;32m      6\u001b[0m firstname \u001b[38;5;241m=\u001b[39m find_first_detectable(gal_cat)\n\u001b[0;32m----> 7\u001b[0m \u001b[38;5;28mprint\u001b[39m(\u001b[38;5;124mf\u001b[39m\u001b[38;5;124m\"\u001b[39m\u001b[38;5;124mFirst resolved galaxy: \u001b[39m\u001b[38;5;132;01m{\u001b[39;00mfirstname\u001b[38;5;132;01m:\u001b[39;00m\u001b[38;5;124ms\u001b[39m\u001b[38;5;132;01m}\u001b[39;00m\u001b[38;5;124m\"\u001b[39m)\n",
      "\u001b[0;31mTypeError\u001b[0m: unsupported format string passed to NoneType.__format__"
     ]
    }
   ],
   "source": [
    "def find_first_detectable(catalog):\n",
    "    for name, dis, lum in catalog:\n",
    "        if is_detectable(lum, dis):\n",
    "            return name\n",
    "\n",
    "firstname = find_first_detectable(gal_cat)\n",
    "print(f\"First resolved galaxy: {firstname:s}\") "
   ]
  },
  {
   "cell_type": "markdown",
   "id": "a78b8544-29a6-478c-be7d-939527c865d4",
   "metadata": {},
   "source": [
    "The problem with the above function is that if there are no elements that satisfy our requirement, the return statement will never be called and the function will return a NoneType. Let's fix that:"
   ]
  },
  {
   "cell_type": "code",
   "execution_count": null,
   "id": "345b5fc4-2cda-4093-a85c-f9465dc34cb2",
   "metadata": {},
   "outputs": [],
   "source": [
    "# Exercise: rewrite the above function to always return a string\n",
    "\n",
    "def find_first_detectable(catalog):\n",
    "    firstname = \"None!\"\n",
    "    for name, dis, lum in catalog:\n",
    "        if is_detectable(lum, dis):\n",
    "            firstname = name\n",
    "    return firstname\n",
    "\n",
    "firstname = find_first_detectable(gal_cat)\n",
    "print(f\"First resolved galaxy: {firstname:s}\") # Now I know that a string will always be returned"
   ]
  },
  {
   "cell_type": "markdown",
   "id": "dad7bb79-b7f0-4ede-966b-1e65b2923602",
   "metadata": {},
   "source": [
    "Python functions are extremely flexible and can even return multiple variables of different types"
   ]
  },
  {
   "cell_type": "code",
   "execution_count": null,
   "id": "e5ba6640-4c9b-4225-a306-bf0043228b7c",
   "metadata": {},
   "outputs": [],
   "source": [
    "def assess_flux(luminosity, distance):\n",
    "    flux = calc_flux(luminosity, distance)\n",
    "    isdetect = is_detectable(luminosity, distance)\n",
    "    return flux, isdetect\n",
    "\n",
    "results  = assess_flux(1e45, 100) # above detectability threshold\n",
    "# results  = assess_flux(1e43, 100) # below detectability threshold\n",
    "print(results)\n",
    "\n",
    "if results[1]:\n",
    "    print(f\"A flux of {results[0]:.2e} erg/cm2/s is detectable!\\n\")\n",
    "\n",
    "# A better syntax is to \"unpack\" the result into different variables:\n",
    "\n",
    "flx, isdet = assess_flux(1e45, 100) # above detectability threshold\n",
    "# flx, isdet = assess_flux(1e43, 100) # below detectability threshold\n",
    "\n",
    "print(flx, isdet)\n",
    "\n",
    "if isdet:\n",
    "    print(f\"A flux of {flx:.2e} erg/cm2/s is detectable!\\n\")"
   ]
  },
  {
   "cell_type": "markdown",
   "id": "53484d5d-814d-47e2-9326-cabd2cfb70d6",
   "metadata": {},
   "source": [
    "### Keyword arguments"
   ]
  },
  {
   "cell_type": "code",
   "execution_count": 57,
   "id": "06d6e328-0380-45aa-8ed7-ab2794e0147b",
   "metadata": {},
   "outputs": [
    {
     "name": "stdout",
     "output_type": "stream",
     "text": [
      "(-1.0, -2.0)\n",
      "(-1.0, -2.0)\n"
     ]
    }
   ],
   "source": [
    "from math import sqrt\n",
    "\n",
    "def quadratic(a, b, c):\n",
    "    x1 = -b / (2*a)\n",
    "    x2 = sqrt(b**2 - 4*a*c) / (2*a)\n",
    "    return (x1 + x2), (x1 - x2)\n",
    "\n",
    "#a=31\n",
    "#b=93\n",
    "#c=62\n",
    "#print(quadratic(a,b,c))\n",
    "print(quadratic(a=31, b=93, c=62))\n",
    "print(quadratic(c=62, a=31, b=93))"
   ]
  },
  {
   "cell_type": "markdown",
   "id": "80942a89-f66b-443b-866a-02b7480cc701",
   "metadata": {},
   "source": [
    "But positional arguments must come first, if we use a mix of both."
   ]
  },
  {
   "cell_type": "code",
   "execution_count": 58,
   "id": "f2b3ba7d-8d6d-4edd-8953-4256ed7bbc53",
   "metadata": {},
   "outputs": [
    {
     "name": "stdout",
     "output_type": "stream",
     "text": [
      "(-1.0, -2.0)\n"
     ]
    }
   ],
   "source": [
    "# This will work\n",
    "a, b = 31, 93\n",
    "print(quadratic(a, b, c=62))"
   ]
  },
  {
   "cell_type": "code",
   "execution_count": 59,
   "id": "1e98c248-0717-472f-8c91-72d22e3960c0",
   "metadata": {},
   "outputs": [
    {
     "ename": "SyntaxError",
     "evalue": "positional argument follows keyword argument (3758098366.py, line 3)",
     "output_type": "error",
     "traceback": [
      "\u001b[0;36m  Cell \u001b[0;32mIn[59], line 3\u001b[0;36m\u001b[0m\n\u001b[0;31m    print(quadratic(a, b=93, c))\u001b[0m\n\u001b[0m                              ^\u001b[0m\n\u001b[0;31mSyntaxError\u001b[0m\u001b[0;31m:\u001b[0m positional argument follows keyword argument\n"
     ]
    }
   ],
   "source": [
    "# This will not\n",
    "a, c = 31, 62\n",
    "print(quadratic(a, b=93, c))"
   ]
  },
  {
   "cell_type": "markdown",
   "id": "7f51fbef-e411-466e-a9b2-708dc95cbdc4",
   "metadata": {},
   "source": [
    "### Default parameters\n",
    "We can give some parameters default values."
   ]
  },
  {
   "cell_type": "code",
   "execution_count": 61,
   "id": "fb29dffa-2112-42aa-abc4-ea7212e0499d",
   "metadata": {},
   "outputs": [
    {
     "name": "stdout",
     "output_type": "stream",
     "text": [
      "True\n",
      "True\n",
      "False\n"
     ]
    }
   ],
   "source": [
    "def is_detectable(luminosity, distance, threshold=1e-11): # luminosity and distance are positional: \n",
    "                                                          # they must always be passed then calling \n",
    "                                                          # the function. threshold is keyword, and will\n",
    "                                                          # be defaulted to 1e-11 if I don't pass it\n",
    "                                                          # to the function\n",
    "                                                        \n",
    "    flux = calc_flux(luminosity, distance)\n",
    "    return flux > threshold\n",
    "\n",
    "print(is_detectable(1e45,100)) # I don't give any value of threshold,\n",
    "                        # so Python assumes the default value \n",
    "                        # I defined in the function (in this case 1e-11) \n",
    "        \n",
    "print(is_detectable(1e45,100, 1e-12)) # Now Python takes the value I passed to the function\n",
    "\n",
    "print(is_detectable(1e45,100, 1e-9))"
   ]
  },
  {
   "cell_type": "markdown",
   "id": "aa8424d7-9161-4747-a299-4e924188bd1e",
   "metadata": {},
   "source": [
    "These defaulted parameters must come ***after*** all the undefined arguments."
   ]
  },
  {
   "cell_type": "code",
   "execution_count": 62,
   "id": "8579d4c3-dd1e-44e9-af41-0fbe1a11aa62",
   "metadata": {},
   "outputs": [
    {
     "ename": "SyntaxError",
     "evalue": "parameter without a default follows parameter with a default (3971272819.py, line 3)",
     "output_type": "error",
     "traceback": [
      "\u001b[0;36m  Cell \u001b[0;32mIn[62], line 3\u001b[0;36m\u001b[0m\n\u001b[0;31m    def is_detectable(luminosity, threshold=1e-11, distance):\u001b[0m\n\u001b[0m                                                   ^\u001b[0m\n\u001b[0;31mSyntaxError\u001b[0m\u001b[0;31m:\u001b[0m parameter without a default follows parameter with a default\n"
     ]
    }
   ],
   "source": [
    "# Trying to define a function like this will throw an error:\n",
    "\n",
    "def is_detectable(luminosity, threshold=1e-11, distance):\n",
    "    flux = calc_flux(luminosity, distance)\n",
    "    return flux > threshold"
   ]
  },
  {
   "cell_type": "markdown",
   "id": "78060c05-806b-4997-8192-d1b7c2784096",
   "metadata": {},
   "source": [
    "When you add a parameter to a function, always remember to update all the functions that depend on it!"
   ]
  },
  {
   "cell_type": "code",
   "execution_count": 65,
   "id": "7a1ccf99-cb0a-46dd-a209-8cb59c12fac6",
   "metadata": {},
   "outputs": [
    {
     "name": "stdout",
     "output_type": "stream",
     "text": [
      "TXS 0506+056\n"
     ]
    }
   ],
   "source": [
    "def find_first_detectable(catalog, threshold=1e-11):\n",
    "    firstname = \"None!\"\n",
    "    for name, dis, lum in catalog:\n",
    "        if is_detectable(lum, dis, threshold): # I pass on the threshold\n",
    "                                               # parameter to all functions\n",
    "                                               # that depend on it\n",
    "            firstname = name\n",
    "    return firstname\n",
    "\n",
    "firstname = find_first_detectable(gal_cat)\n",
    "print(firstname)"
   ]
  },
  {
   "cell_type": "markdown",
   "id": "9bde23d9-bd1d-4354-8285-73545bcbf11c",
   "metadata": {},
   "source": [
    "### Variable length argument lists\n",
    "In the examples above, we call a function that takes one luminosity and one distance. What if we want to pass in e.g. a group of distances?"
   ]
  },
  {
   "cell_type": "code",
   "execution_count": 66,
   "id": "e4a42197-ced1-45a5-8f94-73b3dc1b5dd8",
   "metadata": {},
   "outputs": [
    {
     "name": "stdout",
     "output_type": "stream",
     "text": [
      "Distance: 1.11e+25 cm\n",
      "Distance: 5.25e+27 cm\n",
      "Distance: 4.32e+25 cm\n",
      "Distance: 4.53e+28 cm\n",
      "Distance: 3.213e+26 cm\n"
     ]
    }
   ],
   "source": [
    "def calc_dist_cm(*args):\n",
    "    for i in args:\n",
    "        distance_cm = i * 3e24\n",
    "        print(f\"Distance: {distance_cm} cm\")\n",
    "\n",
    "calc_dist_cm(3.7, 1750.0, 14.4, 15100.0, 107.1)"
   ]
  },
  {
   "cell_type": "markdown",
   "id": "141ddfa0-949e-4915-b67b-d09abfc2a077",
   "metadata": {},
   "source": [
    "More useful is passing a tuple packed up from e.g. a list:"
   ]
  },
  {
   "cell_type": "code",
   "execution_count": 68,
   "id": "2a0a2f82-9947-4ae5-9fbb-9088b8802beb",
   "metadata": {},
   "outputs": [
    {
     "name": "stdout",
     "output_type": "stream",
     "text": [
      "Distance: 1.11e+25 cm\n",
      "Distance: 5.25e+27 cm\n",
      "Distance: 4.32e+25 cm\n",
      "Distance: 4.53e+28 cm\n",
      "Distance: 3.213e+26 cm\n"
     ]
    }
   ],
   "source": [
    "def calc_dist_cm(*args):\n",
    "    for i in args:\n",
    "        distance_cm = i * 3e24\n",
    "        print(f\"Distance: {distance_cm} cm\")\n",
    "\n",
    "calc_dist_cm(*distances)"
   ]
  },
  {
   "cell_type": "markdown",
   "id": "64ce6f66-d199-43fe-822b-2d2fd945179a",
   "metadata": {},
   "source": [
    "We can also use a similar syntax for dictionaries."
   ]
  },
  {
   "cell_type": "code",
   "execution_count": null,
   "id": "748203c8-edfb-466b-8806-0038ebfcdcb3",
   "metadata": {},
   "outputs": [],
   "source": [
    "galaxy_luminosities = dict(zip(names, luminosities))\n",
    "\n",
    "def print_galaxies(**kwargs):\n",
    "    for k, v in kwargs.items():\n",
    "        print(f\"Name: {k}, Luminosity {v} erg/s \")\n",
    "\n",
    "print_galaxies(**galaxy_luminosities)"
   ]
  },
  {
   "cell_type": "markdown",
   "id": "2013b557-bf10-45e2-bc44-142e3368ab0e",
   "metadata": {},
   "source": [
    "## Recursion\n",
    "Functions can not only depend on other functions, but also on themselves. "
   ]
  },
  {
   "cell_type": "code",
   "execution_count": 69,
   "id": "812c19db-a3e3-4a2b-b86a-fc5991b18684",
   "metadata": {},
   "outputs": [
    {
     "name": "stdout",
     "output_type": "stream",
     "text": [
      "0\n",
      "1\n",
      "1\n",
      "2\n",
      "3\n",
      "5\n",
      "8\n",
      "13\n",
      "21\n",
      "34\n",
      "55\n",
      "89\n"
     ]
    }
   ],
   "source": [
    "def fibonacci(n):\n",
    "    if n <= 1:\n",
    "        return n\n",
    "    else:\n",
    "        return fibonacci(n - 1) + fibonacci(n - 2)\n",
    "    \n",
    "for i in range(12):\n",
    "    print(fibonacci(i))"
   ]
  },
  {
   "cell_type": "code",
   "execution_count": 70,
   "id": "b59e6d75-88b9-4385-9a8f-a58f060fa791",
   "metadata": {},
   "outputs": [
    {
     "name": "stdout",
     "output_type": "stream",
     "text": [
      "0 1\n",
      "1 1\n",
      "2 2\n",
      "3 6\n",
      "4 24\n",
      "5 120\n",
      "6 720\n",
      "7 5040\n",
      "8 40320\n",
      "9 362880\n"
     ]
    }
   ],
   "source": [
    "# Exercise: write a function for calculating a factorial, and print 0! through 9!\n",
    "def factorial(n):\n",
    "    if n <= 1:\n",
    "        return 1\n",
    "    else:\n",
    "        return n * factorial(n-1)\n",
    "\n",
    "for i in range(10):\n",
    "    print(i, factorial(i))"
   ]
  },
  {
   "cell_type": "markdown",
   "id": "86fecda4-137b-45c0-a856-71c1bcae3fe6",
   "metadata": {},
   "source": [
    "## Type hints\n",
    "- python is dynamically typed: you can do whatever you want and there will be little control about the types you use!\n",
    "- from python 3.5 *type hints* are supported: we can indicate what types a function is supposed to take as arguments and what type it returns!"
   ]
  },
  {
   "cell_type": "code",
   "execution_count": null,
   "id": "bc55d10a-5dcf-4959-b937-bf5b1d90c989",
   "metadata": {},
   "outputs": [],
   "source": [
    "def f(a : int, b : int) -> str:\n",
    "    if a > b:\n",
    "        return f\"{a} is greater than {b}\"\n",
    "    else:\n",
    "        return f\"{a} is less than or equal to {b}\"\n",
    "\n",
    "print(f(1, 2))\n",
    "\n",
    "print(f(1.5, 3.5))"
   ]
  },
  {
   "cell_type": "markdown",
   "id": "ef10fbbc-9a4e-44d0-9da2-0bb1516044be",
   "metadata": {},
   "source": [
    "- the python interpreter does not complain if you don't respect type hints, after all it is a *dynamically typed* language!\n",
    "- type hints are useful **to you** to remember how a function is supposed to behave: they may seem (and probably are) unnecessary at this level but it is important to **pick good habits** from the start! \n",
    "- there are tools known as **static type checkers** (one is `mypy`) that can check if your code respect all the type declarations."
   ]
  },
  {
   "cell_type": "markdown",
   "id": "2a81d993-4c83-4df8-85fa-ddbbeb466866",
   "metadata": {},
   "source": [
    "## Defining functions in one line with `lambda`\n",
    "`lambda` is an example of python's support for functional programming. They provide a compact alternative for simple functions. They consist of a keyword (`lambda`) a variable, and a body."
   ]
  },
  {
   "cell_type": "code",
   "execution_count": 71,
   "id": "af968bf1-5573-445d-aeef-a71c22539e85",
   "metadata": {},
   "outputs": [
    {
     "name": "stdout",
     "output_type": "stream",
     "text": [
      "24.0 3628800\n"
     ]
    }
   ],
   "source": [
    "# The above factorial function can be rewritten as\n",
    "\n",
    "factorial = lambda n: n * factorial(n-1) if n > 1 else 1\n",
    "\n",
    "print(factorial(4.), factorial(10))"
   ]
  },
  {
   "cell_type": "markdown",
   "id": "e2da456d-339e-4ac8-bf8a-cf487d2b7685",
   "metadata": {},
   "source": [
    "`lambda` functions can also take several arguments, but should be used only for simple tasks so as not to become unreadable. Notice that the arguments are separated by commas, but not enclosed in parentheses. "
   ]
  },
  {
   "cell_type": "code",
   "execution_count": 72,
   "id": "6353e0f8-55e4-45a1-8392-8e384765f730",
   "metadata": {},
   "outputs": [
    {
     "name": "stdout",
     "output_type": "stream",
     "text": [
      "A=3, B=4 -> C = 5.0\n"
     ]
    }
   ],
   "source": [
    "hypothenuse = lambda x,y: (x ** 2 + y ** 2) ** 0.5\n",
    "\n",
    "sa, sb = 3, 4\n",
    "sc = hypothenuse(sa,sb)\n",
    "print(f\"A={sa}, B={sb} -> C = {sc}\")"
   ]
  },
  {
   "cell_type": "markdown",
   "id": "e03e7718-ab6e-466e-97a6-18a2d9183e1f",
   "metadata": {},
   "source": [
    "You can also pass in values for the arguments in the same line."
   ]
  },
  {
   "cell_type": "code",
   "execution_count": 73,
   "id": "f523b453-ecfc-4cf0-859b-e6a69625d9d0",
   "metadata": {},
   "outputs": [
    {
     "name": "stdout",
     "output_type": "stream",
     "text": [
      "5.0\n"
     ]
    }
   ],
   "source": [
    "hypothenuse = (lambda x,y: (x ** 2 + y ** 2) ** 0.5)(3,4)\n",
    "print(hypothenuse)"
   ]
  },
  {
   "cell_type": "markdown",
   "id": "bddf684d-2184-4b5e-828f-a7361c45422f",
   "metadata": {},
   "source": [
    "`lambda` functions have some key differences from standard functions. They don't support statements within the body of the function, or type hints. For example, neither of the examples below will work."
   ]
  },
  {
   "cell_type": "code",
   "execution_count": 74,
   "id": "109042de-bfa0-422b-8024-8817e356e5c2",
   "metadata": {},
   "outputs": [
    {
     "ename": "SyntaxError",
     "evalue": "invalid syntax (2525065835.py, line 1)",
     "output_type": "error",
     "traceback": [
      "\u001b[0;36m  Cell \u001b[0;32mIn[74], line 1\u001b[0;36m\u001b[0m\n\u001b[0;31m    (lambda x: return x**2)(2)\u001b[0m\n\u001b[0m               ^\u001b[0m\n\u001b[0;31mSyntaxError\u001b[0m\u001b[0;31m:\u001b[0m invalid syntax\n"
     ]
    }
   ],
   "source": [
    "(lambda x: return x**2)(2)"
   ]
  },
  {
   "cell_type": "markdown",
   "id": "e59ec070-7133-46b6-b9ba-a61fb5d294ae",
   "metadata": {},
   "source": [
    "This is the correct syntax."
   ]
  },
  {
   "cell_type": "code",
   "execution_count": 75,
   "id": "a4e41f51-8fd5-4a7b-ae91-40d47c9d3eda",
   "metadata": {},
   "outputs": [
    {
     "data": {
      "text/plain": [
       "4"
      ]
     },
     "execution_count": 75,
     "metadata": {},
     "output_type": "execute_result"
    }
   ],
   "source": [
    "(lambda x: x**2)(2)"
   ]
  },
  {
   "cell_type": "code",
   "execution_count": 76,
   "id": "b9e8cfb7-3db8-44e5-9a5a-13ffd2ae80f2",
   "metadata": {},
   "outputs": [
    {
     "ename": "SyntaxError",
     "evalue": "invalid syntax (2102252273.py, line 1)",
     "output_type": "error",
     "traceback": [
      "\u001b[0;36m  Cell \u001b[0;32mIn[76], line 1\u001b[0;36m\u001b[0m\n\u001b[0;31m    hypothenuse = (lambda x: int,y: int: (x ** 2 + y ** 2) ** 0.5)(3,4)\u001b[0m\n\u001b[0m                                  ^\u001b[0m\n\u001b[0;31mSyntaxError\u001b[0m\u001b[0;31m:\u001b[0m invalid syntax\n"
     ]
    }
   ],
   "source": [
    "hypothenuse = (lambda x: int,y: int: (x ** 2 + y ** 2) ** 0.5)(3,4)"
   ]
  },
  {
   "cell_type": "markdown",
   "id": "322b1e26-4104-4e8c-8ccb-14c8f59a5a9e",
   "metadata": {},
   "source": [
    "In contrast to functions, `lambda` functions are invoked immediately, which can be particularly convenient within a Jupyter notebook."
   ]
  },
  {
   "cell_type": "markdown",
   "id": "fa47bc03-69d1-4864-b1c5-4381b85fd348",
   "metadata": {},
   "source": [
    "## Docstrings\n",
    "It is important to add docstrings to your functions, it makes it easier for you and other users to remember/understand what your code is doing. Even in the most obvious cases, your docstring should be at least one line: "
   ]
  },
  {
   "cell_type": "code",
   "execution_count": 1,
   "id": "5eab129a-c214-455a-9485-d5ad6a4c9cc7",
   "metadata": {},
   "outputs": [],
   "source": [
    "def add_one(n):\n",
    "    \"\"\"Calculate n+1 and return the result.\"\"\"\n",
    "    res = n + 1  \n",
    "    return res\n",
    "\n",
    "def check_script():\n",
    "    \"\"\"Check if the script is running.\"\"\""
   ]
  },
  {
   "cell_type": "markdown",
   "id": "408e2648-c5aa-4774-b410-5767ee21429f",
   "metadata": {},
   "source": [
    "If the funtion does something more complex, you should write a more complete docstring, in this general form:"
   ]
  },
  {
   "cell_type": "code",
   "execution_count": 3,
   "id": "643752fc-556d-4c03-9888-3efd512974de",
   "metadata": {},
   "outputs": [],
   "source": [
    "def my_function(par1, par2):\n",
    "    \"\"\"\n",
    "    One-line description of the purpose of the function.\n",
    "\n",
    "    If necessary, you can add here a second paragraph explaining in detail\n",
    "    the rationale and usage of the function, including an example if \n",
    "    necessary. By using three quotation marks, every line in between is \n",
    "    interpreted as part of the same string. So use line breaks like this \n",
    "    to keep your lines short.\n",
    "    \n",
    "    Args:\n",
    "        par1: a number\n",
    "        par2: a second number\n",
    "    \n",
    "    Returns:\n",
    "        The result of some operation on our input\n",
    "    \"\"\"\n",
    "    res = some_operation(par1, par2)\n",
    "    return res"
   ]
  },
  {
   "cell_type": "markdown",
   "id": "be49feba-2eb6-442f-a802-590326117ee2",
   "metadata": {},
   "source": [
    "Strings written in this fashion will become the docstring of the function, which will help your future self or your collaborators understand your code:"
   ]
  },
  {
   "cell_type": "code",
   "execution_count": 4,
   "id": "be9e58dd-a619-4f5d-a1b6-025ac4682d3a",
   "metadata": {},
   "outputs": [
    {
     "name": "stdout",
     "output_type": "stream",
     "text": [
      "Help on function my_function in module __main__:\n",
      "\n",
      "my_function(par1, par2)\n",
      "    One-line description of the purpose of the function.\n",
      "\n",
      "    If necessary, you can add here a second paragraph explaining in detail\n",
      "    the rationale and usage of the function, including an example if\n",
      "    necessary. By using three quotation marks, every line in between is\n",
      "    interpreted as part of the same string. So use line breaks like this\n",
      "    to keep your lines short.\n",
      "\n",
      "    Args:\n",
      "        par1: a number\n",
      "        par2: a second number\n",
      "\n",
      "    Returns:\n",
      "        The result of some operation on our input\n",
      "\n"
     ]
    }
   ],
   "source": [
    "help(my_function)"
   ]
  },
  {
   "cell_type": "code",
   "execution_count": 5,
   "id": "9becc522-66ad-4220-8c59-21b50d81cbf9",
   "metadata": {},
   "outputs": [
    {
     "name": "stdout",
     "output_type": "stream",
     "text": [
      "Help on built-in function len in module builtins:\n",
      "\n",
      "len(obj, /)\n",
      "    Return the number of items in a container.\n",
      "\n"
     ]
    }
   ],
   "source": [
    "help(len)"
   ]
  },
  {
   "cell_type": "markdown",
   "id": "10a2c574-f987-4f34-a631-3c7693610634",
   "metadata": {},
   "source": [
    "In the Jupyter environment, you can also get the docstring by pressing Shift+Tab on a function."
   ]
  },
  {
   "cell_type": "markdown",
   "id": "4ec6f75b-f43d-4afb-9d81-e5b582fc9b82",
   "metadata": {},
   "source": [
    "For more information about common docstring formats, check:\n",
    "\n",
    "- https://stackoverflow.com/questions/3898572/what-are-the-most-common-python-docstring-formats \n",
    "- https://betterprogramming.pub/3-different-docstring-formats-for-python-d27be81e0d68\n",
    "\n",
    "For more on how to write good docstrings, check out the PEP conventions:\n",
    "\n",
    "https://peps.python.org/pep-0257/"
   ]
  },
  {
   "cell_type": "markdown",
   "id": "601eaaa6-8f13-445e-8553-620f52373a75",
   "metadata": {},
   "source": [
    "## A last note on built-in functions\n",
    "\n",
    "Be careful not to name your variable with the same name as a built-in function! It is allowed, but it will break the behavior of the built-in function."
   ]
  },
  {
   "cell_type": "code",
   "execution_count": 6,
   "id": "257134fb-39fb-4fa3-8003-edfda774ee62",
   "metadata": {},
   "outputs": [
    {
     "data": {
      "text/plain": [
       "<function len(obj, /)>"
      ]
     },
     "execution_count": 6,
     "metadata": {},
     "output_type": "execute_result"
    }
   ],
   "source": [
    "len"
   ]
  },
  {
   "cell_type": "code",
   "execution_count": 7,
   "id": "eaa535fb-cf01-4ff5-9d0d-ec22231aa3e9",
   "metadata": {},
   "outputs": [
    {
     "data": {
      "text/plain": [
       "builtin_function_or_method"
      ]
     },
     "execution_count": 7,
     "metadata": {},
     "output_type": "execute_result"
    }
   ],
   "source": [
    "type(len)"
   ]
  },
  {
   "cell_type": "code",
   "execution_count": 8,
   "id": "dbcf52ff-bae8-4bbe-808d-ca37e3c446b4",
   "metadata": {},
   "outputs": [],
   "source": [
    "len = 2"
   ]
  },
  {
   "cell_type": "code",
   "execution_count": 9,
   "id": "e30c0f54-737c-467d-8af7-0dcdd37fa443",
   "metadata": {},
   "outputs": [
    {
     "data": {
      "text/plain": [
       "int"
      ]
     },
     "execution_count": 9,
     "metadata": {},
     "output_type": "execute_result"
    }
   ],
   "source": [
    "type(len)"
   ]
  },
  {
   "cell_type": "code",
   "execution_count": 10,
   "id": "5e7ea46f-43dd-48fb-b0b4-76fa5b4cb6a0",
   "metadata": {},
   "outputs": [
    {
     "ename": "TypeError",
     "evalue": "'int' object is not callable",
     "output_type": "error",
     "traceback": [
      "\u001b[0;31m---------------------------------------------------------------------------\u001b[0m",
      "\u001b[0;31mTypeError\u001b[0m                                 Traceback (most recent call last)",
      "Cell \u001b[0;32mIn[10], line 1\u001b[0m\n\u001b[0;32m----> 1\u001b[0m \u001b[38;5;28mlen\u001b[39m(\u001b[38;5;124m\"\u001b[39m\u001b[38;5;124mHello World\u001b[39m\u001b[38;5;124m\"\u001b[39m)\n",
      "\u001b[0;31mTypeError\u001b[0m: 'int' object is not callable"
     ]
    }
   ],
   "source": [
    "len(\"Hello World\")"
   ]
  },
  {
   "cell_type": "code",
   "execution_count": null,
   "id": "4bb684e1-6273-4132-b200-ec3dea50ab8c",
   "metadata": {},
   "outputs": [],
   "source": []
  }
 ],
 "metadata": {
  "kernelspec": {
   "display_name": "Python 3 (ipykernel)",
   "language": "python",
   "name": "python3"
  },
  "language_info": {
   "codemirror_mode": {
    "name": "ipython",
    "version": 3
   },
   "file_extension": ".py",
   "mimetype": "text/x-python",
   "name": "python",
   "nbconvert_exporter": "python",
   "pygments_lexer": "ipython3",
   "version": "3.12.4"
  }
 },
 "nbformat": 4,
 "nbformat_minor": 5
}
