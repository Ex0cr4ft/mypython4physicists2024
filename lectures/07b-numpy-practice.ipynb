{
 "cells": [
  {
   "cell_type": "markdown",
   "id": "7c459035-29c3-4b17-80df-cee6eb7febd6",
   "metadata": {},
   "source": [
    "# More numpy arrays"
   ]
  },
  {
   "cell_type": "markdown",
   "id": "64addb07-075a-40bb-ad9e-109507a0a37a",
   "metadata": {},
   "source": [
    "## Concatenating arrays in multiple dimensions\n",
    "Let's take two 2D arrays:"
   ]
  },
  {
   "cell_type": "code",
   "execution_count": null,
   "id": "5f8469bb-01d1-4747-9287-98247b8c215e",
   "metadata": {},
   "outputs": [],
   "source": [
    "import numpy as np\n",
    "\n",
    "arr1 = np.arange(15).reshape(5,3)\n",
    "arr2 = arr1 * 10\n",
    "print(arr1)\n",
    "print(arr2)\n",
    "print(arr1.shape, arr2.shape)"
   ]
  },
  {
   "cell_type": "markdown",
   "id": "8e332c82-b66a-4740-a7a7-855fe556bcc8",
   "metadata": {},
   "source": [
    "By default, concatenation happens along the first dimension (i.e. axis 0):"
   ]
  },
  {
   "cell_type": "code",
   "execution_count": null,
   "id": "5bd24fd6-da08-46ee-8911-461070c291e5",
   "metadata": {},
   "outputs": [],
   "source": [
    "conc1 = np.concatenate([arr1, arr2]) # same as passing axis=0\n",
    "print(conc1)\n",
    "print(conc1.shape)"
   ]
  },
  {
   "cell_type": "markdown",
   "id": "385c42ca-14fd-4765-b975-10fccd6bc47e",
   "metadata": {},
   "source": [
    "To concatenate arrays along other axes, you can specify axis parameter, which tells the function the axis along which you want to concatenate the arrays:"
   ]
  },
  {
   "cell_type": "code",
   "execution_count": null,
   "id": "dde6a1da-973c-4d3a-8dfe-cf5ed8c08f87",
   "metadata": {},
   "outputs": [],
   "source": [
    "conc2 = np.concatenate([arr1, arr2], axis=1)\n",
    "print(conc2)"
   ]
  },
  {
   "cell_type": "markdown",
   "id": "4df51965-9ac0-4489-98ea-4576c75787bc",
   "metadata": {},
   "source": [
    "Think-pair-share: which of these 2 operations leads to an error?"
   ]
  },
  {
   "cell_type": "code",
   "execution_count": null,
   "id": "8ff04d97-dda3-4683-8a37-5e3f38ad7ce0",
   "metadata": {},
   "outputs": [],
   "source": [
    "arr15 = np.arange(15).reshape(5,3)\n",
    "arr10 = np.arange(10).reshape(5,2)\n",
    "print(arr15.shape, arr10.shape)\n",
    "print(arr15)\n",
    "print(arr10)\n",
    "\n",
    "## This:\n",
    "# np.concatenate((arr15, arr10), axis=0)\n",
    "## or this:\n",
    "# np.concatenate((arr15, arr10), axis=1)"
   ]
  },
  {
   "cell_type": "markdown",
   "id": "5b5dada8-e620-4510-8792-6b2889b2200b",
   "metadata": {},
   "source": [
    "Multiplying matrices of different shapes"
   ]
  },
  {
   "cell_type": "code",
   "execution_count": null,
   "id": "ce7f55b6-80f3-4971-9f25-eb9d3650ea98",
   "metadata": {},
   "outputs": [],
   "source": [
    "mat1 = np.arange(20).reshape(2,10)\n",
    "vec1 = np.arange(10)\n",
    "vec2 = np.arange(2)\n",
    "\n",
    "print(mat1)\n",
    "print(vec1)\n",
    "print(vec2)"
   ]
  },
  {
   "cell_type": "markdown",
   "id": "22e1f10e-e9b7-4410-9443-5d916ca43424",
   "metadata": {},
   "source": [
    "Here, the vector has to have the same size as the last dimension of your matrix!"
   ]
  },
  {
   "cell_type": "code",
   "execution_count": null,
   "id": "59454f36-6aa4-415f-a1b1-67396e3ff5b3",
   "metadata": {},
   "outputs": [],
   "source": [
    "mat1 > vec1"
   ]
  },
  {
   "cell_type": "markdown",
   "id": "e036d1b5-e6b1-4489-8b0b-b2e9ae5c72bf",
   "metadata": {},
   "source": [
    "The same goes for other operations like addition, division, comparison, and so on."
   ]
  },
  {
   "cell_type": "code",
   "execution_count": null,
   "id": "e31b2f56-7719-4cf3-9f98-205628e5f897",
   "metadata": {},
   "outputs": [],
   "source": [
    "# This won't work: \n",
    "# mat1 > vec2\n",
    "\n",
    "# But this will:\n",
    "print(mat1.transpose())\n",
    "mat1.transpose() > vec2 # I'm comparing the elements of vec2\n",
    "                        # with the elements of mat1 line by line"
   ]
  },
  {
   "cell_type": "markdown",
   "id": "2b719738",
   "metadata": {},
   "source": [
    "# More numpy practice "
   ]
  },
  {
   "cell_type": "code",
   "execution_count": null,
   "id": "2d883f4e",
   "metadata": {},
   "outputs": [],
   "source": [
    "from matplotlib import pyplot as plt"
   ]
  },
  {
   "cell_type": "markdown",
   "id": "dad9d386",
   "metadata": {},
   "source": [
    "# Saving and loading arrays"
   ]
  },
  {
   "cell_type": "code",
   "execution_count": null,
   "id": "3e8f4a82",
   "metadata": {},
   "outputs": [],
   "source": [
    "energy_arr = np.linspace(3,9,15)              \n",
    "spectrum_arr = 100 - energy_arr * 3\n",
    "\n",
    "plt.scatter(energy_arr, spectrum_arr)"
   ]
  },
  {
   "cell_type": "markdown",
   "id": "4d0e0928",
   "metadata": {},
   "source": [
    "The next line creates a file called `myspectrum.csv` and saves the content of the arrays into it.\n",
    "\n",
    "By zipping the two arrays I'm simply writing them into the file as columns rather than lines, which makes the file easier to understand if you open it with a text editor."
   ]
  },
  {
   "cell_type": "code",
   "execution_count": null,
   "id": "9f61dac2",
   "metadata": {},
   "outputs": [],
   "source": [
    "np.savetxt(\"myspectrum.csv\", list(zip(energy_arr, spectrum_arr)), fmt='%.3e', delimiter=',')"
   ]
  },
  {
   "cell_type": "markdown",
   "id": "a9bc0cab",
   "metadata": {},
   "source": [
    "The next line reads the data from the file `myspectrum.csv` and loads it back into numpy arrays.\n",
    "\n",
    "Setting `unpack=True` is a useful trick that allows me to save the two columns of the file separately into different numpy arrays, in this case called `specx` and `specy`."
   ]
  },
  {
   "cell_type": "code",
   "execution_count": null,
   "id": "80b5846a",
   "metadata": {},
   "outputs": [],
   "source": [
    "specx, specy = np.loadtxt(\"myspectrum.csv\", delimiter=',', unpack=True)\n",
    "\n",
    "plt.scatter(specx, specy)"
   ]
  },
  {
   "cell_type": "markdown",
   "id": "c2ac1014",
   "metadata": {},
   "source": [
    "# Random numbers with numpy"
   ]
  },
  {
   "cell_type": "code",
   "execution_count": 1,
   "id": "3ff5c351",
   "metadata": {},
   "outputs": [
    {
     "name": "stdout",
     "output_type": "stream",
     "text": [
      "[455 437 418 465 455 437 481 478 464 483 470 435 493 464 494]\n"
     ]
    }
   ],
   "source": [
    "import numpy as np\n",
    "\n",
    "random_integers  = np.random.randint(400,500,15)\n",
    "print(random_integers)"
   ]
  },
  {
   "cell_type": "code",
   "execution_count": 9,
   "id": "046eff6b",
   "metadata": {},
   "outputs": [
    {
     "name": "stdout",
     "output_type": "stream",
     "text": [
      "[0.58444778 0.49704002 0.22229817 0.73342475 0.09442711 0.49928806\n",
      " 0.63804571 0.78439638 0.4933939  0.30147879 0.77483631 0.65216507\n",
      " 0.9178812  0.30901098 0.4313561 ]\n"
     ]
    }
   ],
   "source": [
    "random_floats_1d = np.random.rand(15) # 1D array of random floating point \n",
    "                                      # numbers between 0 and 1.\n",
    "                                      # Every time you re-run this cell,\n",
    "                                      # you'll be creating a new set of \n",
    "                                      # pseudo-random numbers\n",
    "print(random_floats_1d)"
   ]
  },
  {
   "cell_type": "code",
   "execution_count": 14,
   "id": "78bc0e26",
   "metadata": {},
   "outputs": [
    {
     "name": "stdout",
     "output_type": "stream",
     "text": [
      "[[0.92573543 0.218826   0.72487616 0.29309899 0.74711794 0.20828531]\n",
      " [0.48636809 0.14818377 0.5473694  0.57211237 0.15184377 0.04498987]\n",
      " [0.33240254 0.06183079 0.89772828 0.3446951  0.93632928 0.91019161]]\n"
     ]
    }
   ],
   "source": [
    "random_floats_2d = np.random.rand(3,6) # 2D array of random floating point \n",
    "                                       # numbers between 0 and 1\n",
    "print(random_floats_2d)"
   ]
  },
  {
   "cell_type": "markdown",
   "id": "4e3dae4f",
   "metadata": {},
   "source": [
    "### Seeding:\n",
    "\n",
    "To make your experiment reproducible, you may want to *seed* the random numbers you produce:"
   ]
  },
  {
   "cell_type": "code",
   "execution_count": 18,
   "id": "4299c213",
   "metadata": {},
   "outputs": [
    {
     "name": "stdout",
     "output_type": "stream",
     "text": [
      "[[0.77132064 0.02075195 0.63364823]\n",
      " [0.74880388 0.49850701 0.22479665]\n",
      " [0.19806286 0.76053071 0.16911084]]\n"
     ]
    }
   ],
   "source": [
    "np.random.seed(10) # This fixes the random numbers that are produced next\n",
    "\n",
    "random_but_predictable = np.random.rand(3,3) # If you re-run this cell, these \n",
    "                                             # values won't change\n",
    "print(random_but_predictable)"
   ]
  },
  {
   "cell_type": "markdown",
   "id": "fcbf3941",
   "metadata": {},
   "source": [
    "### Exercise with random numbers:  \n",
    "\n",
    "Write a function that estimates the value of $\\pi$ with a Monte Carlo approach:\n",
    "\n",
    "- First, we want to create a random set of $n$ points distributed randomly inside a 2x2 square, so with x- and y- coordinates between 0 and 2.\n",
    "- Then we count how many of these points lie inside a circle of radius 1 centered in the middle of the square.\n",
    "- Because our points are randomly distributed, the ratio between the fraction of points that lie inside the circle gives you an estimate of the ratio between the area of the circle and the total area of the square:\n",
    "\n",
    "$$\n",
    "\\frac{N_\\rm{inside}}{N_\\rm{total}} = \\frac{A_\\bigodot}{A_\\square} = \\frac{\\pi}{4}\n",
    "$$"
   ]
  },
  {
   "cell_type": "code",
   "execution_count": 19,
   "id": "f3743b3d-2273-4f1b-9867-83c32ee6fbb7",
   "metadata": {},
   "outputs": [
    {
     "name": "stdout",
     "output_type": "stream",
     "text": [
      "With a million points, pi~ 3.141688\n"
     ]
    }
   ],
   "source": [
    "def approxpi(n, seed=0):\n",
    "    \"\"\"Estimates an approximate value of pi with a Monte Carlo approach.\n",
    "    \n",
    "    Args:\n",
    "        n (int): number of points to scatter\n",
    "        seed (int): random seed  \n",
    "        \n",
    "    Return:\n",
    "        piapprox (float): estimate of the value of pi.\n",
    "    \"\"\"\n",
    "    np.random.seed(seed)            # Ensures result is reproducible\n",
    "    xarr = np.random.rand(n) * 2    # x coordinates\n",
    "    yarr = np.random.rand(n) * 2    # y coordinates\n",
    "    dist2arr = ((xarr - 1.0) ** 2 + # Distance (squared) of each point to the center\n",
    "                (yarr - 1.0) ** 2\n",
    "               )\n",
    "    isincirc = dist2arr <= 1        # True for points in the circle, False for out\n",
    "    incount = np.sum(isincirc)      # Number of points inside the circle \n",
    "                                    # (remember that True acts as 1, False as 0)\n",
    "    piapprox = 4 * incount / n      \n",
    "    return piapprox\n",
    "\n",
    "print(\"With a million points, pi~\", approxpi(1000000))"
   ]
  },
  {
   "cell_type": "code",
   "execution_count": null,
   "id": "ec3437af-6f29-4cf7-83b0-e423a20b2d78",
   "metadata": {},
   "outputs": [],
   "source": []
  }
 ],
 "metadata": {
  "kernelspec": {
   "display_name": "Python 3 (ipykernel)",
   "language": "python",
   "name": "python3"
  },
  "language_info": {
   "codemirror_mode": {
    "name": "ipython",
    "version": 3
   },
   "file_extension": ".py",
   "mimetype": "text/x-python",
   "name": "python",
   "nbconvert_exporter": "python",
   "pygments_lexer": "ipython3",
   "version": "3.12.4"
  }
 },
 "nbformat": 4,
 "nbformat_minor": 5
}
