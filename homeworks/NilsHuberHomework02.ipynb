{
 "cells": [
  {
   "cell_type": "markdown",
   "id": "d5948ff7-8f53-4b57-b1d3-232a68aa4c41",
   "metadata": {},
   "source": [
    "# Homework 2 (Deadline: Nov 11)"
   ]
  },
  {
   "cell_type": "markdown",
   "id": "5504fc4d-19c0-4427-8e53-8e594c9fddac",
   "metadata": {},
   "source": [
    "## Name: Nils Huber"
   ]
  },
  {
   "cell_type": "markdown",
   "id": "887048a1-8e1d-4336-91c1-aa6592bf040e",
   "metadata": {},
   "source": [
    "# Problem 1: For Loops and conditional statements (3 P)"
   ]
  },
  {
   "cell_type": "markdown",
   "id": "d25e4505-2775-496d-a6f7-275fa3bcc468",
   "metadata": {},
   "source": [
    "In this task you will learn to work with different data types, For Loops and the combination of For Loops and If statements. We will start with the object **L** below.\n"
   ]
  },
  {
   "cell_type": "code",
   "execution_count": 7,
   "id": "bd65d56a-fa8f-4825-873f-5ab6ea445297",
   "metadata": {},
   "outputs": [],
   "source": [
    "L = (6, -3, -6, 10, 0, -9, 0.5, 2, 0, -7, -9, 5, 0, 0, -6, 0)"
   ]
  },
  {
   "cell_type": "markdown",
   "id": "0f592687-e201-47f6-8a0a-95976f8d7597",
   "metadata": {},
   "source": [
    "**(A)** (1 P) Write a code to sum up every single element from **L** by using a For Loop. What is the type of the result?"
   ]
  },
  {
   "cell_type": "code",
   "execution_count": 8,
   "id": "6009f561-628b-44a8-861a-a415135b47c0",
   "metadata": {},
   "outputs": [
    {
     "name": "stdout",
     "output_type": "stream",
     "text": [
      "The sum of all elements in L is: -16.5 and its type is: <class 'float'>, so a float.\n"
     ]
    }
   ],
   "source": [
    "a=0\n",
    "for x in L:\n",
    "    a+=x\n",
    "print(f'The sum of all elements in L is: {a} and its type is: {type(a)}, so a float.')"
   ]
  },
  {
   "cell_type": "markdown",
   "id": "c3e893a2-0300-44e6-acdf-0b02174edfd3",
   "metadata": {},
   "source": [
    "**(B)** (1 P) We want to work with **L** without the last four elements so that 5 is the last number in our collection. However, before we can do that, we need to modify **L**. \n",
    "\n",
    "Before writing the code, answer the following questions:\n",
    "- What type is **L** currently, and why do we need to change it in order to remove the last four elements?\n",
    "- Can you recall any built-in Python function from the lecture that allows us to easily convert **L** into an object that can be modified?\n",
    "\n",
    "Use the built-in function to convert **L** into the new object **M**. In the next step, find a way to represent **M** without the last four elements. \n",
    "\n",
    "**(Please do not just write the new object down by hand but find a way to do it in Python)**"
   ]
  },
  {
   "cell_type": "code",
   "execution_count": 9,
   "id": "1ccde48e-1d02-4650-9a64-c7ecbc8a5786",
   "metadata": {},
   "outputs": [
    {
     "name": "stdout",
     "output_type": "stream",
     "text": [
      "(6, -3, -6, 10, 0, -9, 0.5, 2, 0, -7, -9, 5, 0, 0, -6, 0) <class 'tuple'>\n",
      "[6, -3, -6, 10, 0, -9, 0.5, 2, 0, -7, -9, 5, 0, 0, -6, 0] <class 'list'>\n",
      "[6, -3, -6, 10, 0, -9, 0.5, 2, 0, -7, -9, 5]\n"
     ]
    }
   ],
   "source": [
    "print(L,type(L)) #It is a tuple\n",
    "M=list(L) #Cast into a list\n",
    "print(M,type(M)) #Now its a list.\n",
    "\n",
    "###\n",
    "\n",
    "M=M[:-4] #Only from first to -4th elemnt. (So the 4th-last)\n",
    "print(M)"
   ]
  },
  {
   "cell_type": "markdown",
   "id": "ab4bc6f0-bf8d-4bd5-874d-e13c1d201821",
   "metadata": {},
   "source": [
    "**(C)** (1 P) In this task, we would like to get information about the sign of the values. \n",
    "\n",
    "Write a code which counts the number of negative values in **M**. "
   ]
  },
  {
   "cell_type": "code",
   "execution_count": 10,
   "id": "e00009a1-1989-4efa-98c6-d6d017d5b08b",
   "metadata": {},
   "outputs": [
    {
     "name": "stdout",
     "output_type": "stream",
     "text": [
      "There are 5 negative numbers in M\n"
     ]
    }
   ],
   "source": [
    "neg_counter=0\n",
    "\n",
    "for x in M:\n",
    "    if x<0:\n",
    "        neg_counter+=1\n",
    "\n",
    "print(f'There are {neg_counter} negative numbers in M')"
   ]
  },
  {
   "cell_type": "markdown",
   "id": "cba4f66a-5f56-464a-815a-2e116ea09dac",
   "metadata": {},
   "source": [
    "# Problem 2: Writing in a pythonic way (2 P)"
   ]
  },
  {
   "cell_type": "markdown",
   "id": "e92b7a96-b8cb-438e-ba7d-ec7b9ee776e8",
   "metadata": {},
   "source": [
    "**(A)** (1 P) Create the following lists using Python:\n",
    "\n",
    "- **Divided by 3**: Create a list `T_0` where each element is the result of dividing the first 30 integers by 3.\n",
    "\n",
    "- **Squared multiples of 3**: Create a list `T_1` that contains the squares of the first 30 integers, but only keep the numbers which are divisible by 3.\n",
    "  \n",
    "- **Even numbers greater than 10**: Create a list `T_2` that contains only the even numbers from the first 30 integers, but only include numbers greater than 10.\n"
   ]
  },
  {
   "cell_type": "code",
   "execution_count": 11,
   "id": "ef66ac51-a3a5-43ae-9f55-c52e9cc1c588",
   "metadata": {},
   "outputs": [
    {
     "name": "stdout",
     "output_type": "stream",
     "text": [
      "[0.0, 0.3333333333333333, 0.6666666666666666, 1.0, 1.3333333333333333, 1.6666666666666667, 2.0, 2.3333333333333335, 2.6666666666666665, 3.0, 3.3333333333333335, 3.6666666666666665, 4.0, 4.333333333333333, 4.666666666666667, 5.0, 5.333333333333333, 5.666666666666667, 6.0, 6.333333333333333, 6.666666666666667, 7.0, 7.333333333333333, 7.666666666666667, 8.0, 8.333333333333334, 8.666666666666666, 9.0, 9.333333333333334, 9.666666666666666]\n",
      "[0, 9, 36, 81, 144, 225, 324, 441, 576, 729]\n",
      "[12, 14, 16, 18, 20, 22, 24, 26, 28]\n"
     ]
    }
   ],
   "source": [
    "T_0=[i/3 for i in range(30)]\n",
    "T_1=[i**2 for i in range(30) if i%3==0]\n",
    "T_2=[i for i in range(30) if i%2==0 and i>10]\n",
    "\n",
    "print(f'{T_0}\\n{T_1}\\n{T_2}')"
   ]
  },
  {
   "cell_type": "markdown",
   "id": "e7451c7e-7372-468a-9af1-6b68cdd36e3f",
   "metadata": {},
   "source": [
    "**(B)** (1 P) The kinetic energy of a car is given by \n",
    "\n",
    "$$E_k(t) = \\frac{1}{2} m v^2(t)$$\n",
    "\n",
    "where the mass of the car  $m$ = 1200 kg and the velocity is given by $v(t) = 2 \\cdot t$ (in m/s). We assume that `T_0` is given in seconds.\n",
    "\n",
    "Calculate the exact kinetic energy **(in kJ!)** $E_{\\text{kin}}$ for each time value in the list `T_0`. Round the results to two decimal places and print each value in a new line.\n",
    "\n"
   ]
  },
  {
   "cell_type": "code",
   "execution_count": 12,
   "id": "20502acc-7f4d-4b9c-b32a-cd9879ea2608",
   "metadata": {},
   "outputs": [
    {
     "name": "stdout",
     "output_type": "stream",
     "text": [
      "E_kin(0.0s) = 0.0 kJ\n",
      "E_kin(0.3s) = 0.27 kJ\n",
      "E_kin(0.7s) = 1.07 kJ\n",
      "E_kin(1.0s) = 2.4 kJ\n",
      "E_kin(1.3s) = 4.27 kJ\n",
      "E_kin(1.7s) = 6.67 kJ\n",
      "E_kin(2.0s) = 9.6 kJ\n",
      "E_kin(2.3s) = 13.07 kJ\n",
      "E_kin(2.7s) = 17.07 kJ\n",
      "E_kin(3.0s) = 21.6 kJ\n",
      "E_kin(3.3s) = 26.67 kJ\n",
      "E_kin(3.7s) = 32.27 kJ\n",
      "E_kin(4.0s) = 38.4 kJ\n",
      "E_kin(4.3s) = 45.07 kJ\n",
      "E_kin(4.7s) = 52.27 kJ\n",
      "E_kin(5.0s) = 60.0 kJ\n",
      "E_kin(5.3s) = 68.27 kJ\n",
      "E_kin(5.7s) = 77.07 kJ\n",
      "E_kin(6.0s) = 86.4 kJ\n",
      "E_kin(6.3s) = 96.27 kJ\n",
      "E_kin(6.7s) = 106.67 kJ\n",
      "E_kin(7.0s) = 117.6 kJ\n",
      "E_kin(7.3s) = 129.07 kJ\n",
      "E_kin(7.7s) = 141.07 kJ\n",
      "E_kin(8.0s) = 153.6 kJ\n",
      "E_kin(8.3s) = 166.67 kJ\n",
      "E_kin(8.7s) = 180.27 kJ\n",
      "E_kin(9.0s) = 194.4 kJ\n",
      "E_kin(9.3s) = 209.07 kJ\n",
      "E_kin(9.7s) = 224.27 kJ\n"
     ]
    }
   ],
   "source": [
    "# Params\n",
    "mass= 1200 #kg\n",
    "\n",
    "# Functions\n",
    "def vel(t):\n",
    "    return 2*t\n",
    "def E_kin(t):\n",
    "    Ek=0.5 * mass * (vel(t)**2) / 1000 # kJ\n",
    "    return round(Ek,2)\n",
    "\n",
    "\n",
    "for time in T_0:\n",
    "    print(f'E_kin({round(time,1)}s) = {E_kin(time)} kJ')\n"
   ]
  },
  {
   "cell_type": "code",
   "execution_count": null,
   "id": "d273b233",
   "metadata": {},
   "outputs": [],
   "source": []
  }
 ],
 "metadata": {
  "kernelspec": {
   "display_name": "Python 3",
   "language": "python",
   "name": "python3"
  },
  "language_info": {
   "codemirror_mode": {
    "name": "ipython",
    "version": 3
   },
   "file_extension": ".py",
   "mimetype": "text/x-python",
   "name": "python",
   "nbconvert_exporter": "python",
   "pygments_lexer": "ipython3",
   "version": "3.12.0"
  }
 },
 "nbformat": 4,
 "nbformat_minor": 5
}
