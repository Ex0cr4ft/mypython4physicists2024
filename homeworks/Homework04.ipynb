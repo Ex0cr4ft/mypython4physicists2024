{
 "cells": [
  {
   "cell_type": "markdown",
   "id": "d975149c-c26e-45fc-a4be-e9096f6e5c69",
   "metadata": {},
   "source": [
    "# Homework 4"
   ]
  },
  {
   "cell_type": "markdown",
   "id": "7f10268d-83dc-4af1-8b78-935fdae2351d",
   "metadata": {},
   "source": [
    "## Name:"
   ]
  },
  {
   "cell_type": "markdown",
   "id": "6ecac8f5-2cbf-4ba5-b767-6a3e5b16573e",
   "metadata": {},
   "source": [
    "# Problem 1: Hillas criterion (5 P)"
   ]
  },
  {
   "cell_type": "markdown",
   "id": "9ad516d1-0c52-43f2-8386-c1fba4e37528",
   "metadata": {},
   "source": [
    "Cosmic rays are high-energy particles (mostly protons, electrons and ionised atoms) that are accelerated in astrophysical sources. Extragalactic cosmic rays are very-high-energy particles (> $10^{18}$ eV) that are assumed to come from beyond the Milky Way galaxy. \n",
    "\n",
    "While their origin is still unclear, some promising candidates for accelerating particles to such high energies could be gamma-ray bursts or active galactic nuclei. Gamma ray bursts are short, very intense flashes of gamma rays that, for a short period, outshine the entire observable universe. Active galactic nuclei (AGN) are regions at the centers of galaxies where supermassive black holes are actively accreting matter. Some of them form relativistic jets.\n",
    "\n",
    "The Hillas criterion can help to constrain possible candidates for cosmic rays. If a particle escapes from the region where it was accelerated, it will no longer be able to gain additional energy. This condition sets a limit on the particle's maximum energy, which can be described by the following expression:\n",
    "\n",
    "$$E_{max} [erg] = ZqBL\\beta $$\n",
    "\n",
    "with the values in **CGS units (centimetre–gram–second system of units)**:\n",
    "- $Z$: Atomic number of the particle (e.g. for proton Z=1)\n",
    "- $q$: Charge of the particle in statC\n",
    "- $B$: Magnetic field in the source in G\n",
    "- $L$: Size of the acceleration region in cm\n",
    "- $β$: Efficiency of the accelerator (it can reach ∼ 1 in the most extreme environments)\n",
    "\n",
    "This criterion comes from the fact that for a particle to be accelerated to a given energy, its Larmor radius must be less than the size of the accelerating region. The Larmor radius is the radius of circular motion (gyration) of charged particles in a magnetic field. Once the Larmor radius of the particle is greater than the size of the accelerating region, it escapes and does not gain any more energy.\n",
    "\n",
    "\n",
    "**(A)** (2 P) Write a function ``calculate_maximum_energy()`` that calculates the maximum energy of a particle based on the input values for $B, L, β, q$, and $Z$. The function should return $E_{max}$​ in electronvolts (eV). Set $Z$=1 and $q = 4.8 \\cdot 10^{-10}$ statC for protons as a default value and add docstrings.\n",
    "\n",
    "Test this function using the following values: \n",
    "- $B$ = $10^{14}$ G\n",
    "- $L$ = $10^{5}$ cm\n",
    "- $\\beta$ = 1\n",
    "\n",
    "**Regarding the units:** There’s no need to convert the units of the given values. Simply insert them as they are into the equation, and the result will automatically be in erg. The only conversion needed at the end is **from erg to eV by multiplying the result by 6.24e11**."
   ]
  },
  {
   "cell_type": "code",
   "execution_count": null,
   "id": "2fcb86e8-5172-443c-bf45-06b3e54c029a",
   "metadata": {},
   "outputs": [],
   "source": [
    "#Your code here"
   ]
  },
  {
   "cell_type": "markdown",
   "id": "f59374ec-aa95-47d1-9149-47d5f949f055",
   "metadata": {},
   "source": [
    "**(B)** (3 P) Write a second function ``check_Hillas_criterion()`` that takes the following lists  \n",
    "- ``B_fields`` $(B)$\n",
    "- ``L_values`` $(L)$\n",
    "- ``beta_values`` $(\\beta)$\n",
    "\n",
    "and calculates the maximum energy $E_{max}$ for each combination using the ``calculate_maximum_energy()`` function. The function should return a list of combinations (as tuples) that lead to $E_{max}$ in the range of extragalactic cosmic rays (~$10^{18}$ - $10^{20}$ eV). Add doctrings to your function. "
   ]
  },
  {
   "cell_type": "code",
   "execution_count": null,
   "id": "9ff715d1-3cb0-45be-9c15-efe0c6724d57",
   "metadata": {},
   "outputs": [],
   "source": [
    "B_fields = [1e-3, 1e-2, 1, 1e15]  # Magnetic field values (Gauß)\n",
    "L_values = [1e5, 1e11, 1e17, 1e20]  # Region sizes (cm)\n",
    "beta_values = [0.05, 0.7, 1.0]  # Efficiencies of the accelerator"
   ]
  },
  {
   "cell_type": "code",
   "execution_count": null,
   "id": "a8598062-ef29-4854-8ec6-7eac083348fc",
   "metadata": {},
   "outputs": [],
   "source": [
    "#Your code here "
   ]
  }
 ],
 "metadata": {
  "kernelspec": {
   "display_name": "Python 3 (ipykernel)",
   "language": "python",
   "name": "python3"
  },
  "language_info": {
   "codemirror_mode": {
    "name": "ipython",
    "version": 3
   },
   "file_extension": ".py",
   "mimetype": "text/x-python",
   "name": "python",
   "nbconvert_exporter": "python",
   "pygments_lexer": "ipython3",
   "version": "3.11.5"
  }
 },
 "nbformat": 4,
 "nbformat_minor": 5
}
