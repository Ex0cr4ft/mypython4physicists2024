{
 "cells": [
  {
   "cell_type": "markdown",
   "id": "0c8050ae-e6f1-4b1e-8616-cfe28b0dca6d",
   "metadata": {},
   "source": [
    "# Homework 3"
   ]
  },
  {
   "cell_type": "markdown",
   "id": "1d47ffee-8c3d-4d30-b6c7-ff9f52da2dae",
   "metadata": {},
   "source": [
    "## Name:"
   ]
  },
  {
   "cell_type": "markdown",
   "id": "4e82f230-3e1a-47aa-987f-9d0394c0e524",
   "metadata": {},
   "source": [
    "## Problem 1: Colour code (3 P)"
   ]
  },
  {
   "cell_type": "markdown",
   "id": "4d6a454b-7a67-4825-9449-bad717b66749",
   "metadata": {},
   "source": [
    "You are provided with the following list, a secret code (``colour_code``). Only you know this code, and your task is to help your game partner guess it.\n",
    "\n",
    "Your partner will make their first attempt to guess the code, represented by the list ``guess_1``.\n",
    "\n",
    "**(A)** Your task is to write a code that goes through each colour in the guess and compares it with the colour code. **(2 P)**\n",
    "\n",
    "- If the color is in your secret color code and at the correct position, print a message indicating that the color and position are correct.\n",
    "\n",
    "- If the color is in the colour code but in the wrong position, print a message indicating that the color is correct but in the wrong position.\n",
    "\n",
    "(We don’t want to give away too much information by printing feedback if neither condition applies.)"
   ]
  },
  {
   "cell_type": "code",
   "execution_count": null,
   "id": "1dcfef64-566c-456f-b8fd-ad7f7ed7b06e",
   "metadata": {},
   "outputs": [],
   "source": [
    "colour_code = ['Red', 'Orange', 'Blue', 'Green']"
   ]
  },
  {
   "cell_type": "code",
   "execution_count": null,
   "id": "0b547b06-02c4-45a4-8844-749d46dd94ed",
   "metadata": {},
   "outputs": [],
   "source": [
    "guess_1 = ['Green', 'Yellow', 'Blue', 'Purple']"
   ]
  },
  {
   "cell_type": "code",
   "execution_count": null,
   "id": "537d47a6-6f53-4554-8b02-5732adec706e",
   "metadata": {},
   "outputs": [],
   "source": [
    "#Your code here"
   ]
  },
  {
   "cell_type": "markdown",
   "id": "dafc4d5b-e9d5-4f60-a338-0ae586ff4358",
   "metadata": {},
   "source": [
    "**(B)** Your partner is lucky and guesses the colour combination on the second attempt. In this case, add a part to your code that tells your game partner when they have guessed everything correctly. **(1P)**"
   ]
  },
  {
   "cell_type": "code",
   "execution_count": null,
   "id": "957086a3-20ef-41f7-a990-b031d8e22647",
   "metadata": {},
   "outputs": [],
   "source": [
    "guess_2 = ['Red', 'Orange', 'Blue', 'Green']"
   ]
  },
  {
   "cell_type": "code",
   "execution_count": null,
   "id": "62124f53-360a-46e4-a7dc-b843841a9be1",
   "metadata": {},
   "outputs": [],
   "source": [
    "#Your code here"
   ]
  },
  {
   "cell_type": "markdown",
   "id": "9bcd8f88-f9cf-4d74-8a56-bf67cec9bf9f",
   "metadata": {},
   "source": [
    "## Problem 2: Vector maths with Python (2 P)"
   ]
  },
  {
   "cell_type": "markdown",
   "id": "0640203e-a1b7-4a4f-a4c3-44754bd27ce7",
   "metadata": {},
   "source": [
    "The following vectors are given: \n",
    "$$\\vec{A} = -1 \\vec{e_{x}} + 9  \\vec{e_{y}} - 1 \\vec{e_{z}}$$\n",
    "$$\\vec{B} = 3 \\vec{e_{x}} - 5 \\vec{e_{z}}$$\n",
    "$$\\vec{C} = - 2  \\vec{e_{y}} + 4 \\vec{e_{z}}$$\n",
    "\n",
    "**(A)**  Write two general functions to calculate: **(1 P)**\n",
    "\n",
    "- The sum of two vectors. Test this function by calculating the sum of **A** and **B** \n",
    "- The scalar product of two vectors. Test the function by calculating the scalar product of **B** and **C**\n",
    "\n",
    "without using any libraries. "
   ]
  },
  {
   "cell_type": "code",
   "execution_count": null,
   "id": "82d28802-0562-44aa-b601-c03553b65911",
   "metadata": {},
   "outputs": [],
   "source": [
    "#Your code here"
   ]
  },
  {
   "cell_type": "markdown",
   "id": "17d54392-5239-4756-85ff-3bdd2e8dd263",
   "metadata": {},
   "source": [
    "**(B)** Calculate the triple product of **A**, **B** and **C** using the function for the scalar product from task (A). The scalar triple product is defined as the dot product of one of the vectors with the cross product of the other two. **(1 P)**\n",
    "$$ \\mathbf{a}\\cdot(\\mathbf{b}\\times \\mathbf{c}) = {\\displaystyle {\\begin{bmatrix}a_{1}\\\\a_{2}\\\\a_{3}\\end{bmatrix}} \\cdot{\\begin{bmatrix}b_{2}c_{3}-c_{2}b_{3}\\\\b_{3}c_{1}-b_{1}c_{3}\\\\b_{1}c_{2}-b_{2}c_{1}\\end{bmatrix}}}$$\n"
   ]
  },
  {
   "cell_type": "code",
   "execution_count": null,
   "id": "dd7b4483-6eb9-4e04-afc5-57c31a90557a",
   "metadata": {},
   "outputs": [],
   "source": [
    "#Your code here"
   ]
  }
 ],
 "metadata": {
  "kernelspec": {
   "display_name": "Python 3 (ipykernel)",
   "language": "python",
   "name": "python3"
  },
  "language_info": {
   "codemirror_mode": {
    "name": "ipython",
    "version": 3
   },
   "file_extension": ".py",
   "mimetype": "text/x-python",
   "name": "python",
   "nbconvert_exporter": "python",
   "pygments_lexer": "ipython3",
   "version": "3.11.5"
  }
 },
 "nbformat": 4,
 "nbformat_minor": 5
}
