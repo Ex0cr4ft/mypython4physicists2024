{
 "cells": [
  {
   "cell_type": "markdown",
   "id": "0c8050ae-e6f1-4b1e-8616-cfe28b0dca6d",
   "metadata": {},
   "source": [
    "# Homework 3"
   ]
  },
  {
   "cell_type": "markdown",
   "id": "1d47ffee-8c3d-4d30-b6c7-ff9f52da2dae",
   "metadata": {},
   "source": [
    " Nils Huber"
   ]
  },
  {
   "cell_type": "markdown",
   "id": "4e82f230-3e1a-47aa-987f-9d0394c0e524",
   "metadata": {},
   "source": [
    "## Problem 1: Colour code (3 P)"
   ]
  },
  {
   "cell_type": "markdown",
   "id": "4d6a454b-7a67-4825-9449-bad717b66749",
   "metadata": {},
   "source": [
    "You are provided with the following list, a secret code (``colour_code``). Only you know this code, and your task is to help your game partner guess it.\n",
    "\n",
    "Your partner will make their first attempt to guess the code, represented by the list ``guess_1``.\n",
    "\n",
    "**(A)** Your task is to write a code that goes through each colour in the guess and compares it with the colour code. **(2 P)**\n",
    "\n",
    "- If the color is in your secret color code and at the correct position, print a message indicating that the color and position are correct.\n",
    "\n",
    "- If the color is in the colour code but in the wrong position, print a message indicating that the color is correct but in the wrong position.\n",
    "\n",
    "(We don’t want to give away too much information by printing feedback if neither condition applies.)"
   ]
  },
  {
   "cell_type": "code",
   "execution_count": 96,
   "id": "1dcfef64-566c-456f-b8fd-ad7f7ed7b06e",
   "metadata": {},
   "outputs": [],
   "source": [
    "colour_code = ['Red', 'Orange', 'Blue', 'Green']"
   ]
  },
  {
   "cell_type": "code",
   "execution_count": 97,
   "id": "0b547b06-02c4-45a4-8844-749d46dd94ed",
   "metadata": {},
   "outputs": [],
   "source": [
    "guess_1 = ['Green', 'Yellow', 'Blue', 'Purple']"
   ]
  },
  {
   "cell_type": "code",
   "execution_count": 98,
   "id": "537d47a6-6f53-4554-8b02-5732adec706e",
   "metadata": {},
   "outputs": [
    {
     "name": "stdout",
     "output_type": "stream",
     "text": [
      "The color Green is correct, but in wrong position!\n",
      "The color Blue and its position is correct!\n"
     ]
    }
   ],
   "source": [
    "def check(code,list):\n",
    "    for j,guess in enumerate(list):\n",
    "        for i, color in enumerate(code):\n",
    "            if guess==color:\n",
    "                if i==j:\n",
    "                    print('The color {} and its position is correct!'.format(guess))\n",
    "                else:\n",
    "                    print('The color {} is correct, but in wrong position!'.format(guess))\n",
    "\n",
    "###\n",
    "\n",
    "check(colour_code,guess_1)"
   ]
  },
  {
   "cell_type": "markdown",
   "id": "dafc4d5b-e9d5-4f60-a338-0ae586ff4358",
   "metadata": {},
   "source": [
    "**(B)** Your partner is lucky and guesses the colour combination on the second attempt. In this case, add a part to your code that tells your game partner when they have guessed everything correctly. **(1P)**"
   ]
  },
  {
   "cell_type": "code",
   "execution_count": 99,
   "id": "957086a3-20ef-41f7-a990-b031d8e22647",
   "metadata": {},
   "outputs": [],
   "source": [
    "guess_2 = ['Red', 'Orange', 'Blue', 'Green']"
   ]
  },
  {
   "cell_type": "code",
   "execution_count": 100,
   "id": "62124f53-360a-46e4-a7dc-b843841a9be1",
   "metadata": {},
   "outputs": [
    {
     "name": "stdout",
     "output_type": "stream",
     "text": [
      "The color Red and its position is correct!\n",
      "The color Orange and its position is correct!\n",
      "The color Blue and its position is correct!\n",
      "The color Green and its position is correct!\n",
      "Everything is correct!\n"
     ]
    }
   ],
   "source": [
    "def check(code,list):\n",
    "    correct=True\n",
    "    for j,guess in enumerate(list):\n",
    "        for i, color in enumerate(code):\n",
    "            if guess==color:\n",
    "                if i==j:\n",
    "                    print('The color {} and its position is correct!'.format(guess))\n",
    "                else:\n",
    "                    print('The color {} is correct, but in wrong position!'.format(guess))\n",
    "                    correct=False\n",
    "\n",
    "    if correct:\n",
    "        print('Everything is correct!')\n",
    "\n",
    "check(colour_code,guess_2)"
   ]
  },
  {
   "cell_type": "markdown",
   "id": "9bcd8f88-f9cf-4d74-8a56-bf67cec9bf9f",
   "metadata": {},
   "source": [
    "## Problem 2: Vector maths with Python (2 P)"
   ]
  },
  {
   "cell_type": "markdown",
   "id": "0640203e-a1b7-4a4f-a4c3-44754bd27ce7",
   "metadata": {},
   "source": [
    "The following vectors are given: \n",
    "$$\\vec{A} = -1 \\vec{e_{x}} + 9  \\vec{e_{y}} - 1 \\vec{e_{z}}$$\n",
    "$$\\vec{B} = 3 \\vec{e_{x}} - 5 \\vec{e_{z}}$$\n",
    "$$\\vec{C} = - 2  \\vec{e_{y}} + 4 \\vec{e_{z}}$$\n",
    "\n",
    "**(A)**  Write two general functions to calculate: **(1 P)**\n",
    "\n",
    "- The sum of two vectors. Test this function by calculating the sum of **A** and **B** \n",
    "- The scalar product of two vectors. Test the function by calculating the scalar product of **B** and **C**\n",
    "\n",
    "without using any libraries. "
   ]
  },
  {
   "cell_type": "code",
   "execution_count": 101,
   "id": "82d28802-0562-44aa-b601-c03553b65911",
   "metadata": {},
   "outputs": [
    {
     "name": "stdout",
     "output_type": "stream",
     "text": [
      "The sum of A and B is (2, 9, -6)\n",
      "The sclar product of B and C is -20\n"
     ]
    }
   ],
   "source": [
    "#Vectors as tuples\n",
    "\n",
    "A=(-1,9,-1)\n",
    "B=(3,0,-5)\n",
    "C=(0,-2,4)\n",
    "\n",
    "#Sum\n",
    "def vec_sum(x,y):\n",
    "    vec=[]\n",
    "    if len(x)!=len(y):\n",
    "        print('These vectors are of diffrent dimension!')\n",
    "        return\n",
    "    else:\n",
    "        for i in range(len(x)):\n",
    "            vec.append(x[i]+y[i])\n",
    "    return tuple(vec)\n",
    "\n",
    "#Scalar Product\n",
    "def scalar_product(x,y):\n",
    "    sum=0\n",
    "    if len(x)!=len(y):\n",
    "        print('These vectors are of diffrent dimension!')\n",
    "        return\n",
    "    else:\n",
    "        for i in range(len(x)):\n",
    "            sum+=x[i]*y[i]\n",
    "    return sum\n",
    "\n",
    "#Check\n",
    "\n",
    "print(f'The sum of A and B is {vec_sum(A,B)}')\n",
    "\n",
    "print(f'The sclar product of B and C is {scalar_product(B,C)}')\n",
    "\n"
   ]
  },
  {
   "cell_type": "markdown",
   "id": "17d54392-5239-4756-85ff-3bdd2e8dd263",
   "metadata": {},
   "source": [
    "**(B)** Calculate the triple product of **A**, **B** and **C** using the function for the scalar product from task (A). The scalar triple product is defined as the dot product of one of the vectors with the cross product of the other two. **(1 P)**\n",
    "$$ \\mathbf{a}\\cdot(\\mathbf{b}\\times \\mathbf{c}) = {\\displaystyle {\\begin{bmatrix}a_{1}\\\\a_{2}\\\\a_{3}\\end{bmatrix}} \\cdot{\\begin{bmatrix}b_{2}c_{3}-c_{2}b_{3}\\\\b_{3}c_{1}-b_{1}c_{3}\\\\b_{1}c_{2}-b_{2}c_{1}\\end{bmatrix}}}$$\n"
   ]
  },
  {
   "cell_type": "code",
   "execution_count": 102,
   "id": "dd7b4483-6eb9-4e04-afc5-57c31a90557a",
   "metadata": {},
   "outputs": [
    {
     "name": "stdout",
     "output_type": "stream",
     "text": [
      "The volume of the parallelepiped of A,B,C, is -92.0\n"
     ]
    }
   ],
   "source": [
    "#Since the cross product is definde for R3 we can savely define all vector tuples to have 3 entries.\n",
    "\n",
    "def levicivita(i,j,k):\n",
    "    return (i-j)*(j-k)*(k-i)/2\n",
    "\n",
    "def cross_product(a, b):\n",
    "    result = [0,0,0]\n",
    "    for i in range(3):\n",
    "        result[i] = sum(levicivita(i, j, k) * a[j] * b[k] for j in range(3) for k in range(3))\n",
    "    return tuple(result)\n",
    "\n",
    "def triple_product(x,y,z):\n",
    "    return scalar_product(x,cross_product(y,z))\n",
    "\n",
    "print(f'The volume of the parallelepiped of A,B,C, is {triple_product(A,B,C)}')"
   ]
  }
 ],
 "metadata": {
  "kernelspec": {
   "display_name": "Python 3",
   "language": "python",
   "name": "python3"
  },
  "language_info": {
   "codemirror_mode": {
    "name": "ipython",
    "version": 3
   },
   "file_extension": ".py",
   "mimetype": "text/x-python",
   "name": "python",
   "nbconvert_exporter": "python",
   "pygments_lexer": "ipython3",
   "version": "3.12.0"
  }
 },
 "nbformat": 4,
 "nbformat_minor": 5
}
