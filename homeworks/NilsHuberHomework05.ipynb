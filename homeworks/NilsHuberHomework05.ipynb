{
 "cells": [
  {
   "cell_type": "markdown",
   "id": "1afcf7f4-bf06-4183-80e6-7279f721bebb",
   "metadata": {},
   "source": [
    "# Homework 5"
   ]
  },
  {
   "cell_type": "markdown",
   "id": "84d25854-3480-402a-a8b4-df0e2510b3c1",
   "metadata": {},
   "source": [
    "## Name: Nils Huber"
   ]
  },
  {
   "cell_type": "markdown",
   "id": "fa76dd64-8859-4137-bd8e-258a906e72ec",
   "metadata": {},
   "source": [
    "# Problem 1: Lupus in Tabula"
   ]
  },
  {
   "cell_type": "markdown",
   "id": "af09d568-003a-495c-8e77-a1be40431a0d",
   "metadata": {},
   "source": [
    "Lupus in Tabula is a famous board game in which the players are villagers in a fictitious town infested by werewolfs. In the game, the werewolfs have to kill all the villagers, while the latter have to understand who among them is a werewolf, and kill them before they do the same with them.\n",
    "\n",
    "In this problem we will just very basically program a small lupus in Tabula with the basic characters\n",
    "\n",
    "### Step 1: define the Villager class (1.5 P)\n",
    "Create the Villager class with the attributes:\n",
    " - **name**: the name of the villager\n",
    " - **is_alive**: a boolean value that is True if the villager is alive and False if not\n",
    " \n",
    "The class must also have the following methods:\n",
    " - **get_name**: *getter_method* for the name\n",
    " - **still_alive**: *getter_method* for is_alive\n",
    " - **turn_dead**: method that turns the villager dead (checking if the villager is alive before)"
   ]
  },
  {
   "cell_type": "code",
   "execution_count": 232,
   "id": "ba50a96b-5852-4195-a107-390d03e70511",
   "metadata": {},
   "outputs": [],
   "source": [
    "class Villager:\n",
    "    def __init__(self, name):\n",
    "        \"\"\"\n",
    "        Initializes a Villager with a name and sets the is_alive attribute to True.\n",
    "        \"\"\"\n",
    "        self.name = name\n",
    "        self.is_alive = True\n",
    "\n",
    "    def get_name(self):\n",
    "        \"\"\"\n",
    "        getter_method for the name\n",
    "        \"\"\"\n",
    "        return self.name\n",
    "\n",
    "    def still_alive(self):\n",
    "        \"\"\"\n",
    "        getter_method for is_alive \n",
    "\n",
    "        \"\"\"\n",
    "        return self.is_alive\n",
    "\n",
    "    def turn_dead(self):\n",
    "        \"\"\"\n",
    "        method that turns the villager dead \n",
    "        (checking if the villager is alive before)\n",
    "        \"\"\"\n",
    "        if self.is_alive:\n",
    "            self.is_alive = False\n",
    "        else:\n",
    "            print(f\"{self.name} is already dead!\")"
   ]
  },
  {
   "cell_type": "markdown",
   "id": "73dcb624-8d67-452d-aba2-587b2233d95f",
   "metadata": {},
   "source": [
    "Now create a villager whose name is Gunther and check if he is still alive"
   ]
  },
  {
   "cell_type": "code",
   "execution_count": 233,
   "id": "f1256964-fe76-4561-973d-23d1cd8bb1af",
   "metadata": {},
   "outputs": [
    {
     "name": "stdout",
     "output_type": "stream",
     "text": [
      "Gunther is alive.\n"
     ]
    }
   ],
   "source": [
    "gunther=Villager('Gunther')\n",
    "if gunther.still_alive():\n",
    "    print(f'{gunther.get_name()} is alive.')"
   ]
  },
  {
   "cell_type": "markdown",
   "id": "590818da-2317-4aa3-97e4-982cfc0d0cd6",
   "metadata": {},
   "source": [
    "### Step 2: define the Village class (1.5 P)\n",
    "Create the Village class with the attributes:\n",
    " - **name**: the name of the village\n",
    " - **villagers**: a list with all the villagers in the village\n",
    " - **N_alive_villagers**: the number of alive villagers\n",
    " - **N_dead_villagers**: the number of dead villagers\n",
    " \n",
    "The class must also have the following methods:\n",
    " - **get_name**: *getter_method* for the name\n",
    " - **get_villagers**: *getter_method* for the list of villagers\n",
    " - **get_N_alive**: *getter_method* for the number of alive villagers\n",
    " - **get_N_dead**: *getter_method* for the number of dead villagers\n",
    " - **add_villager**: method that adds a villager to the village checking if it isn't already there (remember to update the attributes)\n",
    " - **update_village** method that updates N_alive_villagers and N_dead_villagers, in case things changed"
   ]
  },
  {
   "cell_type": "code",
   "execution_count": 234,
   "id": "1a776992-2b90-4d93-95f0-98ca7b89159b",
   "metadata": {},
   "outputs": [],
   "source": [
    "class Village:\n",
    "    def __init__(self, name):\n",
    "        \"\"\"\n",
    "        Initializes a Village with a name and empty villagers list.\n",
    "        \"\"\"\n",
    "        self.name = name\n",
    "        self.villagers = []\n",
    "        self.N_alive_villagers = 0\n",
    "        self.N_dead_villagers = 0\n",
    "\n",
    "    def get_name(self):\n",
    "        \"\"\"\n",
    "        getter_method for the name of the village.\n",
    "        \"\"\"\n",
    "        return self.name\n",
    "\n",
    "    def get_villagers(self):\n",
    "        \"\"\"\n",
    "        getter_method for the list of villagers.\n",
    "        \"\"\"\n",
    "        return self.villagers\n",
    "\n",
    "    def get_N_alive(self):\n",
    "        \"\"\"\n",
    "        getter_method for the number of alive villagers.\n",
    "        \"\"\"\n",
    "        return self.N_alive_villagers\n",
    "\n",
    "    def get_N_dead(self):\n",
    "        \"\"\"\n",
    "        getter_method for the number of dead villagers.\n",
    "        \"\"\"\n",
    "        return self.N_dead_villagers\n",
    "\n",
    "    def add_villager(self, villager):\n",
    "        \"\"\"\n",
    "        Adds a villager to the village if they are not already in it.\n",
    "        Updates the number of alive villagers accordingly.\n",
    "        \"\"\"\n",
    "        if villager not in self.villagers:\n",
    "            self.villagers.append(villager)\n",
    "            self.update_village()\n",
    "\n",
    "    def update_village(self):\n",
    "        \"\"\"\n",
    "        Updates the counts of alive and dead villagers.\n",
    "        \"\"\"\n",
    "        self.N_alive_villagers = sum(1 for villager in self.villagers if villager.still_alive())\n",
    "        self.N_dead_villagers = len(self.villagers) - self.N_alive_villagers"
   ]
  },
  {
   "cell_type": "markdown",
   "id": "f87682bf-bd9a-4429-a865-3163c0c6bb55",
   "metadata": {},
   "source": [
    "Now create a village whose name is Hattingen, add Gunther to Hattingen, and check how many people are alive in Hattingen"
   ]
  },
  {
   "cell_type": "code",
   "execution_count": 235,
   "id": "be7eedf5",
   "metadata": {},
   "outputs": [
    {
     "name": "stdout",
     "output_type": "stream",
     "text": [
      "In Hattingen there is 1 villager alive.\n"
     ]
    }
   ],
   "source": [
    "hattingen=Village('Hattingen')\n",
    "hattingen.add_villager(gunther)\n",
    "\n",
    "def number(village=Village,alive=True) -> str:\n",
    "    if alive:\n",
    "        n_alive=village.get_N_alive()\n",
    "    else:\n",
    "        n_alive=village.get_N_dead()\n",
    "    return f\"In {hattingen.get_name()} there {'is' if n_alive == 1 else 'are'} {n_alive} villager{'s' if n_alive!=1 else ''} {'alive' if alive else 'dead'}.\"\n",
    "    \n",
    "\n",
    "print(number(hattingen))"
   ]
  },
  {
   "cell_type": "markdown",
   "id": "3001818c-5760-4421-9600-71385b2d8821",
   "metadata": {},
   "source": [
    "### Step 3: define the Werewolf class (2 P)\n",
    "Create the Werewolf class that inherits from the Villager class and with the following additional attributes:\n",
    " - **village**: the Village object of which the werewolf will be part (add the wolf to this village automatically)\n",
    " \n",
    "The class must also have the following additional methods:\n",
    " - **get_village**: *getter_method* for the village of which the warewolf is part\n",
    " - **kill**: method that kills a specific villager. The werewolf must be still alive to be able to kill. The villager must be still alive and in the same village of the werewolf. Remember that the attributes in the village must be updated. Try to use all the possible methods that you already defined."
   ]
  },
  {
   "cell_type": "code",
   "execution_count": 236,
   "id": "7166737d-5087-4f3d-9365-c8dce2b22a0b",
   "metadata": {},
   "outputs": [],
   "source": [
    "class Werewolf(Villager):\n",
    "    def __init__(self, name, village):\n",
    "        \"\"\"\n",
    "        Initializes a Werewolf with a name and a village. Adds the werewolf to the village automatically.\n",
    "        \"\"\"\n",
    "        super().__init__(name)\n",
    "        self.village = village\n",
    "        self.village.add_villager(self)\n",
    "\n",
    "    def get_village(self):\n",
    "        \"\"\"\n",
    "        getter_method for the village the werewolf belongs to.\n",
    "        \"\"\"\n",
    "        return self.village\n",
    "\n",
    "    def kill(self, villager):\n",
    "        \"\"\"\n",
    "        Allows the werewolf to kill a villager.\n",
    "        Conditions:\n",
    "            - The werewolf must be alive.\n",
    "            - The villager must be alive.\n",
    "            - The villager must be in the same village as the werewolf.\n",
    "        \"\"\"\n",
    "        if not self.still_alive():\n",
    "            print(f\"{self.get_name()} is dead!\")\n",
    "            return\n",
    "        \n",
    "        elif not villager.still_alive():\n",
    "            print(f\"{villager.get_name()} is already dead!\")\n",
    "            return\n",
    "        \n",
    "        elif villager not in self.village.get_villagers():\n",
    "            print(f\"{villager.get_name()} is not part of the same village as {self.get_name()}!\")\n",
    "            return\n",
    "\n",
    "        villager.turn_dead()\n",
    "        self.village.update_village()\n",
    "        print(f\"{self.get_name()} has killed {villager.get_name()}!\")"
   ]
  },
  {
   "cell_type": "markdown",
   "id": "ba2b097a-9846-4694-8674-65515f36bdc2",
   "metadata": {},
   "source": [
    "Now create a warewolf in Hattingen whose name is Sven. Let Sven kill Gunther, and check how many people are alive and dead in Hattingen"
   ]
  },
  {
   "cell_type": "code",
   "execution_count": 237,
   "id": "dc3bda71-a680-45c0-be60-5d50fbaf8a83",
   "metadata": {},
   "outputs": [
    {
     "name": "stdout",
     "output_type": "stream",
     "text": [
      "Sven has killed Gunther!\n",
      "In Hattingen there is 1 villager alive.\n",
      "In Hattingen there is 1 villager dead.\n"
     ]
    }
   ],
   "source": [
    "sven=Werewolf('Sven',hattingen)\n",
    "sven.kill(gunther)\n",
    "print(f'{number(hattingen)}\\n{number(hattingen,alive=False)}')"
   ]
  },
  {
   "cell_type": "markdown",
   "id": "43e66336-9246-4631-afde-894a9f6cbf28",
   "metadata": {},
   "source": [
    "The problem ends here. This is a very basic structure. If you have time and you want to, we would encourage you to add characters of Lupus in Tabula and to test the various interactions (but still to be clear, you don't have to). If you want to, you can also send us what you created."
   ]
  },
  {
   "cell_type": "code",
   "execution_count": null,
   "id": "536e6653-8acf-4662-9557-73076d966037",
   "metadata": {},
   "outputs": [
    {
     "name": "stdout",
     "output_type": "stream",
     "text": [
      "In Hattingen there are 7 villagers alive.\n",
      "In Hattingen there are 0 villagers dead.\n",
      "\n",
      "Alex sees that John is Not a Werewolf.\n",
      "John has set Alex as their revenge target.\n",
      "Sven has killed Gunther!\n",
      "\n",
      "In Hattingen there are 6 villagers alive.\n",
      "In Hattingen there is 1 villager dead.\n",
      "\n",
      "Bea is killed by the village.\n",
      "\n",
      "In Hattingen there are 5 villagers alive.\n",
      "In Hattingen there are 2 villagers dead.\n",
      "\n",
      "Alex sees that Sven is Werewolf.\n",
      "John has set Alex as their revenge target.\n",
      "Sven has killed Kurt!\n",
      "\n",
      "In Hattingen there are 4 villagers alive.\n",
      "In Hattingen there are 3 villagers dead.\n",
      "\n",
      "Alex is killed by the village.\n",
      "\n",
      "In Hattingen there are 3 villagers alive.\n",
      "In Hattingen there are 4 villagers dead.\n",
      "\n",
      "John has set Sven as their revenge target.\n",
      "John takes revenge on Sven!\n",
      "Sven has killed John!\n",
      "Maja\n"
     ]
    }
   ],
   "source": [
    "# Seer role\n",
    "class Seer(Villager):\n",
    "    def __init__(self, name, village):\n",
    "        super().__init__(name)\n",
    "        self.village = village\n",
    "        self.village.add_villager(self)\n",
    "\n",
    "    def get_village(self):\n",
    "        \"\"\"\n",
    "        getter_method for the village the werewolf belongs to.\n",
    "        \"\"\"\n",
    "        return self.village\n",
    "\n",
    "    def see(self, villager=Villager):\n",
    "        if not self.still_alive():\n",
    "            print(f\"{self.get_name()} is dead!\")\n",
    "            return\n",
    "        elif villager in self.village.get_villagers():\n",
    "            role = \"Werewolf\" if isinstance(villager, Werewolf) else \"Not a Werewolf\"\n",
    "            print(f\"{self.get_name()} sees that {villager.get_name()} is {role}.\")\n",
    "        else:\n",
    "            print(f\"{villager.get_name()} is not in {self.get_village().get_name()}.\")\n",
    "\n",
    "# Hunter role\n",
    "class Hunter(Villager):\n",
    "    def __init__(self, name, village=Village):\n",
    "        super().__init__(name)\n",
    "        self.village = village\n",
    "        self.village.add_villager(self)\n",
    "        self.revenge_target = None\n",
    "\n",
    "    def set_revenge_target(self, villager=Villager):\n",
    "        if not self.still_alive():\n",
    "            print(f\"{self.get_name()} is dead.\")\n",
    "            return\n",
    "        elif villager in self.village.get_villagers():\n",
    "            self.revenge_target = villager\n",
    "            print(f\"{self.get_name()} has set {villager.get_name()} as their revenge target.\")\n",
    "        else:\n",
    "            print(f\"{villager.get_name()} is not in {self.get_village().get_name()}.\")\n",
    "\n",
    "    def turn_dead(self):\n",
    "        if self.still_alive():\n",
    "            super().turn_dead()\n",
    "            if self.revenge_target and self.revenge_target.still_alive():\n",
    "                print(f\"{self.get_name()} takes revenge on {self.revenge_target.get_name()}!\")\n",
    "                self.revenge_target.turn_dead()\n",
    "                self.village.update_village()\n",
    "\n",
    "\n",
    "###\n",
    "\n",
    "alex=Seer('Alex',hattingen)\n",
    "john=Hunter('John',hattingen)\n",
    "\n",
    "bea=Villager('Bea')\n",
    "maja=Villager('Maja')\n",
    "kurt=Villager('Kurt')\n",
    "hattingen.add_villager(bea)\n",
    "hattingen.add_villager(maja)\n",
    "hattingen.add_villager(kurt)\n",
    "\n",
    "gunther.is_alive=True # Set gunther alive again.\n",
    "hattingen.update_village()\n",
    "\n",
    "\n",
    "### Possible round\n",
    "#Night 1\n",
    "print(f'{number(hattingen)}\\n{number(hattingen,alive=False)}\\n')\n",
    "alex.see(john)\n",
    "john.set_revenge_target(alex)\n",
    "sven.kill(gunther)\n",
    "print(f'\\n{number(hattingen)}\\n{number(hattingen,alive=False)}\\n')\n",
    "#Day 1\n",
    "bea.is_alive=False  #bea is killed by the villagers\n",
    "hattingen.update_village()\n",
    "print('Bea is killed by the village.')\n",
    "#Night 2\n",
    "print(f'\\n{number(hattingen)}\\n{number(hattingen,alive=False)}\\n')\n",
    "alex.see(sven)\n",
    "john.set_revenge_target(alex)\n",
    "sven.kill(kurt)\n",
    "print(f'\\n{number(hattingen)}\\n{number(hattingen,alive=False)}\\n')\n",
    "#Day 2\n",
    "#   Alex claims that Sven is werewolf.\n",
    "alex.is_alive=False     #alex is killed by the village.\n",
    "hattingen.update_village()\n",
    "print('Alex is killed by the village.')\n",
    "#Night 3\n",
    "print(f'\\n{number(hattingen)}\\n{number(hattingen,alive=False)}\\n')\n",
    "john.set_revenge_target(sven)\n",
    "sven.kill(john)\n",
    "\n",
    "print('Maja is a villager and the last one alive, so the vilage wins!')\n"
   ]
  }
 ],
 "metadata": {
  "kernelspec": {
   "display_name": "Python 3",
   "language": "python",
   "name": "python3"
  },
  "language_info": {
   "codemirror_mode": {
    "name": "ipython",
    "version": 3
   },
   "file_extension": ".py",
   "mimetype": "text/x-python",
   "name": "python",
   "nbconvert_exporter": "python",
   "pygments_lexer": "ipython3",
   "version": "3.12.0"
  }
 },
 "nbformat": 4,
 "nbformat_minor": 5
}
