{
 "cells": [
  {
   "cell_type": "markdown",
   "id": "d975149c-c26e-45fc-a4be-e9096f6e5c69",
   "metadata": {},
   "source": [
    "# Homework 4"
   ]
  },
  {
   "cell_type": "markdown",
   "id": "7f10268d-83dc-4af1-8b78-935fdae2351d",
   "metadata": {},
   "source": [
    "## Name: Nils Huber"
   ]
  },
  {
   "cell_type": "markdown",
   "id": "6ecac8f5-2cbf-4ba5-b767-6a3e5b16573e",
   "metadata": {},
   "source": [
    "# Problem 1: Hillas criterion (5 P)"
   ]
  },
  {
   "cell_type": "markdown",
   "id": "9ad516d1-0c52-43f2-8386-c1fba4e37528",
   "metadata": {},
   "source": [
    "Cosmic rays are high-energy particles (mostly protons, electrons and ionised atoms) that are accelerated in astrophysical sources. Extragalactic cosmic rays are very-high-energy particles (> $10^{18}$ eV) that are assumed to come from beyond the Milky Way galaxy. \n",
    "\n",
    "While their origin is still unclear, some promising candidates for accelerating particles to such high energies could be gamma-ray bursts or active galactic nuclei. Gamma ray bursts are short, very intense flashes of gamma rays that, for a short period, outshine the entire observable universe. Active galactic nuclei (AGN) are regions at the centers of galaxies where supermassive black holes are actively accreting matter. Some of them form relativistic jets.\n",
    "\n",
    "The Hillas criterion can help to constrain possible candidates for cosmic rays. If a particle escapes from the region where it was accelerated, it will no longer be able to gain additional energy. This condition sets a limit on the particle's maximum energy, which can be described by the following expression:\n",
    "\n",
    "$$E_{max} [erg] = ZqBL\\beta $$\n",
    "\n",
    "with the values in **CGS units (centimetre–gram–second system of units)**:\n",
    "- $Z$: Atomic number of the particle (e.g. for proton Z=1)\n",
    "- $q$: Charge of the particle in statC\n",
    "- $B$: Magnetic field in the source in G\n",
    "- $L$: Size of the acceleration region in cm\n",
    "- $β$: Efficiency of the accelerator (it can reach ∼ 1 in the most extreme environments)\n",
    "\n",
    "This criterion comes from the fact that for a particle to be accelerated to a given energy, its Larmor radius must be less than the size of the accelerating region. The Larmor radius is the radius of circular motion (gyration) of charged particles in a magnetic field. Once the Larmor radius of the particle is greater than the size of the accelerating region, it escapes and does not gain any more energy.\n",
    "\n",
    "\n",
    "**(A)** (2 P) Write a function ``calculate_maximum_energy()`` that calculates the maximum energy of a particle based on the input values for $B, L, β, q$, and $Z$. The function should return $E_{max}$​ in electronvolts (eV). Set $Z$=1 and $q = 4.8 \\cdot 10^{-10}$ statC for protons as a default value and add docstrings.\n",
    "\n",
    "Test this function using the following values: \n",
    "- $B$ = $10^{14}$ G\n",
    "- $L$ = $10^{5}$ cm\n",
    "- $\\beta$ = 1\n",
    "\n",
    "**Regarding the units:** There’s no need to convert the units of the given values. Simply insert them as they are into the equation, and the result will automatically be in erg. The only conversion needed at the end is **from erg to eV by multiplying the result by 6.24e11**."
   ]
  },
  {
   "cell_type": "code",
   "execution_count": null,
   "id": "2fcb86e8-5172-443c-bf45-06b3e54c029a",
   "metadata": {},
   "outputs": [
    {
     "name": "stdout",
     "output_type": "stream",
     "text": [
      "For B = 1.0e14 G, L = 1.0e5 cm and ß = 1, the maximum energy is 2.9952e+21 eV\n"
     ]
    }
   ],
   "source": [
    "def calculate_maximum_energy(B, L, beta, q=4.8e-10, Z=1):\n",
    "    \"\"\"\n",
    "    Calculate the maximum energy of a particle using the Hillas criterion.\n",
    "    \n",
    "    Params:\n",
    "    - B (float): Magnetic field in the source in G \n",
    "    - L (float): Size of the acceleration region in cm \n",
    "    - β (float): Efficiency of the accelerator \n",
    "\n",
    "    /optional\n",
    "    - q (float): Charge of the particle in statC\n",
    "    - Z (int): Atomic number of the particle\n",
    "\n",
    "    Output:\n",
    "    float : max energy in eV\n",
    "    \"\"\"\n",
    "    E_max_erg = Z * q * B * L * beta\n",
    "    return E_max_erg * 6.24e11\n",
    "\n",
    "### Test\n",
    "test_B=1e14\n",
    "test_L=1e5\n",
    "test_beta=1\n",
    "print(fr'For B = {test_B/1e14}e14 G, L = {test_L/1e5}e5 cm and ß = 1, the maximum energy is {calculate_maximum_energy(test_B,test_L,test_beta)} eV.')"
   ]
  },
  {
   "cell_type": "markdown",
   "id": "f59374ec-aa95-47d1-9149-47d5f949f055",
   "metadata": {},
   "source": [
    "**(B)** (3 P) Write a second function ``check_Hillas_criterion()`` that takes the following lists  \n",
    "- ``B_fields`` $(B)$\n",
    "- ``L_values`` $(L)$\n",
    "- ``beta_values`` $(\\beta)$\n",
    "\n",
    "and calculates the maximum energy $E_{max}$ for each combination using the ``calculate_maximum_energy()`` function. The function should return a list of combinations (as tuples) that lead to $E_{max}$ in the range of extragalactic cosmic rays (~$10^{18}$ - $10^{20}$ eV). Add doctrings to your function. "
   ]
  },
  {
   "cell_type": "code",
   "execution_count": 53,
   "id": "9ff715d1-3cb0-45be-9c15-efe0c6724d57",
   "metadata": {},
   "outputs": [],
   "source": [
    "B_fields = [1e-3, 1e-2, 1, 1e15]  # Magnetic field values (Gauß)\n",
    "L_values = [1e5, 1e11, 1e17, 1e20]  # Region sizes (cm)\n",
    "beta_values = [0.05, 0.7, 1.0]  # Efficiencies of the accelerator"
   ]
  },
  {
   "cell_type": "code",
   "execution_count": 54,
   "id": "a8598062-ef29-4854-8ec6-7eac083348fc",
   "metadata": {},
   "outputs": [
    {
     "name": "stdout",
     "output_type": "stream",
     "text": [
      "These combinations are valid:\n",
      "- (0.001, 1e+20, 0.05)\n",
      "- (0.001, 1e+20, 0.7)\n",
      "- (0.001, 1e+20, 1.0)\n",
      "- (0.01, 1e+20, 0.05)\n",
      "- (1, 1e+17, 0.05)\n",
      "- (1, 1e+17, 0.7)\n",
      "- (1, 1e+17, 1.0)\n"
     ]
    }
   ],
   "source": [
    "def check_Hillas_criterion(B_fld, L_vals, beta_vals):\n",
    "    \"\"\"\n",
    "    Check the Hillas criterion for different combiantions and identify which fulfill the criterion.\n",
    "\n",
    "    Parameters:\n",
    "    -----------\n",
    "    B_fld (list of float): Magnetic field in the source in G\n",
    "    L_vals (list of float): Size of the acceleration region in cm\n",
    "    beta_vals (list of float): Efficiency of the accelerator\n",
    "\n",
    "    Returns:\n",
    "    --------\n",
    "    list of tuples:\n",
    "        A list of parameter combinations (B, L, beta) that result in a maximum energy\n",
    "        in the range of extragalactic cosmic rays (~10^18 - 10^20 eV).\n",
    "    \"\"\"\n",
    "    min_energy = 1e18  \n",
    "    max_energy = 1e20 \n",
    "    valid_combinations = []\n",
    "\n",
    "    for B in B_fld:\n",
    "        for L in L_vals:\n",
    "            for beta in beta_vals:\n",
    "                E_max = calculate_maximum_energy(B, L, beta)\n",
    "                if min_energy <= E_max <= max_energy:\n",
    "                    valid_combinations.append((B, L, beta))\n",
    "\n",
    "    return valid_combinations\n",
    "\n",
    "### Test\n",
    "print('These combinations are valid:')\n",
    "for combo in check_Hillas_criterion(B_fields,L_values,beta_values):\n",
    "    print(f'- {combo}')"
   ]
  }
 ],
 "metadata": {
  "kernelspec": {
   "display_name": "Python 3",
   "language": "python",
   "name": "python3"
  },
  "language_info": {
   "codemirror_mode": {
    "name": "ipython",
    "version": 3
   },
   "file_extension": ".py",
   "mimetype": "text/x-python",
   "name": "python",
   "nbconvert_exporter": "python",
   "pygments_lexer": "ipython3",
   "version": "3.12.0"
  }
 },
 "nbformat": 4,
 "nbformat_minor": 5
}
