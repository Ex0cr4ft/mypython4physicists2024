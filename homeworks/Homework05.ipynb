{
 "cells": [
  {
   "cell_type": "markdown",
   "id": "1afcf7f4-bf06-4183-80e6-7279f721bebb",
   "metadata": {},
   "source": [
    "# Homework 5"
   ]
  },
  {
   "cell_type": "markdown",
   "id": "84d25854-3480-402a-a8b4-df0e2510b3c1",
   "metadata": {},
   "source": [
    "## Name: "
   ]
  },
  {
   "cell_type": "markdown",
   "id": "fa76dd64-8859-4137-bd8e-258a906e72ec",
   "metadata": {},
   "source": [
    "# Problem 1: Lupus in Tabula"
   ]
  },
  {
   "cell_type": "markdown",
   "id": "af09d568-003a-495c-8e77-a1be40431a0d",
   "metadata": {},
   "source": [
    "Lupus in Tabula is a famous board game in which the players are villagers in a fictitious town infested by werewolfs. In the game, the werewolfs have to kill all the villagers, while the latter have to understand who among them is a werewolf, and kill them before they do the same with them.\n",
    "\n",
    "In this problem we will just very basically program a small lupus in Tabula with the basic characters\n",
    "\n",
    "### Step 1: define the Villager class (1.5 P)\n",
    "Create the Villager class with the attributes:\n",
    " - **name**: the name of the villager\n",
    " - **is_alive**: a boolean value that is True if the villager is alive and False if not\n",
    " \n",
    "The class must also have the following methods:\n",
    " - **get_name**: *getter_method* for the name\n",
    " - **still_alive**: *getter_method* for is_alive\n",
    " - **turn_dead**: method that turns the villager dead (checking if the villager is alive before)"
   ]
  },
  {
   "cell_type": "code",
   "execution_count": null,
   "id": "ba50a96b-5852-4195-a107-390d03e70511",
   "metadata": {},
   "outputs": [],
   "source": [
    "#Your code"
   ]
  },
  {
   "cell_type": "markdown",
   "id": "73dcb624-8d67-452d-aba2-587b2233d95f",
   "metadata": {},
   "source": [
    "Now create a villager whose name is Gunther and check if he is still alive"
   ]
  },
  {
   "cell_type": "code",
   "execution_count": null,
   "id": "f1256964-fe76-4561-973d-23d1cd8bb1af",
   "metadata": {},
   "outputs": [],
   "source": [
    "#Your code"
   ]
  },
  {
   "cell_type": "markdown",
   "id": "590818da-2317-4aa3-97e4-982cfc0d0cd6",
   "metadata": {},
   "source": [
    "### Step 2: define the Village class (1.5 P)\n",
    "Create the Village class with the attributes:\n",
    " - **name**: the name of the village\n",
    " - **villagers**: a list with all the villagers in the village\n",
    " - **N_alive_villagers**: the number of alive villagers\n",
    " - **N_dead_villagers**: the number of dead villagers\n",
    " \n",
    "The class must also have the following methods:\n",
    " - **get_name**: *getter_method* for the name\n",
    " - **get_villagers**: *getter_method* for the list of villagers\n",
    " - **get_N_alive**: *getter_method* for the number of alive villagers\n",
    " - **get_N_dead**: *getter_method* for the number of dead villagers\n",
    " - **add_villager**: method that adds a villager to the village checking if it isn't already there (remember to update the attributes)\n",
    " - **update_village** method that updates N_alive_villagers and N_dead_villagers, in case things changed"
   ]
  },
  {
   "cell_type": "code",
   "execution_count": null,
   "id": "1a776992-2b90-4d93-95f0-98ca7b89159b",
   "metadata": {},
   "outputs": [],
   "source": [
    "#Your code"
   ]
  },
  {
   "cell_type": "markdown",
   "id": "f87682bf-bd9a-4429-a865-3163c0c6bb55",
   "metadata": {},
   "source": [
    "Now create a village whose name is Hattingen, add Gunther to Hattingen, and check how many people are alive in Hattingen"
   ]
  },
  {
   "cell_type": "markdown",
   "id": "3001818c-5760-4421-9600-71385b2d8821",
   "metadata": {},
   "source": [
    "### Step 3: define the Werewolf class (2 P)\n",
    "Create the Werewolf class that inherits from the Villager class and with the following additional attributes:\n",
    " - **village**: the Village object of which the werewolf will be part (add the wolf to this village automatically)\n",
    " \n",
    "The class must also have the following additional methods:\n",
    " - **get_village**: *getter_method* for the village of which the warewolf is part\n",
    " - **kill**: method that kills a specific villager. The werewolf must be still alive to be able to kill. The villager must be still alive and in the same village of the werewolf. Remember that the attributes in the village must be updated. Try to use all the possible methods that you already defined."
   ]
  },
  {
   "cell_type": "code",
   "execution_count": null,
   "id": "7166737d-5087-4f3d-9365-c8dce2b22a0b",
   "metadata": {},
   "outputs": [],
   "source": [
    "#Your code"
   ]
  },
  {
   "cell_type": "markdown",
   "id": "ba2b097a-9846-4694-8674-65515f36bdc2",
   "metadata": {},
   "source": [
    "Now create a warewolf in Hattingen whose name is Sven. Let Sven kill Gunther, and check how many people are alive and dead in Hattingen"
   ]
  },
  {
   "cell_type": "code",
   "execution_count": null,
   "id": "dc3bda71-a680-45c0-be60-5d50fbaf8a83",
   "metadata": {},
   "outputs": [],
   "source": [
    "#Your code "
   ]
  },
  {
   "cell_type": "markdown",
   "id": "43e66336-9246-4631-afde-894a9f6cbf28",
   "metadata": {},
   "source": [
    "The problem ends here. This is a very basic structure. If you have time and you want to, we would encourage you to add characters of Lupus in Tabula and to test the various interactions (but still to be clear, you don't have to). If you want to, you can also send us what you created."
   ]
  },
  {
   "cell_type": "code",
   "execution_count": null,
   "id": "536e6653-8acf-4662-9557-73076d966037",
   "metadata": {},
   "outputs": [],
   "source": []
  }
 ],
 "metadata": {
  "kernelspec": {
   "display_name": "Python 3 (ipykernel)",
   "language": "python",
   "name": "python3"
  },
  "language_info": {
   "codemirror_mode": {
    "name": "ipython",
    "version": 3
   },
   "file_extension": ".py",
   "mimetype": "text/x-python",
   "name": "python",
   "nbconvert_exporter": "python",
   "pygments_lexer": "ipython3",
   "version": "3.11.5"
  }
 },
 "nbformat": 4,
 "nbformat_minor": 5
}
