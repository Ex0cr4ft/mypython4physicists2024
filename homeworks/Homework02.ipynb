{
 "cells": [
  {
   "cell_type": "markdown",
   "id": "d5948ff7-8f53-4b57-b1d3-232a68aa4c41",
   "metadata": {},
   "source": [
    "# Homework 2 (Deadline: Nov 11)"
   ]
  },
  {
   "cell_type": "markdown",
   "id": "5504fc4d-19c0-4427-8e53-8e594c9fddac",
   "metadata": {},
   "source": [
    "## Name: Nils Huber"
   ]
  },
  {
   "cell_type": "markdown",
   "id": "887048a1-8e1d-4336-91c1-aa6592bf040e",
   "metadata": {},
   "source": [
    "# Problem 1: For Loops and conditional statements (3 P)"
   ]
  },
  {
   "cell_type": "markdown",
   "id": "d25e4505-2775-496d-a6f7-275fa3bcc468",
   "metadata": {},
   "source": [
    "In this task you will learn to work with different data types, For Loops and the combination of For Loops and If statements. We will start with the object **L** below.\n"
   ]
  },
  {
   "cell_type": "code",
   "execution_count": null,
   "id": "bd65d56a-fa8f-4825-873f-5ab6ea445297",
   "metadata": {},
   "outputs": [],
   "source": [
    "L = (6, -3, -6, 10, 0, -9, 0.5, 2, 0, -7, -9, 5, 0, 0, -6, 0)"
   ]
  },
  {
   "cell_type": "markdown",
   "id": "0f592687-e201-47f6-8a0a-95976f8d7597",
   "metadata": {},
   "source": [
    "**(A)** (1 P) Write a code to sum up every single element from **L** by using a For Loop. What is the type of the result?"
   ]
  },
  {
   "cell_type": "code",
   "execution_count": null,
   "id": "6009f561-628b-44a8-861a-a415135b47c0",
   "metadata": {},
   "outputs": [],
   "source": [
    "# Your code here"
   ]
  },
  {
   "cell_type": "markdown",
   "id": "c3e893a2-0300-44e6-acdf-0b02174edfd3",
   "metadata": {},
   "source": [
    "**(B)** (1 P) We want to work with **L** without the last four elements so that 5 is the last number in our collection. However, before we can do that, we need to modify **L**. \n",
    "\n",
    "Before writing the code, answer the following questions:\n",
    "- What type is **L** currently, and why do we need to change it in order to remove the last four elements?\n",
    "- Can you recall any built-in Python function from the lecture that allows us to easily convert **L** into an object that can be modified?\n",
    "\n",
    "Use the built-in function to convert **L** into the new object **M**. In the next step, find a way to represent **M** without the last four elements. \n",
    "\n",
    "**(Please do not just write the new object down by hand but find a way to do it in Python)**"
   ]
  },
  {
   "cell_type": "code",
   "execution_count": null,
   "id": "1ccde48e-1d02-4650-9a64-c7ecbc8a5786",
   "metadata": {},
   "outputs": [],
   "source": [
    "# Your code here"
   ]
  },
  {
   "cell_type": "markdown",
   "id": "ab4bc6f0-bf8d-4bd5-874d-e13c1d201821",
   "metadata": {},
   "source": [
    "**(C)** (1 P) In this task, we would like to get information about the sign of the values. \n",
    "\n",
    "Write a code which counts the number of negative values in **M**. "
   ]
  },
  {
   "cell_type": "code",
   "execution_count": null,
   "id": "e00009a1-1989-4efa-98c6-d6d017d5b08b",
   "metadata": {},
   "outputs": [],
   "source": [
    "# Your code here"
   ]
  },
  {
   "cell_type": "markdown",
   "id": "cba4f66a-5f56-464a-815a-2e116ea09dac",
   "metadata": {},
   "source": [
    "# Problem 2: Writing in a pythonic way (2 P)"
   ]
  },
  {
   "cell_type": "markdown",
   "id": "e92b7a96-b8cb-438e-ba7d-ec7b9ee776e8",
   "metadata": {},
   "source": [
    "**(A)** (1 P) Create the following lists using Python:\n",
    "\n",
    "- **Divided by 3**: Create a list `T_0` where each element is the result of dividing the first 30 integers by 3.\n",
    "\n",
    "- **Squared multiples of 3**: Create a list `T_1` that contains the squares of the first 30 integers, but only keep the numbers which are divisible by 3.\n",
    "  \n",
    "- **Even numbers greater than 10**: Create a list `T_2` that contains only the even numbers from the first 30 integers, but only include numbers greater than 10.\n"
   ]
  },
  {
   "cell_type": "code",
   "execution_count": null,
   "id": "ef66ac51-a3a5-43ae-9f55-c52e9cc1c588",
   "metadata": {},
   "outputs": [],
   "source": [
    "# Your code here"
   ]
  },
  {
   "cell_type": "markdown",
   "id": "e7451c7e-7372-468a-9af1-6b68cdd36e3f",
   "metadata": {},
   "source": [
    "**(B)** (1 P) The kinetic energy of a car is given by \n",
    "\n",
    "$$E_k(t) = \\frac{1}{2} m v^2(t)$$\n",
    "\n",
    "where the mass of the car  $m$ = 1200 kg and the velocity is given by $v(t) = 2 \\cdot t$ (in m/s). We assume that `T_0` is given in seconds.\n",
    "\n",
    "Calculate the exact kinetic energy **(in kJ!)** $E_{\\text{kin}}$ for each time value in the list `T_0`. Round the results to two decimal places and print each value in a new line.\n",
    "\n"
   ]
  },
  {
   "cell_type": "code",
   "execution_count": null,
   "id": "20502acc-7f4d-4b9c-b32a-cd9879ea2608",
   "metadata": {},
   "outputs": [],
   "source": [
    "# Your code here"
   ]
  }
 ],
 "metadata": {
  "kernelspec": {
   "display_name": "Python 3 (ipykernel)",
   "language": "python",
   "name": "python3"
  },
  "language_info": {
   "codemirror_mode": {
    "name": "ipython",
    "version": 3
   },
   "file_extension": ".py",
   "mimetype": "text/x-python",
   "name": "python",
   "nbconvert_exporter": "python",
   "pygments_lexer": "ipython3",
   "version": "3.11.5"
  }
 },
 "nbformat": 4,
 "nbformat_minor": 5
}
