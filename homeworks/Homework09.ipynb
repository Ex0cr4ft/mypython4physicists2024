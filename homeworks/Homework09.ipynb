{
 "cells": [
  {
   "cell_type": "markdown",
   "id": "e1ee73f4-c578-47c7-b8bc-fea8e2e1b6cd",
   "metadata": {},
   "source": [
    "# Homework 9"
   ]
  },
  {
   "cell_type": "markdown",
   "id": "9704b7a1-840a-47c1-9adf-3e34751b8ce7",
   "metadata": {},
   "source": [
    "## Name: "
   ]
  },
  {
   "cell_type": "markdown",
   "id": "6f3419e0-56cc-4fd6-9407-8fc6666011d8",
   "metadata": {},
   "source": [
    "## CERN physicist for an hour"
   ]
  },
  {
   "cell_type": "markdown",
   "id": "404f4b08-dcb6-4f01-b847-84905a48d6c8",
   "metadata": {},
   "source": [
    "Phi mesons, $\\phi$(1020), are registered by their decays into two kaons.\n",
    "\n",
    "$$\\phi \\rightarrow K^- K^+$$\n",
    "\n",
    "In this task, you fit pseudo-data to find the mass of phi meson and its lifetime.\n",
    "\n",
    "The decay of short living particles, such as phi mesons, is described by the Breit-Wigner formula:\n",
    "\n",
    "$$f(m) = A \\frac{m \\cdot m_\\phi \\Gamma_\\phi(m)}{(m^2 - m^2_\\phi)^2 + m^2_\\phi \\Gamma^2_\\phi(m)}$$\n",
    "\n",
    "where \n",
    "\n",
    "$$\\Gamma_\\phi = \\frac{m_\\phi}{m} \\Gamma_0 \\left (\\frac{p}{p_0}\\right )^3$$\n",
    "\n",
    "$$p = \\sqrt{\\left (\\frac{m}{2}\\right)^2 - m_K^2}$$\n",
    "\n",
    "$$p_0 = \\sqrt{\\left (\\frac{m_\\phi}{2}\\right)^2 - m_K^2}$$\n",
    "\n",
    "where \n",
    "$m_K$ = 494 MeV, kaon mass\n",
    "\n",
    "$m$ - center-of-mass energy that produces $\\phi$ meson\n",
    "\n",
    "$A$ - normalization factor that is equal to the area under the curve,\n",
    "\n",
    "$m_\\phi$ - phi meson mass,\n",
    "\n",
    "$\\Gamma_\\phi$ - phi meson decay width, \n",
    "\n",
    "$A$, $m_\\phi$ and $\\Gamma_0$ are model parameters describing the peak.\n"
   ]
  },
  {
   "cell_type": "markdown",
   "id": "85d90bb1-d080-418e-aefa-615fa2c07a63",
   "metadata": {},
   "source": [
    "**(A) Check the given data** (1 P)\n",
    "\n",
    "You are provided with two arrays cointaining information about center-of-mass energies ``m`` and ``counts`` (which can be proportional to physical quantities like cross-section). Make a quick plot to check the data. Don't forget about axis labels and specifying energy units.\n"
   ]
  },
  {
   "cell_type": "code",
   "execution_count": null,
   "id": "85c2575f-ea45-45c9-aa27-978569f6826b",
   "metadata": {},
   "outputs": [],
   "source": [
    "import numpy as np\n",
    "import matplotlib.pyplot as plt\n",
    "import scipy.optimize as opt"
   ]
  },
  {
   "cell_type": "code",
   "execution_count": null,
   "id": "baa00671-b5f0-4689-8bb3-afcf6fd7d1b3",
   "metadata": {},
   "outputs": [],
   "source": [
    "m = np.asarray([ 990.28571429,  992.57142857,  994.85714286,\n",
    "        997.14285714,  999.42857143, 1001.71428571, 1004.        ,\n",
    "       1006.28571429, 1008.57142857, 1010.85714286, 1013.14285714,\n",
    "       1015.42857143, 1017.71428571, 1020.        , 1022.28571429,\n",
    "       1024.57142857, 1026.85714286, 1029.14285714, 1031.42857143,\n",
    "       1033.71428571, 1036.        , 1038.28571429, 1040.57142857,\n",
    "       1042.85714286, 1045.14285714, 1047.42857143, 1049.71428571,\n",
    "       1052.        , 1054.28571429, 1056.57142857, 1058.85714286,\n",
    "       1061.14285714, 1063.42857143, 1065.71428571, 1068.        ,\n",
    "       1070.28571429, 1072.57142857, 1074.85714286, 1077.14285714,\n",
    "       1079.42857143, 1081.71428571, 1084.        , 1086.28571429,\n",
    "       1088.57142857, 1090.85714286, 1093.14285714, 1095.42857143,\n",
    "       1097.71428571, 1100.        ]) # MeV\n",
    "\n",
    "counts = np.asarray([2.31003417e-02, 7.66381726e-02, 1.67455262e-01,\n",
    "       3.11741087e-01, 5.37405428e-01, 8.93031098e-01, 1.46719670e+00,\n",
    "       2.43247872e+00, 4.15598459e+00, 7.51568994e+00, 1.49749055e+01,\n",
    "       3.51070312e+01, 1.03632842e+02, 2.16252822e+02, 1.04639025e+02,\n",
    "       4.59616350e+01, 2.54388979e+01, 1.64404712e+01, 1.17257576e+01,\n",
    "       8.93503238e+00, 7.13459944e+00, 5.89708248e+00, 5.00438128e+00,\n",
    "       4.33551917e+00, 3.81884184e+00, 3.40960414e+00, 3.07862337e+00,\n",
    "       2.80616244e+00, 2.57845502e+00, 2.38564205e+00, 2.22049899e+00,\n",
    "       2.07762447e+00, 1.95290808e+00, 1.84317215e+00, 1.74592527e+00,\n",
    "       1.65918918e+00, 1.58137500e+00, 1.51119320e+00, 1.44758725e+00,\n",
    "       1.38968394e+00, 1.33675579e+00, 1.28819224e+00, 1.24347735e+00,\n",
    "       1.20217236e+00, 1.16390196e+00, 1.12834334e+00, 1.09521741e+00,\n",
    "       1.06428173e+00, 1.03532473e+00])  # in units of 1"
   ]
  },
  {
   "cell_type": "code",
   "execution_count": null,
   "id": "ed6f3fbb-6168-42f6-b661-aacdd8b11a43",
   "metadata": {},
   "outputs": [],
   "source": [
    "# your code "
   ]
  },
  {
   "cell_type": "markdown",
   "id": "9234ff89-01bc-45c2-9eea-c2960b92abd9",
   "metadata": {},
   "source": [
    "**(B) Function for Breit-Wigner formula** (1 P)\n",
    "\n",
    "Write a function that takes center-of-mass energy and model parameters (A, $m_\\phi$, $\\Gamma_0$) and returns the value of $f(E)$ from the formula above. \n",
    "\n",
    "As many things in physics, the Breit-Wigner distribution is not a trivial or a simple function and depends on many factors which in turn are some functions of particle masses/energies. \n",
    "\n",
    "**Implement the Breit-Wigner formula carefully and double check the correspondance between written formulas and your code!**"
   ]
  },
  {
   "cell_type": "code",
   "execution_count": null,
   "id": "f8b726a5-8559-4fa1-acd4-9d3cd2f8eaac",
   "metadata": {},
   "outputs": [],
   "source": [
    "# your code "
   ]
  },
  {
   "cell_type": "markdown",
   "id": "5202e388-ef77-46aa-ae30-a75cecf1df75",
   "metadata": {},
   "source": [
    "**(C)  Fit the data** (1 P)\n",
    "\n",
    "Using ```scipy```, fit the data with the Breit-Wigner distribution. Since the parameters of the model differ even in orders of magnitude, it is required to give a starting point for a successfull fit.\n",
    "\n",
    "\n",
    "Make an _educated guess_ of where approximately the parameters may be if you know that $A$ is an area under the curve, $m_\\phi$ is the location of the peak, and $\\Gamma_0$ is the width of the peak.\n",
    "\n",
    "Print the obtained parameters with their units and round to two decimal points."
   ]
  },
  {
   "cell_type": "code",
   "execution_count": null,
   "id": "825b979e-2863-426d-8f50-18074014f94c",
   "metadata": {},
   "outputs": [],
   "source": [
    "# your code "
   ]
  },
  {
   "cell_type": "markdown",
   "id": "ac81995a-a553-4e85-9b23-98e36cb928ec",
   "metadata": {},
   "source": [
    "**(D) Plot the fit** (1 P)\n",
    "\n",
    "\n",
    "You have obtained the values of Breit-Wigner distribution that describe the given data. Plot the data together with its fit. \n",
    "\n",
    "The plot should contain all necessary scientific information to be presented e.g. at the conference."
   ]
  },
  {
   "cell_type": "code",
   "execution_count": null,
   "id": "ab162602-0692-4c39-949a-f1527e8cd3db",
   "metadata": {},
   "outputs": [],
   "source": [
    "# your code "
   ]
  },
  {
   "cell_type": "markdown",
   "id": "b20391c2-a4b9-4bb7-a70c-d187be44b779",
   "metadata": {},
   "source": [
    "**(E) Comparing to the previously measured values** (1 P)\n",
    "\n",
    "Particle Data Group provides the average value of mass of $\\phi$ meson as\n",
    "\n",
    "$$m_\\phi = 1019.455 \\; \\pm 0.020 \\; \\textrm{MeV}$$\n",
    "\n",
    "Compare this to the corresponding parameter of your fit:"
   ]
  },
  {
   "cell_type": "code",
   "execution_count": null,
   "id": "83f4d1ae-6f53-4317-b257-b10f745edcf9",
   "metadata": {},
   "outputs": [],
   "source": [
    "# your code "
   ]
  },
  {
   "cell_type": "markdown",
   "id": "d6f70b87-f1ab-40a7-8a75-c5e9ceecb821",
   "metadata": {},
   "source": [
    "The lifetime of a particle is another important characteristics alongside its mass. The lifetime is connected to the particle decay width (same as one of the model parameters) as\n",
    "\n",
    "$$\\Gamma = \\hbar/\\tau$$\n",
    "\n",
    "where $\\hbar = \\frac{h}{2\\pi}$ is Dirac constant.\n",
    "\n",
    "Calculate lifetime of $\\phi$ meson and compare it to the mean value of previous measuments which is $1.55 \\pm 0.01 \\times 10^{-22}$ s.\n",
    "\n",
    "_Don't forget that your decay width has units of MeV!_"
   ]
  },
  {
   "cell_type": "code",
   "execution_count": null,
   "id": "8d690dbd-8bab-42be-b65c-e417623ffa39",
   "metadata": {},
   "outputs": [],
   "source": [
    "# your code "
   ]
  }
 ],
 "metadata": {
  "kernelspec": {
   "display_name": "Python 3 (ipykernel)",
   "language": "python",
   "name": "python3"
  },
  "language_info": {
   "codemirror_mode": {
    "name": "ipython",
    "version": 3
   },
   "file_extension": ".py",
   "mimetype": "text/x-python",
   "name": "python",
   "nbconvert_exporter": "python",
   "pygments_lexer": "ipython3",
   "version": "3.11.5"
  }
 },
 "nbformat": 4,
 "nbformat_minor": 5
}
