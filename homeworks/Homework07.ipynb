{
 "cells": [
  {
   "cell_type": "markdown",
   "id": "2afec552-95ae-4ebf-baac-7297ef0a8d0a",
   "metadata": {},
   "source": [
    "# Homework 7"
   ]
  },
  {
   "cell_type": "markdown",
   "id": "3cdf3e69-80fd-4932-8252-4216d83f1387",
   "metadata": {},
   "source": [
    "## Name: "
   ]
  },
  {
   "cell_type": "markdown",
   "id": "3a2c6d15-50b0-4157-9ad7-0ea1d72d2b27",
   "metadata": {},
   "source": [
    "# A gravity assist to save the Numpyans"
   ]
  },
  {
   "cell_type": "markdown",
   "id": "ed503639-0358-4470-afe7-c3a33532c3d4",
   "metadata": {},
   "source": [
    "In a galaxy far, far away, there is a planet whose inhabitants are one of the most developed civilizations of the Universe. This alien population is known as \"The Numpyans\", and their planet is \"Arreyu\". The planetary system of which Arreyu is part is very particular because at the center there isn't a star but a black hole known as \"Matrixar\". \n",
    "\n",
    "Over the centuries, the Numpyans have been polluting their planet Arreyu more and more, so much so that this isn't any more suitable for hosting life. All their technology couldn't do anything against this environmental disaster, but it could still be capable of saving the Numpyans. How? By transferring the whole population to a different planet. Around Matrixar, no other place is suitable for life. Therefore, the Numpyans must go further away in a new planetary system. To do so, they should accelerate their spaceships to very high velocities. The planetary task force for interstellar migration is considering obtaining this acceleration by approaching closely the black hole Matrixar. This acceleration process is known as \"Gravity assist\". The task force is, however, concerned by the tidal forces close to the black hole because they fear they could tear apart the single Numpyan.\n",
    "\n",
    "In this problem you will have to estimate the effect of tidal forces on the whole population of the Numpyans"
   ]
  },
  {
   "cell_type": "markdown",
   "id": "93b8671d-dece-4787-a89b-2d81808216dc",
   "metadata": {},
   "source": [
    "### Population heights\n",
    "For the next tasks you will need the whole data relative to the Numpyans population. In particular, you will need to know the height of the single individual. To do so you have to use the numpy funcion `numpy.random.normal(mean, scale, size)`. This function generates random numbers following a normal distribution, the parameters are:\n",
    "- `mean` is the mean $\\mu$ of the gaussian;\n",
    "- `scale` is the standard deviation $\\sigma$;\n",
    "- `size` determines the size of the numpy array that is filled with this random numbers (if it is just an integer `n`, it generates a numpy array with `n` elements)."
   ]
  },
  {
   "cell_type": "markdown",
   "id": "2890fe73-e655-4b55-b817-16125c6c60c3",
   "metadata": {},
   "source": [
    "**(A)** Generate a numpy array with the heights for each single Numpyan. Following a normal distribution, the $10^6$ Numpyans have a mean height $\\mu$ = $1,20 $ m while the standard deviation is $0,15$ m.\n"
   ]
  },
  {
   "cell_type": "code",
   "execution_count": 1,
   "id": "52fac49e-2c6c-4f1e-b2c4-82d8d5515999",
   "metadata": {},
   "outputs": [],
   "source": [
    "# Your code"
   ]
  },
  {
   "cell_type": "markdown",
   "id": "27d235b8-5f25-4717-954e-50e891f23b2b",
   "metadata": {},
   "source": [
    "### The Schwarzschild radius\n",
    "For a non-rotating black hole (a Schwarzschild black hole), the Schwarzschild radius defines the event horizon (the distance from the black hole center where the escape velocity is equal to the speed of light). Any object that goes over the event horizon can never return back. The Schwarzschild radius $r_s$ depends only on the black hole mass:\n",
    "$$ r_s = \\frac{2GM}{c^2} $$\n",
    "Where $G$ is the gravitational constant $G=6.674\\times10^{-11}$ $\\frac{\\mathrm{m}^3}{\\mathrm{kg}\\,\\mathrm{s}^2}$, and $c$ is the speed of light $c\\simeq3\\times10^8$ m/s."
   ]
  },
  {
   "cell_type": "markdown",
   "id": "ce2cf322-822a-46b0-a0a5-b09fabb9b571",
   "metadata": {},
   "source": [
    "**(B)** Calculate the Schwarzschild radius for Matrixar. For its mass use $M = 3.0\\times10^{34}$ kg. Express it in meters as well in units of our Sun radius $r_\\mathrm{☉} = 696340 $ km."
   ]
  },
  {
   "cell_type": "code",
   "execution_count": 2,
   "id": "fc5f0d34-4eee-4e36-b8e9-9cd55b85770e",
   "metadata": {},
   "outputs": [],
   "source": [
    "# Your code"
   ]
  },
  {
   "cell_type": "markdown",
   "id": "42bc1103-d2d7-48a7-b913-a8edb77defe4",
   "metadata": {},
   "source": [
    "**(C)** The task force for intestellar migration proposes for the gravity assist to pass between 1 to 2 Schwarzschild radii from the black hole. Generate a numpy array with 100 radii linearly distributed between these two limits. Express these distances both in meters and in Sun radii."
   ]
  },
  {
   "cell_type": "code",
   "execution_count": 3,
   "id": "41abad48-bc63-47fa-89f1-0dbefb6dca8b",
   "metadata": {},
   "outputs": [],
   "source": [
    "# Your code"
   ]
  },
  {
   "cell_type": "markdown",
   "id": "a76ac06a-9ea3-45f8-af29-9c9960fc26db",
   "metadata": {},
   "source": [
    "### Tidal acceleration\n",
    "The gravitational force generated by the black hole is not constant over the space. If an object has a linear size $r$, at its extremes there may be two different gravitational forces. The difference between these two forces is a force as well, and is known as *tidal force*. This translates in an acceleration, the *tidal acceleration*. For a body with an extension $r$, at a distance $D$ from the black hole (or any other object), the tidal acceleration $a_g$ is given by:\n",
    "$$a_g=\\frac{2rGM}{D^3}$$"
   ]
  },
  {
   "cell_type": "markdown",
   "id": "8a6c2932-c6b4-4999-a26b-0edea1bd34da",
   "metadata": {},
   "source": [
    "**(D)** The maximum tidal acceleration that a Numpyan can withstand is about $a_{g,\\,\\mathrm{max}} = 60$ m/s$^2$. At higher accelerations a Numpyan would die. Find which is the smallest distance to the black hole at which no Numpyan dies because of the tidal forces when approaching the black hole. In this task you are supposed to use as much as possible the numpy functions seen at the lecture."
   ]
  },
  {
   "cell_type": "code",
   "execution_count": 4,
   "id": "27daade1-ecb3-4a12-8fea-7292d744f3d1",
   "metadata": {},
   "outputs": [],
   "source": [
    "# Your code"
   ]
  },
  {
   "cell_type": "markdown",
   "id": "7b4cb6b1-2fce-4a52-a9c0-1fa4c747543a",
   "metadata": {},
   "source": [
    "**(E)** Half of the Numpyans have pets that will also travel. Create an array with the heights of the pets where the mean height is  $\\mu$ = 1 m and the standard deviation is 0.5 m. \n",
    "\n",
    "Make a 2D numpy array ``total_pop`` where ``total_pop[0]`` represents the heights of the Numpyans and ``total_pop[1]`` the heights of them **and** there pets. In order to do this, take every second Numpyan height and insert it into the ``total_pop[1]`` array, so that you have the pairs of Numpyan and their pet next to each other:\n",
    "\n",
    "\n",
    "``total_pop[1] = [Numpyan_height_1, pets_height_1, Numpyan_height_2, pets_height_2, ...]``\n",
    "\n",
    "The Numpyans can only travel in pairs with their pets. If one of them would die and the other would survive, they can not travel. Calculate how many Numpyans and pets would die if they would approach Matrixar at the Schwarzschild radius and print the number of pairs that are able to travel. \n",
    "\n",
    " Which would be the minimum height of the Numpyans and the pets that would die? In this task you are supposed to use as much as possible the numpy functions seen at the lecture. \n",
    "\n"
   ]
  },
  {
   "cell_type": "code",
   "execution_count": 5,
   "id": "21b0bacf-0c3a-45e2-a95b-be3d176124ae",
   "metadata": {},
   "outputs": [],
   "source": [
    "#Your code"
   ]
  }
 ],
 "metadata": {
  "kernelspec": {
   "display_name": "Python 3 (ipykernel)",
   "language": "python",
   "name": "python3"
  },
  "language_info": {
   "codemirror_mode": {
    "name": "ipython",
    "version": 3
   },
   "file_extension": ".py",
   "mimetype": "text/x-python",
   "name": "python",
   "nbconvert_exporter": "python",
   "pygments_lexer": "ipython3",
   "version": "3.11.5"
  }
 },
 "nbformat": 4,
 "nbformat_minor": 5
}
