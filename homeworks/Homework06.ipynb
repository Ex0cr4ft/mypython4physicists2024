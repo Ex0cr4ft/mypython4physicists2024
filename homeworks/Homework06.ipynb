{
 "cells": [
  {
   "cell_type": "markdown",
   "id": "5ff3deb1-9f41-46a0-98ab-f5dd3e402e45",
   "metadata": {},
   "source": [
    "# Homework 6\n"
   ]
  },
  {
   "cell_type": "markdown",
   "id": "e494a7d3-4a4c-4ed8-8ae4-45cd14952b30",
   "metadata": {},
   "source": [
    "## Name:"
   ]
  },
  {
   "cell_type": "markdown",
   "id": "72bfcaa3-6400-4593-b6c9-9ddf822de48b",
   "metadata": {},
   "source": [
    "## Lyrical (or theoretical) digression "
   ]
  },
  {
   "cell_type": "markdown",
   "id": "7b1799e0-c3e0-4039-a3f3-f7044f50440d",
   "metadata": {},
   "source": [
    "![Illustration of Bethe-Haitler process](https://www.researchgate.net/publication/47466030/figure/fig3/AS:652608809226251@1532605473851/Feynman-diagrams-for-the-Bethe-Heitler-processes-An-incoming-photon-with-four-momentum-k.png)"
   ]
  },
  {
   "cell_type": "markdown",
   "id": "900ffee3-a52e-473a-b958-3404f80cf305",
   "metadata": {},
   "source": [
    "<center>Fig. 1. The Feynman diagram of the Bethe-Heitler process. Credit: O. Dzyubak</center>"
   ]
  },
  {
   "cell_type": "markdown",
   "id": "a639de03-0cd3-4070-a47e-0afeb636f1ad",
   "metadata": {},
   "source": [
    "Bethe-Heitler pair creation is a process in which a photon passing close to a charged massive object (e.g. nucleus) produces a pair of electron and positron. The Feynman diagram for this process is shown in Figure 1.\n",
    "$$(Z) + \\gamma \\rightarrow e^- + e^+$$\n",
    "To create an electron-positron pair, energy of the incoming photon must be more than two electron masses ($ m_e = 511 \\textrm{keV}$). \n",
    "\n",
    "_Note: please, don't panic if anything written here is unclear to you. You still have a lot of wonders do discover during your next semesters. Two short explanations for you:_\n",
    "1. _The quantity that is conserved in particle interactions is $E_k^2 + (mc^2)^2$ where $E_k$ is particle kinetic energy and $mc^2$ is particle ''mass'' or being more precise the rest energy. A massive particle, like electron, can have zero kinetic energy but will always have a rest energy, therefore a threshold for production of this particle is  $mc^2$._\n",
    "2. _Feynman diagrams are a technique to describe particle interactions. Here it has just an illustrative character but it also has a related mathematical method. You read diagram from left to right. The $p_i$ is a momentum of nucleus before interaction, $p_f$ - after the interaction. $k$ is an incoming photon that produces a pair of leptons, e.g. electron_ ($p_- = e_-$) _and positron_ ($p_+ = e_+$). "
   ]
  },
  {
   "cell_type": "markdown",
   "id": "1aaafbf6-3e3d-423f-a9d8-158a4d79217f",
   "metadata": {},
   "source": [
    "In this task you will create a photon with random energy, write this energy to a file together with the flag or trigger (0 or 1) indicating whether the Bethe-Heitler pair can be created. "
   ]
  },
  {
   "cell_type": "markdown",
   "id": "bfdbc25b-e122-46c9-a0b4-cbc4bd91bfe7",
   "metadata": {},
   "source": [
    "### (A) Create a directory for the files (1 P)"
   ]
  },
  {
   "cell_type": "markdown",
   "id": "5cc0c05f-3cbf-4881-a2b1-6d5c88c3dd7b",
   "metadata": {},
   "source": [
    "First, using ```pathlib``` and ```os``` libraries create a new folder where your output files will be located.\n",
    "\n",
    "_For Google Colab users: please make sure your Google Drive folder is connected!_"
   ]
  },
  {
   "cell_type": "code",
   "execution_count": 1,
   "id": "a08d759d-3bec-42dd-bb0d-5baea1782c76",
   "metadata": {},
   "outputs": [],
   "source": [
    "from pathlib import Path\n",
    "import os\n",
    "import random"
   ]
  },
  {
   "cell_type": "code",
   "execution_count": 7,
   "id": "04a75c5f-af5c-48cb-993d-a76292086421",
   "metadata": {},
   "outputs": [],
   "source": [
    "#Your code"
   ]
  },
  {
   "cell_type": "markdown",
   "id": "3cbcbbe5-ce7d-42bf-af42-bab325ccf731",
   "metadata": {},
   "source": [
    "### (B) Simulating photons and creating output files (2 P)"
   ]
  },
  {
   "cell_type": "markdown",
   "id": "cc1b6f04-0ef2-434e-aa83-0e2650f28d3f",
   "metadata": {},
   "source": [
    "Assume that your photons can have any energy from $0.1 \\; \\textrm{keV}$ to $1 \\; \\textrm{TeV} = 10^6  \\;\\textrm{keV}$. Import ```random``` library. The function ```random.uniform(a, b)``` generates a random number between ```a``` and ```b```. Since the energies are spanning across many orders of magnitude, generating a random number in linear space between $0.1$ and $10^6$ keV would introduce a strong bias towards the high energies. To make low energies and high energies equally likely to be generated, use ```10**random.uniform(a, b)``` where ```a``` and ```b``` are now logarithms of the boundaries.\n",
    "\n",
    "Your working units are $\\textrm{keV}$!\n",
    "\n",
    "1. Simulate a photon of a random energy between $0.1 \\; \\textrm{keV}$ to $1 \\; \\textrm{TeV} = 10^6 \\;\\textrm{keV}$ taking into account already mentioned aspect of difference in orders of magnitudes.\n",
    "2. Calculate if the photon energy is enough to create a Bethe-Heitler pair.\n",
    "3. Create a file called ```runN.txt``` where ```N``` is an identification number of the simulation (i.e. the first simulation, second simulation etc.). If the pair was created, name the file ```runN_s.txt``` (s for success) instead of ```runN.txt``` where ```N``` is the same id of the simulation. This means that if the simulated photon energy e.g. in 10th run was above the threshold, the must be a single file ```run10_s.txt``` and __no__ ```run10.txt``` file.\n",
    "4. Write photon energy to the file. If the photon energy is enough to create Bethe-Heitler pair, write 1 after the photon energy separeted by the space (``` ```), otherwise write 0.\n",
    "5. Do 100 simulations and create 100 output files in your recently created directory.\n",
    "\n",
    "_Note: if you are testing your code multiple times make sure that after each time you start with an empty directory. Files with the same name will be overwritten but, since energy is a random value, the same experiment (e.g. 10th) can create a pair in one run and not create those in the other run. Therefore, better to always start with an empty folder._"
   ]
  },
  {
   "cell_type": "code",
   "execution_count": 6,
   "id": "5f0f9963-8c17-4bab-82d9-7394089b8184",
   "metadata": {},
   "outputs": [],
   "source": [
    "#Your code "
   ]
  },
  {
   "cell_type": "markdown",
   "id": "297f696b-1e11-47b1-bc6d-730960183ae6",
   "metadata": {},
   "source": [
    "### (C) Running your own Python script (2 P)"
   ]
  },
  {
   "cell_type": "markdown",
   "id": "b0f17b77-81cc-4a8b-99e3-b26fc7b52fe8",
   "metadata": {},
   "source": [
    "Building on your previous simulations, you now have a directory containing multiple files (runN.txt or runN_s.txt) where each file corresponds to a photon simulation. Your goal is to analyze these files using a Python script.\n",
    "\n",
    "1. Create a Python script called ``Sim_analysis.py``.\n",
    "2. Implement the function ``count_successful_files(directory)`` in your script that:\n",
    "- Loops through all files in the given directory\n",
    "- Returns the number of successful files\n",
    "\n",
    "3. Execute the script using the !python command to determine the number of successful files generated in step (B). The goal is for the script to output this number.\n",
    "\n",
    "**Important note**: When you have finished all the tasks please copy and paste the code from your script in a separate code cell below so that it is easier for us to grade your homework."
   ]
  },
  {
   "cell_type": "code",
   "execution_count": 5,
   "id": "8eaae139-297f-4c42-9f60-1bab850e133b",
   "metadata": {},
   "outputs": [],
   "source": [
    "#Your code "
   ]
  },
  {
   "cell_type": "code",
   "execution_count": 4,
   "id": "b8d248b4-2cdd-42f1-863e-e1c0c5fc142b",
   "metadata": {},
   "outputs": [],
   "source": [
    "#Your code from the script:"
   ]
  }
 ],
 "metadata": {
  "kernelspec": {
   "display_name": "Python 3 (ipykernel)",
   "language": "python",
   "name": "python3"
  },
  "language_info": {
   "codemirror_mode": {
    "name": "ipython",
    "version": 3
   },
   "file_extension": ".py",
   "mimetype": "text/x-python",
   "name": "python",
   "nbconvert_exporter": "python",
   "pygments_lexer": "ipython3",
   "version": "3.11.5"
  }
 },
 "nbformat": 4,
 "nbformat_minor": 5
}
