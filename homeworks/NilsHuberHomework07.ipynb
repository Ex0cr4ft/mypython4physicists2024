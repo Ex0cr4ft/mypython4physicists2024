{
 "cells": [
  {
   "cell_type": "markdown",
   "id": "2afec552-95ae-4ebf-baac-7297ef0a8d0a",
   "metadata": {},
   "source": [
    "# Homework 7"
   ]
  },
  {
   "cell_type": "markdown",
   "id": "3cdf3e69-80fd-4932-8252-4216d83f1387",
   "metadata": {},
   "source": [
    "## Name: Nils Huber"
   ]
  },
  {
   "cell_type": "markdown",
   "id": "3a2c6d15-50b0-4157-9ad7-0ea1d72d2b27",
   "metadata": {},
   "source": [
    "# A gravity assist to save the Numpyans"
   ]
  },
  {
   "cell_type": "markdown",
   "id": "ed503639-0358-4470-afe7-c3a33532c3d4",
   "metadata": {},
   "source": [
    "In a galaxy far, far away, there is a planet whose inhabitants are one of the most developed civilizations of the Universe. This alien population is known as \"The Numpyans\", and their planet is \"Arreyu\". The planetary system of which Arreyu is part is very particular because at the center there isn't a star but a black hole known as \"Matrixar\". \n",
    "\n",
    "Over the centuries, the Numpyans have been polluting their planet Arreyu more and more, so much so that this isn't any more suitable for hosting life. All their technology couldn't do anything against this environmental disaster, but it could still be capable of saving the Numpyans. How? By transferring the whole population to a different planet. Around Matrixar, no other place is suitable for life. Therefore, the Numpyans must go further away in a new planetary system. To do so, they should accelerate their spaceships to very high velocities. The planetary task force for interstellar migration is considering obtaining this acceleration by approaching closely the black hole Matrixar. This acceleration process is known as \"Gravity assist\". The task force is, however, concerned by the tidal forces close to the black hole because they fear they could tear apart the single Numpyan.\n",
    "\n",
    "In this problem you will have to estimate the effect of tidal forces on the whole population of the Numpyans"
   ]
  },
  {
   "cell_type": "markdown",
   "id": "93b8671d-dece-4787-a89b-2d81808216dc",
   "metadata": {},
   "source": [
    "### Population heights\n",
    "For the next tasks you will need the whole data relative to the Numpyans population. In particular, you will need to know the height of the single individual. To do so you have to use the numpy funcion `numpy.random.normal(mean, scale, size)`. This function generates random numbers following a normal distribution, the parameters are:\n",
    "- `mean` is the mean $\\mu$ of the gaussian;\n",
    "- `scale` is the standard deviation $\\sigma$;\n",
    "- `size` determines the size of the numpy array that is filled with this random numbers (if it is just an integer `n`, it generates a numpy array with `n` elements)."
   ]
  },
  {
   "cell_type": "markdown",
   "id": "2890fe73-e655-4b55-b817-16125c6c60c3",
   "metadata": {},
   "source": [
    "**(A)** Generate a numpy array with the heights for each single Numpyan. Following a normal distribution, the $10^6$ Numpyans have a mean height $\\mu$ = $1,20 $ m while the standard deviation is $0,15$ m.\n"
   ]
  },
  {
   "cell_type": "code",
   "execution_count": 506,
   "id": "52fac49e-2c6c-4f1e-b2c4-82d8d5515999",
   "metadata": {},
   "outputs": [],
   "source": [
    "import numpy as np\n",
    "\n",
    "size=int(1e6) # because size seems to need to be an integer\n",
    "mean=1.2\n",
    "scale=0.15\n",
    "\n",
    "hgts=np.random.normal(mean,scale,size)"
   ]
  },
  {
   "cell_type": "markdown",
   "id": "27d235b8-5f25-4717-954e-50e891f23b2b",
   "metadata": {},
   "source": [
    "### The Schwarzschild radius\n",
    "For a non-rotating black hole (a Schwarzschild black hole), the Schwarzschild radius defines the event horizon (the distance from the black hole center where the escape velocity is equal to the speed of light). Any object that goes over the event horizon can never return back. The Schwarzschild radius $r_s$ depends only on the black hole mass:\n",
    "$$ r_s = \\frac{2GM}{c^2} $$\n",
    "Where $G$ is the gravitational constant $G=6.674\\times10^{-11}$ $\\frac{\\mathrm{m}^3}{\\mathrm{kg}\\,\\mathrm{s}^2}$, and $c$ is the speed of light $c\\simeq3\\times10^8$ m/s."
   ]
  },
  {
   "cell_type": "markdown",
   "id": "ce2cf322-822a-46b0-a0a5-b09fabb9b571",
   "metadata": {},
   "source": [
    "**(B)** Calculate the Schwarzschild radius for Matrixar. For its mass use $M = 3.0\\times10^{34}$ kg. Express it in meters as well in units of our Sun radius $r_\\mathrm{☉} = 696340 $ km."
   ]
  },
  {
   "cell_type": "code",
   "execution_count": 507,
   "id": "fc5f0d34-4eee-4e36-b8e9-9cd55b85770e",
   "metadata": {},
   "outputs": [
    {
     "name": "stdout",
     "output_type": "stream",
     "text": [
      "r_s = 44493333.33 m\n",
      "r_s = 0.0639 r_sun\n"
     ]
    }
   ],
   "source": [
    "G=6.674e-11\n",
    "c=3e8\n",
    "M=3e34\n",
    "\n",
    "def rs(Grav,Mass):\n",
    "    return 2*Grav*Mass/c**2\n",
    "\n",
    "rad=rs(G,M)\n",
    "print(f'r_s = {rad:.2f} m')\n",
    "\n",
    "#cast to sunrad\n",
    "sr=696340e3 #m\n",
    "\n",
    "rad_s=rad/sr\n",
    "print(f'r_s = {rad_s:.4f} r_sun')"
   ]
  },
  {
   "cell_type": "markdown",
   "id": "42bc1103-d2d7-48a7-b913-a8edb77defe4",
   "metadata": {},
   "source": [
    "**(C)** The task force for intestellar migration proposes for the gravity assist to pass between 1 to 2 Schwarzschild radii from the black hole. Generate a numpy array with 100 radii linearly distributed between these two limits. Express these distances both in meters and in Sun radii."
   ]
  },
  {
   "cell_type": "code",
   "execution_count": 508,
   "id": "41abad48-bc63-47fa-89f1-0dbefb6dca8b",
   "metadata": {},
   "outputs": [
    {
     "name": "stdout",
     "output_type": "stream",
     "text": [
      "Spots:\n",
      "1 | 44493333.33 m <-> 0.064 r_sun\n",
      "2 | 44942760.94 m <-> 0.065 r_sun\n",
      "3 | 45392188.55 m <-> 0.065 r_sun\n",
      "4 | 45841616.16 m <-> 0.066 r_sun\n",
      "5 | 46291043.77 m <-> 0.066 r_sun\n",
      "6 | 46740471.38 m <-> 0.067 r_sun\n",
      "7 | 47189898.99 m <-> 0.068 r_sun\n",
      "8 | 47639326.60 m <-> 0.068 r_sun\n",
      "9 | 48088754.21 m <-> 0.069 r_sun\n",
      "10 | 48538181.82 m <-> 0.070 r_sun\n",
      "11 | 48987609.43 m <-> 0.070 r_sun\n",
      "12 | 49437037.04 m <-> 0.071 r_sun\n",
      "13 | 49886464.65 m <-> 0.072 r_sun\n",
      "14 | 50335892.26 m <-> 0.072 r_sun\n",
      "15 | 50785319.87 m <-> 0.073 r_sun\n",
      "16 | 51234747.47 m <-> 0.074 r_sun\n",
      "17 | 51684175.08 m <-> 0.074 r_sun\n",
      "18 | 52133602.69 m <-> 0.075 r_sun\n",
      "19 | 52583030.30 m <-> 0.076 r_sun\n",
      "20 | 53032457.91 m <-> 0.076 r_sun\n",
      "21 | 53481885.52 m <-> 0.077 r_sun\n",
      "22 | 53931313.13 m <-> 0.077 r_sun\n",
      "23 | 54380740.74 m <-> 0.078 r_sun\n",
      "24 | 54830168.35 m <-> 0.079 r_sun\n",
      "25 | 55279595.96 m <-> 0.079 r_sun\n",
      "26 | 55729023.57 m <-> 0.080 r_sun\n",
      "27 | 56178451.18 m <-> 0.081 r_sun\n",
      "28 | 56627878.79 m <-> 0.081 r_sun\n",
      "29 | 57077306.40 m <-> 0.082 r_sun\n",
      "30 | 57526734.01 m <-> 0.083 r_sun\n",
      "31 | 57976161.62 m <-> 0.083 r_sun\n",
      "32 | 58425589.23 m <-> 0.084 r_sun\n",
      "33 | 58875016.84 m <-> 0.085 r_sun\n",
      "34 | 59324444.44 m <-> 0.085 r_sun\n",
      "35 | 59773872.05 m <-> 0.086 r_sun\n",
      "36 | 60223299.66 m <-> 0.086 r_sun\n",
      "37 | 60672727.27 m <-> 0.087 r_sun\n",
      "38 | 61122154.88 m <-> 0.088 r_sun\n",
      "39 | 61571582.49 m <-> 0.088 r_sun\n",
      "40 | 62021010.10 m <-> 0.089 r_sun\n",
      "41 | 62470437.71 m <-> 0.090 r_sun\n",
      "42 | 62919865.32 m <-> 0.090 r_sun\n",
      "43 | 63369292.93 m <-> 0.091 r_sun\n",
      "44 | 63818720.54 m <-> 0.092 r_sun\n",
      "45 | 64268148.15 m <-> 0.092 r_sun\n",
      "46 | 64717575.76 m <-> 0.093 r_sun\n",
      "47 | 65167003.37 m <-> 0.094 r_sun\n",
      "48 | 65616430.98 m <-> 0.094 r_sun\n",
      "49 | 66065858.59 m <-> 0.095 r_sun\n",
      "50 | 66515286.20 m <-> 0.096 r_sun\n",
      "51 | 66964713.80 m <-> 0.096 r_sun\n",
      "52 | 67414141.41 m <-> 0.097 r_sun\n",
      "53 | 67863569.02 m <-> 0.097 r_sun\n",
      "54 | 68312996.63 m <-> 0.098 r_sun\n",
      "55 | 68762424.24 m <-> 0.099 r_sun\n",
      "56 | 69211851.85 m <-> 0.099 r_sun\n",
      "57 | 69661279.46 m <-> 0.100 r_sun\n",
      "58 | 70110707.07 m <-> 0.101 r_sun\n",
      "59 | 70560134.68 m <-> 0.101 r_sun\n",
      "60 | 71009562.29 m <-> 0.102 r_sun\n",
      "61 | 71458989.90 m <-> 0.103 r_sun\n",
      "62 | 71908417.51 m <-> 0.103 r_sun\n",
      "63 | 72357845.12 m <-> 0.104 r_sun\n",
      "64 | 72807272.73 m <-> 0.105 r_sun\n",
      "65 | 73256700.34 m <-> 0.105 r_sun\n",
      "66 | 73706127.95 m <-> 0.106 r_sun\n",
      "67 | 74155555.56 m <-> 0.106 r_sun\n",
      "68 | 74604983.16 m <-> 0.107 r_sun\n",
      "69 | 75054410.77 m <-> 0.108 r_sun\n",
      "70 | 75503838.38 m <-> 0.108 r_sun\n",
      "71 | 75953265.99 m <-> 0.109 r_sun\n",
      "72 | 76402693.60 m <-> 0.110 r_sun\n",
      "73 | 76852121.21 m <-> 0.110 r_sun\n",
      "74 | 77301548.82 m <-> 0.111 r_sun\n",
      "75 | 77750976.43 m <-> 0.112 r_sun\n",
      "76 | 78200404.04 m <-> 0.112 r_sun\n",
      "77 | 78649831.65 m <-> 0.113 r_sun\n",
      "78 | 79099259.26 m <-> 0.114 r_sun\n",
      "79 | 79548686.87 m <-> 0.114 r_sun\n",
      "80 | 79998114.48 m <-> 0.115 r_sun\n",
      "81 | 80447542.09 m <-> 0.116 r_sun\n",
      "82 | 80896969.70 m <-> 0.116 r_sun\n",
      "83 | 81346397.31 m <-> 0.117 r_sun\n",
      "84 | 81795824.92 m <-> 0.117 r_sun\n",
      "85 | 82245252.53 m <-> 0.118 r_sun\n",
      "86 | 82694680.13 m <-> 0.119 r_sun\n",
      "87 | 83144107.74 m <-> 0.119 r_sun\n",
      "88 | 83593535.35 m <-> 0.120 r_sun\n",
      "89 | 84042962.96 m <-> 0.121 r_sun\n",
      "90 | 84492390.57 m <-> 0.121 r_sun\n",
      "91 | 84941818.18 m <-> 0.122 r_sun\n",
      "92 | 85391245.79 m <-> 0.123 r_sun\n",
      "93 | 85840673.40 m <-> 0.123 r_sun\n",
      "94 | 86290101.01 m <-> 0.124 r_sun\n",
      "95 | 86739528.62 m <-> 0.125 r_sun\n",
      "96 | 87188956.23 m <-> 0.125 r_sun\n",
      "97 | 87638383.84 m <-> 0.126 r_sun\n",
      "98 | 88087811.45 m <-> 0.127 r_sun\n",
      "99 | 88537239.06 m <-> 0.127 r_sun\n",
      "100 | 88986666.67 m <-> 0.128 r_sun\n"
     ]
    }
   ],
   "source": [
    "spots=np.linspace(rad,2*rad,100)\n",
    "\n",
    "print('Spots:')\n",
    "for i,spot in enumerate(spots):\n",
    "    print(f'{i+1} | {spot:.2f} m <-> {spot/sr:.3f} r_sun')"
   ]
  },
  {
   "cell_type": "markdown",
   "id": "a76ac06a-9ea3-45f8-af29-9c9960fc26db",
   "metadata": {},
   "source": [
    "### Tidal acceleration\n",
    "The gravitational force generated by the black hole is not constant over the space. If an object has a linear size $r$, at its extremes there may be two different gravitational forces. The difference between these two forces is a force as well, and is known as *tidal force*. This translates in an acceleration, the *tidal acceleration*. For a body with an extension $r$, at a distance $D$ from the black hole (or any other object), the tidal acceleration $a_g$ is given by:\n",
    "$$a_g=\\frac{2rGM}{D^3}$$"
   ]
  },
  {
   "cell_type": "markdown",
   "id": "8a6c2932-c6b4-4999-a26b-0edea1bd34da",
   "metadata": {},
   "source": [
    "**(D)** The maximum tidal acceleration that a Numpyan can withstand is about $a_{g,\\,\\mathrm{max}} = 60$ m/s$^2$. At higher accelerations a Numpyan would die. Find which is the smallest distance to the black hole at which no Numpyan dies because of the tidal forces when approaching the black hole. In this task you are supposed to use as much as possible the numpy functions seen at the lecture."
   ]
  },
  {
   "cell_type": "code",
   "execution_count": 509,
   "id": "27daade1-ecb3-4a12-8fea-7292d744f3d1",
   "metadata": {},
   "outputs": [
    {
     "name": "stdout",
     "output_type": "stream",
     "text": [
      "At a distance of 50335892 m <-> 0.072 r_sun, no Numpyan dies.\n"
     ]
    }
   ],
   "source": [
    "ag_max=60\n",
    "\n",
    "def ag(r,D):\n",
    "    return 2*r*G*M/(D**3)\n",
    "\n",
    "for dist in spots:\n",
    "    surv=np.all(ag(hgts,dist)<=ag_max)\n",
    "    if surv:\n",
    "        print(f'At a distance of {dist:.0f} m <-> {dist/sr:.3f} r_sun, no Numpyan dies.')\n",
    "        break"
   ]
  },
  {
   "cell_type": "markdown",
   "id": "7b4cb6b1-2fce-4a52-a9c0-1fa4c747543a",
   "metadata": {},
   "source": [
    "**(E)** Half of the Numpyans have pets that will also travel. Create an array with the heights of the pets where the mean height is  $\\mu$ = 1 m and the standard deviation is 0.5 m. \n",
    "\n",
    "Make a 2D numpy array ``total_pop`` where ``total_pop[0]`` represents the heights of the Numpyans and ``total_pop[1]`` the heights of them **and** there pets. In order to do this, take every second Numpyan height and insert it into the ``total_pop[1]`` array, so that you have the pairs of Numpyan and their pet next to each other:\n",
    "\n",
    "\n",
    "``total_pop[1] = [Numpyan_height_1, pets_height_1, Numpyan_height_2, pets_height_2, ...]``\n",
    "\n",
    "The Numpyans can only travel in pairs with their pets. If one of them would die and the other would survive, they can not travel. Calculate how many Numpyans and pets would die if they would approach Matrixar at the Schwarzschild radius and print the number of pairs that are able to travel. \n",
    "\n",
    " Which would be the minimum height of the Numpyans and the pets that would die? In this task you are supposed to use as much as possible the numpy functions seen at the lecture. \n",
    "\n"
   ]
  },
  {
   "cell_type": "code",
   "execution_count": 510,
   "id": "21b0bacf-0c3a-45e2-a95b-be3d176124ae",
   "metadata": {},
   "outputs": [
    {
     "name": "stdout",
     "output_type": "stream",
     "text": [
      "Total Poplualtion:\n",
      " [[1.34053126 1.24184772 1.15148414 ... 0.96844799 1.31020593 1.28727166]\n",
      " [1.34053126 1.39582011 1.15148414 ... 0.4972151  1.31020593 0.54989574]]\n",
      "At the Schwarzschild radius (44493333 m) 317947 die!\n",
      "There are 158038 pairs unable to travel.\n",
      "At a hights of 59773872 m, no one would die.\n"
     ]
    }
   ],
   "source": [
    "npets=int(len(hgts)/2)\n",
    "pets=np.random.normal(1,0.5,npets)\n",
    "\n",
    "total_pop = np.empty((2, len(hgts)))\n",
    "\n",
    "total_pop[0] = hgts\n",
    "\n",
    "total_pop[1] = hgts\n",
    "for i in range(0,len(pets)):\n",
    "    total_pop[1,2*i+1]=pets[i]\n",
    "\n",
    "print('Total Poplualtion:\\n',total_pop)\n",
    "\n",
    "##\n",
    "idead_nump=np.where(ag(total_pop[0],rad)>ag_max) # all dead numpyans\n",
    "idead_tp1=np.where(ag(total_pop[1],rad)>ag_max) # all dead in tp[1]\n",
    "#print(idead_tp1)\n",
    "idead_pt=np.where(idead_tp1[0] % 2 == 0) # only these indices which are really pets\n",
    "\n",
    "ndead=len(idead_nump[0])+len(idead_pt[0])\n",
    "print(f'At the Schwarzschild radius ({rad:.0f} m) {ndead} die!')\n",
    "\n",
    "#Pairs\n",
    "pairs=[]\n",
    "for ad in idead_tp1[0]:\n",
    "    if len(pairs)==0:\n",
    "        pairs.append(ad)\n",
    "    elif not (ad %2 == 0 and ad != pairs[-1]+1): # so we ignore pets which numpyan we alread had\n",
    "        pairs.append(ad)\n",
    "\n",
    "print(f'There are {len(pairs)} pairs unable to travel.')\n",
    "\n",
    "#Hights\n",
    "nps=True # 'flags' for searching\n",
    "pts=True\n",
    "for dist in spots:\n",
    "        surv_nump=np.all(ag(total_pop[1][idead_nump],dist)<=ag_max)\n",
    "        if nps and surv_nump: # only search on if not found\n",
    "            hmax_nump=dist\n",
    "            pts=False\n",
    "        surv_pt=np.all(ag(total_pop[1][idead_pt],dist)<=ag_max)\n",
    "        if pts and surv_pt:\n",
    "            hmax_pt=dist\n",
    "            pts=False\n",
    "        if pts and nps:\n",
    "             break\n",
    "\n",
    "minh=min(hmax_pt,hmax_nump)\n",
    "print(f'At a hights of {minh:.0f} m, no one would die.')"
   ]
  }
 ],
 "metadata": {
  "kernelspec": {
   "display_name": "F-Praktikum",
   "language": "python",
   "name": "python3"
  },
  "language_info": {
   "codemirror_mode": {
    "name": "ipython",
    "version": 3
   },
   "file_extension": ".py",
   "mimetype": "text/x-python",
   "name": "python",
   "nbconvert_exporter": "python",
   "pygments_lexer": "ipython3",
   "version": "3.12.7"
  }
 },
 "nbformat": 4,
 "nbformat_minor": 5
}
