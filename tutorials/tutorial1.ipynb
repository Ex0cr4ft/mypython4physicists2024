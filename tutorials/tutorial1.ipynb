{
 "cells": [
  {
   "cell_type": "markdown",
   "id": "378c3623",
   "metadata": {},
   "source": [
    "# Tutorial 1"
   ]
  },
  {
   "cell_type": "markdown",
   "id": "c265b593",
   "metadata": {},
   "source": [
    "## Coding environment organization"
   ]
  },
  {
   "cell_type": "markdown",
   "id": "25298442",
   "metadata": {},
   "source": [
    "1. What is the type or context of this cell?"
   ]
  },
  {
   "cell_type": "code",
   "execution_count": null,
   "id": "afab2d17",
   "metadata": {},
   "outputs": [],
   "source": [
    "2. What is the type of this cell?"
   ]
  },
  {
   "cell_type": "markdown",
   "id": "e7396af4",
   "metadata": {},
   "source": [
    "Why some words in the cell above are highlighted?"
   ]
  },
  {
   "cell_type": "markdown",
   "id": "bd617602",
   "metadata": {},
   "source": [
    "3. How to comment the following code snippet: "
   ]
  },
  {
   "cell_type": "code",
   "execution_count": null,
   "id": "fb8a001e",
   "metadata": {},
   "outputs": [],
   "source": [
    "a = 2"
   ]
  },
  {
   "cell_type": "markdown",
   "id": "7cc501e5",
   "metadata": {},
   "source": [
    "4. How to comment the following code snippet:"
   ]
  },
  {
   "cell_type": "code",
   "execution_count": null,
   "id": "1cbefb91",
   "metadata": {},
   "outputs": [],
   "source": [
    "a = 2\n",
    "b = 3\n",
    "c = 4 "
   ]
  },
  {
   "cell_type": "markdown",
   "id": "a1aa89ac",
   "metadata": {},
   "source": [
    "## Variable names"
   ]
  },
  {
   "cell_type": "markdown",
   "id": "89997e03",
   "metadata": {},
   "source": [
    "Are the following variable's names are valid in Python?"
   ]
  },
  {
   "cell_type": "code",
   "execution_count": null,
   "id": "7f695251",
   "metadata": {},
   "outputs": [],
   "source": [
    "1st_student = 'John'"
   ]
  },
  {
   "cell_type": "code",
   "execution_count": null,
   "id": "cb395c3f",
   "metadata": {},
   "outputs": [],
   "source": [
    "my-name = 'John'"
   ]
  },
  {
   "cell_type": "code",
   "execution_count": null,
   "id": "b4aa243e",
   "metadata": {},
   "outputs": [],
   "source": [
    "学生 = 'John'"
   ]
  },
  {
   "cell_type": "code",
   "execution_count": null,
   "id": "1bb1c610",
   "metadata": {},
   "outputs": [],
   "source": [
    "lambda = 1"
   ]
  },
  {
   "cell_type": "code",
   "execution_count": null,
   "id": "f2fc5e8e",
   "metadata": {},
   "outputs": [],
   "source": [
    "sum = 101011\n",
    "sum(0+1)"
   ]
  },
  {
   "cell_type": "markdown",
   "id": "b8a0c4f3",
   "metadata": {},
   "source": [
    "### Rules:\n",
    "- 1\n",
    "- 2\n",
    "- 3\n",
    "- 4"
   ]
  },
  {
   "cell_type": "markdown",
   "id": "93df2bab-05b3-4bbf-849c-3aa4b79f340d",
   "metadata": {},
   "source": [
    "Also note: variable live in the code during one notebook session even if you delete the cell!"
   ]
  },
  {
   "cell_type": "code",
   "execution_count": null,
   "id": "b27d1802-e9e4-4c8f-bff7-a5b262e6dc81",
   "metadata": {},
   "outputs": [],
   "source": [
    "a = 42"
   ]
  },
  {
   "cell_type": "markdown",
   "id": "c6ae2095-6ec6-450e-bdf0-332ebc69f1be",
   "metadata": {},
   "source": [
    "Now let's delete the cell above and execute the cell below"
   ]
  },
  {
   "cell_type": "code",
   "execution_count": null,
   "id": "7f79ed7a-715e-4212-a269-4495096a3d03",
   "metadata": {},
   "outputs": [],
   "source": [
    "a+2"
   ]
  },
  {
   "cell_type": "markdown",
   "id": "07a14060-f33b-4cfe-809d-952d777e73af",
   "metadata": {},
   "source": [
    "It works! But if you restart the notebook, the variable doesn't exists anymore. \n",
    "\n",
    "Be careful in your homeworks! \n",
    "\n",
    "**Always do Kernel -> Restart Kernel and Clear Outputs of all Cells -> execute all the cells again and make sure everything works!**"
   ]
  },
  {
   "cell_type": "markdown",
   "id": "0da2c3d7",
   "metadata": {},
   "source": [
    "## Printing"
   ]
  },
  {
   "cell_type": "markdown",
   "id": "83977686",
   "metadata": {},
   "source": [
    "5. What will be shown after the execution of the following cells?"
   ]
  },
  {
   "cell_type": "code",
   "execution_count": null,
   "id": "9853919c",
   "metadata": {},
   "outputs": [],
   "source": [
    "a+b"
   ]
  },
  {
   "cell_type": "code",
   "execution_count": null,
   "id": "a72d2e8c",
   "metadata": {},
   "outputs": [],
   "source": [
    "a+b\n",
    "b+c"
   ]
  },
  {
   "cell_type": "code",
   "execution_count": null,
   "id": "056ea430",
   "metadata": {},
   "outputs": [],
   "source": [
    "print(a+b)\n",
    "print(b+c)"
   ]
  },
  {
   "cell_type": "markdown",
   "id": "249488b8",
   "metadata": {},
   "source": [
    "## Data types"
   ]
  },
  {
   "cell_type": "markdown",
   "id": "d3a0c588",
   "metadata": {},
   "source": [
    "6. What will be the output of the following cells?"
   ]
  },
  {
   "cell_type": "code",
   "execution_count": null,
   "id": "fd589267",
   "metadata": {},
   "outputs": [],
   "source": [
    "type(3)"
   ]
  },
  {
   "cell_type": "code",
   "execution_count": null,
   "id": "5969b4e5",
   "metadata": {},
   "outputs": [],
   "source": [
    "type(3.14)"
   ]
  },
  {
   "cell_type": "code",
   "execution_count": null,
   "id": "0cbdae71",
   "metadata": {},
   "outputs": [],
   "source": [
    "type('pi')"
   ]
  },
  {
   "cell_type": "code",
   "execution_count": null,
   "id": "3f47c5a9",
   "metadata": {},
   "outputs": [],
   "source": [
    "type('p')"
   ]
  },
  {
   "cell_type": "code",
   "execution_count": null,
   "id": "ac7068ee",
   "metadata": {},
   "outputs": [],
   "source": [
    "type([1,2,3])"
   ]
  },
  {
   "cell_type": "code",
   "execution_count": null,
   "id": "f71ee6e2",
   "metadata": {},
   "outputs": [],
   "source": [
    "type((1,2,3))"
   ]
  },
  {
   "cell_type": "markdown",
   "id": "882c4d50",
   "metadata": {},
   "source": [
    "What is the difference between two last data types?"
   ]
  },
  {
   "cell_type": "code",
   "execution_count": null,
   "id": "3d35b166",
   "metadata": {},
   "outputs": [],
   "source": [
    "type({1,2,3})"
   ]
  },
  {
   "cell_type": "code",
   "execution_count": null,
   "id": "9ade141a",
   "metadata": {},
   "outputs": [],
   "source": [
    "type(True)"
   ]
  },
  {
   "cell_type": "markdown",
   "id": "cb0bf1d1",
   "metadata": {},
   "source": [
    "Now let's do something more challenging!"
   ]
  },
  {
   "cell_type": "code",
   "execution_count": null,
   "id": "7eaabe73",
   "metadata": {},
   "outputs": [],
   "source": [
    "set([1,1,2,5,2,1])"
   ]
  },
  {
   "cell_type": "code",
   "execution_count": null,
   "id": "a40eadd7",
   "metadata": {},
   "outputs": [],
   "source": [
    "print(bool(0))\n",
    "print(bool(6))"
   ]
  },
  {
   "cell_type": "code",
   "execution_count": null,
   "id": "148a502b",
   "metadata": {},
   "outputs": [],
   "source": [
    "print(bool(\"string\"))\n",
    "print(bool(\"\"))"
   ]
  },
  {
   "cell_type": "code",
   "execution_count": null,
   "id": "ec96db1c",
   "metadata": {},
   "outputs": [],
   "source": []
  },
  {
   "cell_type": "markdown",
   "id": "d37f3f2c",
   "metadata": {},
   "source": [
    "## Operators"
   ]
  },
  {
   "cell_type": "markdown",
   "id": "292408e1",
   "metadata": {},
   "source": [
    "7. What will be the output of the following cells?"
   ]
  },
  {
   "cell_type": "code",
   "execution_count": null,
   "id": "6f7ae844",
   "metadata": {},
   "outputs": [],
   "source": [
    "type(2+1)"
   ]
  },
  {
   "cell_type": "code",
   "execution_count": null,
   "id": "f7378be1",
   "metadata": {},
   "outputs": [],
   "source": [
    "type(2/1)"
   ]
  },
  {
   "cell_type": "code",
   "execution_count": null,
   "id": "076f8bad",
   "metadata": {},
   "outputs": [],
   "source": [
    "5/2==2.5"
   ]
  },
  {
   "cell_type": "code",
   "execution_count": null,
   "id": "ab0e7fbc",
   "metadata": {},
   "outputs": [],
   "source": [
    "5<10"
   ]
  },
  {
   "cell_type": "code",
   "execution_count": null,
   "id": "13115cf9",
   "metadata": {},
   "outputs": [],
   "source": [
    "False == 0"
   ]
  },
  {
   "cell_type": "code",
   "execution_count": null,
   "id": "33b22182",
   "metadata": {},
   "outputs": [],
   "source": [
    "5 + 4 < 3 * 2"
   ]
  },
  {
   "cell_type": "code",
   "execution_count": null,
   "id": "2e7b4ae1",
   "metadata": {},
   "outputs": [],
   "source": [
    "5 + (4 < 3) * 2"
   ]
  },
  {
   "cell_type": "code",
   "execution_count": null,
   "id": "118a5d6c",
   "metadata": {},
   "outputs": [],
   "source": [
    "3**2*2"
   ]
  },
  {
   "cell_type": "code",
   "execution_count": null,
   "id": "1c068db4",
   "metadata": {},
   "outputs": [],
   "source": [
    "3**2**0.5  # is it 9**0.5 = 3 or 3**(1.41...)?"
   ]
  },
  {
   "cell_type": "code",
   "execution_count": null,
   "id": "5f52a62f",
   "metadata": {},
   "outputs": [],
   "source": [
    "\"Max\" = \"max\""
   ]
  },
  {
   "cell_type": "code",
   "execution_count": null,
   "id": "3fde4bca",
   "metadata": {},
   "outputs": [],
   "source": [
    "\"A\"<\"a\""
   ]
  },
  {
   "cell_type": "code",
   "execution_count": null,
   "id": "95a9a10b",
   "metadata": {},
   "outputs": [],
   "source": [
    "7==7.0"
   ]
  },
  {
   "cell_type": "code",
   "execution_count": null,
   "id": "5b20121b",
   "metadata": {},
   "outputs": [],
   "source": [
    "a = [1, 2, 3]\n",
    "b = [1, 2, 3]\n",
    "\n",
    "print(a == b)  \n",
    "print(a is b)"
   ]
  },
  {
   "cell_type": "code",
   "execution_count": null,
   "id": "7033e850",
   "metadata": {},
   "outputs": [],
   "source": [
    "a = [1, 2, 3]\n",
    "b = a\n",
    "\n",
    "print(a == b)\n",
    "print(a is b)"
   ]
  },
  {
   "cell_type": "markdown",
   "id": "2c845127",
   "metadata": {},
   "source": [
    "8. How to check if the number is odd or even?"
   ]
  },
  {
   "cell_type": "code",
   "execution_count": null,
   "id": "895715de",
   "metadata": {},
   "outputs": [],
   "source": []
  },
  {
   "cell_type": "markdown",
   "id": "bb2c8f80",
   "metadata": {},
   "source": [
    "9. What will be the output of the following lines? What is the difference between two addition operations?"
   ]
  },
  {
   "cell_type": "code",
   "execution_count": null,
   "id": "165348d1",
   "metadata": {},
   "outputs": [],
   "source": [
    "x = 2\n",
    "x = x+2\n",
    "x+=2\n",
    "print(x)"
   ]
  },
  {
   "cell_type": "code",
   "execution_count": null,
   "id": "f538e5b1",
   "metadata": {},
   "outputs": [],
   "source": []
  },
  {
   "cell_type": "markdown",
   "id": "c171a368",
   "metadata": {},
   "source": [
    "10. Logical operators vs bitwise operators"
   ]
  },
  {
   "cell_type": "code",
   "execution_count": null,
   "id": "a2f2eb85",
   "metadata": {},
   "outputs": [],
   "source": [
    "0 and 1"
   ]
  },
  {
   "cell_type": "code",
   "execution_count": null,
   "id": "2dba65e3",
   "metadata": {},
   "outputs": [],
   "source": [
    "0 & 1"
   ]
  },
  {
   "cell_type": "code",
   "execution_count": null,
   "id": "4edfef3e",
   "metadata": {},
   "outputs": [],
   "source": [
    "5 & 7"
   ]
  },
  {
   "cell_type": "markdown",
   "id": "ea36b854",
   "metadata": {
    "tags": [
     "\"hide-input\""
    ]
   },
   "source": [
    "<details>\n",
    "  <summary>Click here</summary>\n",
    "\n",
    "### & is a bitwise operator\n",
    "\n",
    "5     = 0b101\n",
    "\n",
    "7     = 0b111\n",
    "***\n",
    "    \n",
    "5 & 7 = 0b101 = 5 \n",
    "\n",
    "The same will happen for 7&5\n",
    "</details>\n"
   ]
  },
  {
   "cell_type": "code",
   "execution_count": null,
   "id": "5c169e63",
   "metadata": {},
   "outputs": [],
   "source": [
    "7&5"
   ]
  },
  {
   "cell_type": "code",
   "execution_count": null,
   "id": "ef81c70a",
   "metadata": {},
   "outputs": [],
   "source": [
    "5 and 7"
   ]
  },
  {
   "cell_type": "code",
   "execution_count": null,
   "id": "95451b9e",
   "metadata": {},
   "outputs": [],
   "source": [
    "7 and 5"
   ]
  },
  {
   "cell_type": "markdown",
   "id": "141592da",
   "metadata": {},
   "source": [
    "<details>\n",
    "  <summary>Click here</summary>\n",
    "\n",
    "[Python.Docs]: Boolean operations\n",
    "    \n",
    "***\n",
    "Note that neither and nor or restrict the value and type they return to False and True, but rather **return the last evaluated argument**.\n",
    "***\n",
    "    \n",
    "    \n",
    "    \n",
    "</details>"
   ]
  },
  {
   "cell_type": "code",
   "execution_count": null,
   "id": "2f526b7d",
   "metadata": {},
   "outputs": [],
   "source": [
    "0 <1 and 0 < 2"
   ]
  },
  {
   "cell_type": "code",
   "execution_count": null,
   "id": "0910b918",
   "metadata": {},
   "outputs": [],
   "source": [
    "0 < 1 & 0 < 2"
   ]
  },
  {
   "cell_type": "markdown",
   "id": "f74adee1",
   "metadata": {},
   "source": [
    "<details>\n",
    "  <summary>Click here</summary>\n",
    "Explanation: \n",
    "    \n",
    "0 < 1 & 0 < 2 equivalent to \n",
    "    \n",
    "0 < (1 & 0) < 2\n",
    "    \n",
    "0 < 0 < 2\n",
    "    \n",
    "0 < 2\n",
    "     \n",
    "</details>"
   ]
  },
  {
   "cell_type": "markdown",
   "id": "1a7f98fb-5b58-4cf7-9b46-9f8f48557c8a",
   "metadata": {},
   "source": [
    "We will come back to logical vs bitwise operators later."
   ]
  },
  {
   "cell_type": "markdown",
   "id": "279adf66",
   "metadata": {},
   "source": [
    "## De Morgan's laws"
   ]
  },
  {
   "cell_type": "markdown",
   "id": "ee7ec772",
   "metadata": {},
   "source": [
    "In this task we will make use of Booleans. For that we take a look on De Morgan's laws. The rules allow the expression of conjunctions and disjunctions purely in terms of each other via negation. The rules can be expressed as:\n",
    "\n",
    "\n",
    "\n",
    "$$ \\neg (A \\land B) = \\neg A \\lor \\neg B$$"
   ]
  },
  {
   "cell_type": "markdown",
   "id": "b960e7cb",
   "metadata": {},
   "source": [
    "and"
   ]
  },
  {
   "cell_type": "markdown",
   "id": "c5f1e92c",
   "metadata": {},
   "source": [
    "$$ \\neg (A \\lor B) = \\neg A \\land \\neg B$$"
   ]
  },
  {
   "cell_type": "code",
   "execution_count": null,
   "id": "c2682210",
   "metadata": {},
   "outputs": [],
   "source": [
    "# check the first law here"
   ]
  },
  {
   "cell_type": "code",
   "execution_count": null,
   "id": "1d05ae6a",
   "metadata": {},
   "outputs": [],
   "source": [
    "#check the second law here"
   ]
  },
  {
   "cell_type": "markdown",
   "id": "9e7707de-046b-424d-a677-3afa1348b40c",
   "metadata": {},
   "source": [
    "# Next week: tuples, lists, conditional statemetns and interations! "
   ]
  },
  {
   "cell_type": "code",
   "execution_count": null,
   "id": "df2d9670-24fa-44bc-be85-b69e8e4050bd",
   "metadata": {},
   "outputs": [],
   "source": []
  }
 ],
 "metadata": {
  "kernelspec": {
   "display_name": "Python 3 (ipykernel)",
   "language": "python",
   "name": "python3"
  },
  "language_info": {
   "codemirror_mode": {
    "name": "ipython",
    "version": 3
   },
   "file_extension": ".py",
   "mimetype": "text/x-python",
   "name": "python",
   "nbconvert_exporter": "python",
   "pygments_lexer": "ipython3",
   "version": "3.8.8"
  }
 },
 "nbformat": 4,
 "nbformat_minor": 5
}
