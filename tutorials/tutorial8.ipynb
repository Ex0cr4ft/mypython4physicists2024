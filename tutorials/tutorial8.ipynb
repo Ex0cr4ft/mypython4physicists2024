{
 "cells": [
  {
   "cell_type": "markdown",
   "id": "68542bce",
   "metadata": {},
   "source": [
    "# Tutorial 8"
   ]
  },
  {
   "cell_type": "markdown",
   "id": "72772ca0-4b7a-41bc-9577-377ba00e9019",
   "metadata": {},
   "source": [
    "# Numpy "
   ]
  },
  {
   "cell_type": "code",
   "execution_count": null,
   "id": "ac5745ba-d0d9-438c-8720-dcf814789c99",
   "metadata": {},
   "outputs": [],
   "source": [
    "import numpy as np"
   ]
  },
  {
   "cell_type": "markdown",
   "id": "8c022452",
   "metadata": {},
   "source": [
    " "
   ]
  },
  {
   "cell_type": "markdown",
   "id": "83f32e68",
   "metadata": {},
   "source": [
    " "
   ]
  },
  {
   "cell_type": "markdown",
   "id": "e303a25d",
   "metadata": {},
   "source": [
    "### The concepts of numpy arrays "
   ]
  },
  {
   "cell_type": "code",
   "execution_count": null,
   "id": "4cba14fe",
   "metadata": {},
   "outputs": [],
   "source": []
  },
  {
   "cell_type": "markdown",
   "id": "9ad3b3f1",
   "metadata": {},
   "source": [
    " "
   ]
  },
  {
   "cell_type": "markdown",
   "id": "cb1303f7",
   "metadata": {},
   "source": [
    "1. What is the expected of the following code snippet?"
   ]
  },
  {
   "cell_type": "code",
   "execution_count": null,
   "id": "d3ec5c05",
   "metadata": {},
   "outputs": [],
   "source": [
    "x = [0, 1]\n",
    "y = [2, 3]\n",
    "\n",
    "print(x+y)\n",
    "\n",
    "x = np.array([0, 1])\n",
    "y = np.array([2, 3])\n",
    "\n",
    "print(x+y)"
   ]
  },
  {
   "cell_type": "markdown",
   "id": "0cc4dd28",
   "metadata": {},
   "source": [
    " "
   ]
  },
  {
   "cell_type": "markdown",
   "id": "9620c4db",
   "metadata": {},
   "source": [
    " "
   ]
  },
  {
   "cell_type": "markdown",
   "id": "abdce35d",
   "metadata": {},
   "source": [
    " "
   ]
  },
  {
   "cell_type": "markdown",
   "id": "270a8764",
   "metadata": {},
   "source": [
    " "
   ]
  },
  {
   "cell_type": "markdown",
   "id": "ed265fec",
   "metadata": {},
   "source": [
    "2. ... and this one?"
   ]
  },
  {
   "cell_type": "code",
   "execution_count": null,
   "id": "599c8e60",
   "metadata": {},
   "outputs": [],
   "source": [
    "a = [1,2,3]\n",
    "print(a*2)\n",
    "\n",
    "a = np.array([1,2,3])\n",
    "print(a*2)"
   ]
  },
  {
   "cell_type": "markdown",
   "id": "cde32c22",
   "metadata": {},
   "source": [
    " "
   ]
  },
  {
   "cell_type": "markdown",
   "id": "378908b8",
   "metadata": {},
   "source": [
    " "
   ]
  },
  {
   "cell_type": "markdown",
   "id": "b3056a8f",
   "metadata": {},
   "source": [
    " "
   ]
  },
  {
   "cell_type": "markdown",
   "id": "3dd27525",
   "metadata": {},
   "source": [
    " "
   ]
  },
  {
   "cell_type": "markdown",
   "id": "fd9ba5bb",
   "metadata": {},
   "source": [
    " "
   ]
  },
  {
   "cell_type": "markdown",
   "id": "5e39d10e",
   "metadata": {},
   "source": [
    "3. What will be the data type of each element of the numpy array in the following cell?"
   ]
  },
  {
   "cell_type": "code",
   "execution_count": null,
   "id": "3ae73953",
   "metadata": {},
   "outputs": [],
   "source": [
    "a = np.array([1e3, 4, True])\n",
    "print(a)"
   ]
  },
  {
   "cell_type": "markdown",
   "id": "6f63d3f6",
   "metadata": {},
   "source": [
    " "
   ]
  },
  {
   "cell_type": "markdown",
   "id": "3e6d9d64",
   "metadata": {},
   "source": [
    " "
   ]
  },
  {
   "cell_type": "markdown",
   "id": "002c038d",
   "metadata": {},
   "source": [
    " "
   ]
  },
  {
   "cell_type": "markdown",
   "id": "8df6389f",
   "metadata": {},
   "source": [
    " "
   ]
  },
  {
   "cell_type": "markdown",
   "id": "d253798f",
   "metadata": {},
   "source": [
    "4. What will be the data type of each element here?"
   ]
  },
  {
   "cell_type": "code",
   "execution_count": null,
   "id": "beb16f3b",
   "metadata": {},
   "outputs": [],
   "source": [
    "a = np.array([\"1\", 4, 3])\n",
    "print(a)"
   ]
  },
  {
   "cell_type": "markdown",
   "id": "eab7c026",
   "metadata": {},
   "source": [
    " "
   ]
  },
  {
   "cell_type": "markdown",
   "id": "a0e07abe",
   "metadata": {},
   "source": [
    " "
   ]
  },
  {
   "cell_type": "markdown",
   "id": "c9b067ee",
   "metadata": {},
   "source": [
    " "
   ]
  },
  {
   "cell_type": "markdown",
   "id": "3c3a379c",
   "metadata": {},
   "source": [
    " "
   ]
  },
  {
   "cell_type": "markdown",
   "id": "581ce947",
   "metadata": {},
   "source": [
    " "
   ]
  },
  {
   "cell_type": "markdown",
   "id": "6ee4c96c",
   "metadata": {},
   "source": [
    " "
   ]
  },
  {
   "cell_type": "markdown",
   "id": "75223bfa",
   "metadata": {},
   "source": [
    "5. What is the expected output of the following cell?"
   ]
  },
  {
   "cell_type": "code",
   "execution_count": null,
   "id": "4375f0c2-f3c5-4c32-b681-b509ff3bbd8b",
   "metadata": {},
   "outputs": [],
   "source": [
    "L = [[0,1], [9,0,4], [4,2,7,6]]\n",
    "L = np.array(L)\n",
    "print(L)"
   ]
  },
  {
   "cell_type": "markdown",
   "id": "7bd6796e",
   "metadata": {},
   "source": [
    " "
   ]
  },
  {
   "cell_type": "markdown",
   "id": "24f5a63e",
   "metadata": {},
   "source": [
    " "
   ]
  },
  {
   "cell_type": "markdown",
   "id": "4ea05ea2",
   "metadata": {},
   "source": [
    " "
   ]
  },
  {
   "cell_type": "markdown",
   "id": "80b4533d",
   "metadata": {},
   "source": [
    " "
   ]
  },
  {
   "cell_type": "markdown",
   "id": "370e968d",
   "metadata": {},
   "source": [
    " "
   ]
  },
  {
   "cell_type": "markdown",
   "id": "a7da4a1f",
   "metadata": {},
   "source": [
    "6. What are the requirments for creating a valid numpy array? Which data types can be used inside numpy arrays?"
   ]
  },
  {
   "cell_type": "markdown",
   "id": "cc263f7d",
   "metadata": {},
   "source": [
    " "
   ]
  },
  {
   "cell_type": "markdown",
   "id": "066867e8",
   "metadata": {},
   "source": [
    " "
   ]
  },
  {
   "cell_type": "markdown",
   "id": "1f751f13",
   "metadata": {},
   "source": [
    " "
   ]
  },
  {
   "cell_type": "markdown",
   "id": "7197cc70",
   "metadata": {},
   "source": [
    "<details>\n",
    "  <summary>Click here</summary>\n",
    "\n",
    "Numpy data types \n",
    "\n",
    "- bool\n",
    "- int\n",
    "- float\n",
    "- str\n",
    "- byte\n",
    "- *complex*\n",
    "- nan, inf\n",
    "    \n",
    "Syntaxis for complex numbers: `a = np.array([1+2j, 3+4j, 5+6j])`\n",
    " \n",
    "</details>"
   ]
  },
  {
   "cell_type": "markdown",
   "id": "090b7761",
   "metadata": {},
   "source": [
    " "
   ]
  },
  {
   "cell_type": "markdown",
   "id": "a1f4055e",
   "metadata": {},
   "source": [
    " "
   ]
  },
  {
   "cell_type": "markdown",
   "id": "d93ee1f3",
   "metadata": {},
   "source": [
    " "
   ]
  },
  {
   "cell_type": "markdown",
   "id": "1530069a",
   "metadata": {},
   "source": [
    " "
   ]
  },
  {
   "cell_type": "markdown",
   "id": "a6deac37",
   "metadata": {},
   "source": [
    " "
   ]
  },
  {
   "cell_type": "markdown",
   "id": "c0b9756f",
   "metadata": {},
   "source": [
    " "
   ]
  },
  {
   "cell_type": "markdown",
   "id": "f13bb7a4",
   "metadata": {},
   "source": [
    " "
   ]
  },
  {
   "cell_type": "markdown",
   "id": "edf0f355",
   "metadata": {},
   "source": [
    "### Working with numpy arrays"
   ]
  },
  {
   "cell_type": "markdown",
   "id": "8dec5b26",
   "metadata": {},
   "source": [
    " "
   ]
  },
  {
   "cell_type": "markdown",
   "id": "2142b54b-0ef5-4df1-aece-3cd9005162b3",
   "metadata": {},
   "source": [
    "7. The code below has the aim to replace all negative numbers of ``a`` with zero. We want to replace the following code and use Numpy instead. How can we achieve this in the shortest way?"
   ]
  },
  {
   "cell_type": "code",
   "execution_count": null,
   "id": "fe21fcc3-12a1-4bbc-ad89-2455cd1f03b3",
   "metadata": {},
   "outputs": [],
   "source": [
    "a = [6,3,7,9,4,2,6,8,0,-1,6,3,7,0,4,3,-4]\n",
    "\n",
    "for i in range(len(a)):\n",
    "    if a[i] < 0:\n",
    "        a[i] = 0\n",
    "\n",
    "print(a)"
   ]
  },
  {
   "cell_type": "code",
   "execution_count": null,
   "id": "989202cc",
   "metadata": {},
   "outputs": [],
   "source": []
  },
  {
   "cell_type": "markdown",
   "id": "b0aaebfe",
   "metadata": {},
   "source": [
    " "
   ]
  },
  {
   "cell_type": "markdown",
   "id": "6568cc06",
   "metadata": {},
   "source": [
    " "
   ]
  },
  {
   "cell_type": "markdown",
   "id": "e625adbe",
   "metadata": {},
   "source": [
    " "
   ]
  },
  {
   "cell_type": "markdown",
   "id": "e7e96785",
   "metadata": {},
   "source": [
    " "
   ]
  },
  {
   "cell_type": "markdown",
   "id": "f5530793",
   "metadata": {},
   "source": [
    " "
   ]
  },
  {
   "cell_type": "markdown",
   "id": "5cb3ea67",
   "metadata": {},
   "source": [
    "8. What does the following operation do and what is the expected output?"
   ]
  },
  {
   "cell_type": "code",
   "execution_count": null,
   "id": "512281f7",
   "metadata": {},
   "outputs": [],
   "source": [
    "a = np.array([[1, 1],[1, 1]])\n",
    "b = np.array([[1, 1],[1, 1]])\n",
    "\n",
    "print(a*b)"
   ]
  },
  {
   "cell_type": "markdown",
   "id": "540eeaf8",
   "metadata": {},
   "source": [
    " "
   ]
  },
  {
   "cell_type": "markdown",
   "id": "3b42e443",
   "metadata": {},
   "source": [
    " "
   ]
  },
  {
   "cell_type": "markdown",
   "id": "077b9d7f",
   "metadata": {},
   "source": [
    " "
   ]
  },
  {
   "cell_type": "markdown",
   "id": "759a9376",
   "metadata": {},
   "source": [
    " "
   ]
  },
  {
   "cell_type": "markdown",
   "id": "86c3fdce",
   "metadata": {},
   "source": [
    " "
   ]
  },
  {
   "cell_type": "markdown",
   "id": "0d31a195",
   "metadata": {},
   "source": [
    "9. What does the following operation do? What is the expected output?"
   ]
  },
  {
   "cell_type": "code",
   "execution_count": null,
   "id": "c8a81c95",
   "metadata": {},
   "outputs": [],
   "source": [
    "a.dot(b)"
   ]
  },
  {
   "cell_type": "markdown",
   "id": "37061e2c",
   "metadata": {},
   "source": [
    " "
   ]
  },
  {
   "cell_type": "markdown",
   "id": "414dff69",
   "metadata": {},
   "source": [
    " "
   ]
  },
  {
   "cell_type": "markdown",
   "id": "1506ce9d",
   "metadata": {},
   "source": [
    " "
   ]
  },
  {
   "cell_type": "markdown",
   "id": "616cddfa",
   "metadata": {},
   "source": [
    " "
   ]
  },
  {
   "cell_type": "markdown",
   "id": "f5e07124",
   "metadata": {},
   "source": [
    " "
   ]
  },
  {
   "cell_type": "markdown",
   "id": "f145ceb9",
   "metadata": {},
   "source": [
    "10. How to select element with value `9` in the following array?"
   ]
  },
  {
   "cell_type": "code",
   "execution_count": null,
   "id": "9e8d2d1d",
   "metadata": {},
   "outputs": [],
   "source": [
    "L = [[0,1,5], [9,0,4], [4,2,7]]"
   ]
  },
  {
   "cell_type": "code",
   "execution_count": null,
   "id": "6c5e1da7",
   "metadata": {},
   "outputs": [],
   "source": []
  },
  {
   "cell_type": "markdown",
   "id": "4fea1205",
   "metadata": {},
   "source": [
    " "
   ]
  },
  {
   "cell_type": "markdown",
   "id": "e9fae99e",
   "metadata": {},
   "source": [
    " "
   ]
  },
  {
   "cell_type": "markdown",
   "id": "4c7588c1",
   "metadata": {},
   "source": [
    " "
   ]
  },
  {
   "cell_type": "markdown",
   "id": "9d60a2ec",
   "metadata": {},
   "source": [
    " "
   ]
  },
  {
   "cell_type": "markdown",
   "id": "b87757f4",
   "metadata": {},
   "source": [
    " "
   ]
  },
  {
   "cell_type": "markdown",
   "id": "9adf3807",
   "metadata": {},
   "source": [
    " "
   ]
  },
  {
   "cell_type": "markdown",
   "id": "aaf0b7ac",
   "metadata": {},
   "source": [
    "11. What will be the output? How many dimensions has each array? "
   ]
  },
  {
   "cell_type": "code",
   "execution_count": null,
   "id": "e9f8a41a-0b81-490a-b7d8-0b67cbbadd8b",
   "metadata": {},
   "outputs": [],
   "source": [
    "\n",
    "A1 = np.zeros(5) + 3\n",
    "\n",
    "A2 = np.full(5,3)\n",
    "\n",
    "A3 = np.ones(5) +2\n",
    "\n",
    "print(A1 == A2)\n",
    "print(A2 == A3)"
   ]
  },
  {
   "cell_type": "markdown",
   "id": "f575e512",
   "metadata": {},
   "source": [
    " "
   ]
  },
  {
   "cell_type": "markdown",
   "id": "9fdd9558",
   "metadata": {},
   "source": [
    " "
   ]
  },
  {
   "cell_type": "markdown",
   "id": "058ef4c6",
   "metadata": {},
   "source": [
    " "
   ]
  },
  {
   "cell_type": "markdown",
   "id": "e6790c56",
   "metadata": {},
   "source": [
    " "
   ]
  },
  {
   "cell_type": "markdown",
   "id": "f71e76ff",
   "metadata": {},
   "source": [
    " "
   ]
  },
  {
   "cell_type": "markdown",
   "id": "e463eb70",
   "metadata": {},
   "source": [
    " "
   ]
  },
  {
   "cell_type": "markdown",
   "id": "1240a438-7082-4edb-a41d-5d2fa1f00572",
   "metadata": {},
   "source": [
    "12. How can we reshape ``b`` to a 2D array with two rows?"
   ]
  },
  {
   "cell_type": "code",
   "execution_count": null,
   "id": "404e5d01-561d-48fe-b6b4-3a113e2fed4c",
   "metadata": {},
   "outputs": [],
   "source": [
    "b = np.ones(20)"
   ]
  },
  {
   "cell_type": "markdown",
   "id": "4a4c52cd",
   "metadata": {},
   "source": [
    " "
   ]
  },
  {
   "cell_type": "markdown",
   "id": "dae88ff1",
   "metadata": {},
   "source": [
    " "
   ]
  },
  {
   "cell_type": "markdown",
   "id": "a8df8dd3",
   "metadata": {},
   "source": [
    " "
   ]
  },
  {
   "cell_type": "markdown",
   "id": "47cd4b79",
   "metadata": {},
   "source": [
    " "
   ]
  },
  {
   "cell_type": "markdown",
   "id": "919178c9",
   "metadata": {},
   "source": [
    " "
   ]
  },
  {
   "cell_type": "markdown",
   "id": "9ff67ea3",
   "metadata": {},
   "source": [
    " "
   ]
  },
  {
   "cell_type": "markdown",
   "id": "cfa9024b-9188-4b57-9c60-395644c4aa2e",
   "metadata": {},
   "source": [
    "13. Explain how the array B=``np.arange(12).reshape((3, 4))`` will look like. How many dimensions has B?"
   ]
  },
  {
   "cell_type": "code",
   "execution_count": null,
   "id": "7aeee429-f8f6-4f3c-b9d4-b58a2520bbed",
   "metadata": {},
   "outputs": [],
   "source": [
    "B=np.arange(12).reshape((3, 4))\n",
    "\n",
    "print(\"Dimensions = \", B.ndim)\n",
    "\n",
    "print(B)"
   ]
  },
  {
   "cell_type": "markdown",
   "id": "a7a92186",
   "metadata": {},
   "source": [
    " "
   ]
  },
  {
   "cell_type": "markdown",
   "id": "26e5bf3a",
   "metadata": {},
   "source": [
    " "
   ]
  },
  {
   "cell_type": "markdown",
   "id": "80350e02",
   "metadata": {},
   "source": [
    " "
   ]
  },
  {
   "cell_type": "markdown",
   "id": "ad788321",
   "metadata": {},
   "source": [
    " "
   ]
  },
  {
   "cell_type": "markdown",
   "id": "96984b69",
   "metadata": {},
   "source": [
    " "
   ]
  },
  {
   "cell_type": "markdown",
   "id": "f54b5132",
   "metadata": {},
   "source": [
    " "
   ]
  },
  {
   "cell_type": "markdown",
   "id": "591f7165",
   "metadata": {},
   "source": [
    "14. What will be printed out?"
   ]
  },
  {
   "cell_type": "code",
   "execution_count": null,
   "id": "cffcea1c",
   "metadata": {},
   "outputs": [],
   "source": [
    "B=np.arange(12).reshape((3, 4))\n",
    "\n",
    "print(B.shape)\n",
    "print(B.size)"
   ]
  },
  {
   "cell_type": "markdown",
   "id": "f1f1733f",
   "metadata": {},
   "source": [
    " "
   ]
  },
  {
   "cell_type": "markdown",
   "id": "6a43ab96",
   "metadata": {},
   "source": [
    " "
   ]
  },
  {
   "cell_type": "markdown",
   "id": "b4aec650",
   "metadata": {},
   "source": [
    " "
   ]
  },
  {
   "cell_type": "markdown",
   "id": "55484e7b",
   "metadata": {},
   "source": [
    " "
   ]
  },
  {
   "cell_type": "markdown",
   "id": "7663fcdd",
   "metadata": {},
   "source": [
    " "
   ]
  },
  {
   "cell_type": "markdown",
   "id": "f4fd18d5",
   "metadata": {},
   "source": [
    " "
   ]
  },
  {
   "cell_type": "markdown",
   "id": "f8c24279",
   "metadata": {},
   "source": [
    " "
   ]
  },
  {
   "cell_type": "markdown",
   "id": "28f31b0a-8302-4309-9cb3-ed226cf9b183",
   "metadata": {},
   "source": [
    "15. Will the following work? If yes, explain how the output will look like and if not, explain why. "
   ]
  },
  {
   "cell_type": "code",
   "execution_count": null,
   "id": "69494553-cddf-441e-9934-a8c101b24a3f",
   "metadata": {},
   "outputs": [],
   "source": [
    "A = np.full(16,3)\n",
    "B=np.arange(12).reshape((3, 4))\n",
    "C = np.append(A,B)\n",
    "print(C)"
   ]
  },
  {
   "cell_type": "markdown",
   "id": "ef739a7d",
   "metadata": {},
   "source": [
    " "
   ]
  },
  {
   "cell_type": "markdown",
   "id": "6b7f8328",
   "metadata": {},
   "source": [
    " "
   ]
  },
  {
   "cell_type": "markdown",
   "id": "7144eef4",
   "metadata": {},
   "source": [
    " "
   ]
  },
  {
   "cell_type": "markdown",
   "id": "4dd14da1",
   "metadata": {},
   "source": [
    " "
   ]
  },
  {
   "cell_type": "markdown",
   "id": "528ddf43",
   "metadata": {},
   "source": [
    " "
   ]
  },
  {
   "cell_type": "markdown",
   "id": "545b3d07",
   "metadata": {},
   "source": [
    " "
   ]
  },
  {
   "cell_type": "markdown",
   "id": "ae24d5c7",
   "metadata": {},
   "source": [
    " "
   ]
  },
  {
   "cell_type": "markdown",
   "id": "34e5f9a0-838a-4c76-bb04-f94f8151fd8c",
   "metadata": {},
   "source": [
    "16. What are axes in numpy? How can we modify A to concatenate A and B along axis 0?"
   ]
  },
  {
   "cell_type": "code",
   "execution_count": null,
   "id": "0343f880-e544-483b-80de-b7d79428a809",
   "metadata": {},
   "outputs": [],
   "source": [
    "A = A.reshape(4,4)\n",
    "print(A)"
   ]
  },
  {
   "cell_type": "code",
   "execution_count": null,
   "id": "d1ba228e-2881-4ec3-80c4-087e4069d4b9",
   "metadata": {},
   "outputs": [],
   "source": []
  },
  {
   "cell_type": "markdown",
   "id": "7354f19c",
   "metadata": {},
   "source": [
    " "
   ]
  },
  {
   "cell_type": "markdown",
   "id": "ffb9ed96",
   "metadata": {},
   "source": [
    " "
   ]
  },
  {
   "cell_type": "markdown",
   "id": "d2e6b86b",
   "metadata": {},
   "source": [
    " "
   ]
  },
  {
   "cell_type": "markdown",
   "id": "ed499661",
   "metadata": {},
   "source": [
    " "
   ]
  },
  {
   "cell_type": "markdown",
   "id": "c035b3f2",
   "metadata": {},
   "source": [
    " "
   ]
  },
  {
   "cell_type": "markdown",
   "id": "aaabf48f",
   "metadata": {},
   "source": [
    " "
   ]
  },
  {
   "cell_type": "markdown",
   "id": "de3b2483-683b-4e06-9a46-bb2a9f2d446a",
   "metadata": {},
   "source": [
    "17. Which arrays can be concatenated along axis 1? "
   ]
  },
  {
   "cell_type": "code",
   "execution_count": null,
   "id": "5de9149f-9d21-40a4-a629-67fa34688eb8",
   "metadata": {},
   "outputs": [],
   "source": [
    "arr_1 = np.arange(12).reshape((3, 4))\n",
    "arr_2 = np.arange(8).reshape((2, 4))\n",
    "arr_3 = np.identity(3)\n",
    "\n",
    "print(\"1. \\n\", arr_1)\n",
    "print(\"2. \\n\", arr_2)\n",
    "print(\"3. \\n\", arr_3)"
   ]
  },
  {
   "cell_type": "markdown",
   "id": "b35f15b6",
   "metadata": {},
   "source": [
    " "
   ]
  },
  {
   "cell_type": "markdown",
   "id": "d6d6e080",
   "metadata": {},
   "source": [
    " "
   ]
  },
  {
   "cell_type": "markdown",
   "id": "6a0f6429",
   "metadata": {},
   "source": [
    " "
   ]
  },
  {
   "cell_type": "markdown",
   "id": "5ac1e24b",
   "metadata": {},
   "source": [
    " "
   ]
  },
  {
   "cell_type": "markdown",
   "id": "51b78137",
   "metadata": {},
   "source": [
    " "
   ]
  },
  {
   "cell_type": "markdown",
   "id": "2ceff5e1",
   "metadata": {},
   "source": [
    " "
   ]
  },
  {
   "cell_type": "markdown",
   "id": "03995707",
   "metadata": {},
   "source": [
    " "
   ]
  },
  {
   "cell_type": "markdown",
   "id": "8d3d43aa-1e6e-46b8-b288-1f80d355603c",
   "metadata": {},
   "source": [
    "18. Do you know an alternative way to concatenate arrays along axis 1 and axis 0? "
   ]
  },
  {
   "cell_type": "code",
   "execution_count": null,
   "id": "078d1776-e925-4344-b132-146ebbc1a7b4",
   "metadata": {},
   "outputs": [],
   "source": []
  },
  {
   "cell_type": "markdown",
   "id": "417883b2",
   "metadata": {},
   "source": [
    " "
   ]
  },
  {
   "cell_type": "markdown",
   "id": "7407ef76",
   "metadata": {},
   "source": [
    " "
   ]
  },
  {
   "cell_type": "markdown",
   "id": "2c399c73",
   "metadata": {},
   "source": [
    " "
   ]
  },
  {
   "cell_type": "markdown",
   "id": "dd85a8d8",
   "metadata": {},
   "source": [
    " "
   ]
  },
  {
   "cell_type": "markdown",
   "id": "e33cec06",
   "metadata": {},
   "source": [
    " "
   ]
  },
  {
   "cell_type": "markdown",
   "id": "d244e8c1",
   "metadata": {},
   "source": [
    " "
   ]
  },
  {
   "cell_type": "markdown",
   "id": "d66df403-e087-490f-acd9-f99ecb0ad3b6",
   "metadata": {},
   "source": [
    "19. How can we access the element with value ``15`` from the following array?"
   ]
  },
  {
   "cell_type": "code",
   "execution_count": null,
   "id": "7b0cf5d8-9bdb-41c4-a6f6-68a51e2a3365",
   "metadata": {},
   "outputs": [],
   "source": [
    "v = np.arange(36).reshape(3,6,2)\n",
    "print(v)"
   ]
  },
  {
   "cell_type": "code",
   "execution_count": null,
   "id": "4a4f65ae",
   "metadata": {},
   "outputs": [],
   "source": []
  },
  {
   "cell_type": "markdown",
   "id": "e12838f3",
   "metadata": {},
   "source": [
    " "
   ]
  },
  {
   "cell_type": "markdown",
   "id": "f422c2ab",
   "metadata": {},
   "source": [
    " "
   ]
  },
  {
   "cell_type": "markdown",
   "id": "72fcebaa",
   "metadata": {},
   "source": [
    " "
   ]
  },
  {
   "cell_type": "markdown",
   "id": "e29f3136",
   "metadata": {},
   "source": [
    " "
   ]
  },
  {
   "cell_type": "markdown",
   "id": "a06a5b1e",
   "metadata": {},
   "source": [
    " "
   ]
  },
  {
   "cell_type": "markdown",
   "id": "ebe9c4d3",
   "metadata": {},
   "source": [
    "### The power of vectorization"
   ]
  },
  {
   "cell_type": "markdown",
   "id": "3f31aac8",
   "metadata": {},
   "source": [
    " "
   ]
  },
  {
   "cell_type": "markdown",
   "id": "90829dbe",
   "metadata": {},
   "source": [
    "20. What is vectorization?"
   ]
  },
  {
   "cell_type": "markdown",
   "id": "d4e9ca3f",
   "metadata": {},
   "source": [
    " "
   ]
  },
  {
   "cell_type": "markdown",
   "id": "575afaae",
   "metadata": {},
   "source": [
    " "
   ]
  },
  {
   "cell_type": "markdown",
   "id": "734eaf44",
   "metadata": {},
   "source": [
    " "
   ]
  },
  {
   "cell_type": "markdown",
   "id": "df99950c",
   "metadata": {},
   "source": [
    " "
   ]
  },
  {
   "cell_type": "markdown",
   "id": "418daf9f",
   "metadata": {},
   "source": [
    "**Hillas criterion** (from Homework 4)\n",
    "\n",
    "$$E_{max} = ZqBL\\beta $$\n",
    "\n",
    "in task B you were asked to find \n",
    "> *a list of combinations that lead to $E_{max}$ in the range of extragalactic cosmic rays (~$10^{18}$ - $10^{20}$ eV)*"
   ]
  },
  {
   "cell_type": "markdown",
   "id": "d3c86ce1",
   "metadata": {},
   "source": [
    " "
   ]
  },
  {
   "cell_type": "markdown",
   "id": "23f6abe5",
   "metadata": {},
   "source": [
    " "
   ]
  },
  {
   "cell_type": "markdown",
   "id": "e1341c1c",
   "metadata": {},
   "source": [
    "21. Any ideas how to do without loops?"
   ]
  },
  {
   "cell_type": "markdown",
   "id": "ea33e669",
   "metadata": {},
   "source": [
    " "
   ]
  },
  {
   "cell_type": "markdown",
   "id": "8f73992f",
   "metadata": {},
   "source": [
    " "
   ]
  },
  {
   "cell_type": "markdown",
   "id": "034380af",
   "metadata": {},
   "source": [
    " "
   ]
  },
  {
   "cell_type": "markdown",
   "id": "7f3a0f2f",
   "metadata": {},
   "source": [
    " "
   ]
  },
  {
   "cell_type": "markdown",
   "id": "92472b22",
   "metadata": {},
   "source": [
    " "
   ]
  },
  {
   "cell_type": "code",
   "execution_count": null,
   "id": "83a6fa24",
   "metadata": {},
   "outputs": [],
   "source": [
    "q = 4.8e-10\n",
    "z=1\n",
    "erg_to_eV = 6.24e11"
   ]
  },
  {
   "cell_type": "code",
   "execution_count": null,
   "id": "b4bd19e5",
   "metadata": {},
   "outputs": [],
   "source": [
    "B_fields = np.asarray([1e-3, 1e-2, 1, 1e15])  # Magnetic field values (Gauß)\n",
    "L_values = np.asarray([1e5, 1e11, 1e17, 1e20])  # Region sizes (cm)\n",
    "beta_values = np.asarray([0.05, 0.7, 1.0])  # Efficiencies of the accelerator"
   ]
  },
  {
   "cell_type": "code",
   "execution_count": null,
   "id": "8231d2a3",
   "metadata": {},
   "outputs": [],
   "source": [
    "# Example: Making 'tables' of values\n",
    "\n",
    "a = np.asarray([1, 2])\n",
    "b = np.asarray([3, 4])\n",
    "\n",
    "a[:,None]*b[None,:]"
   ]
  },
  {
   "cell_type": "code",
   "execution_count": null,
   "id": "73b794c4",
   "metadata": {},
   "outputs": [],
   "source": [
    "#which is equal to\n",
    "a = np.asarray([[1, 2]])\n",
    "b = np.asarray([[3, 4]])\n",
    "a.T.dot(b)"
   ]
  },
  {
   "cell_type": "code",
   "execution_count": null,
   "id": "9a5144fe",
   "metadata": {},
   "outputs": [],
   "source": [
    "# Application, table of Emax values\n"
   ]
  },
  {
   "cell_type": "code",
   "execution_count": null,
   "id": "e4bd2c50",
   "metadata": {},
   "outputs": [],
   "source": [
    "#we can check if this is what we wanted to get\n",
    "\n",
    "print(Emax[0][0][1])\n",
    "print(B_fields[0]*L_values[0]*beta_values[1]*q*z*erg_to_eV)\n",
    "\n",
    "print(Emax[2][3][1])\n",
    "print(B_fields[2]*L_values[3]*beta_values[1]*q*z*erg_to_eV)"
   ]
  },
  {
   "cell_type": "code",
   "execution_count": null,
   "id": "aa30975d",
   "metadata": {},
   "outputs": [],
   "source": [
    "#find indecies of Emax values that satisty task conditions"
   ]
  },
  {
   "cell_type": "code",
   "execution_count": null,
   "id": "1e584437",
   "metadata": {},
   "outputs": [],
   "source": []
  },
  {
   "cell_type": "code",
   "execution_count": null,
   "id": "e7a29d6a",
   "metadata": {},
   "outputs": [],
   "source": []
  },
  {
   "cell_type": "code",
   "execution_count": null,
   "id": "54f29ead",
   "metadata": {},
   "outputs": [],
   "source": [
    "results[0]=B_fields[index[0]]\n",
    "results[1]=L_values[index[1]]\n",
    "results[2] = beta_values[index[2]]\n",
    "results[3] = Emax[index]"
   ]
  },
  {
   "cell_type": "code",
   "execution_count": null,
   "id": "514c48fc",
   "metadata": {},
   "outputs": [],
   "source": [
    "results.T"
   ]
  },
  {
   "cell_type": "markdown",
   "id": "ae4024c4",
   "metadata": {},
   "source": [
    " "
   ]
  },
  {
   "cell_type": "markdown",
   "id": "d08e75f7",
   "metadata": {},
   "source": [
    " "
   ]
  },
  {
   "cell_type": "markdown",
   "id": "faea821c",
   "metadata": {},
   "source": [
    "### Performance comparison"
   ]
  },
  {
   "cell_type": "markdown",
   "id": "78dc8f10",
   "metadata": {},
   "source": [
    " "
   ]
  },
  {
   "cell_type": "markdown",
   "id": "e552607e",
   "metadata": {},
   "source": [
    " "
   ]
  },
  {
   "cell_type": "code",
   "execution_count": null,
   "id": "80403c0d",
   "metadata": {},
   "outputs": [],
   "source": [
    "%%timeit -n 1 -r 1\n",
    "\n",
    "B_fields = np.asarray([1e-3, 1e-2, 1, 1e15])  # Magnetic field values (Gauß)\n",
    "L_values = np.asarray([1e5, 1e11, 1e17, 1e20])  # Region sizes (cm)\n",
    "beta_values = np.asarray([0.05, 0.7, 1.0])  # Efficiencies of the accelerator\n",
    "q = 4.8e-10\n",
    "z=1\n",
    "erg_to_eV = 6.24e11\n",
    "\n",
    "valid_combinations = [] \n",
    "\n",
    "for B in B_fields:\n",
    "        for L in L_values:\n",
    "            for beta in beta_values:\n",
    "                \n",
    "                E_max = beta * q * B * L \n",
    "                E_max = E_max * 6.24e11\n",
    "                \n",
    "                \n",
    "                if 1e18 <= E_max <= 1e20:\n",
    "                    valid_combinations.append((B, L, beta, E_max))\n",
    "                    \n",
    "print(valid_combinations)"
   ]
  },
  {
   "cell_type": "code",
   "execution_count": null,
   "id": "22856630",
   "metadata": {},
   "outputs": [],
   "source": [
    "%%timeit -n 1 -r 1\n",
    "\n",
    "B_fields = np.asarray([1e-3, 1e-2, 1, 1e15])  # Magnetic field values (Gauß)\n",
    "L_values = np.asarray([1e5, 1e11, 1e17, 1e20])  # Region sizes (cm)\n",
    "beta_values = np.asarray([0.05, 0.7, 1.0])  # Efficiencies of the accelerator\n",
    "\n",
    "q = 4.8e-10\n",
    "z=1\n",
    "erg_to_eV = 6.24e11\n",
    "\n",
    "Emax = B_fields[:, None, None]*L_values[None, :, None]*beta_values[None, None, :]*q*z*erg_to_eV\n",
    "index = np.where(np.logical_and(Emax>1e18, Emax<1e20))\n",
    "\n",
    "results = np.zeros((4, len(index[0])))\n",
    "results[0]=B_fields[index[0]]\n",
    "results[1]=L_values[index[1]]\n",
    "results[2] = beta_values[index[2]]\n",
    "results[3] = Emax[index]\n",
    "\n",
    "print(results.T)"
   ]
  },
  {
   "cell_type": "markdown",
   "id": "df9abf86",
   "metadata": {},
   "source": [
    "### about the same for small arrays, but..."
   ]
  },
  {
   "cell_type": "code",
   "execution_count": null,
   "id": "c0cd15f3",
   "metadata": {},
   "outputs": [],
   "source": [
    "%%timeit -n 1 -r 1\n",
    "\n",
    "B_fields = np.logspace(-3,0,1000)  # Magnetic field values (Gauß)\n",
    "L_values = np.logspace(10,20,100)  # Region sizes (cm)\n",
    "beta_values = np.linspace(0.01,1,100)\n",
    "q = 4.8e-10\n",
    "z=1\n",
    "erg_to_eV = 6.24e11\n",
    "\n",
    "valid_combinations = [] \n",
    "\n",
    "for B in B_fields:\n",
    "        for L in L_values:\n",
    "            for beta in beta_values:\n",
    "                \n",
    "                E_max = beta * q * B * L \n",
    "                E_max = E_max * 6.24e11\n",
    "                \n",
    "                \n",
    "                if 1e18 <= E_max <= 1e20:\n",
    "                    valid_combinations.append((B, L, beta, E_max))\n",
    "                    \n",
    "# print(valid_combinations)"
   ]
  },
  {
   "cell_type": "code",
   "execution_count": null,
   "id": "b01121b8",
   "metadata": {},
   "outputs": [],
   "source": [
    "%%timeit -n 1 -r 1\n",
    "\n",
    "B_fields = np.logspace(-3,0,1000)  # Magnetic field values (Gauß)\n",
    "L_values = np.logspace(10,20,100)  # Region sizes (cm)\n",
    "beta_values = np.linspace(0.01,1,100)\n",
    "\n",
    "q = 4.8e-10\n",
    "z=1\n",
    "erg_to_eV = 6.24e11\n",
    "\n",
    "Emax = B_fields[:, None, None]*L_values[None, :, None]*beta_values[None, None, :]*q*z*erg_to_eV\n",
    "index = np.where(np.logical_and(Emax>1e18, Emax<1e20))\n",
    "\n",
    "results = np.zeros((4, len(index[0])))\n",
    "results[0]=B_fields[index[0]]\n",
    "results[1]=L_values[index[1]]\n",
    "results[2] = beta_values[index[2]]\n",
    "results[3] = Emax[index]"
   ]
  },
  {
   "cell_type": "markdown",
   "id": "30ffb6b1",
   "metadata": {},
   "source": [
    "### ... ~30 times faster for large arrays"
   ]
  },
  {
   "cell_type": "markdown",
   "id": "ee921296",
   "metadata": {},
   "source": [
    " "
   ]
  },
  {
   "cell_type": "markdown",
   "id": "7ab7d858",
   "metadata": {},
   "source": [
    " "
   ]
  },
  {
   "cell_type": "markdown",
   "id": "48da28d8",
   "metadata": {},
   "source": [
    " "
   ]
  },
  {
   "cell_type": "markdown",
   "id": "9a2739f5",
   "metadata": {},
   "source": [
    " "
   ]
  },
  {
   "cell_type": "markdown",
   "id": "7a6debfa",
   "metadata": {},
   "source": [
    "# Next time: learning beatiful visualization!"
   ]
  }
 ],
 "metadata": {
  "kernelspec": {
   "display_name": "Python 3 (ipykernel)",
   "language": "python",
   "name": "python3"
  },
  "language_info": {
   "codemirror_mode": {
    "name": "ipython",
    "version": 3
   },
   "file_extension": ".py",
   "mimetype": "text/x-python",
   "name": "python",
   "nbconvert_exporter": "python",
   "pygments_lexer": "ipython3",
   "version": "3.8.8"
  }
 },
 "nbformat": 4,
 "nbformat_minor": 5
}
