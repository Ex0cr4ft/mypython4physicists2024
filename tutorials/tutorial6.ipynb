{
 "cells": [
  {
   "cell_type": "markdown",
   "id": "085f0cb3-1ac5-491a-a260-b890d70f1fd5",
   "metadata": {},
   "source": [
    "# Tutorial 6"
   ]
  },
  {
   "cell_type": "markdown",
   "id": "dc077d0c-48eb-462f-94f1-a2356fb24324",
   "metadata": {},
   "source": [
    "# Operating system and files"
   ]
  },
  {
   "cell_type": "markdown",
   "id": "22832580",
   "metadata": {},
   "source": [
    "## Easy start"
   ]
  },
  {
   "cell_type": "markdown",
   "id": "f2007dae",
   "metadata": {},
   "source": [
    "1. What is an operating system(OS)?"
   ]
  },
  {
   "cell_type": "markdown",
   "id": "432c9b0e",
   "metadata": {},
   "source": [
    " "
   ]
  },
  {
   "cell_type": "markdown",
   "id": "73248d35",
   "metadata": {},
   "source": [
    " "
   ]
  },
  {
   "cell_type": "markdown",
   "id": "b34eef0d",
   "metadata": {},
   "source": [
    " "
   ]
  },
  {
   "cell_type": "markdown",
   "id": "27f39b01",
   "metadata": {},
   "source": [
    "2. How the files are structured in the OS?"
   ]
  },
  {
   "cell_type": "markdown",
   "id": "2cf52a1b",
   "metadata": {},
   "source": [
    " "
   ]
  },
  {
   "cell_type": "markdown",
   "id": "62d3c7c7",
   "metadata": {},
   "source": [
    " "
   ]
  },
  {
   "cell_type": "markdown",
   "id": "28b4f44c",
   "metadata": {},
   "source": [
    " "
   ]
  },
  {
   "cell_type": "markdown",
   "id": "f9935ffe",
   "metadata": {},
   "source": [
    "3. What is a path?"
   ]
  },
  {
   "cell_type": "markdown",
   "id": "879b1808",
   "metadata": {},
   "source": [
    " "
   ]
  },
  {
   "cell_type": "markdown",
   "id": "d8f24d44",
   "metadata": {},
   "source": [
    " "
   ]
  },
  {
   "cell_type": "markdown",
   "id": "99985686",
   "metadata": {},
   "source": [
    " "
   ]
  },
  {
   "cell_type": "markdown",
   "id": "05b8fff0",
   "metadata": {},
   "source": [
    "To write/read a simple file one needs just 3 lines!"
   ]
  },
  {
   "cell_type": "code",
   "execution_count": null,
   "id": "8a65c49e",
   "metadata": {},
   "outputs": [],
   "source": [
    "f = open(\"example.txt\", \"w\")\n",
    "f.write(\"Hello world!\")\n",
    "f.close()"
   ]
  },
  {
   "cell_type": "markdown",
   "id": "532942b0",
   "metadata": {},
   "source": [
    "4. Where this file was saved?"
   ]
  },
  {
   "cell_type": "markdown",
   "id": "e9a5aace",
   "metadata": {},
   "source": [
    " "
   ]
  },
  {
   "cell_type": "markdown",
   "id": "854979d7",
   "metadata": {},
   "source": [
    " "
   ]
  },
  {
   "cell_type": "markdown",
   "id": "8b31d3ff",
   "metadata": {},
   "source": [
    " "
   ]
  },
  {
   "cell_type": "markdown",
   "id": "bf2e8c0c",
   "metadata": {},
   "source": [
    "5. What happens if we don't close the file?"
   ]
  },
  {
   "cell_type": "code",
   "execution_count": null,
   "id": "08dabd73",
   "metadata": {},
   "outputs": [],
   "source": [
    "f = open(\"example2.txt\", \"w\")\n",
    "f.write(\"Hello (brave new) world!\")"
   ]
  },
  {
   "cell_type": "markdown",
   "id": "1f5f5292",
   "metadata": {},
   "source": [
    " "
   ]
  },
  {
   "cell_type": "markdown",
   "id": "194a3c3b",
   "metadata": {},
   "source": [
    " "
   ]
  },
  {
   "cell_type": "markdown",
   "id": "cb07f4fc",
   "metadata": {},
   "source": [
    " "
   ]
  },
  {
   "cell_type": "markdown",
   "id": "b4239d2a",
   "metadata": {},
   "source": [
    " "
   ]
  },
  {
   "cell_type": "markdown",
   "id": "2f368e5f",
   "metadata": {},
   "source": [
    "6. How to read the context of `f`?"
   ]
  },
  {
   "cell_type": "code",
   "execution_count": null,
   "id": "d85c5903",
   "metadata": {},
   "outputs": [],
   "source": [
    "f = open(\"example.txt\", \"r\")\n"
   ]
  },
  {
   "cell_type": "markdown",
   "id": "e47eae99",
   "metadata": {},
   "source": [
    " "
   ]
  },
  {
   "cell_type": "markdown",
   "id": "6bb3be03",
   "metadata": {},
   "source": [
    " "
   ]
  },
  {
   "cell_type": "markdown",
   "id": "d97b6dbf",
   "metadata": {},
   "source": [
    " "
   ]
  },
  {
   "cell_type": "markdown",
   "id": "4d08b307",
   "metadata": {},
   "source": [
    " "
   ]
  },
  {
   "cell_type": "markdown",
   "id": "29cfd356",
   "metadata": {},
   "source": [
    " "
   ]
  },
  {
   "cell_type": "markdown",
   "id": "77d8e60c",
   "metadata": {},
   "source": [
    "A different way to read/write a file in Python is with using `with open` structure. It closes the files automatically!"
   ]
  },
  {
   "cell_type": "code",
   "execution_count": null,
   "id": "3d4cb715",
   "metadata": {},
   "outputs": [],
   "source": [
    "with open(\"example2.txt\", \"w\") as f:\n",
    "    f.write(\"Hello (brave new) world!\")\n",
    "    \n",
    "#check the file now"
   ]
  },
  {
   "cell_type": "markdown",
   "id": "a7d29f27",
   "metadata": {},
   "source": [
    " "
   ]
  },
  {
   "cell_type": "markdown",
   "id": "1a4b4a0d",
   "metadata": {},
   "source": [
    " "
   ]
  },
  {
   "cell_type": "markdown",
   "id": "63757391",
   "metadata": {},
   "source": [
    " "
   ]
  },
  {
   "cell_type": "markdown",
   "id": "d5cf1874",
   "metadata": {},
   "source": [
    " "
   ]
  },
  {
   "cell_type": "markdown",
   "id": "42448fcb",
   "metadata": {},
   "source": [
    " "
   ]
  },
  {
   "cell_type": "markdown",
   "id": "3b070a44",
   "metadata": {},
   "source": [
    "## Making things work across different OS"
   ]
  },
  {
   "cell_type": "markdown",
   "id": "418760b7-043c-4103-aa1c-1a0f7f722f10",
   "metadata": {},
   "source": [
    "7. What will be printed after the execution of the following code?"
   ]
  },
  {
   "cell_type": "code",
   "execution_count": null,
   "id": "0287759a-b80c-477b-bd66-b76f07f6bfa4",
   "metadata": {},
   "outputs": [],
   "source": [
    "import os\n",
    "from pathlib import Path\n",
    "\n",
    "cwd = os.getcwd()\n",
    "print(cwd)"
   ]
  },
  {
   "cell_type": "markdown",
   "id": "5b5f24f7",
   "metadata": {},
   "source": [
    " "
   ]
  },
  {
   "cell_type": "markdown",
   "id": "706f25cc",
   "metadata": {},
   "source": [
    " "
   ]
  },
  {
   "cell_type": "markdown",
   "id": "fc4e2640",
   "metadata": {},
   "source": [
    " "
   ]
  },
  {
   "cell_type": "markdown",
   "id": "b5efc8da",
   "metadata": {},
   "source": [
    " "
   ]
  },
  {
   "cell_type": "markdown",
   "id": "d1f69fed-c3a4-4069-b705-6b400bbd707d",
   "metadata": {},
   "source": [
    "8. We want to create a new directory. What do we have to do to fix the following code?"
   ]
  },
  {
   "cell_type": "code",
   "execution_count": null,
   "id": "16e4f1b0-92ad-4c01-ab96-46a67d6f7977",
   "metadata": {},
   "outputs": [],
   "source": [
    "new_dir = cwd / \"tutorial6\"\n",
    "Path.mkdir(new_dir)"
   ]
  },
  {
   "cell_type": "markdown",
   "id": "d0ca5a11",
   "metadata": {},
   "source": [
    " "
   ]
  },
  {
   "cell_type": "markdown",
   "id": "a0e4fd7d",
   "metadata": {},
   "source": [
    " "
   ]
  },
  {
   "cell_type": "markdown",
   "id": "fda546c7",
   "metadata": {},
   "source": [
    " "
   ]
  },
  {
   "cell_type": "markdown",
   "id": "2063c324-51db-4545-9626-a06de3d2fb67",
   "metadata": {},
   "source": [
    "9. Now we add the file \"file.txt\" to the directory. What will be the output of the following cell and why?"
   ]
  },
  {
   "cell_type": "code",
   "execution_count": null,
   "id": "2811e291-7cad-4982-9047-7bdaece04ae6",
   "metadata": {},
   "outputs": [],
   "source": [
    "new_file = \"file.txt\"\n",
    "filepath = new_dir / new_file\n",
    "\n",
    "with open(filepath, \"r\") as f: \n",
    "    pass"
   ]
  },
  {
   "cell_type": "markdown",
   "id": "461cc60d",
   "metadata": {},
   "source": [
    " "
   ]
  },
  {
   "cell_type": "markdown",
   "id": "79955b38",
   "metadata": {},
   "source": [
    " "
   ]
  },
  {
   "cell_type": "markdown",
   "id": "f4e4ad8a",
   "metadata": {},
   "source": [
    " "
   ]
  },
  {
   "cell_type": "markdown",
   "id": "cea0f9f8",
   "metadata": {},
   "source": [
    " "
   ]
  },
  {
   "cell_type": "markdown",
   "id": "30bf64b9",
   "metadata": {},
   "source": [
    " "
   ]
  },
  {
   "cell_type": "markdown",
   "id": "854fdadf",
   "metadata": {},
   "source": [
    " "
   ]
  },
  {
   "cell_type": "markdown",
   "id": "e434949b-9b40-4c3e-aa0d-b6ca23d3ddce",
   "metadata": {},
   "source": [
    "10. We want to add a header with the text 'Tutorial 6' to the first line of our file. Below the header, we want to write the numbers from 0 to 6, each on a new line. What modifications are needed in the following code snippet to achieve this?"
   ]
  },
  {
   "cell_type": "code",
   "execution_count": null,
   "id": "028898ca-c59c-43e3-847a-b4afae4a5106",
   "metadata": {},
   "outputs": [],
   "source": [
    "Header = \"Tutorial 6\"\n",
    "\n",
    "with open(filepath, \"w\") as f:\n",
    "    f.write(Header)\n",
    "    for i in range(7):\n",
    "        f.write(f\"{i}\")"
   ]
  },
  {
   "cell_type": "markdown",
   "id": "eaf3c927",
   "metadata": {},
   "source": [
    " "
   ]
  },
  {
   "cell_type": "markdown",
   "id": "6b932027",
   "metadata": {},
   "source": [
    " "
   ]
  },
  {
   "cell_type": "markdown",
   "id": "46a3d06d",
   "metadata": {},
   "source": [
    " "
   ]
  },
  {
   "cell_type": "markdown",
   "id": "70aa972a",
   "metadata": {},
   "source": [
    " "
   ]
  },
  {
   "cell_type": "markdown",
   "id": "12e3b1aa",
   "metadata": {},
   "source": [
    " "
   ]
  },
  {
   "cell_type": "markdown",
   "id": "26513d3c-3648-4d23-9d41-c0058a716b90",
   "metadata": {},
   "source": [
    "11. We want to add the line \"End of the file\" below the content we previously added. How can we implement this?"
   ]
  },
  {
   "cell_type": "code",
   "execution_count": null,
   "id": "612600e4-212e-4c6a-91da-c95193a9908f",
   "metadata": {},
   "outputs": [],
   "source": [
    "with open(filepath, ) as f:\n",
    "    f.write(\"End of the file\")"
   ]
  },
  {
   "cell_type": "markdown",
   "id": "dd4bf1ba",
   "metadata": {},
   "source": [
    " "
   ]
  },
  {
   "cell_type": "markdown",
   "id": "9e6e616a",
   "metadata": {},
   "source": [
    " "
   ]
  },
  {
   "cell_type": "markdown",
   "id": "d4036245",
   "metadata": {},
   "source": [
    " "
   ]
  },
  {
   "cell_type": "markdown",
   "id": "a5759452",
   "metadata": {},
   "source": [
    " "
   ]
  },
  {
   "cell_type": "markdown",
   "id": "5bff6e63",
   "metadata": {},
   "source": [
    " "
   ]
  },
  {
   "cell_type": "markdown",
   "id": "9e5b6b0e",
   "metadata": {},
   "source": [
    " "
   ]
  },
  {
   "cell_type": "markdown",
   "id": "e56189f9-80cf-4eca-b8b5-f8e51a8b7e3f",
   "metadata": {},
   "source": [
    "12. How can we extract the information from the file in Python line by line?"
   ]
  },
  {
   "cell_type": "code",
   "execution_count": null,
   "id": "d65e5ae6-5183-4e32-a0a0-f42645850af5",
   "metadata": {},
   "outputs": [],
   "source": [
    "with open(filepath, \"r\") as f:\n"
   ]
  },
  {
   "cell_type": "markdown",
   "id": "06e90eab",
   "metadata": {},
   "source": [
    " "
   ]
  },
  {
   "cell_type": "markdown",
   "id": "7de5d6a9",
   "metadata": {},
   "source": [
    " "
   ]
  },
  {
   "cell_type": "markdown",
   "id": "d87b5996",
   "metadata": {},
   "source": [
    " "
   ]
  },
  {
   "cell_type": "markdown",
   "id": "918000a7",
   "metadata": {},
   "source": [
    " "
   ]
  },
  {
   "cell_type": "markdown",
   "id": "f0561029",
   "metadata": {},
   "source": [
    " "
   ]
  },
  {
   "cell_type": "markdown",
   "id": "2167e1ab",
   "metadata": {},
   "source": [
    " "
   ]
  },
  {
   "cell_type": "markdown",
   "id": "e56b6d7f",
   "metadata": {},
   "source": [
    "## File formats"
   ]
  },
  {
   "cell_type": "markdown",
   "id": "232b3677-2b72-455e-9452-1b7e6c2d5308",
   "metadata": {},
   "source": [
    "We want to create a new file \"Students_list\" to fill the data from the dictionary below. \n",
    "\n",
    "13. What will be the output of the following code and why?"
   ]
  },
  {
   "cell_type": "code",
   "execution_count": null,
   "id": "521e1e56-e727-4a9a-b4c4-52a5b7a45174",
   "metadata": {},
   "outputs": [],
   "source": [
    "data = {\"name\": [\"Alice\", \"Henri\", \"Sanny\", \"Jonas\"], \"age\": [30, 22, 26, 33], \"study program\": [\"Physics\", \"Spanish\", \"Computer science\", \"Philosophy\"]}\n",
    "\n",
    "new_file = \"Students_list.dat\"\n",
    "filepath_2 = new_dir / new_file\n",
    "\n",
    "with open(filepath_2, \"w\") as file:\n",
    "    file.write(data)\n",
    "\n",
    "with open(filepath_2, \"r\") as reader:\n",
    "    students = reader.read()\n",
    "\n",
    "print(students)"
   ]
  },
  {
   "cell_type": "markdown",
   "id": "2e521ae0",
   "metadata": {},
   "source": [
    " "
   ]
  },
  {
   "cell_type": "markdown",
   "id": "02b4f7c0",
   "metadata": {},
   "source": [
    " "
   ]
  },
  {
   "cell_type": "markdown",
   "id": "d503a335",
   "metadata": {},
   "source": [
    " "
   ]
  },
  {
   "cell_type": "markdown",
   "id": "babc3113",
   "metadata": {},
   "source": [
    " "
   ]
  },
  {
   "cell_type": "markdown",
   "id": "19b0ebe5-64d3-48e5-841c-cc6c11951c41",
   "metadata": {},
   "source": [
    "14. What is a `pickle`? When it can be useful?"
   ]
  },
  {
   "cell_type": "markdown",
   "id": "2f4dd085",
   "metadata": {},
   "source": [
    " "
   ]
  },
  {
   "cell_type": "markdown",
   "id": "2f32b0fb",
   "metadata": {},
   "source": [
    " "
   ]
  },
  {
   "cell_type": "markdown",
   "id": "1f70b3f7",
   "metadata": {},
   "source": [
    " "
   ]
  },
  {
   "cell_type": "markdown",
   "id": "5e737a2c",
   "metadata": {},
   "source": [
    " "
   ]
  },
  {
   "cell_type": "markdown",
   "id": "32d73d55",
   "metadata": {},
   "source": [
    "15. How can we use `pickle` for the current task? Check the file afterwards. "
   ]
  },
  {
   "cell_type": "code",
   "execution_count": null,
   "id": "54e5d61c-7ff7-4533-939a-24ed86f93c22",
   "metadata": {},
   "outputs": [],
   "source": [
    "import pickle\n",
    "\n",
    "with open(filepath_2, \"\") as f: \n",
    "    pickle.dump(data, f)"
   ]
  },
  {
   "cell_type": "markdown",
   "id": "cf083cce",
   "metadata": {},
   "source": [
    " "
   ]
  },
  {
   "cell_type": "markdown",
   "id": "3207d13c",
   "metadata": {},
   "source": [
    " "
   ]
  },
  {
   "cell_type": "markdown",
   "id": "ecb8c4ee",
   "metadata": {},
   "source": [
    " "
   ]
  },
  {
   "cell_type": "markdown",
   "id": "80538a6f",
   "metadata": {},
   "source": [
    " "
   ]
  },
  {
   "cell_type": "markdown",
   "id": "8eb41326",
   "metadata": {},
   "source": [
    " "
   ]
  },
  {
   "cell_type": "markdown",
   "id": "2343d983",
   "metadata": {},
   "source": [
    " "
   ]
  },
  {
   "cell_type": "markdown",
   "id": "c2f74731-c0ab-4f53-8022-b88f1c48e224",
   "metadata": {},
   "source": [
    "16. How can we extract the data and save the names, age and study program in seperate lists? "
   ]
  },
  {
   "cell_type": "code",
   "execution_count": null,
   "id": "1c09a7f3-b848-4d19-a515-3a823111d30b",
   "metadata": {},
   "outputs": [],
   "source": [
    "with open(filepath_2, \"\") as f:"
   ]
  },
  {
   "cell_type": "markdown",
   "id": "b32a92e4",
   "metadata": {},
   "source": [
    " "
   ]
  },
  {
   "cell_type": "markdown",
   "id": "67c9598b",
   "metadata": {},
   "source": [
    " "
   ]
  },
  {
   "cell_type": "markdown",
   "id": "c4421a14",
   "metadata": {},
   "source": [
    " "
   ]
  },
  {
   "cell_type": "markdown",
   "id": "e5975bfc",
   "metadata": {},
   "source": [
    " "
   ]
  },
  {
   "cell_type": "markdown",
   "id": "7de71e18",
   "metadata": {},
   "source": [
    " "
   ]
  },
  {
   "cell_type": "markdown",
   "id": "31809536-55b7-4f3a-925d-a621f0d30d1f",
   "metadata": {},
   "source": [
    "17. How can we repeat the procedure with JSON and what will change?"
   ]
  },
  {
   "cell_type": "code",
   "execution_count": null,
   "id": "89b19f51-084b-4721-b340-a07fd9395fdd",
   "metadata": {},
   "outputs": [],
   "source": [
    "import json\n",
    "\n",
    "with open(filepath_2, \"w\") as f:\n",
    "\n",
    "#Check the file"
   ]
  },
  {
   "cell_type": "markdown",
   "id": "36f97874",
   "metadata": {},
   "source": [
    " "
   ]
  },
  {
   "cell_type": "code",
   "execution_count": null,
   "id": "2203803e-809a-4218-acb0-da26e636de0b",
   "metadata": {},
   "outputs": [],
   "source": [
    "with open(filepath_2, \"r\") as f:\n",
    "    data2 = json.load(f)\n",
    "print(data2) "
   ]
  },
  {
   "cell_type": "markdown",
   "id": "cb4ec1c4",
   "metadata": {},
   "source": [
    "18. What are the advantages of using JSON?"
   ]
  },
  {
   "cell_type": "markdown",
   "id": "555a0502-3d77-4f5b-92c4-f0ba6c127e95",
   "metadata": {},
   "source": [
    "<details>\n",
    "  <summary>Click here</summary>\n",
    "\n",
    "**JSON**:\n",
    "- Text-based format used for storing and exchanging data\n",
    "- Human-readable and supported by various programming languages\n",
    "- JSON can handle simple data structures (strings, numbers, lists, and dictionaries) but does not support Python-specific objects\n",
    "\n",
    "**Pickle**: \n",
    "- Python-specific module for serializing and deserializing Python objects into a compact binary format\n",
    "- Supports almost all Python data types, including functions, classes and objects\n",
    "- Pickle is not human-readable, less secure and not compatible with other programming languages\n",
    "\n",
    "</details>"
   ]
  },
  {
   "cell_type": "markdown",
   "id": "975dc4a6",
   "metadata": {},
   "source": [
    " "
   ]
  },
  {
   "cell_type": "markdown",
   "id": "fbf94dd9",
   "metadata": {},
   "source": [
    "Note: the default Python procedure for reading/writing files is not well-suited for working with numerical data as file enties are always strings. This is the reason why libraries for scientific computing libraries such as `numpy` and `pandas` have their own methods of reading/writing files. "
   ]
  },
  {
   "cell_type": "markdown",
   "id": "a2ca2946",
   "metadata": {},
   "source": [
    "# Next time: modules and scripts!"
   ]
  }
 ],
 "metadata": {
  "kernelspec": {
   "display_name": "Python 3 (ipykernel)",
   "language": "python",
   "name": "python3"
  },
  "language_info": {
   "codemirror_mode": {
    "name": "ipython",
    "version": 3
   },
   "file_extension": ".py",
   "mimetype": "text/x-python",
   "name": "python",
   "nbconvert_exporter": "python",
   "pygments_lexer": "ipython3",
   "version": "3.8.8"
  }
 },
 "nbformat": 4,
 "nbformat_minor": 5
}
