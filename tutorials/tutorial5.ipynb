{
 "cells": [
  {
   "cell_type": "markdown",
   "id": "378c3623",
   "metadata": {},
   "source": [
    "# Tutorial 5"
   ]
  },
  {
   "cell_type": "markdown",
   "id": "4b86a03f-d512-411a-8469-fec99b65a9b9",
   "metadata": {},
   "source": [
    "# Classes"
   ]
  },
  {
   "cell_type": "markdown",
   "id": "b3c74589",
   "metadata": {},
   "source": [
    "## Basics"
   ]
  },
  {
   "cell_type": "markdown",
   "id": "a0c78610",
   "metadata": {},
   "source": [
    "Since out course is called 'Python for Physicists' let's create a class called Physicist. "
   ]
  },
  {
   "cell_type": "markdown",
   "id": "b3e10cd6",
   "metadata": {},
   "source": [
    "**1. Will the following code snippet be executed without errors?**"
   ]
  },
  {
   "cell_type": "code",
   "execution_count": 12,
   "id": "01416497-90e3-4c20-b45b-e94a84700f87",
   "metadata": {},
   "outputs": [],
   "source": [
    "class Physicist:\n",
    "    pass"
   ]
  },
  {
   "cell_type": "markdown",
   "id": "c0abde53",
   "metadata": {},
   "source": [
    " "
   ]
  },
  {
   "cell_type": "markdown",
   "id": "77ee047e",
   "metadata": {},
   "source": [
    " "
   ]
  },
  {
   "cell_type": "markdown",
   "id": "609bca2d",
   "metadata": {},
   "source": [
    " "
   ]
  },
  {
   "cell_type": "markdown",
   "id": "e15cd151",
   "metadata": {},
   "source": [
    " "
   ]
  },
  {
   "cell_type": "markdown",
   "id": "a3ae358d",
   "metadata": {},
   "source": [
    " "
   ]
  },
  {
   "cell_type": "markdown",
   "id": "16a19bd2",
   "metadata": {},
   "source": [
    "**2. Will the following code snippet be executed without errors?**"
   ]
  },
  {
   "cell_type": "code",
   "execution_count": 13,
   "id": "d7e01c1c",
   "metadata": {},
   "outputs": [],
   "source": [
    "ph1 = Physicist()"
   ]
  },
  {
   "cell_type": "markdown",
   "id": "d7c09971",
   "metadata": {},
   "source": [
    " "
   ]
  },
  {
   "cell_type": "markdown",
   "id": "d2d73a98",
   "metadata": {},
   "source": [
    " "
   ]
  },
  {
   "cell_type": "markdown",
   "id": "9234ce89",
   "metadata": {},
   "source": [
    " "
   ]
  },
  {
   "cell_type": "markdown",
   "id": "0b46fe81",
   "metadata": {},
   "source": [
    " "
   ]
  },
  {
   "cell_type": "markdown",
   "id": "6d69b0da",
   "metadata": {},
   "source": [
    " "
   ]
  },
  {
   "cell_type": "markdown",
   "id": "6d527d89",
   "metadata": {},
   "source": [
    "**3. What is the expected output of the following cell?**"
   ]
  },
  {
   "cell_type": "code",
   "execution_count": 14,
   "id": "189e9aac",
   "metadata": {},
   "outputs": [
    {
     "data": {
      "text/plain": [
       "__main__.Physicist"
      ]
     },
     "execution_count": 14,
     "metadata": {},
     "output_type": "execute_result"
    }
   ],
   "source": [
    "type(ph1)"
   ]
  },
  {
   "cell_type": "markdown",
   "id": "00bda7b1",
   "metadata": {},
   "source": [
    " "
   ]
  },
  {
   "cell_type": "markdown",
   "id": "592a7fe9",
   "metadata": {},
   "source": [
    " "
   ]
  },
  {
   "cell_type": "markdown",
   "id": "3feee23c",
   "metadata": {},
   "source": [
    " "
   ]
  },
  {
   "cell_type": "markdown",
   "id": "ba2f0cec",
   "metadata": {},
   "source": [
    " "
   ]
  },
  {
   "cell_type": "markdown",
   "id": "a6227664",
   "metadata": {},
   "source": [
    " "
   ]
  },
  {
   "cell_type": "markdown",
   "id": "baa3a0e1",
   "metadata": {},
   "source": [
    "**4. How `ph1` is called with respect to the class `Physicist`?**"
   ]
  },
  {
   "cell_type": "markdown",
   "id": "f915896f",
   "metadata": {},
   "source": [
    " "
   ]
  },
  {
   "cell_type": "markdown",
   "id": "51e4e98a",
   "metadata": {},
   "source": [
    " "
   ]
  },
  {
   "cell_type": "markdown",
   "id": "5c1b3ce2",
   "metadata": {},
   "source": [
    " "
   ]
  },
  {
   "cell_type": "markdown",
   "id": "7a89113d",
   "metadata": {},
   "source": [
    " "
   ]
  },
  {
   "cell_type": "markdown",
   "id": "a697472b",
   "metadata": {},
   "source": [
    "Right now class `Physicist` is an *absolutely* empty class. Let's include now the following properties:\n",
    "\n",
    "- physicist's name\n",
    "- experience (abbreviated as XP) in arbitrary units\n",
    "- research budget (=money)\n",
    "\n",
    "\n"
   ]
  },
  {
   "cell_type": "markdown",
   "id": "c262a209",
   "metadata": {},
   "source": [
    " "
   ]
  },
  {
   "cell_type": "markdown",
   "id": "1e1cb09f",
   "metadata": {},
   "source": [
    "**5.How these 'properties' are called?** "
   ]
  },
  {
   "cell_type": "markdown",
   "id": "828f0669",
   "metadata": {},
   "source": [
    " "
   ]
  },
  {
   "cell_type": "markdown",
   "id": "7d7201eb",
   "metadata": {},
   "source": [
    " "
   ]
  },
  {
   "cell_type": "markdown",
   "id": "9372e9b3",
   "metadata": {},
   "source": [
    " "
   ]
  },
  {
   "cell_type": "markdown",
   "id": "62991885",
   "metadata": {},
   "source": [
    "**6. Let's add them! Find two mistakes here to correctly give a name to a physicist.**"
   ]
  },
  {
   "cell_type": "code",
   "execution_count": 6,
   "id": "30dffe13",
   "metadata": {},
   "outputs": [],
   "source": [
    "class Physicist:\n",
    "    def __init__(self, name):\n",
    "        self.name = name"
   ]
  },
  {
   "cell_type": "markdown",
   "id": "c3d25903",
   "metadata": {},
   "source": [
    " "
   ]
  },
  {
   "cell_type": "markdown",
   "id": "cef222c5",
   "metadata": {},
   "source": [
    " "
   ]
  },
  {
   "cell_type": "markdown",
   "id": "7973612d",
   "metadata": {},
   "source": [
    " "
   ]
  },
  {
   "cell_type": "markdown",
   "id": "f330efcc",
   "metadata": {},
   "source": [
    " "
   ]
  },
  {
   "cell_type": "markdown",
   "id": "f9755fea",
   "metadata": {},
   "source": [
    " "
   ]
  },
  {
   "cell_type": "markdown",
   "id": "fab5937d",
   "metadata": {},
   "source": [
    "**7. How to add two other attributes?** "
   ]
  },
  {
   "cell_type": "code",
   "execution_count": null,
   "id": "e5114306",
   "metadata": {},
   "outputs": [],
   "source": []
  },
  {
   "cell_type": "markdown",
   "id": "0cadd4b1",
   "metadata": {},
   "source": [
    " "
   ]
  },
  {
   "cell_type": "markdown",
   "id": "3b5c7d55",
   "metadata": {},
   "source": [
    " "
   ]
  },
  {
   "cell_type": "markdown",
   "id": "64d05595",
   "metadata": {},
   "source": [
    " "
   ]
  },
  {
   "cell_type": "markdown",
   "id": "4951ebf3",
   "metadata": {},
   "source": [
    " "
   ]
  },
  {
   "cell_type": "markdown",
   "id": "e7133a37",
   "metadata": {},
   "source": [
    " "
   ]
  },
  {
   "cell_type": "markdown",
   "id": "ea775d69",
   "metadata": {},
   "source": [
    "`name`, `xp` and `money` are instance attributes that vary from one physicist to another. Let's assume that if a person is a physicist, their `sanity=0.75`. It is a property that belong to all physicists."
   ]
  },
  {
   "cell_type": "markdown",
   "id": "8adc90ae",
   "metadata": {},
   "source": [
    " "
   ]
  },
  {
   "cell_type": "markdown",
   "id": "aed60b37",
   "metadata": {},
   "source": [
    "**8. Where to add `sanity=0.75` and how it is called?**"
   ]
  },
  {
   "cell_type": "code",
   "execution_count": null,
   "id": "9f755e6c",
   "metadata": {},
   "outputs": [],
   "source": []
  },
  {
   "cell_type": "markdown",
   "id": "5bd08962",
   "metadata": {},
   "source": [
    " "
   ]
  },
  {
   "cell_type": "markdown",
   "id": "2e25f988",
   "metadata": {},
   "source": [
    " "
   ]
  },
  {
   "cell_type": "markdown",
   "id": "b719c538",
   "metadata": {},
   "source": [
    " "
   ]
  },
  {
   "cell_type": "markdown",
   "id": "3012c48a",
   "metadata": {},
   "source": [
    "**9. Will the following cell be executed without errors?**"
   ]
  },
  {
   "cell_type": "code",
   "execution_count": null,
   "id": "02ef2f51",
   "metadata": {},
   "outputs": [],
   "source": [
    "ph1 = Physicist(\"Paul\", 0, 0)\n",
    "print(ph1.sanity)"
   ]
  },
  {
   "cell_type": "markdown",
   "id": "6a9ec213",
   "metadata": {},
   "source": [
    " "
   ]
  },
  {
   "cell_type": "markdown",
   "id": "a2a1261d",
   "metadata": {},
   "source": [
    " "
   ]
  },
  {
   "cell_type": "markdown",
   "id": "723f3c34",
   "metadata": {},
   "source": [
    " "
   ]
  },
  {
   "cell_type": "markdown",
   "id": "1be9f210",
   "metadata": {},
   "source": [
    " "
   ]
  },
  {
   "cell_type": "markdown",
   "id": "c7ab11da",
   "metadata": {},
   "source": [
    " "
   ]
  },
  {
   "cell_type": "markdown",
   "id": "a699db6d",
   "metadata": {},
   "source": [
    "## Going deeper"
   ]
  },
  {
   "cell_type": "markdown",
   "id": "31b8ee83",
   "metadata": {},
   "source": [
    " "
   ]
  },
  {
   "cell_type": "markdown",
   "id": "ec8d8e11",
   "metadata": {},
   "source": [
    " "
   ]
  },
  {
   "cell_type": "markdown",
   "id": "a93d6210-4c90-4644-8a4a-6c95d818f098",
   "metadata": {},
   "source": [
    "**10. What are *setter* and *getter* methods?**"
   ]
  },
  {
   "cell_type": "markdown",
   "id": "2fe8e7d2",
   "metadata": {},
   "source": [
    " "
   ]
  },
  {
   "cell_type": "markdown",
   "id": "831b3b18",
   "metadata": {},
   "source": [
    " "
   ]
  },
  {
   "cell_type": "markdown",
   "id": "c55a3049",
   "metadata": {},
   "source": [
    " "
   ]
  },
  {
   "cell_type": "markdown",
   "id": "83e45cad",
   "metadata": {},
   "source": [
    "**11. A physicist can get more/less money and experience. What setter and getter methods should be added to the class?**"
   ]
  },
  {
   "cell_type": "markdown",
   "id": "7c00eb51",
   "metadata": {},
   "source": [
    " "
   ]
  },
  {
   "cell_type": "markdown",
   "id": "42282dd4",
   "metadata": {},
   "source": [
    " "
   ]
  },
  {
   "cell_type": "markdown",
   "id": "de2971ee",
   "metadata": {},
   "source": [
    "  "
   ]
  },
  {
   "cell_type": "markdown",
   "id": "68e8ace5",
   "metadata": {},
   "source": [
    " "
   ]
  },
  {
   "cell_type": "markdown",
   "id": "1a2e82e0",
   "metadata": {},
   "source": [
    " "
   ]
  },
  {
   "cell_type": "markdown",
   "id": "fcb9f749",
   "metadata": {},
   "source": [
    " "
   ]
  },
  {
   "cell_type": "markdown",
   "id": "e6a88d83",
   "metadata": {},
   "source": [
    "**12. How to fix the following code to implement all ideas that we already discussed?**"
   ]
  },
  {
   "cell_type": "code",
   "execution_count": null,
   "id": "ec05a15d-272d-4483-a53f-d3b907777fb2",
   "metadata": {},
   "outputs": [],
   "source": [
    "class Physicist:\n",
    "    sanity = 0.75\n",
    "    def __init__(self, name, xp, money):\n",
    "        self.name = name\n",
    "        self.xp = xp\n",
    "        self.money = money\n",
    "\n",
    "    \n",
    "    def get_name(self):\n",
    "        return self.name\n",
    "\n",
    "    \n",
    "\n",
    "    def add_xp(self, value):\n",
    "        self.xp += value\n",
    "     \n"
   ]
  },
  {
   "cell_type": "markdown",
   "id": "5e465b0c",
   "metadata": {},
   "source": [
    " "
   ]
  },
  {
   "cell_type": "markdown",
   "id": "f9712317",
   "metadata": {},
   "source": [
    "Let's check it!"
   ]
  },
  {
   "cell_type": "code",
   "execution_count": null,
   "id": "0429b229",
   "metadata": {},
   "outputs": [],
   "source": [
    "ph1 = Physicist(\"Robert\", 0, 100)"
   ]
  },
  {
   "cell_type": "markdown",
   "id": "3a3f6dd7",
   "metadata": {},
   "source": [
    " "
   ]
  },
  {
   "cell_type": "markdown",
   "id": "e74f129a",
   "metadata": {},
   "source": [
    " "
   ]
  },
  {
   "cell_type": "markdown",
   "id": "a531ca1f",
   "metadata": {},
   "source": [
    "**13. What is the expected output?**"
   ]
  },
  {
   "cell_type": "code",
   "execution_count": null,
   "id": "95bc0b4b",
   "metadata": {},
   "outputs": [],
   "source": [
    "print(ph1.get_xp())\n",
    "print(ph1.get_money())"
   ]
  },
  {
   "cell_type": "markdown",
   "id": "3fe41a21",
   "metadata": {},
   "source": [
    " "
   ]
  },
  {
   "cell_type": "markdown",
   "id": "0892c620",
   "metadata": {},
   "source": [
    "**14. What will be printed out now?**"
   ]
  },
  {
   "cell_type": "code",
   "execution_count": null,
   "id": "9d829177",
   "metadata": {},
   "outputs": [],
   "source": [
    "ph1.change_money(-100)\n",
    "ph1.add_xp(200)\n",
    "print(ph1.get_xp())\n",
    "print(ph1.get_money())"
   ]
  },
  {
   "cell_type": "markdown",
   "id": "458eb8bb",
   "metadata": {},
   "source": [
    " "
   ]
  },
  {
   "cell_type": "markdown",
   "id": "18876044",
   "metadata": {},
   "source": [
    " "
   ]
  },
  {
   "cell_type": "markdown",
   "id": "b69b8a85",
   "metadata": {},
   "source": [
    " "
   ]
  },
  {
   "cell_type": "markdown",
   "id": "57cf02f5",
   "metadata": {},
   "source": [
    "## Nobel Prize simulator"
   ]
  },
  {
   "cell_type": "markdown",
   "id": "a275b44b",
   "metadata": {},
   "source": [
    "Let's make physicists do something!"
   ]
  },
  {
   "cell_type": "markdown",
   "id": "3ff46b01",
   "metadata": {},
   "source": [
    "To get a Nobel prize, one has to be *lucky*. Let's assume that there are two ways to make a discovery: \n",
    "- a lot of time working on one issue (= a lot of XP + good luck)\n",
    "- absolutely unexpected discovery (pure and extremely rare luck)"
   ]
  },
  {
   "cell_type": "markdown",
   "id": "e72a374b",
   "metadata": {},
   "source": [
    " "
   ]
  },
  {
   "cell_type": "markdown",
   "id": "dbe7ac60",
   "metadata": {},
   "source": [
    "Let's now assume that when the research budget is fully used, the research project is finished and the physicist gets more experience. Let's assume that 1k euro = 1 XP. "
   ]
  },
  {
   "cell_type": "markdown",
   "id": "26b9836f",
   "metadata": {},
   "source": [
    "**15. How to fix `convert_money_to_xp` method below?**"
   ]
  },
  {
   "cell_type": "code",
   "execution_count": null,
   "id": "c11767cf",
   "metadata": {},
   "outputs": [],
   "source": [
    "class Physicist:\n",
    "    sanity = 0.75\n",
    "    def __init__(self, name, xp, money):\n",
    "        self.name = name\n",
    "        self.xp = xp\n",
    "        self.money = money\n",
    "        self.nobel=0\n",
    "        \n",
    "    def get_name(self):\n",
    "        return self.name\n",
    "    \n",
    "    def has_nobel(self):\n",
    "        return self.nobel\n",
    "    \n",
    "    def get_xp(self):\n",
    "        return self.xp\n",
    "    \n",
    "    def get_money(self):\n",
    "        return self.money\n",
    "    \n",
    "    def add_xp(self, value):\n",
    "        self.xp += value\n",
    "        \n",
    "    def change_money(self, value):\n",
    "        self.money += value\n",
    "        \n",
    "    def convert_money_to_xp(self):\n"
   ]
  },
  {
   "cell_type": "markdown",
   "id": "b3dc5a5f",
   "metadata": {},
   "source": [
    " "
   ]
  },
  {
   "cell_type": "markdown",
   "id": "90b21ebd",
   "metadata": {},
   "source": [
    " "
   ]
  },
  {
   "cell_type": "markdown",
   "id": "fdecb243",
   "metadata": {},
   "source": [
    " "
   ]
  },
  {
   "cell_type": "markdown",
   "id": "9b38044e",
   "metadata": {},
   "source": [
    "Let's assume that *luck* is uniformly distributed between 0 and 1. To get a Nobel prize, one has either\n",
    "\n",
    "**have XP > 1000 and luck > 75%**\n",
    "\n",
    "or\n",
    "\n",
    "\n",
    "**have luck > 99%.**\n",
    "\n",
    "\n",
    "*I guess the real numbers would be much worse than that but we don't have so much time for waiting our code to finish.*"
   ]
  },
  {
   "cell_type": "markdown",
   "id": "86095954",
   "metadata": {},
   "source": [
    " "
   ]
  },
  {
   "cell_type": "code",
   "execution_count": null,
   "id": "f37c7575",
   "metadata": {},
   "outputs": [],
   "source": [
    "from numpy.random import uniform \n",
    "#here we import a function that will give us a random number between 0 and 1\n",
    "# we will use it in our code"
   ]
  },
  {
   "cell_type": "markdown",
   "id": "eb805e87",
   "metadata": {},
   "source": [
    "Before we start simulating a process of getting a Nobel prize, let's add attrobute `nobel` that shows in a physicist has a Nobel prize. \n",
    "\n",
    "**16. Why it makes sense to put `self.nobel=0` as written below?**"
   ]
  },
  {
   "cell_type": "code",
   "execution_count": null,
   "id": "830e4b0d",
   "metadata": {},
   "outputs": [],
   "source": [
    "class Physicist:\n",
    "    sanity = 0.75\n",
    "    def __init__(self, name, xp, money):\n",
    "        self.name = name\n",
    "        self.xp = xp\n",
    "        self.money = money\n",
    "        self.nobel=0\n",
    "        \n",
    "    def get_name(self):\n",
    "        return self.name\n",
    "    \n",
    "    def has_nobel(self):\n",
    "        return self.nobel\n",
    "    \n",
    "    def get_xp(self):\n",
    "        return self.xp\n",
    "    \n",
    "    def get_money(self):\n",
    "        return self.money\n",
    "    \n",
    "    def add_xp(self, value):\n",
    "        self.xp += value\n",
    "        \n",
    "    def change_money(self, value):\n",
    "        self.money += value\n",
    "        \n",
    "    def convert_money_to_xp(self):\n",
    "        self.xp += int(self.money/1000)\n",
    "        self.money = 0\n",
    "\n"
   ]
  },
  {
   "cell_type": "markdown",
   "id": "3bb738be",
   "metadata": {},
   "source": [
    " "
   ]
  },
  {
   "cell_type": "markdown",
   "id": "837aac43",
   "metadata": {},
   "source": [
    " "
   ]
  },
  {
   "cell_type": "markdown",
   "id": "633dc2d1",
   "metadata": {},
   "source": [
    "**17. What to write in  the `getting_prize` to make it work?**"
   ]
  },
  {
   "cell_type": "code",
   "execution_count": null,
   "id": "5a6ef858",
   "metadata": {},
   "outputs": [],
   "source": [
    "class Physicist:\n",
    "    sanity = 0.75\n",
    "    def __init__(self, name, xp, money):\n",
    "        self.name = name\n",
    "        self.xp = xp\n",
    "        self.money = money\n",
    "        self.nobel=0\n",
    "        \n",
    "    def get_name(self):\n",
    "        return self.name\n",
    "    \n",
    "    def has_nobel(self):\n",
    "        return self.nobel\n",
    "    \n",
    "    def get_xp(self):\n",
    "        return self.xp\n",
    "    \n",
    "    def get_money(self):\n",
    "        return self.money\n",
    "    \n",
    "    def add_xp(self, value):\n",
    "        self.xp += value\n",
    "        \n",
    "    def change_money(self, value):\n",
    "        self.money += value\n",
    "        \n",
    "    def convert_money_to_xp(self):\n",
    "        self.xp += int(self.money/1000)\n",
    "        self.money = 0\n",
    "\n",
    "    def getting_prize(self):\n",
    "        luck = uniform()\n",
    "\n",
    "        \n",
    "        \n",
    "        \n",
    "        \n",
    "        else:\n",
    "            return \"Keep working!\""
   ]
  },
  {
   "cell_type": "markdown",
   "id": "929b5351",
   "metadata": {},
   "source": [
    " "
   ]
  },
  {
   "cell_type": "markdown",
   "id": "9d54a07c",
   "metadata": {},
   "source": [
    " "
   ]
  },
  {
   "cell_type": "markdown",
   "id": "f3cf0c10",
   "metadata": {},
   "source": [
    " "
   ]
  },
  {
   "cell_type": "markdown",
   "id": "403abdfc",
   "metadata": {},
   "source": [
    "Let us check some things!"
   ]
  },
  {
   "cell_type": "code",
   "execution_count": null,
   "id": "fb258140",
   "metadata": {},
   "outputs": [],
   "source": [
    "ph1 = Physicist('Anna', 100, 1e4)"
   ]
  },
  {
   "cell_type": "markdown",
   "id": "ac80e5d3",
   "metadata": {},
   "source": [
    "**18. What is the expected output here?**"
   ]
  },
  {
   "cell_type": "code",
   "execution_count": null,
   "id": "792bc5f4",
   "metadata": {},
   "outputs": [],
   "source": [
    "ph1.convert_money_to_xp()\n",
    "ph1.get_xp()"
   ]
  },
  {
   "cell_type": "markdown",
   "id": "4b7b8cdd",
   "metadata": {},
   "source": [
    "**19. ...and here?**"
   ]
  },
  {
   "cell_type": "code",
   "execution_count": null,
   "id": "ec9d3a62",
   "metadata": {},
   "outputs": [],
   "source": [
    "ph1.getting_prize()"
   ]
  },
  {
   "cell_type": "markdown",
   "id": "ffa48ec6",
   "metadata": {},
   "source": [
    " "
   ]
  },
  {
   "cell_type": "markdown",
   "id": "73331f91",
   "metadata": {},
   "source": [
    " "
   ]
  },
  {
   "cell_type": "markdown",
   "id": "812af76c",
   "metadata": {},
   "source": [
    " "
   ]
  },
  {
   "cell_type": "markdown",
   "id": "94ea7f5a",
   "metadata": {},
   "source": [
    " "
   ]
  },
  {
   "cell_type": "markdown",
   "id": "53b1f9a3",
   "metadata": {},
   "source": [
    "**20. Let's keep asking if a physicist has a Nobel prize until they got it. How to implement this in Python?**"
   ]
  },
  {
   "cell_type": "code",
   "execution_count": null,
   "id": "65542c7b",
   "metadata": {},
   "outputs": [],
   "source": [
    "while ph1.has_nobel() != 1:\n",
    "    print(ph1.getting_prize())"
   ]
  },
  {
   "cell_type": "markdown",
   "id": "dffb45eb",
   "metadata": {},
   "source": [
    " "
   ]
  },
  {
   "cell_type": "markdown",
   "id": "49ea3022",
   "metadata": {},
   "source": [
    " "
   ]
  },
  {
   "cell_type": "markdown",
   "id": "1ff5dc1a",
   "metadata": {},
   "source": [
    " "
   ]
  },
  {
   "cell_type": "markdown",
   "id": "541d0f35",
   "metadata": {},
   "source": [
    " "
   ]
  },
  {
   "cell_type": "markdown",
   "id": "59c59ed1",
   "metadata": {},
   "source": [
    "Let's create a competition between two physicists. "
   ]
  },
  {
   "cell_type": "code",
   "execution_count": null,
   "id": "6379d1ed",
   "metadata": {},
   "outputs": [],
   "source": [
    "ph1 = Physicist('Wolfgang', 100, 0)\n",
    "ph2 = Physicist('Enrico', 100, 0)"
   ]
  },
  {
   "cell_type": "markdown",
   "id": "7662eb90",
   "metadata": {},
   "source": [
    "Both of them apply for the same grant that has random value between 0 and 1M euros. The winner of the grant is decided randomly each time by the condition:\n",
    "\n",
    "x>0.5: first person wins\n",
    "\n",
    "x<0.5: second person wind"
   ]
  },
  {
   "cell_type": "code",
   "execution_count": null,
   "id": "c0677315",
   "metadata": {},
   "outputs": [],
   "source": [
    "grant_value = uniform()*1e6"
   ]
  },
  {
   "cell_type": "markdown",
   "id": "f6429baa",
   "metadata": {},
   "source": [
    "**21. Add three lines to the following code to make it work correctly.**"
   ]
  },
  {
   "cell_type": "code",
   "execution_count": null,
   "id": "3c65d12a",
   "metadata": {},
   "outputs": [],
   "source": [
    "\n",
    "\n",
    "    # first just try your luck\n",
    "    print(f\"{ph1.name}, {ph1.getting_prize()}\")\n",
    "    print(f\"{ph2.name}, {ph2.getting_prize()}\")\n",
    "    \n",
    "    # now get a grant to get more XP\n",
    "    x = uniform()\n",
    "    grant_value = int(uniform()*1e6)\n",
    "    if x>=0.5:\n",
    "\n",
    "        print(f\"{ph1.name} got a grant of {grant_value} euros!\" )\n",
    "\n",
    "        print(f\"{ph1.name} has now {ph1.get_xp()} XP\" )\n",
    "        print(ph1.getting_prize())\n",
    "\n",
    "    else: \n",
    " \n",
    "        print(f\"{ph2.name} got a grant of {grant_value} euros!\" )\n",
    "\n",
    "        print(f\"{ph2.name} has now {ph2.get_xp()} XP\" )\n",
    "        print(ph2.getting_prize())\n",
    "\n",
    "    print(\"\\n\")\n"
   ]
  },
  {
   "cell_type": "markdown",
   "id": "9adaf239",
   "metadata": {},
   "source": [
    " "
   ]
  },
  {
   "cell_type": "markdown",
   "id": "f51fce38",
   "metadata": {},
   "source": [
    " "
   ]
  },
  {
   "cell_type": "markdown",
   "id": "b3b7c262",
   "metadata": {},
   "source": [
    " "
   ]
  },
  {
   "cell_type": "markdown",
   "id": "0a7d9b72",
   "metadata": {},
   "source": [
    " "
   ]
  },
  {
   "cell_type": "markdown",
   "id": "13804b54",
   "metadata": {},
   "source": [
    " "
   ]
  },
  {
   "cell_type": "markdown",
   "id": "6aa7273e",
   "metadata": {},
   "source": [
    " "
   ]
  },
  {
   "cell_type": "markdown",
   "id": "b8764289",
   "metadata": {},
   "source": [
    "Let's now assume that a physicist takes a student. Apart from attributes of Physicist class, Student has an additional \"proprerty\": years left until graduation."
   ]
  },
  {
   "cell_type": "markdown",
   "id": "f9e25ef2",
   "metadata": {},
   "source": [
    "**22. How to make class `Student` to be a child class of `Physicist`?**"
   ]
  },
  {
   "cell_type": "code",
   "execution_count": null,
   "id": "d1f6231d",
   "metadata": {},
   "outputs": [],
   "source": [
    "class Student(Physicist):\n",
    "    pass\n"
   ]
  },
  {
   "cell_type": "markdown",
   "id": "f30edd4b",
   "metadata": {},
   "source": [
    " "
   ]
  },
  {
   "cell_type": "markdown",
   "id": "044d159f",
   "metadata": {},
   "source": [
    " "
   ]
  },
  {
   "cell_type": "markdown",
   "id": "6993e520",
   "metadata": {},
   "source": [
    " "
   ]
  },
  {
   "cell_type": "markdown",
   "id": "155f16f6",
   "metadata": {},
   "source": [
    "**23. Add one line to make `Student` inherit attributes `name`, `xp` and `money` from `Physicist`.**"
   ]
  },
  {
   "cell_type": "code",
   "execution_count": null,
   "id": "45292cc8",
   "metadata": {},
   "outputs": [],
   "source": [
    "class Student(Physicist):\n",
    "    def __init__(self, name, xp, money, graduation):\n",
    "\n",
    "        \n",
    "        \n",
    "        \n",
    "        self.graduation = graduation"
   ]
  },
  {
   "cell_type": "markdown",
   "id": "a3c67390",
   "metadata": {},
   "source": [
    "  "
   ]
  },
  {
   "cell_type": "markdown",
   "id": "7b5d5fee",
   "metadata": {},
   "source": [
    "  "
   ]
  },
  {
   "cell_type": "markdown",
   "id": "e27d3b00",
   "metadata": {},
   "source": [
    "  "
   ]
  },
  {
   "cell_type": "markdown",
   "id": "447b69cb",
   "metadata": {},
   "source": [
    "**24. What is the expected output of the following line?**"
   ]
  },
  {
   "cell_type": "code",
   "execution_count": null,
   "id": "259bf2c7",
   "metadata": {},
   "outputs": [],
   "source": [
    "st1 = Student('Peter', 0, 0, 5)\n",
    "st1.sanity"
   ]
  },
  {
   "cell_type": "markdown",
   "id": "4e7a12e5",
   "metadata": {},
   "source": [
    " "
   ]
  },
  {
   "cell_type": "markdown",
   "id": "55bf9cb5",
   "metadata": {},
   "source": [
    " "
   ]
  },
  {
   "cell_type": "markdown",
   "id": "c25d9458",
   "metadata": {},
   "source": [
    "Students tend to lose their sanity much faster than established physicists. Assume that each successful year of studies adds 10XP while unsuccessful reduces sanity by 5%. Unsuccessful years have to be repeated (i.e. do not decrease number of years left until graduation). Successful or unsuccessful years depend purely on luck (>50% means sucessful).\n",
    "\n",
    "\n",
    "\n",
    "\n",
    "**25. What to add to `if`-`else` condition here to make the code work correctly?**"
   ]
  },
  {
   "cell_type": "code",
   "execution_count": null,
   "id": "2f94459a",
   "metadata": {},
   "outputs": [],
   "source": [
    "class Student(Physicist):\n",
    "    def __init__(self, name, xp, money, graduation):\n",
    "        super().__init__(name, xp, money)\n",
    "        self.graduation = graduation\n",
    "        \n",
    "    def years_left(self):\n",
    "        return self.graduation\n",
    "    \n",
    "    def get_xp(self):\n",
    "        luck = uniform()\n",
    "        if luck>0.5:\n",
    "\n",
    "            \n",
    "        else:\n",
    "          \n",
    "        \n",
    "            \n",
    "        return self.xp"
   ]
  },
  {
   "cell_type": "markdown",
   "id": "49bee846",
   "metadata": {},
   "source": [
    " "
   ]
  },
  {
   "cell_type": "markdown",
   "id": "2f04a957",
   "metadata": {},
   "source": [
    "Checks:"
   ]
  },
  {
   "cell_type": "code",
   "execution_count": null,
   "id": "9b307043",
   "metadata": {},
   "outputs": [],
   "source": [
    "st1 = Student('Peter', 0, 0, 5)"
   ]
  },
  {
   "cell_type": "code",
   "execution_count": null,
   "id": "e5a01dfa",
   "metadata": {},
   "outputs": [],
   "source": [
    "print(st1.years_left())\n",
    "print(st1.get_xp())"
   ]
  },
  {
   "cell_type": "markdown",
   "id": "d8b807cd",
   "metadata": {},
   "source": [
    " "
   ]
  },
  {
   "cell_type": "markdown",
   "id": "c5ad4dcf",
   "metadata": {},
   "source": [
    " "
   ]
  },
  {
   "cell_type": "markdown",
   "id": "485d5e6e",
   "metadata": {},
   "source": [
    "Graduation challange! Let's write a loop to check which study year was successful, what is the current sanity level and how many real years passed.\n",
    "\n",
    "**25. Which loop to add and what condition to set?**"
   ]
  },
  {
   "cell_type": "code",
   "execution_count": null,
   "id": "7cbc7964",
   "metadata": {},
   "outputs": [],
   "source": [
    "st1 = Student('Peter', 0, 0, 5)"
   ]
  },
  {
   "cell_type": "code",
   "execution_count": null,
   "id": "bd6f89a1",
   "metadata": {},
   "outputs": [],
   "source": [
    "student = st1\n",
    "years_passed = 0 # counts real years\n",
    "\n",
    "\n",
    "    student.get_xp()\n",
    "    print(f\"{student.name} has sanity {round(student.sanity,2)}\")\n",
    "    years_passed+=1\n",
    "    print(f\"Year {years_passed} just finished\")\n",
    "\n",
    "print(f\"Congratulations {student.name}, you have graduated after {years_passed} years while being {round((1-student.sanity),2)*100}% insane\")"
   ]
  },
  {
   "cell_type": "markdown",
   "id": "e75f66b5",
   "metadata": {},
   "source": [
    " "
   ]
  },
  {
   "cell_type": "markdown",
   "id": "9e7707de-046b-424d-a677-3afa1348b40c",
   "metadata": {},
   "source": [
    "## Next week: OS & files"
   ]
  }
 ],
 "metadata": {
  "kernelspec": {
   "display_name": "Python 3 (ipykernel)",
   "language": "python",
   "name": "python3"
  },
  "language_info": {
   "codemirror_mode": {
    "name": "ipython",
    "version": 3
   },
   "file_extension": ".py",
   "mimetype": "text/x-python",
   "name": "python",
   "nbconvert_exporter": "python",
   "pygments_lexer": "ipython3",
   "version": "3.8.8"
  }
 },
 "nbformat": 4,
 "nbformat_minor": 5
}
