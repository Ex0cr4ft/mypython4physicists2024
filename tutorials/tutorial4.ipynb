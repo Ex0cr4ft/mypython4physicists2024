{
 "cells": [
  {
   "cell_type": "markdown",
   "id": "378c3623",
   "metadata": {},
   "source": [
    "# Tutorial 4"
   ]
  },
  {
   "cell_type": "markdown",
   "id": "4b86a03f-d512-411a-8469-fec99b65a9b9",
   "metadata": {},
   "source": [
    "# Functions"
   ]
  },
  {
   "cell_type": "markdown",
   "id": "b3e10cd6",
   "metadata": {},
   "source": [
    "1.  What is the output of the following code?"
   ]
  },
  {
   "cell_type": "code",
   "execution_count": null,
   "id": "01416497-90e3-4c20-b45b-e94a84700f87",
   "metadata": {},
   "outputs": [],
   "source": [
    "def f(x): \n",
    "    x+2\n",
    "\n",
    "print(f(2))"
   ]
  },
  {
   "cell_type": "markdown",
   "id": "c0abde53",
   "metadata": {},
   "source": [
    " "
   ]
  },
  {
   "cell_type": "markdown",
   "id": "d7c09971",
   "metadata": {},
   "source": [
    " "
   ]
  },
  {
   "cell_type": "markdown",
   "id": "6d69b0da",
   "metadata": {},
   "source": [
    "2. Will the following code snippet be executed without errors?"
   ]
  },
  {
   "cell_type": "code",
   "execution_count": null,
   "id": "189e9aac",
   "metadata": {},
   "outputs": [],
   "source": [
    "def f(x): return x+2\n",
    "\n",
    "print(f(2))"
   ]
  },
  {
   "cell_type": "markdown",
   "id": "f915896f",
   "metadata": {},
   "source": [
    " "
   ]
  },
  {
   "cell_type": "markdown",
   "id": "7a89113d",
   "metadata": {},
   "source": [
    " "
   ]
  },
  {
   "cell_type": "markdown",
   "id": "a697472b",
   "metadata": {},
   "source": [
    "3. What does the following function do? What is the expected output?"
   ]
  },
  {
   "cell_type": "code",
   "execution_count": null,
   "id": "30dffe13",
   "metadata": {},
   "outputs": [],
   "source": [
    "def func(x):\n",
    "    return f\"{x:.2e}\"\n",
    "\n",
    "print(func(1763.94853))"
   ]
  },
  {
   "cell_type": "markdown",
   "id": "5bd08962",
   "metadata": {},
   "source": [
    " "
   ]
  },
  {
   "cell_type": "markdown",
   "id": "31b8ee83",
   "metadata": {},
   "source": [
    " "
   ]
  },
  {
   "cell_type": "markdown",
   "id": "a93d6210-4c90-4644-8a4a-6c95d818f098",
   "metadata": {},
   "source": [
    "4. What will be the output of the following code?"
   ]
  },
  {
   "cell_type": "code",
   "execution_count": null,
   "id": "ec05a15d-272d-4483-a53f-d3b907777fb2",
   "metadata": {},
   "outputs": [],
   "source": [
    "def f(x):\n",
    "    if x>0:\n",
    "        return \"positive\"\n",
    "    else:\n",
    "        return \"non-positive\"\n",
    "    if x%2==0:\n",
    "        return \"even\"\n",
    "    else:\n",
    "        return \"odd\"\n",
    "    \n",
    "print(f(4))"
   ]
  },
  {
   "cell_type": "markdown",
   "id": "9adaf239",
   "metadata": {},
   "source": [
    " "
   ]
  },
  {
   "cell_type": "markdown",
   "id": "6aa7273e",
   "metadata": {},
   "source": [
    " "
   ]
  },
  {
   "cell_type": "markdown",
   "id": "a697b628",
   "metadata": {},
   "source": [
    "5. What will be returned upon execution of the following code snippet?"
   ]
  },
  {
   "cell_type": "code",
   "execution_count": null,
   "id": "9a1db49f-2350-4912-94ce-a00039d12fb2",
   "metadata": {},
   "outputs": [],
   "source": [
    "def my_function(x=0, a=1, b=1):\n",
    "    return x**a+b\n",
    "\n",
    "print(my_function())"
   ]
  },
  {
   "cell_type": "markdown",
   "id": "e75f66b5",
   "metadata": {},
   "source": [
    " "
   ]
  },
  {
   "cell_type": "markdown",
   "id": "e3e9edf0",
   "metadata": {},
   "source": [
    " "
   ]
  },
  {
   "cell_type": "markdown",
   "id": "fc2aa433",
   "metadata": {},
   "source": [
    "6. Which is the expected output of the following code snippet?"
   ]
  },
  {
   "cell_type": "code",
   "execution_count": null,
   "id": "2e27812e-ae53-4358-84f9-960475909004",
   "metadata": {},
   "outputs": [],
   "source": [
    "def my_function(x, a=1, b):\n",
    "    return x**a+b\n",
    "\n",
    "print(my_function())"
   ]
  },
  {
   "cell_type": "markdown",
   "id": "7bffae50",
   "metadata": {},
   "source": [
    " "
   ]
  },
  {
   "cell_type": "markdown",
   "id": "31685679",
   "metadata": {},
   "source": [
    " "
   ]
  },
  {
   "cell_type": "markdown",
   "id": "d14e073a",
   "metadata": {},
   "source": [
    "7. What data type will be returned from the following function? How to get each return variable individually?"
   ]
  },
  {
   "cell_type": "code",
   "execution_count": null,
   "id": "cb01890e-3246-41f5-91fc-ed35cdcbfb8a",
   "metadata": {},
   "outputs": [],
   "source": [
    "def func(list):\n",
    "    index = list.index(min(list))\n",
    "    min_value = min(list)\n",
    "    return min_value,index\n",
    "\n",
    "a=[10, 6, 1, -5, 12, 0]\n",
    "print(type(func(a)))"
   ]
  },
  {
   "cell_type": "markdown",
   "id": "58d27c0b",
   "metadata": {},
   "source": [
    " "
   ]
  },
  {
   "cell_type": "markdown",
   "id": "f9d50eb7",
   "metadata": {},
   "source": [
    " "
   ]
  },
  {
   "cell_type": "markdown",
   "id": "e2540f27",
   "metadata": {},
   "source": [
    "8. How to get the value of the minimal element in list and its position using the function defined above?"
   ]
  },
  {
   "cell_type": "code",
   "execution_count": null,
   "id": "acab729a",
   "metadata": {},
   "outputs": [],
   "source": [
    "\n",
    "# min_value  = \n",
    "# min_index =\n",
    "\n",
    "\n",
    "print(min_value)\n",
    "print(min_index)"
   ]
  },
  {
   "cell_type": "markdown",
   "id": "046a433b",
   "metadata": {},
   "source": [
    "## args, kwargs"
   ]
  },
  {
   "cell_type": "markdown",
   "id": "f607e03c",
   "metadata": {},
   "source": [
    "8. What is the meaning of `*args` in Python functions?\n",
    "\n",
    " "
   ]
  },
  {
   "cell_type": "markdown",
   "id": "21f4f3ba",
   "metadata": {},
   "source": [
    " "
   ]
  },
  {
   "cell_type": "markdown",
   "id": "f0788c99",
   "metadata": {},
   "source": [
    " "
   ]
  },
  {
   "cell_type": "markdown",
   "id": "f198c945",
   "metadata": {},
   "source": [
    "9. What will be returned upon execution of the following code?"
   ]
  },
  {
   "cell_type": "code",
   "execution_count": null,
   "id": "f88e89e0-8bfb-4aec-9279-102ad7268424",
   "metadata": {},
   "outputs": [],
   "source": [
    "def func(*args):\n",
    "    sum = 0\n",
    "    for i in args:\n",
    "        sum+=i\n",
    "    return sum\n",
    "\n",
    "print(func(2, 4, 6))\n",
    "print(func(80, 100))"
   ]
  },
  {
   "cell_type": "markdown",
   "id": "a96ff720",
   "metadata": {},
   "source": [
    " "
   ]
  },
  {
   "cell_type": "markdown",
   "id": "45ab004a",
   "metadata": {},
   "source": [
    " "
   ]
  },
  {
   "cell_type": "markdown",
   "id": "8a2bd545",
   "metadata": {},
   "source": [
    "9. Will the following code snippet be executed without errors?"
   ]
  },
  {
   "cell_type": "code",
   "execution_count": null,
   "id": "6dd13200",
   "metadata": {},
   "outputs": [],
   "source": [
    "def func(*integers):\n",
    "    sum = 0\n",
    "    for i in args:\n",
    "        sum+=i\n",
    "    return sum\n",
    "\n",
    "print(func(2, 4, 6))\n",
    "print(func(80, 100))"
   ]
  },
  {
   "cell_type": "markdown",
   "id": "630eb898",
   "metadata": {},
   "source": [
    " "
   ]
  },
  {
   "cell_type": "markdown",
   "id": "97d1d9be",
   "metadata": {},
   "source": [
    "<details>\n",
    "  <summary>Click here</summary>\n",
    "\n",
    "The name ```args``` is just a name and can be subsituted with any other variable name. The only importnat component to pass changing number of variables to the function is **unpacking operator** ```*```.\n",
    "\n",
    "</details>"
   ]
  },
  {
   "cell_type": "markdown",
   "id": "5bbf312e",
   "metadata": {},
   "source": [
    "10. What is the difference between ```*args``` and ```**kwargs```?"
   ]
  },
  {
   "cell_type": "markdown",
   "id": "9fdbfbc2",
   "metadata": {},
   "source": [
    " "
   ]
  },
  {
   "cell_type": "markdown",
   "id": "2fbf6157",
   "metadata": {},
   "source": [
    " "
   ]
  },
  {
   "cell_type": "markdown",
   "id": "2192e581",
   "metadata": {},
   "source": [
    "11. Imagine you have a function that returns energy of the detected particle. However, the detection might go wrong because of the background (e.g. particle which is not a particle we are searching for) or because of the problems with the electronics. From time to time, a student on a night shift falls asleep and cannot controll the process so the detection is not valid either. \n",
    "\n",
    "Implement the following checks:\n",
    "\n",
    "```background_flag=1``` must return only \"background\" message;\n",
    "\n",
    "```electronics_flag=-1``` must return only \"electronics failure\" message;\n",
    "\n",
    "```sleep_flag=1``` must return \"unchecked detection\".\n",
    "\n",
    "If some other flag is passed, return \"unknown flag\".\n",
    "\n",
    "In any other case, return particle energy."
   ]
  },
  {
   "cell_type": "code",
   "execution_count": null,
   "id": "63fbeb64",
   "metadata": {},
   "outputs": [],
   "source": [
    "def detection(energy, **kwargs):\n",
    "    for flag, value in kwargs.items():\n",
    "#\n",
    "#"
   ]
  },
  {
   "cell_type": "markdown",
   "id": "2cc090b9",
   "metadata": {},
   "source": [
    "<details>\n",
    "  <summary>Solution</summary>\n",
    "\n",
    " def detection(energy, **kwargs):\n",
    "   \n",
    "     for flag, value in kwargs.items():\n",
    "    \n",
    "        if flag=='background_flag' and value==1:\n",
    "    \n",
    "            return \"background\"\n",
    "    \n",
    "        if flag=='electronics_flag' and value==-1:\n",
    "    \n",
    "            return \"electronics failure\"\n",
    "    \n",
    "        if flag == 'sleep_flag' and value==1:\n",
    "    \n",
    "            return \"unchecked detection\"\n",
    "    \n",
    "        if flag not in ['background_flag', 'electronics_flag', 'sleep_flag']:\n",
    "    \n",
    "            return \"unknown flag\"\n",
    "  \n",
    "        return energy\n",
    "    \n",
    "</details>"
   ]
  },
  {
   "cell_type": "code",
   "execution_count": null,
   "id": "98272a62",
   "metadata": {},
   "outputs": [],
   "source": [
    "#checks\n",
    "print(detection(1))\n",
    "print(detection(1, background_flag=1))\n",
    "print(detection(1, electronics_flag=-1))\n",
    "print(detection(1, sleep_flag=1))\n",
    "print(detection(1, unknown_reason=1))\n",
    "print(detection(1, background_flag=0, electronics_flag=0))"
   ]
  },
  {
   "cell_type": "markdown",
   "id": "8fbbdbf2",
   "metadata": {},
   "source": [
    " "
   ]
  },
  {
   "cell_type": "markdown",
   "id": "f486dcd0",
   "metadata": {},
   "source": [
    " "
   ]
  },
  {
   "cell_type": "markdown",
   "id": "d4929452",
   "metadata": {},
   "source": [
    "12. You want to pass to the functions the following arguments:\n",
    "\n",
    "```**kwargs```\n",
    "\n",
    "```a=1```\n",
    "\n",
    "```*args```\n",
    "\n",
    "```b```\n",
    "\n",
    "What is the corect order?"
   ]
  },
  {
   "cell_type": "markdown",
   "id": "746e29eb",
   "metadata": {},
   "source": [
    " "
   ]
  },
  {
   "cell_type": "markdown",
   "id": "93e300c6",
   "metadata": {},
   "source": [
    " "
   ]
  },
  {
   "cell_type": "markdown",
   "id": "dd71a9ae-1f1a-40eb-9b1f-8554feef446a",
   "metadata": {},
   "source": [
    "# Local vs global variables"
   ]
  },
  {
   "cell_type": "markdown",
   "id": "b7494e86",
   "metadata": {},
   "source": [
    "13. What is the difference between local and global variables?"
   ]
  },
  {
   "cell_type": "markdown",
   "id": "7b3f43ea",
   "metadata": {},
   "source": [
    " "
   ]
  },
  {
   "cell_type": "markdown",
   "id": "0656d374",
   "metadata": {},
   "source": [
    " "
   ]
  },
  {
   "cell_type": "markdown",
   "id": "8900d66e",
   "metadata": {},
   "source": [
    "14. What will be the output of the following code?"
   ]
  },
  {
   "cell_type": "code",
   "execution_count": null,
   "id": "2622683e",
   "metadata": {
    "scrolled": true
   },
   "outputs": [],
   "source": [
    "def func(j):\n",
    "    i=1\n",
    "    return i+j\n",
    "\n",
    "i=2\n",
    "print(func(0))"
   ]
  },
  {
   "cell_type": "markdown",
   "id": "bfa330a3",
   "metadata": {},
   "source": [
    " "
   ]
  },
  {
   "cell_type": "markdown",
   "id": "0a856791",
   "metadata": {},
   "source": [
    " "
   ]
  },
  {
   "cell_type": "markdown",
   "id": "a6fd629e",
   "metadata": {},
   "source": [
    "15. ...and this one?"
   ]
  },
  {
   "cell_type": "code",
   "execution_count": null,
   "id": "f14154c5",
   "metadata": {},
   "outputs": [],
   "source": [
    "def func2(j):\n",
    "    return a+j\n",
    "\n",
    "a=2\n",
    "print(func2(0))"
   ]
  },
  {
   "cell_type": "markdown",
   "id": "29a0dfb5",
   "metadata": {},
   "source": [
    " "
   ]
  },
  {
   "cell_type": "markdown",
   "id": "b0861b8d",
   "metadata": {},
   "source": [
    " "
   ]
  },
  {
   "cell_type": "markdown",
   "id": "850f0f8c",
   "metadata": {},
   "source": [
    "16. What will be printed out upon execution of the following code?"
   ]
  },
  {
   "cell_type": "code",
   "execution_count": null,
   "id": "02193fdb",
   "metadata": {},
   "outputs": [],
   "source": [
    "\n",
    "def f1():\n",
    "    a = 2\n",
    "    return a\n",
    "\n",
    "def f2():\n",
    "    return a\n",
    "\n",
    "\n",
    "def f3():\n",
    "    global a\n",
    "    a = 3\n",
    "    return a\n",
    "\n",
    "a = 1\n",
    "\n",
    "print(f1())\n",
    "print(f2())\n",
    "print(f3())"
   ]
  },
  {
   "cell_type": "markdown",
   "id": "5c23d412",
   "metadata": {},
   "source": [
    " "
   ]
  },
  {
   "cell_type": "markdown",
   "id": "096fd9e9",
   "metadata": {},
   "source": [
    " "
   ]
  },
  {
   "cell_type": "markdown",
   "id": "c265b593",
   "metadata": {},
   "source": [
    "# Lambda functions"
   ]
  },
  {
   "cell_type": "markdown",
   "id": "0e903f60",
   "metadata": {},
   "source": [
    "17. How to re-write the following fuction as lambda-function?"
   ]
  },
  {
   "cell_type": "code",
   "execution_count": null,
   "id": "5c0ddcfe-f368-4ca1-9b3d-47b9b95defa7",
   "metadata": {},
   "outputs": [],
   "source": [
    "def area(r):\n",
    "    pi = 3.1415\n",
    "    return pi*r**2"
   ]
  },
  {
   "cell_type": "code",
   "execution_count": null,
   "id": "a992221a",
   "metadata": {},
   "outputs": [],
   "source": [
    "# your code here"
   ]
  },
  {
   "cell_type": "markdown",
   "id": "62d03bc0",
   "metadata": {},
   "source": [
    " "
   ]
  },
  {
   "cell_type": "markdown",
   "id": "a8d44b77",
   "metadata": {},
   "source": [
    " "
   ]
  },
  {
   "cell_type": "markdown",
   "id": "3679db99",
   "metadata": {},
   "source": [
    "18. How to get the output of the lambda fucntion for the argument ```r=2``` similary to ```area(2)```?"
   ]
  },
  {
   "cell_type": "code",
   "execution_count": null,
   "id": "38c88bbc",
   "metadata": {},
   "outputs": [],
   "source": [
    "# your code here"
   ]
  },
  {
   "cell_type": "markdown",
   "id": "26fcefc7",
   "metadata": {},
   "source": [
    " "
   ]
  },
  {
   "cell_type": "markdown",
   "id": "90e7ce67",
   "metadata": {},
   "source": [
    " "
   ]
  },
  {
   "cell_type": "markdown",
   "id": "545ce135",
   "metadata": {},
   "source": [
    "19. How to fix the following code to make it work?"
   ]
  },
  {
   "cell_type": "code",
   "execution_count": null,
   "id": "9b86ab69",
   "metadata": {},
   "outputs": [],
   "source": [
    "x = [0, 2, 5, 7]\n",
    "[(lambda y: y**2 + 1) for number in x] "
   ]
  },
  {
   "cell_type": "markdown",
   "id": "be9709f5",
   "metadata": {},
   "source": [
    " "
   ]
  },
  {
   "cell_type": "markdown",
   "id": "ddec238b",
   "metadata": {},
   "source": [
    " "
   ]
  },
  {
   "cell_type": "markdown",
   "id": "80f561dc-2764-4270-b627-eb1e1e38a49a",
   "metadata": {},
   "source": [
    "## Recursion"
   ]
  },
  {
   "cell_type": "markdown",
   "id": "ca32de7f",
   "metadata": {},
   "source": [
    "20. What is a recursion?"
   ]
  },
  {
   "cell_type": "markdown",
   "id": "86f6733e",
   "metadata": {},
   "source": [
    " "
   ]
  },
  {
   "cell_type": "markdown",
   "id": "bd2edd8a",
   "metadata": {},
   "source": [
    " "
   ]
  },
  {
   "cell_type": "markdown",
   "id": "9d3a392c",
   "metadata": {},
   "source": [
    " "
   ]
  },
  {
   "cell_type": "markdown",
   "id": "529cc95d",
   "metadata": {},
   "source": [
    "21. How to implement calculation of the factorial using recursion?\n",
    "\n",
    "$$n! = 1 \\times 2 \\times 3 ... \\times n$$"
   ]
  },
  {
   "cell_type": "code",
   "execution_count": null,
   "id": "a6b851ae",
   "metadata": {},
   "outputs": [],
   "source": [
    "# your code here"
   ]
  },
  {
   "cell_type": "markdown",
   "id": "04276b54",
   "metadata": {},
   "source": [
    " "
   ]
  },
  {
   "cell_type": "markdown",
   "id": "21a575ee",
   "metadata": {},
   "source": [
    " "
   ]
  },
  {
   "cell_type": "markdown",
   "id": "37085410",
   "metadata": {},
   "source": [
    " "
   ]
  },
  {
   "cell_type": "markdown",
   "id": "1c22e124",
   "metadata": {},
   "source": [
    "22. How to print the n-th number of Fibonacci sequence?\n",
    "\n",
    "$$0, 1, 1, 2, 3, 5, 8, 13, 21, 34, 55, 89, 144, …$$\n",
    "\n",
    "$$F_n = F_{n-1} + F_{n-2}$$"
   ]
  },
  {
   "cell_type": "code",
   "execution_count": null,
   "id": "5bc9caf6",
   "metadata": {},
   "outputs": [],
   "source": [
    "def Fibonacci(n): \n",
    "# your code here\n",
    "\n"
   ]
  },
  {
   "cell_type": "code",
   "execution_count": null,
   "id": "57912077",
   "metadata": {},
   "outputs": [],
   "source": [
    "# check 1\n",
    "print(Fibonacci(5))"
   ]
  },
  {
   "cell_type": "code",
   "execution_count": null,
   "id": "c6e5aae5",
   "metadata": {},
   "outputs": [],
   "source": [
    "# printing the sequence\n",
    "for i in range(13):\n",
    "    print(f\"{Fibonacci(i)} \", end=\"\")\n"
   ]
  },
  {
   "cell_type": "markdown",
   "id": "9e7707de-046b-424d-a677-3afa1348b40c",
   "metadata": {},
   "source": [
    "## Next week: classes"
   ]
  }
 ],
 "metadata": {
  "kernelspec": {
   "display_name": "Python 3 (ipykernel)",
   "language": "python",
   "name": "python3"
  },
  "language_info": {
   "codemirror_mode": {
    "name": "ipython",
    "version": 3
   },
   "file_extension": ".py",
   "mimetype": "text/x-python",
   "name": "python",
   "nbconvert_exporter": "python",
   "pygments_lexer": "ipython3",
   "version": "3.8.8"
  }
 },
 "nbformat": 4,
 "nbformat_minor": 5
}
