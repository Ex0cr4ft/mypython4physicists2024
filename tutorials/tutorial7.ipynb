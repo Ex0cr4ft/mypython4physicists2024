{
 "cells": [
  {
   "cell_type": "markdown",
   "id": "085f0cb3-1ac5-491a-a260-b890d70f1fd5",
   "metadata": {},
   "source": [
    "# Tutorial 7"
   ]
  },
  {
   "cell_type": "markdown",
   "id": "dc077d0c-48eb-462f-94f1-a2356fb24324",
   "metadata": {},
   "source": [
    "# Modules and scripts\n",
    "\n",
    "## (becoming the lord of the ~~rings~~ `.py` files)"
   ]
  },
  {
   "cell_type": "markdown",
   "id": "22832580",
   "metadata": {},
   "source": [
    "## Definitions"
   ]
  },
  {
   "cell_type": "markdown",
   "id": "f2007dae",
   "metadata": {},
   "source": [
    "1. What is an extension of your homework and tutorial files?"
   ]
  },
  {
   "cell_type": "markdown",
   "id": "432c9b0e",
   "metadata": {},
   "source": [
    " "
   ]
  },
  {
   "cell_type": "markdown",
   "id": "73248d35",
   "metadata": {},
   "source": [
    " "
   ]
  },
  {
   "cell_type": "markdown",
   "id": "382815ae",
   "metadata": {},
   "source": [
    " "
   ]
  },
  {
   "cell_type": "markdown",
   "id": "2b5d112a",
   "metadata": {},
   "source": [
    " "
   ]
  },
  {
   "cell_type": "markdown",
   "id": "b34eef0d",
   "metadata": {},
   "source": [
    " "
   ]
  },
  {
   "cell_type": "markdown",
   "id": "27f39b01",
   "metadata": {},
   "source": [
    "Imagine we have a code snippet in Jupyter Notebook that does some actions, e.g. \n",
    "```\n",
    "from math import sin\n",
    "print(sin(1.1)/1.1)\n",
    "```\n",
    "We now put this in empty file and name it `sinc.py`.\n",
    "\n",
    "2. What type of a file is it?"
   ]
  },
  {
   "cell_type": "markdown",
   "id": "2cf52a1b",
   "metadata": {},
   "source": [
    " "
   ]
  },
  {
   "cell_type": "markdown",
   "id": "cc4546a7",
   "metadata": {},
   "source": [
    " "
   ]
  },
  {
   "cell_type": "markdown",
   "id": "ce30be62",
   "metadata": {},
   "source": [
    " "
   ]
  },
  {
   "cell_type": "markdown",
   "id": "62d3c7c7",
   "metadata": {},
   "source": [
    " "
   ]
  },
  {
   "cell_type": "markdown",
   "id": "7de99c7e",
   "metadata": {},
   "source": [
    " "
   ]
  },
  {
   "cell_type": "markdown",
   "id": "28b4f44c",
   "metadata": {},
   "source": [
    " "
   ]
  },
  {
   "cell_type": "markdown",
   "id": "f9935ffe",
   "metadata": {},
   "source": [
    "3. What is a difference between running code as a Jupyter Notebook and as a script?"
   ]
  },
  {
   "cell_type": "markdown",
   "id": "879b1808",
   "metadata": {},
   "source": [
    " "
   ]
  },
  {
   "cell_type": "markdown",
   "id": "d8f24d44",
   "metadata": {},
   "source": [
    " "
   ]
  },
  {
   "cell_type": "markdown",
   "id": "423fa4a8",
   "metadata": {},
   "source": [
    " "
   ]
  },
  {
   "cell_type": "markdown",
   "id": "605b7f8b",
   "metadata": {},
   "source": [
    " "
   ]
  },
  {
   "cell_type": "markdown",
   "id": "a140338c",
   "metadata": {},
   "source": [
    " "
   ]
  },
  {
   "cell_type": "markdown",
   "id": "076f16d4",
   "metadata": {},
   "source": [
    " "
   ]
  },
  {
   "cell_type": "markdown",
   "id": "add09c46",
   "metadata": {},
   "source": [
    " "
   ]
  },
  {
   "cell_type": "markdown",
   "id": "99985686",
   "metadata": {},
   "source": [
    " "
   ]
  },
  {
   "cell_type": "markdown",
   "id": "05b8fff0",
   "metadata": {},
   "source": [
    "4. What is a...\n",
    "\n",
    "- module\n",
    "\n",
    "- package\n",
    "\n",
    "- library"
   ]
  },
  {
   "cell_type": "markdown",
   "id": "8c041930",
   "metadata": {},
   "source": [
    " "
   ]
  },
  {
   "cell_type": "markdown",
   "id": "ef0e33ea",
   "metadata": {},
   "source": [
    " "
   ]
  },
  {
   "cell_type": "markdown",
   "id": "f7de05bd",
   "metadata": {},
   "source": [
    " "
   ]
  },
  {
   "cell_type": "markdown",
   "id": "eb9eabb9",
   "metadata": {},
   "source": [
    " "
   ]
  },
  {
   "cell_type": "markdown",
   "id": "c0fe1220",
   "metadata": {},
   "source": [
    "As an example, we can check the documentation of `matplotlib` library: https://matplotlib.org/stable/api/index.html "
   ]
  },
  {
   "cell_type": "markdown",
   "id": "b511d462",
   "metadata": {},
   "source": [
    " "
   ]
  },
  {
   "cell_type": "markdown",
   "id": "eb3fad0f",
   "metadata": {},
   "source": [
    " "
   ]
  },
  {
   "cell_type": "markdown",
   "id": "ff55b744",
   "metadata": {},
   "source": [
    " "
   ]
  },
  {
   "cell_type": "markdown",
   "id": "841236c4",
   "metadata": {},
   "source": [
    " "
   ]
  },
  {
   "cell_type": "markdown",
   "id": "743da1ee",
   "metadata": {},
   "source": [
    "5. How to load a module?"
   ]
  },
  {
   "cell_type": "markdown",
   "id": "d193607d",
   "metadata": {},
   "source": [
    " "
   ]
  },
  {
   "cell_type": "markdown",
   "id": "9f16a161",
   "metadata": {},
   "source": [
    " "
   ]
  },
  {
   "cell_type": "markdown",
   "id": "f2e67239",
   "metadata": {},
   "source": [
    " "
   ]
  },
  {
   "cell_type": "markdown",
   "id": "dc02374e",
   "metadata": {},
   "source": [
    " "
   ]
  },
  {
   "cell_type": "markdown",
   "id": "8a72120d",
   "metadata": {},
   "source": [
    " "
   ]
  },
  {
   "cell_type": "markdown",
   "id": "f5ce5887",
   "metadata": {},
   "source": [
    "6. Why `import *` is a bad idea?"
   ]
  },
  {
   "cell_type": "markdown",
   "id": "7fcd248f",
   "metadata": {},
   "source": [
    " "
   ]
  },
  {
   "cell_type": "markdown",
   "id": "7dbc3556",
   "metadata": {},
   "source": [
    " "
   ]
  },
  {
   "cell_type": "markdown",
   "id": "9dc2cfd5",
   "metadata": {},
   "source": [
    " "
   ]
  },
  {
   "cell_type": "markdown",
   "id": "324fb6b2",
   "metadata": {},
   "source": [
    " "
   ]
  },
  {
   "cell_type": "markdown",
   "id": "65c71727",
   "metadata": {},
   "source": [
    " "
   ]
  },
  {
   "cell_type": "markdown",
   "id": "46b98ab9",
   "metadata": {},
   "source": [
    " "
   ]
  },
  {
   "cell_type": "markdown",
   "id": "2811647c",
   "metadata": {},
   "source": [
    " "
   ]
  },
  {
   "cell_type": "markdown",
   "id": "ae6ae592",
   "metadata": {},
   "source": [
    "## To the script and back"
   ]
  },
  {
   "cell_type": "markdown",
   "id": "0c89b16a",
   "metadata": {},
   "source": [
    " "
   ]
  },
  {
   "cell_type": "markdown",
   "id": "532942b0",
   "metadata": {},
   "source": [
    "Have a look at the code snippet below. It simulates a roll of a dice with 6 faces. Let's make an empty file, copy-paste our code there and name the file as `roll.py`."
   ]
  },
  {
   "cell_type": "code",
   "execution_count": 1,
   "id": "7149ef1b",
   "metadata": {},
   "outputs": [],
   "source": [
    "from random import randint\n",
    "\n",
    "\n",
    "def dice_roll():\n",
    "    return randint(1,6)\n",
    "\n",
    "dice_roll()"
   ]
  },
  {
   "cell_type": "markdown",
   "id": "06231817",
   "metadata": {},
   "source": [
    " "
   ]
  },
  {
   "cell_type": "markdown",
   "id": "077552cc",
   "metadata": {},
   "source": [
    " Let's now run this python file!"
   ]
  },
  {
   "cell_type": "code",
   "execution_count": 89,
   "id": "6b7ed4a3",
   "metadata": {},
   "outputs": [
    {
     "name": "stdout",
     "output_type": "stream",
     "text": [
      "1\r\n"
     ]
    }
   ],
   "source": [
    "!python roll.py"
   ]
  },
  {
   "cell_type": "markdown",
   "id": "e9a5aace",
   "metadata": {},
   "source": [
    " "
   ]
  },
  {
   "cell_type": "markdown",
   "id": "f379211b",
   "metadata": {},
   "source": [
    " "
   ]
  },
  {
   "cell_type": "markdown",
   "id": "3db18dc1",
   "metadata": {},
   "source": [
    " "
   ]
  },
  {
   "cell_type": "markdown",
   "id": "854979d7",
   "metadata": {},
   "source": [
    " "
   ]
  },
  {
   "cell_type": "markdown",
   "id": "8b31d3ff",
   "metadata": {},
   "source": [
    " "
   ]
  },
  {
   "cell_type": "markdown",
   "id": "bf2e8c0c",
   "metadata": {},
   "source": [
    "7. Why there is no output?"
   ]
  },
  {
   "cell_type": "markdown",
   "id": "181dd635",
   "metadata": {},
   "source": [
    " "
   ]
  },
  {
   "cell_type": "markdown",
   "id": "6f83bdc3",
   "metadata": {},
   "source": [
    " "
   ]
  },
  {
   "cell_type": "markdown",
   "id": "6a5c9ad2",
   "metadata": {},
   "source": [
    " "
   ]
  },
  {
   "cell_type": "markdown",
   "id": "e892db20",
   "metadata": {},
   "source": [
    " "
   ]
  },
  {
   "cell_type": "markdown",
   "id": "68a54319",
   "metadata": {},
   "source": [
    " "
   ]
  },
  {
   "cell_type": "markdown",
   "id": "f6617d70",
   "metadata": {},
   "source": [
    " "
   ]
  },
  {
   "cell_type": "markdown",
   "id": "433e5dd9",
   "metadata": {},
   "source": [
    "Let's generalize the function to make it usable for dices with a different number of faces. Go back to the file and change it to\n",
    "\n",
    "```\n",
    "def dice_roll(n):\n",
    "    return randint(1,n)\n",
    "```\n",
    "\n",
    "Now it's a different function.\n"
   ]
  },
  {
   "cell_type": "markdown",
   "id": "1f5f5292",
   "metadata": {},
   "source": [
    " "
   ]
  },
  {
   "cell_type": "markdown",
   "id": "194a3c3b",
   "metadata": {},
   "source": [
    " "
   ]
  },
  {
   "cell_type": "markdown",
   "id": "2b5d79fd",
   "metadata": {},
   "source": [
    "8. How to call the function from the script here, in the notebook?"
   ]
  },
  {
   "cell_type": "code",
   "execution_count": 2,
   "id": "2ccb3f86",
   "metadata": {},
   "outputs": [],
   "source": [
    "# your code here"
   ]
  },
  {
   "cell_type": "markdown",
   "id": "cb07f4fc",
   "metadata": {},
   "source": [
    " "
   ]
  },
  {
   "cell_type": "markdown",
   "id": "c56dfbf6",
   "metadata": {},
   "source": [
    " "
   ]
  },
  {
   "cell_type": "markdown",
   "id": "db8314b8",
   "metadata": {},
   "source": [
    " "
   ]
  },
  {
   "cell_type": "markdown",
   "id": "64dd2f64",
   "metadata": {},
   "source": [
    " "
   ]
  },
  {
   "cell_type": "markdown",
   "id": "85514b61",
   "metadata": {},
   "source": [
    " "
   ]
  },
  {
   "cell_type": "markdown",
   "id": "6dcda07a",
   "metadata": {},
   "source": [
    "9. Is our `roll.py` a module or a script? "
   ]
  },
  {
   "cell_type": "markdown",
   "id": "b4239d2a",
   "metadata": {},
   "source": [
    " "
   ]
  },
  {
   "cell_type": "markdown",
   "id": "63e6373a",
   "metadata": {},
   "source": [
    " "
   ]
  },
  {
   "cell_type": "markdown",
   "id": "0d9cd6d4",
   "metadata": {},
   "source": [
    " "
   ]
  },
  {
   "cell_type": "markdown",
   "id": "f4aa222d",
   "metadata": {},
   "source": [
    " "
   ]
  },
  {
   "cell_type": "markdown",
   "id": "317c6ab3",
   "metadata": {},
   "source": [
    " "
   ]
  },
  {
   "cell_type": "markdown",
   "id": "2f368e5f",
   "metadata": {},
   "source": [
    "10. What is a structure `if __name__ == \"__main__\"` and when to use it?"
   ]
  },
  {
   "cell_type": "markdown",
   "id": "decd9976",
   "metadata": {},
   "source": [
    " "
   ]
  },
  {
   "cell_type": "markdown",
   "id": "1f67537a",
   "metadata": {},
   "source": [
    " "
   ]
  },
  {
   "cell_type": "markdown",
   "id": "79caffb9",
   "metadata": {},
   "source": [
    " "
   ]
  },
  {
   "cell_type": "markdown",
   "id": "f1128fc8",
   "metadata": {},
   "source": [
    " "
   ]
  },
  {
   "cell_type": "markdown",
   "id": "b8128430",
   "metadata": {},
   "source": [
    " "
   ]
  },
  {
   "cell_type": "markdown",
   "id": "b70f6b0e",
   "metadata": {},
   "source": [
    "Now let's add it to the script and chech that everything still works."
   ]
  },
  {
   "cell_type": "code",
   "execution_count": 92,
   "id": "7bda77e0",
   "metadata": {},
   "outputs": [
    {
     "name": "stdout",
     "output_type": "stream",
     "text": [
      "3\r\n"
     ]
    }
   ],
   "source": [
    "!python roll.py"
   ]
  },
  {
   "cell_type": "markdown",
   "id": "e47eae99",
   "metadata": {},
   "source": [
    " "
   ]
  },
  {
   "cell_type": "markdown",
   "id": "6bb3be03",
   "metadata": {},
   "source": [
    " "
   ]
  },
  {
   "cell_type": "markdown",
   "id": "c3c38b7a",
   "metadata": {},
   "source": [
    " "
   ]
  },
  {
   "cell_type": "markdown",
   "id": "d97b6dbf",
   "metadata": {},
   "source": [
    " "
   ]
  },
  {
   "cell_type": "markdown",
   "id": "1314446c",
   "metadata": {},
   "source": [
    "Even though it is not needed in this particular example due to its simplicity, we can still separate definitions in a separate module (name it `dice.py`) and actions into `roll.py`.\n",
    "\n",
    "\n",
    "11. Which parts of the current script should we put into each file?"
   ]
  },
  {
   "cell_type": "markdown",
   "id": "4d08b307",
   "metadata": {},
   "source": [
    " "
   ]
  },
  {
   "cell_type": "markdown",
   "id": "3c9036f0",
   "metadata": {},
   "source": [
    " "
   ]
  },
  {
   "cell_type": "markdown",
   "id": "7b68d308",
   "metadata": {},
   "source": [
    " "
   ]
  },
  {
   "cell_type": "markdown",
   "id": "05446dc8",
   "metadata": {},
   "source": [
    " "
   ]
  },
  {
   "cell_type": "markdown",
   "id": "6e636cba",
   "metadata": {},
   "source": [
    " "
   ]
  },
  {
   "cell_type": "markdown",
   "id": "5601a0e6",
   "metadata": {},
   "source": [
    "Check if everything still works:"
   ]
  },
  {
   "cell_type": "code",
   "execution_count": 97,
   "id": "433c3422",
   "metadata": {},
   "outputs": [
    {
     "name": "stdout",
     "output_type": "stream",
     "text": [
      "6\r\n"
     ]
    }
   ],
   "source": [
    "!python roll.py"
   ]
  },
  {
   "cell_type": "markdown",
   "id": "29cfd356",
   "metadata": {},
   "source": [
    " "
   ]
  },
  {
   "cell_type": "markdown",
   "id": "d5cf1874",
   "metadata": {},
   "source": [
    " "
   ]
  },
  {
   "cell_type": "markdown",
   "id": "0c382186",
   "metadata": {},
   "source": [
    " "
   ]
  },
  {
   "cell_type": "markdown",
   "id": "4212c972",
   "metadata": {},
   "source": [
    " "
   ]
  },
  {
   "cell_type": "markdown",
   "id": "42448fcb",
   "metadata": {},
   "source": [
    " "
   ]
  },
  {
   "cell_type": "markdown",
   "id": "3b070a44",
   "metadata": {},
   "source": [
    "## Input to the scripts"
   ]
  },
  {
   "cell_type": "markdown",
   "id": "31ab1bce",
   "metadata": {},
   "source": [
    "The 'hard-coded' number of faces in `roll.py` can be inconvenient since every time when we roll a different dice we have to change this number within a script. This problem can be solved by giving number of faces as an input to the script. We use `sys` module for this."
   ]
  },
  {
   "cell_type": "code",
   "execution_count": 1,
   "id": "aea1148c",
   "metadata": {},
   "outputs": [],
   "source": [
    "#add to the roll.py and see what happens\n",
    "# import sys\n",
    "# n = sys.argv\n",
    "# print(n)"
   ]
  },
  {
   "cell_type": "code",
   "execution_count": 3,
   "id": "02d9fbc7",
   "metadata": {},
   "outputs": [
    {
     "name": "stdout",
     "output_type": "stream",
     "text": [
      "4\r\n"
     ]
    }
   ],
   "source": [
    "!python roll.py 6"
   ]
  },
  {
   "cell_type": "markdown",
   "id": "a53a3996",
   "metadata": {},
   "source": [
    "The second element in the list of arguments (**a string!**) is actually a variable that we what to pass to the function."
   ]
  },
  {
   "cell_type": "markdown",
   "id": "81a5ffc1",
   "metadata": {},
   "source": [
    " "
   ]
  },
  {
   "cell_type": "markdown",
   "id": "354a6489",
   "metadata": {},
   "source": [
    " "
   ]
  },
  {
   "cell_type": "markdown",
   "id": "bd2fcc55",
   "metadata": {},
   "source": [
    " "
   ]
  },
  {
   "cell_type": "markdown",
   "id": "45f33aa1",
   "metadata": {},
   "source": [
    " "
   ]
  },
  {
   "cell_type": "markdown",
   "id": "87ef2f29",
   "metadata": {},
   "source": [
    "12. How to modify the script to make `n` being the number of dice faces?"
   ]
  },
  {
   "cell_type": "markdown",
   "id": "b42e59da",
   "metadata": {},
   "source": [
    " "
   ]
  },
  {
   "cell_type": "markdown",
   "id": "e4c22a83",
   "metadata": {},
   "source": [
    " "
   ]
  },
  {
   "cell_type": "markdown",
   "id": "d311d2f7",
   "metadata": {},
   "source": [
    " "
   ]
  },
  {
   "cell_type": "markdown",
   "id": "765d9801",
   "metadata": {},
   "source": [
    "Tests:"
   ]
  },
  {
   "cell_type": "code",
   "execution_count": 7,
   "id": "07900940",
   "metadata": {},
   "outputs": [
    {
     "name": "stdout",
     "output_type": "stream",
     "text": [
      "90\r\n"
     ]
    }
   ],
   "source": [
    "!python roll.py 100"
   ]
  },
  {
   "cell_type": "markdown",
   "id": "d97fcf6f",
   "metadata": {},
   "source": [
    " "
   ]
  },
  {
   "cell_type": "markdown",
   "id": "61d0e1a4",
   "metadata": {},
   "source": [
    " "
   ]
  },
  {
   "cell_type": "markdown",
   "id": "b7cb26d0",
   "metadata": {},
   "source": [
    " "
   ]
  },
  {
   "cell_type": "markdown",
   "id": "40bcafc9",
   "metadata": {},
   "source": [
    " "
   ]
  },
  {
   "cell_type": "markdown",
   "id": "f3bcad45",
   "metadata": {},
   "source": [
    " "
   ]
  },
  {
   "cell_type": "markdown",
   "id": "ea3f5549",
   "metadata": {},
   "source": [
    " "
   ]
  },
  {
   "cell_type": "markdown",
   "id": "418760b7-043c-4103-aa1c-1a0f7f722f10",
   "metadata": {},
   "source": [
    "The game may require to roll more than one dice and more than once. For example, 2 rolls of dice with 6 faces and one roll of dice with 10 faces."
   ]
  },
  {
   "cell_type": "markdown",
   "id": "47592baa",
   "metadata": {},
   "source": [
    "13. Any ideas how to implement this?"
   ]
  },
  {
   "cell_type": "markdown",
   "id": "89789d50",
   "metadata": {},
   "source": [
    " "
   ]
  },
  {
   "cell_type": "markdown",
   "id": "99677e3d",
   "metadata": {},
   "source": [
    " "
   ]
  },
  {
   "cell_type": "markdown",
   "id": "76985702",
   "metadata": {},
   "source": [
    " "
   ]
  },
  {
   "cell_type": "markdown",
   "id": "ad642a08",
   "metadata": {},
   "source": [
    " "
   ]
  },
  {
   "cell_type": "markdown",
   "id": "c48034ea",
   "metadata": {},
   "source": [
    " "
   ]
  },
  {
   "cell_type": "markdown",
   "id": "2fea21b9",
   "metadata": {},
   "source": [
    " "
   ]
  },
  {
   "cell_type": "markdown",
   "id": "67a0a4f2",
   "metadata": {},
   "source": [
    "<details>\n",
    "  <summary>Click here</summary>\n",
    "\n",
    "solution example\n",
    "```\n",
    "if __name__ == \"__main__\":\n",
    "    args=sys.argv[1:]\n",
    "    for line in args:\n",
    "        line = line.split('d')\n",
    "        dice_face = int(line[1])\n",
    "        n_rolls = int(line[0])\n",
    "        print(f\"Dice {dice_face} rolls: \", end='') \n",
    "        for i in range(n_rolls):\n",
    "            print(dice_roll(dice_face),\" \",end='')\n",
    "        print(\"\\n\")\n",
    "```\n",
    " \n",
    "</details>"
   ]
  },
  {
   "cell_type": "markdown",
   "id": "26054873",
   "metadata": {},
   "source": [
    " "
   ]
  },
  {
   "cell_type": "markdown",
   "id": "9faa227d",
   "metadata": {},
   "source": [
    "Running tests:"
   ]
  },
  {
   "cell_type": "code",
   "execution_count": 21,
   "id": "bd65ecaf",
   "metadata": {},
   "outputs": [
    {
     "name": "stdout",
     "output_type": "stream",
     "text": [
      "Dice 5 rolls: 2  4  \r\n",
      "\r\n",
      "Dice 8 rolls: 6  7  4  6  2  7  \r\n",
      "\r\n",
      "Dice 20 rolls: 3  11  11  14  1  \r\n",
      "\r\n"
     ]
    }
   ],
   "source": [
    "!python roll.py 2d5 6d8 5d20"
   ]
  },
  {
   "cell_type": "markdown",
   "id": "42e9f62d",
   "metadata": {},
   "source": [
    " "
   ]
  },
  {
   "cell_type": "markdown",
   "id": "df732708",
   "metadata": {},
   "source": [
    " "
   ]
  },
  {
   "cell_type": "markdown",
   "id": "65efd9e7",
   "metadata": {},
   "source": [
    " "
   ]
  },
  {
   "cell_type": "markdown",
   "id": "7ae2186f",
   "metadata": {},
   "source": [
    " "
   ]
  },
  {
   "cell_type": "markdown",
   "id": "808f54fc",
   "metadata": {},
   "source": [
    "## Before we move on to numpy: scientific number notation"
   ]
  },
  {
   "cell_type": "markdown",
   "id": "75f7f19e",
   "metadata": {},
   "source": [
    "$10^{18} \\rightarrow 1e18$ \n",
    "\n",
    "because\n",
    "\n",
    "$1 \\times 10^{18} \\rightarrow 1e18 $\n",
    "\n",
    "\n",
    "$3 \\times 10^{8} \\rightarrow 3e8 $\n",
    "\n",
    "$30 \\times 10^{5} = 3 \\times 10^6 \\rightarrow 3e6 $"
   ]
  },
  {
   "cell_type": "markdown",
   "id": "a2ca2946",
   "metadata": {},
   "source": [
    "# Next time: numpy!"
   ]
  }
 ],
 "metadata": {
  "kernelspec": {
   "display_name": "Python 3 (ipykernel)",
   "language": "python",
   "name": "python3"
  },
  "language_info": {
   "codemirror_mode": {
    "name": "ipython",
    "version": 3
   },
   "file_extension": ".py",
   "mimetype": "text/x-python",
   "name": "python",
   "nbconvert_exporter": "python",
   "pygments_lexer": "ipython3",
   "version": "3.8.8"
  }
 },
 "nbformat": 4,
 "nbformat_minor": 5
}
