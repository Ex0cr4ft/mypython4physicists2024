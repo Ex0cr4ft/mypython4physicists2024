{
 "cells": [
  {
   "cell_type": "markdown",
   "id": "82f544fa-bb9e-4a71-871f-3cc6151c272f",
   "metadata": {},
   "source": [
    "# Tutorial 9"
   ]
  },
  {
   "cell_type": "markdown",
   "id": "f2ebeec1-53ee-4727-9748-f5fb1ac032ed",
   "metadata": {},
   "source": [
    "## Matplotlib"
   ]
  },
  {
   "cell_type": "code",
   "execution_count": null,
   "id": "99494c04-6ee5-4d15-8c7e-0ec2821f58ab",
   "metadata": {},
   "outputs": [],
   "source": [
    "import matplotlib.pyplot as plt\n",
    "import numpy as np"
   ]
  },
  {
   "cell_type": "markdown",
   "id": "a91e2a3d-17ea-4842-89cd-2121c923bb19",
   "metadata": {},
   "source": [
    "## Basics"
   ]
  },
  {
   "cell_type": "markdown",
   "id": "c0591c67-a49d-44dc-bf18-9a2cb2097da2",
   "metadata": {},
   "source": [
    "Let us pretend we have carried out two series of measurements of a number N that depends on time t and we want to plot the datasets. Look at the following plot. "
   ]
  },
  {
   "cell_type": "markdown",
   "id": "d174a408",
   "metadata": {},
   "source": [
    "1. Name at least 4 points to improve this plot."
   ]
  },
  {
   "cell_type": "code",
   "execution_count": null,
   "id": "1a28ea30-5424-490f-8b7d-656593e35ea6",
   "metadata": {
    "scrolled": false
   },
   "outputs": [],
   "source": [
    "bins = np.linspace(0,30,30)\n",
    "data_x = (bins[:-1] + bins[1:]) / 2\n",
    "\n",
    "data_y1 =  data_x + 3 * np.random.normal(0, 1, len(data_x))\n",
    "data_y2 =  1.5 * data_x + 3 * np.random.normal(0, 1, len(data_x))\n",
    "plt.plot(data_x, data_y1)\n",
    "plt.plot(data_x, data_y2)"
   ]
  },
  {
   "cell_type": "markdown",
   "id": "734f1929",
   "metadata": {},
   "source": [
    " "
   ]
  },
  {
   "cell_type": "markdown",
   "id": "a1ea9c68",
   "metadata": {},
   "source": [
    " "
   ]
  },
  {
   "cell_type": "markdown",
   "id": "a4768f5f",
   "metadata": {},
   "source": [
    " "
   ]
  },
  {
   "cell_type": "markdown",
   "id": "25319a27",
   "metadata": {},
   "source": [
    " "
   ]
  },
  {
   "cell_type": "markdown",
   "id": "41784aca",
   "metadata": {},
   "source": [
    " "
   ]
  },
  {
   "cell_type": "markdown",
   "id": "4707435d",
   "metadata": {},
   "source": [
    " "
   ]
  },
  {
   "cell_type": "markdown",
   "id": "cc4505e4-8448-49b7-8947-b9d83caf130b",
   "metadata": {},
   "source": [
    "2. Let's do the improvements step by step.\n",
    "  \n",
    "a) How can we add the legend?\n",
    "\n",
    "b) How do we add labels for the axes?\n",
    "\n",
    "c) Which matplotlib function is better to plot scientific data?\n",
    "\n",
    "d) How can we increase the tick font size? Do you know a way to increase the font of everything at once (legend, tick size, labels)?"
   ]
  },
  {
   "cell_type": "code",
   "execution_count": null,
   "id": "4d19137f-a96d-4b4a-81ec-aa113d55e902",
   "metadata": {},
   "outputs": [],
   "source": []
  },
  {
   "cell_type": "markdown",
   "id": "766d903e",
   "metadata": {},
   "source": [
    " "
   ]
  },
  {
   "cell_type": "markdown",
   "id": "73901536",
   "metadata": {},
   "source": [
    " "
   ]
  },
  {
   "cell_type": "markdown",
   "id": "2cc24d75",
   "metadata": {},
   "source": [
    " "
   ]
  },
  {
   "cell_type": "markdown",
   "id": "bd1cf5e7",
   "metadata": {},
   "source": [
    " "
   ]
  },
  {
   "cell_type": "markdown",
   "id": "12953991",
   "metadata": {},
   "source": [
    " "
   ]
  },
  {
   "cell_type": "markdown",
   "id": "bff4aca0",
   "metadata": {},
   "source": [
    " "
   ]
  },
  {
   "cell_type": "markdown",
   "id": "d083c2ee",
   "metadata": {},
   "source": [
    " "
   ]
  },
  {
   "cell_type": "markdown",
   "id": "05a318e5-a887-4bc3-9e2a-29234699a2ff",
   "metadata": {},
   "source": [
    "3. In matplotlib we have a lot of possibilities. To show just a few of them, we can perform the following steps:\n",
    "\n",
    "a) How can we change the color of the points?\n",
    "\n",
    "b) We can also select many different markers (*, o, -, x, ...). How can we change them?\n",
    "\n",
    "c) We could also label one specific point inside our plot. Do you know how to do this?"
   ]
  },
  {
   "cell_type": "code",
   "execution_count": null,
   "id": "1d9c756b-63c7-48e1-98e9-0e4119908415",
   "metadata": {},
   "outputs": [],
   "source": []
  },
  {
   "cell_type": "markdown",
   "id": "5fd993bb",
   "metadata": {},
   "source": [
    " "
   ]
  },
  {
   "cell_type": "markdown",
   "id": "cd030291",
   "metadata": {},
   "source": [
    " "
   ]
  },
  {
   "cell_type": "markdown",
   "id": "1a69891b",
   "metadata": {},
   "source": [
    " "
   ]
  },
  {
   "cell_type": "markdown",
   "id": "99665d09",
   "metadata": {},
   "source": [
    " "
   ]
  },
  {
   "cell_type": "markdown",
   "id": "fc5512c4",
   "metadata": {},
   "source": [
    " "
   ]
  },
  {
   "cell_type": "markdown",
   "id": "56188417",
   "metadata": {},
   "source": [
    " "
   ]
  },
  {
   "cell_type": "markdown",
   "id": "be9f1c75",
   "metadata": {},
   "source": [
    " "
   ]
  },
  {
   "cell_type": "markdown",
   "id": "470dc063",
   "metadata": {},
   "source": [
    " "
   ]
  },
  {
   "cell_type": "markdown",
   "id": "3b502005",
   "metadata": {},
   "source": [
    " "
   ]
  },
  {
   "cell_type": "markdown",
   "id": "fab911a5-9ca2-44b2-9c3c-dcaf8055fd76",
   "metadata": {},
   "source": [
    "4. What is the output of the following code? Explain the arguments of the ``subplot()`` function. "
   ]
  },
  {
   "cell_type": "code",
   "execution_count": null,
   "id": "4729a450-6aae-4632-9e7e-03e499376527",
   "metadata": {},
   "outputs": [],
   "source": [
    "plt.subplot(2, 1, 1)\n",
    "plt.subplot(2, 1, 2)"
   ]
  },
  {
   "cell_type": "markdown",
   "id": "a9672547",
   "metadata": {},
   "source": [
    " "
   ]
  },
  {
   "cell_type": "markdown",
   "id": "adc20d8f",
   "metadata": {},
   "source": [
    " "
   ]
  },
  {
   "cell_type": "markdown",
   "id": "4226b5cc",
   "metadata": {},
   "source": [
    " "
   ]
  },
  {
   "cell_type": "markdown",
   "id": "7721331c",
   "metadata": {},
   "source": [
    " "
   ]
  },
  {
   "cell_type": "markdown",
   "id": "539d4ed8",
   "metadata": {},
   "source": [
    " "
   ]
  },
  {
   "cell_type": "markdown",
   "id": "1c3c7827-fd49-4ed1-8dfd-50fb6e5de9b0",
   "metadata": {},
   "source": [
    "5. We want to use the two plots above and show our data from the tasks before in the first plot and in the second we want to zoom in and only show 0 < $t$ < 10. How can we achieve this?"
   ]
  },
  {
   "cell_type": "code",
   "execution_count": null,
   "id": "b49329cf-688e-40fe-975f-a5afd651495f",
   "metadata": {},
   "outputs": [],
   "source": [
    "\n",
    "plt.rcParams['font.size'] = 16 \n",
    "\n",
    "plt.scatter(data_x, data_y1, label = \"Dataset 1\") \n",
    "plt.scatter(data_x, data_y2, label = \"Dataset 2\")\n",
    "\n",
    "plt.xlabel(\"Time [s]\")\n",
    "plt.ylabel(\"Number N\")\n",
    "\n",
    "plt.legend() \n",
    "\n"
   ]
  },
  {
   "cell_type": "markdown",
   "id": "f1e7c4be",
   "metadata": {},
   "source": [
    " "
   ]
  },
  {
   "cell_type": "markdown",
   "id": "955e14ad",
   "metadata": {},
   "source": [
    " "
   ]
  },
  {
   "cell_type": "markdown",
   "id": "23a7a231",
   "metadata": {},
   "source": [
    " "
   ]
  },
  {
   "cell_type": "markdown",
   "id": "a23da018",
   "metadata": {},
   "source": [
    " "
   ]
  },
  {
   "cell_type": "markdown",
   "id": "9c55ff13",
   "metadata": {},
   "source": [
    " "
   ]
  },
  {
   "cell_type": "markdown",
   "id": "cb38e720-8419-46c0-957d-8c0dccee5919",
   "metadata": {},
   "source": [
    "6. The array ``err`` contains the errors of the data. What do we have to fix here in order to plot the data with the errorbars?"
   ]
  },
  {
   "cell_type": "code",
   "execution_count": null,
   "id": "f8ad681d-7f80-4efd-939b-fc02b79b6257",
   "metadata": {},
   "outputs": [],
   "source": [
    "err = np.abs(3 * np.random.normal(0, 1, len(data_x)))\n",
    "\n",
    "\n",
    "plt.rcParams['font.size'] = 16 \n",
    "\n",
    "plt.errorbar(data_x, data_y1) \n",
    "plt.errorbar(data_x, data_y2) \n",
    "\n",
    "plt.xlabel(\"Time [s]\")\n",
    "plt.ylabel(\"Number N\")\n",
    "\n",
    "plt.legend() "
   ]
  },
  {
   "cell_type": "markdown",
   "id": "c935e0f6",
   "metadata": {},
   "source": [
    " "
   ]
  },
  {
   "cell_type": "markdown",
   "id": "926fe274",
   "metadata": {},
   "source": [
    " "
   ]
  },
  {
   "cell_type": "markdown",
   "id": "a6c65f3d",
   "metadata": {},
   "source": [
    " "
   ]
  },
  {
   "cell_type": "markdown",
   "id": "d650dfc0",
   "metadata": {},
   "source": [
    " "
   ]
  },
  {
   "cell_type": "markdown",
   "id": "592bfb0a",
   "metadata": {},
   "source": [
    "## Scientific plots"
   ]
  },
  {
   "cell_type": "markdown",
   "id": "b1090ed9",
   "metadata": {},
   "source": [
    "Let's plot the gravitation force between the Moon and the Earth as a function of distance."
   ]
  },
  {
   "cell_type": "code",
   "execution_count": null,
   "id": "05305a48",
   "metadata": {},
   "outputs": [],
   "source": [
    "def grav_F(m1,m2,r):\n",
    "    G = 6.67e-11\n",
    "    return G*m1*m2/r**2"
   ]
  },
  {
   "cell_type": "code",
   "execution_count": null,
   "id": "42a0fbb8",
   "metadata": {
    "scrolled": false
   },
   "outputs": [],
   "source": [
    "m1 = 7.34e22 #Moon mass in kg\n",
    "m2 = 5.97e24 # Earth mass in kg\n",
    "\n",
    "r = np.logspace(5, 9, 100) # distance between Moon and Earth in km\n",
    "\n",
    "plt.plot(r, grav_F(m1,m2,r))"
   ]
  },
  {
   "cell_type": "markdown",
   "id": "c0b0f6df",
   "metadata": {},
   "source": [
    " "
   ]
  },
  {
   "cell_type": "markdown",
   "id": "f0e010d7",
   "metadata": {},
   "source": [
    "7. What is wrong with this plot and how to improve it?"
   ]
  },
  {
   "cell_type": "code",
   "execution_count": null,
   "id": "ba856e4e",
   "metadata": {},
   "outputs": [],
   "source": [
    "m1 = 7.34e22 #Moon mass in kg\n",
    "m2 = 5.97e24 # Earth mass in kg\n",
    "\n",
    "r = np.logspace(5, 9, 100) # distance between Moon and Earth in km\n",
    "\n",
    "plt.plot(r, grav_F(m1,m2,r))\n"
   ]
  },
  {
   "cell_type": "markdown",
   "id": "db4be55c",
   "metadata": {},
   "source": [
    " "
   ]
  },
  {
   "cell_type": "markdown",
   "id": "46c8aac2",
   "metadata": {},
   "source": [
    " "
   ]
  },
  {
   "cell_type": "markdown",
   "id": "575f93fe",
   "metadata": {},
   "source": [
    " "
   ]
  },
  {
   "cell_type": "markdown",
   "id": "23d950a7",
   "metadata": {},
   "source": [
    " "
   ]
  },
  {
   "cell_type": "markdown",
   "id": "f8e370cd",
   "metadata": {},
   "source": [
    " "
   ]
  },
  {
   "cell_type": "markdown",
   "id": "0db75453",
   "metadata": {},
   "source": [
    "8. What is missing in the following plot?"
   ]
  },
  {
   "cell_type": "code",
   "execution_count": null,
   "id": "c2029011",
   "metadata": {},
   "outputs": [],
   "source": [
    "theta = np.linspace(-10, 10, 100)*np.pi\n",
    "psi = np.sin(theta)/theta\n",
    "\n",
    "plt.plot(theta, psi)"
   ]
  },
  {
   "cell_type": "markdown",
   "id": "16058417",
   "metadata": {},
   "source": [
    " "
   ]
  },
  {
   "cell_type": "markdown",
   "id": "9f1a21da",
   "metadata": {},
   "source": [
    " "
   ]
  },
  {
   "cell_type": "markdown",
   "id": "2aad819a",
   "metadata": {},
   "source": [
    " "
   ]
  },
  {
   "cell_type": "markdown",
   "id": "5b1cddda",
   "metadata": {},
   "source": [
    " "
   ]
  },
  {
   "cell_type": "markdown",
   "id": "7e181769",
   "metadata": {},
   "source": [
    " "
   ]
  },
  {
   "cell_type": "markdown",
   "id": "2db032b6",
   "metadata": {},
   "source": [
    "### All of the following plots are bad examples of scientific plots. Explain why and suggest an improvement."
   ]
  },
  {
   "cell_type": "markdown",
   "id": "d7cff55a",
   "metadata": {},
   "source": [
    "9. "
   ]
  },
  {
   "cell_type": "code",
   "execution_count": null,
   "id": "6b2909fd",
   "metadata": {},
   "outputs": [],
   "source": [
    "h = 6.626e-34\n",
    "c = 3.0e+8\n",
    "k = 1.38e-23\n",
    "\n",
    "def planck(wav, T):\n",
    "    a = 2.0*h*c**2\n",
    "    b = h*c/(wav*k*T)\n",
    "    intensity = a/ ( (wav**5) * (np.exp(b) - 1.0) )\n",
    "    return intensity\n",
    "\n",
    "\n",
    "w1 = np.logspace(-7, -5.5, 30)\n",
    "i1 = planck(w1, 4000) + planck(w1, 4000)*np.random.rand(len(w1))*0.5*np.random.randint(-1, 1,size=len(w1))\n",
    "\n",
    "\n",
    "w2 = np.logspace(-7, -5.8, 30)\n",
    "i2 = planck(w2, 7000) + planck(w2, 7000)*np.random.rand(len(w2))*0.5*np.random.randint(-1, 1,size=len(w2))\n",
    "\n",
    "plt.scatter(w1, i1)\n",
    "plt.scatter(w2,i2)\n",
    "plt.xlabel(\"$\\lambda$ [m]\")\n",
    "plt.ylabel(\"$B_\\lambda(\\lambda, T)\\;  [W \\, sr^{−1} \\, m^{-3}]$\")\n"
   ]
  },
  {
   "cell_type": "markdown",
   "id": "4bcdc90f",
   "metadata": {},
   "source": [
    "10. "
   ]
  },
  {
   "cell_type": "code",
   "execution_count": null,
   "id": "05cec2ad",
   "metadata": {},
   "outputs": [],
   "source": [
    "w0 = np.logspace(-8, -4, 1000)\n",
    "\n",
    "plt.scatter(w1, i1, label='T = 4000 K')\n",
    "plt.scatter(w2,i2, label='T = 7000 K')\n",
    "plt.plot(w0,planck(w0, 4000))\n",
    "plt.plot(w0,planck(w0, 7000))\n",
    "plt.xscale('log')\n",
    "plt.yscale('log')\n",
    "plt.legend()\n",
    "plt.xlabel(\"$\\lambda$ [m]\")\n",
    "plt.ylabel(\"$B_\\lambda(\\lambda, T)\\;  [W \\, sr^{−1} \\, m^{-3}]$\")\n",
    "\n"
   ]
  },
  {
   "cell_type": "markdown",
   "id": "32bb6887",
   "metadata": {},
   "source": [
    "11."
   ]
  },
  {
   "cell_type": "code",
   "execution_count": null,
   "id": "03f1a071",
   "metadata": {
    "scrolled": false
   },
   "outputs": [],
   "source": [
    "plt.rcParams['figure.figsize'] = (4,10)\n",
    "\n",
    "w0 = np.logspace(-8, -4, 1000)\n",
    "\n",
    "plt.scatter(w1, i1, label='T = 4000 K')\n",
    "plt.scatter(w2,i2, label='T = 7000 K')\n",
    "plt.plot(w0,planck(w0, 4000))\n",
    "plt.plot(w0,planck(w0, 7000))\n",
    "plt.xscale('log')\n",
    "plt.yscale('log')\n",
    "plt.legend(loc=3)\n",
    "plt.xlabel(\"$\\lambda$ [m]\")\n",
    "plt.ylabel(\"$B_\\lambda(\\lambda, T)\\;  [W \\, sr^{−1} \\, m^{-3}]$\")\n",
    "\n"
   ]
  },
  {
   "cell_type": "markdown",
   "id": "843d3adf",
   "metadata": {},
   "source": [
    "12.  "
   ]
  },
  {
   "cell_type": "code",
   "execution_count": null,
   "id": "2a736596",
   "metadata": {},
   "outputs": [],
   "source": [
    "rcParams['figure.figsize'] = (6,5)\n",
    "\n",
    "plt.scatter(w1, i1, label='T = 4000 K', color='magenta')\n",
    "plt.scatter(w2,i2, label='T = 7000 K', color='cyan')\n",
    "plt.plot(w0,planck(w0, 4000), color='lime')\n",
    "plt.plot(w0,planck(w0, 7000), color='red')\n",
    "plt.xscale('log')\n",
    "plt.yscale('log')\n",
    "plt.legend(loc=4) \n",
    "plt.ylabel(\"$B_\\lambda(\\lambda, T)\\;  [W \\, sr^{−1} \\, m^{-3}]$\")\n",
    "\n",
    "plt.ylim([1e4,5e14]) \n",
    "plt.xlim([7e-8,5e-6])"
   ]
  },
  {
   "cell_type": "markdown",
   "id": "c70c62ea",
   "metadata": {},
   "source": [
    "<details>\n",
    "  <summary>Click here</summary>\n",
    "\n",
    "Note on colors:\n",
    "    \n",
    "- use only when absolutely necessary, prefere black-white options where possible\n",
    "- prefer different line styles, different markers\n",
    "- check if your plot is colorblind-friendly, e.g. at https://www.color-blindness.com/coblis-color-blindness-simulator/ \n",
    "\n",
    " \n",
    "</details>"
   ]
  },
  {
   "cell_type": "markdown",
   "id": "6d6a70fd",
   "metadata": {},
   "source": [
    " "
   ]
  },
  {
   "cell_type": "markdown",
   "id": "5cb0bdd7",
   "metadata": {},
   "source": [
    "13. How to improve the previous plot taking into account black-white preference?"
   ]
  },
  {
   "cell_type": "code",
   "execution_count": null,
   "id": "9f7c1695",
   "metadata": {},
   "outputs": [],
   "source": [
    "plt.scatter(w1, i1, label='T = 4000 K')\n",
    "plt.scatter(w2,i2, label='T = 7000 K')\n",
    "plt.plot(w0,planck(w0, 4000))\n",
    "plt.plot(w0,planck(w0, 7000))\n",
    "plt.xscale('log')\n",
    "plt.yscale('log')\n",
    "plt.legend(loc=4) \n",
    "plt.ylabel(\"$B_\\lambda(\\lambda, T)\\;  [W \\, sr^{−1} \\, m^{-3}]$\")\n",
    "\n",
    "plt.ylim([1e4,5e14])\n",
    "plt.xlim([7e-8,5e-6])\n",
    "plt.savefig(\"test1.png\")"
   ]
  },
  {
   "cell_type": "markdown",
   "id": "db7e3c01",
   "metadata": {},
   "source": [
    "14."
   ]
  },
  {
   "cell_type": "code",
   "execution_count": null,
   "id": "eeec3c09",
   "metadata": {},
   "outputs": [],
   "source": [
    "fig, (ax0, ax1) = plt.subplots(ncols=2, figsize=(9, 4))\n",
    "\n",
    "ax0.scatter(w1, i1, label='T = 4000 K', marker='o', color='k')\n",
    "ax0.plot(w0,planck(w0, 4000), color='k', ls='--')\n",
    "ax0.set_xscale('log')\n",
    "ax0.set_yscale('log')\n",
    "ax0.legend(loc=4) \n",
    "ax0.set_ylim([1e4,5e14])\n",
    "ax0.set_xlim([7e-8,5e-6])\n",
    "ax0.set_ylabel(\"$B_\\lambda(\\lambda, T)\\;  [W \\, sr^{−1} \\, m^{-3}]$\")\n",
    "\n",
    "ax1.scatter(w2,i2, label='T = 7000 K', marker='v', color='k')\n",
    "ax1.plot(w0,planck(w0, 7000), color='k', ls='-.')\n",
    "ax1.set_yscale('log')\n",
    "ax1.set_xscale('log')\n",
    "ax1.legend(loc=4) \n",
    "ax1.set_ylim([1e9,5e14])\n",
    "ax1.set_xlim([7e-8,2e-6])\n",
    "ax1.set_ylabel(\"$B_\\lambda(\\lambda, T)\\;  [W \\, sr^{−1} \\, m^{-3}]$\")"
   ]
  },
  {
   "cell_type": "markdown",
   "id": "7dccd067",
   "metadata": {},
   "source": [
    "15. "
   ]
  },
  {
   "cell_type": "code",
   "execution_count": null,
   "id": "8e4331c8",
   "metadata": {},
   "outputs": [],
   "source": [
    "a = np.random.normal(loc=-2.0, scale=2.0, size=10000)\n",
    "b = np.random.normal(loc=2.0, scale=2.0, size=10000)\n",
    "\n",
    "\n",
    "plt.hist(a, bins=30)\n",
    "plt.hist(b, bins=30)\n"
   ]
  },
  {
   "cell_type": "markdown",
   "id": "18f44bba",
   "metadata": {},
   "source": [
    "### Saving plots"
   ]
  },
  {
   "cell_type": "code",
   "execution_count": null,
   "id": "3542d371",
   "metadata": {},
   "outputs": [],
   "source": [
    "plt.scatter(w1, i1, label='T = 4000 K', marker='o', color='k')\n",
    "plt.scatter(w2,i2, label='T = 7000 K', marker='v', color='k')\n",
    "plt.plot(w0,planck(w0, 4000), color='k', ls='--')\n",
    "plt.plot(w0,planck(w0, 7000), color='k', ls='-.')\n",
    "plt.xscale('log')\n",
    "plt.yscale('log')\n",
    "plt.legend(loc=4) \n",
    "plt.ylabel(\"$B_\\lambda(\\lambda, T)\\;  [W \\, sr^{−1} \\, m^{-3}]$\")\n",
    "\n",
    "plt.ylim([1e4,5e14])\n",
    "plt.xlim([7e-8,5e-6])\n",
    "plt.savefig(\"tutorial9.pdf\", dpi=200) # add bbox_inches='tight' and check the difference"
   ]
  },
  {
   "cell_type": "markdown",
   "id": "314b2f7a",
   "metadata": {},
   "source": [
    " "
   ]
  },
  {
   "cell_type": "markdown",
   "id": "7f4e9a50",
   "metadata": {},
   "source": [
    " "
   ]
  },
  {
   "cell_type": "markdown",
   "id": "44b3fb8b-c57e-4111-a8ab-4f6e2d071c58",
   "metadata": {},
   "source": [
    "# Just a few examples of the many options"
   ]
  },
  {
   "cell_type": "markdown",
   "id": "f6a2884c-a8b8-4d30-b789-5f951dfd3b90",
   "metadata": {},
   "source": [
    "16. How can we fix the following code? "
   ]
  },
  {
   "cell_type": "code",
   "execution_count": null,
   "id": "48a93e41-2027-44c1-b6a2-8003a445928c",
   "metadata": {
    "scrolled": true
   },
   "outputs": [],
   "source": [
    "# Stream function:\n",
    "X, Y = np.meshgrid(np.linspace(-3, 3, 256), np.linspace(-3, 3, 256))\n",
    "Z = (1 - X/2 + X**5 + Y**3) * np.exp(-X**2 - Y**2)\n",
    "\n",
    "\n",
    "# make U and V out of the streamfunction:\n",
    "\n",
    "# V = dZ/dY\n",
    "V = np.diff(Z[1:, :], axis=1)\n",
    "\n",
    "# U = -dZ/dX\n",
    "U = -np.diff(Z[:, 1:], axis=0)\n",
    "\n",
    "# plot:\n",
    "fig, ax  = plt.subplots()   \n",
    "\n",
    "ax.streamplot(X[1:, 1:], Y[1:, 1:])\n",
    "\n",
    "plt.show()"
   ]
  },
  {
   "cell_type": "markdown",
   "id": "2f05a5d0",
   "metadata": {},
   "source": [
    " "
   ]
  },
  {
   "cell_type": "markdown",
   "id": "f4c911f7",
   "metadata": {},
   "source": [
    " "
   ]
  },
  {
   "cell_type": "markdown",
   "id": "38f0568e",
   "metadata": {},
   "source": [
    " "
   ]
  },
  {
   "cell_type": "markdown",
   "id": "29669bd0-27bf-408a-9019-878f7c9daa26",
   "metadata": {},
   "source": [
    "17. Where can we change the size of the figure? Where can we rotate the plot?"
   ]
  },
  {
   "cell_type": "code",
   "execution_count": null,
   "id": "b88bfcae-2abc-4862-a715-eeee421724fa",
   "metadata": {},
   "outputs": [],
   "source": [
    "# Make data\n",
    "n = 100\n",
    "xs = np.linspace(0, 1, n)\n",
    "ys = np.sin(xs * 6 * np.pi)\n",
    "zs = np.cos(xs * 6 * np.pi)\n",
    "\n",
    "# Plot\n",
    "fig, ax = plt.subplots(subplot_kw={\"projection\": \"3d\"}) \n",
    "ax.plot(xs, ys, zs)\n",
    "\n",
    "ax.view_init(elev=40, azim=45)\n",
    "\n",
    "ax.set(xticklabels=[],\n",
    "       yticklabels=[],\n",
    "       zticklabels=[])\n",
    "\n",
    "ax.set_xlabel(\"x\",labelpad = 1)\n",
    "ax.set_ylabel(\"y\",labelpad = 1)\n",
    "ax.set_zlabel(\"z\",labelpad = 1)\n",
    "\n",
    "plt.show()"
   ]
  },
  {
   "cell_type": "markdown",
   "id": "45c19e60",
   "metadata": {},
   "source": [
    " "
   ]
  },
  {
   "cell_type": "markdown",
   "id": "b1f88f20",
   "metadata": {},
   "source": [
    " "
   ]
  },
  {
   "cell_type": "markdown",
   "id": "ab5071fc",
   "metadata": {},
   "source": [
    " "
   ]
  },
  {
   "cell_type": "markdown",
   "id": "e0b5fb30",
   "metadata": {},
   "source": [
    " "
   ]
  },
  {
   "cell_type": "markdown",
   "id": "b4ed179c-5881-4619-9287-de368d4043ca",
   "metadata": {},
   "source": [
    "18. The following code is an example of working with two subplots and colormaps. In order to plot both of them next two each other with the correct colorbars, we have to fix two errors in the code. Can you find them?"
   ]
  },
  {
   "cell_type": "code",
   "execution_count": null,
   "id": "9dc0601c-10f3-44a5-b952-41f120191247",
   "metadata": {},
   "outputs": [],
   "source": [
    "# Fixing random state for reproducibility\n",
    "np.random.seed(19680801)\n",
    "\n",
    "n = 100000\n",
    "x = np.random.standard_normal(n)\n",
    "y = 2.0 + 3.0 * x + 4.0 * np.random.standard_normal(n)\n",
    "xlim = x.min(), x.max()\n",
    "ylim = y.min(), y.max()\n",
    "\n",
    "\n",
    "fig, (ax0, ax1) = plt.subplots(ncols=1, sharey=True, figsize=(9, 4)) \n",
    "\n",
    "hb = ax0.hexbin(x, y, gridsize=50, cmap='inferno')\n",
    "ax0.set(xlim=xlim, ylim=ylim)\n",
    "ax0.set_title(\"Hexagon binning\")\n",
    "cb = fig.colorbar(hb, ax=ax0, label='counts')\n",
    "\n",
    "hb = ax1.hexbin(x, y, gridsize=50, bins='log', cmap='inferno')\n",
    "ax1.set(xlim=xlim, ylim=ylim)\n",
    "ax1.set_title(\"With a log color scale\")\n",
    "cb = fig.colorbar(hb, ax=ax0, label='counts')  \n",
    "\n",
    "plt.show()"
   ]
  },
  {
   "cell_type": "markdown",
   "id": "8b0a6822",
   "metadata": {},
   "source": [
    " "
   ]
  },
  {
   "cell_type": "markdown",
   "id": "0f321e2c",
   "metadata": {},
   "source": [
    " "
   ]
  },
  {
   "cell_type": "markdown",
   "id": "3a33f36f",
   "metadata": {},
   "source": [
    " "
   ]
  },
  {
   "cell_type": "markdown",
   "id": "42e2c782",
   "metadata": {},
   "source": [
    " "
   ]
  },
  {
   "cell_type": "markdown",
   "id": "eb5b19ef",
   "metadata": {},
   "source": [
    " "
   ]
  }
 ],
 "metadata": {
  "kernelspec": {
   "display_name": "Python 3 (ipykernel)",
   "language": "python",
   "name": "python3"
  },
  "language_info": {
   "codemirror_mode": {
    "name": "ipython",
    "version": 3
   },
   "file_extension": ".py",
   "mimetype": "text/x-python",
   "name": "python",
   "nbconvert_exporter": "python",
   "pygments_lexer": "ipython3",
   "version": "3.8.8"
  }
 },
 "nbformat": 4,
 "nbformat_minor": 5
}
