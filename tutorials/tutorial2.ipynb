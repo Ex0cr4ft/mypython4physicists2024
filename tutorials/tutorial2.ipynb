{
 "cells": [
  {
   "cell_type": "markdown",
   "id": "378c3623",
   "metadata": {},
   "source": [
    "# Tutorial 2"
   ]
  },
  {
   "cell_type": "markdown",
   "id": "c265b593",
   "metadata": {},
   "source": [
    "## Integers, floats, scientific notation"
   ]
  },
  {
   "cell_type": "code",
   "execution_count": null,
   "id": "4719f917",
   "metadata": {},
   "outputs": [],
   "source": [
    "n = 246.8458"
   ]
  },
  {
   "cell_type": "markdown",
   "id": "d34f26b9",
   "metadata": {},
   "source": [
    "1. What is the result of the following operation?"
   ]
  },
  {
   "cell_type": "code",
   "execution_count": null,
   "id": "f3c9d578",
   "metadata": {},
   "outputs": [],
   "source": [
    "round(n)"
   ]
  },
  {
   "cell_type": "markdown",
   "id": "4450b0f0",
   "metadata": {},
   "source": [
    "2. What is the output of the following cell?"
   ]
  },
  {
   "cell_type": "code",
   "execution_count": null,
   "id": "a0aac4eb",
   "metadata": {},
   "outputs": [],
   "source": [
    "int(n)"
   ]
  },
  {
   "cell_type": "markdown",
   "id": "9fae2dbd",
   "metadata": {},
   "source": [
    " "
   ]
  },
  {
   "cell_type": "markdown",
   "id": "3f47e508",
   "metadata": {},
   "source": [
    " "
   ]
  },
  {
   "cell_type": "markdown",
   "id": "d7e3c261",
   "metadata": {},
   "source": [
    "3. Why this code snippet doesn't work? How to fix it?"
   ]
  },
  {
   "cell_type": "code",
   "execution_count": null,
   "id": "d61a6fbc",
   "metadata": {},
   "outputs": [],
   "source": [
    "num = '10'\n",
    "\n",
    "\n",
    "print(num + 5)"
   ]
  },
  {
   "cell_type": "markdown",
   "id": "ae33027a",
   "metadata": {},
   "source": [
    " "
   ]
  },
  {
   "cell_type": "markdown",
   "id": "4689be79",
   "metadata": {},
   "source": [
    " "
   ]
  },
  {
   "cell_type": "markdown",
   "id": "08fbbb15",
   "metadata": {},
   "source": [
    "4. You want to calculate the energy of a photon with the frequency $\\nu = 3 \\times 10^{18}$ Hz (X-rays).\n",
    "\n",
    "$$ E = h \\cdot \\nu$$\n",
    "\n",
    "where \n",
    "$$ h = 6.62 \\times 10^{-34} \\; \\; [J \\cdot s]$$\n",
    "\n",
    "How to write the expression for energy in Python?"
   ]
  },
  {
   "cell_type": "code",
   "execution_count": null,
   "id": "4dca6651",
   "metadata": {},
   "outputs": [],
   "source": [
    "h =\n",
    "nu = \n",
    "E ="
   ]
  },
  {
   "cell_type": "markdown",
   "id": "aa0fb5d3",
   "metadata": {},
   "source": [
    " "
   ]
  },
  {
   "cell_type": "markdown",
   "id": "07704ade",
   "metadata": {},
   "source": [
    " "
   ]
  },
  {
   "cell_type": "markdown",
   "id": "275f0d8a",
   "metadata": {},
   "source": [
    "5. What will be the output of the folling line?"
   ]
  },
  {
   "cell_type": "code",
   "execution_count": null,
   "id": "3bce8e40",
   "metadata": {},
   "outputs": [],
   "source": [
    "10e-2 == 0.1"
   ]
  },
  {
   "cell_type": "markdown",
   "id": "dca34e22",
   "metadata": {},
   "source": [
    " \n",
    "\n",
    " "
   ]
  },
  {
   "cell_type": "markdown",
   "id": "1810e29e",
   "metadata": {},
   "source": [
    " \n",
    "\n",
    " "
   ]
  },
  {
   "cell_type": "markdown",
   "id": "2be7211d",
   "metadata": {},
   "source": [
    "6. What will be the output of the following cells?"
   ]
  },
  {
   "cell_type": "code",
   "execution_count": null,
   "id": "8bf39b28",
   "metadata": {},
   "outputs": [],
   "source": [
    "3e305"
   ]
  },
  {
   "cell_type": "code",
   "execution_count": null,
   "id": "053790aa",
   "metadata": {},
   "outputs": [],
   "source": [
    "8e308"
   ]
  },
  {
   "cell_type": "markdown",
   "id": "95b346b4",
   "metadata": {},
   "source": [
    "<details>\n",
    "  <summary>Click here</summary>\n",
    "    \n",
    "```\n",
    "import sys\n",
    "    \n",
    "sys.float_info\n",
    "    \n",
    "sys.float_info(max=1.7976931348623157e+308, max_exp=1024, max_10_exp=308, \n",
    "min=2.2250738585072014e-308, min_exp=-1021, min_10_exp=-307, dig=15, mant_dig=53, \n",
    "epsilon=2.220446049250313e-16, radix=2, rounds=1)\n",
    " ```\n",
    "\n",
    "</details>"
   ]
  },
  {
   "cell_type": "markdown",
   "id": "ab1dc64f",
   "metadata": {},
   "source": [
    " "
   ]
  },
  {
   "cell_type": "markdown",
   "id": "1d936d0b",
   "metadata": {},
   "source": [
    " "
   ]
  },
  {
   "cell_type": "markdown",
   "id": "ba0ea8ed",
   "metadata": {},
   "source": [
    " "
   ]
  },
  {
   "cell_type": "markdown",
   "id": "844e2e41",
   "metadata": {},
   "source": [
    "7. What will be the output of the following cells?"
   ]
  },
  {
   "cell_type": "code",
   "execution_count": null,
   "id": "a92c5687",
   "metadata": {},
   "outputs": [],
   "source": [
    "8e308 - 7e308"
   ]
  },
  {
   "cell_type": "markdown",
   "id": "b4846c79",
   "metadata": {},
   "source": [
    "  "
   ]
  },
  {
   "cell_type": "markdown",
   "id": "61c3e8d0",
   "metadata": {},
   "source": [
    "  "
   ]
  },
  {
   "cell_type": "markdown",
   "id": "4432a04b",
   "metadata": {},
   "source": [
    "8.  Let's consider 7/3.\n",
    "$$7 = 2 \\times 3 +1$$\n",
    "\n",
    "3 - divisor\n",
    "\n",
    "2 - quotient, the integer part of the ratio of two numbers\n",
    "\n",
    "1 - remainder\n",
    "\n",
    "\n",
    "How to get remainder in Python? How to get integer part in Python?"
   ]
  },
  {
   "cell_type": "code",
   "execution_count": null,
   "id": "5ac9a9be",
   "metadata": {},
   "outputs": [],
   "source": []
  },
  {
   "cell_type": "code",
   "execution_count": null,
   "id": "823b2fc1",
   "metadata": {},
   "outputs": [],
   "source": []
  },
  {
   "cell_type": "markdown",
   "id": "3b681f2a",
   "metadata": {},
   "source": [
    "  "
   ]
  },
  {
   "cell_type": "markdown",
   "id": "437164f7",
   "metadata": {},
   "source": [
    "9. How to get last two numbers of integer 1781?"
   ]
  },
  {
   "cell_type": "code",
   "execution_count": null,
   "id": "a94251ee",
   "metadata": {},
   "outputs": [],
   "source": []
  },
  {
   "cell_type": "markdown",
   "id": "34b597fb",
   "metadata": {},
   "source": [
    "10. How to check whether 2453588 can be divided by 1684 without remainder?"
   ]
  },
  {
   "cell_type": "code",
   "execution_count": null,
   "id": "7a401c3f",
   "metadata": {},
   "outputs": [],
   "source": [
    "2453588 1684"
   ]
  },
  {
   "cell_type": "markdown",
   "id": "e0728dd7",
   "metadata": {},
   "source": [
    "  "
   ]
  },
  {
   "cell_type": "markdown",
   "id": "5a4c2883",
   "metadata": {},
   "source": [
    "  "
   ]
  },
  {
   "cell_type": "markdown",
   "id": "0da2c3d7",
   "metadata": {},
   "source": [
    "## Lists"
   ]
  },
  {
   "cell_type": "code",
   "execution_count": null,
   "id": "6a89773d",
   "metadata": {},
   "outputs": [],
   "source": [
    "a = [1, 2, 3, 4, 5, 6, 7, 8]"
   ]
  },
  {
   "cell_type": "markdown",
   "id": "37c92666",
   "metadata": {},
   "source": [
    "11. How to select only three first elements of the list?"
   ]
  },
  {
   "cell_type": "code",
   "execution_count": null,
   "id": "164ca689",
   "metadata": {},
   "outputs": [],
   "source": []
  },
  {
   "cell_type": "markdown",
   "id": "32234b81",
   "metadata": {},
   "source": [
    "12. How to select last two elemetns of the list?"
   ]
  },
  {
   "cell_type": "code",
   "execution_count": null,
   "id": "f7dc7167",
   "metadata": {},
   "outputs": [],
   "source": []
  },
  {
   "cell_type": "markdown",
   "id": "545f6e38",
   "metadata": {},
   "source": [
    "13. How to select every second element in the list?"
   ]
  },
  {
   "cell_type": "code",
   "execution_count": null,
   "id": "c31ca5b8",
   "metadata": {},
   "outputs": [],
   "source": []
  },
  {
   "cell_type": "markdown",
   "id": "10ee72fc",
   "metadata": {},
   "source": [
    "14. How to make interted order of the elements in the list?"
   ]
  },
  {
   "cell_type": "code",
   "execution_count": null,
   "id": "aa9c7bb4",
   "metadata": {},
   "outputs": [],
   "source": []
  },
  {
   "cell_type": "markdown",
   "id": "541d3f54",
   "metadata": {},
   "source": [
    "15. How to add 0 as the last element to the list?"
   ]
  },
  {
   "cell_type": "code",
   "execution_count": null,
   "id": "d2445817",
   "metadata": {},
   "outputs": [],
   "source": []
  },
  {
   "cell_type": "markdown",
   "id": "858fd4b1",
   "metadata": {},
   "source": [
    " "
   ]
  },
  {
   "cell_type": "markdown",
   "id": "e4ee6484",
   "metadata": {},
   "source": [
    "<details>\n",
    "  <summary>Click here</summary>\n",
    "\n",
    "You have seen ```append()``` method in the lecture. To insert new element at the given position (not only the last one), we can use ```insert()``` method. Lets insert -1 as the third number of the list.\n",
    "\n",
    "</details>"
   ]
  },
  {
   "cell_type": "code",
   "execution_count": null,
   "id": "6ebe0c02",
   "metadata": {},
   "outputs": [],
   "source": []
  },
  {
   "cell_type": "markdown",
   "id": "a3678679",
   "metadata": {},
   "source": [
    " "
   ]
  },
  {
   "cell_type": "markdown",
   "id": "8f130874",
   "metadata": {},
   "source": [
    "16. How to order the list by sorting it?"
   ]
  },
  {
   "cell_type": "code",
   "execution_count": null,
   "id": "62162a56",
   "metadata": {},
   "outputs": [],
   "source": []
  },
  {
   "cell_type": "markdown",
   "id": "205e4af0",
   "metadata": {},
   "source": [
    " "
   ]
  },
  {
   "cell_type": "markdown",
   "id": "6e7069fc",
   "metadata": {},
   "source": [
    "17. How to delete the last element of the list?"
   ]
  },
  {
   "cell_type": "code",
   "execution_count": null,
   "id": "8646e5f6",
   "metadata": {},
   "outputs": [],
   "source": []
  },
  {
   "cell_type": "markdown",
   "id": "6d45818b",
   "metadata": {},
   "source": [
    " "
   ]
  },
  {
   "cell_type": "markdown",
   "id": "da759ac7",
   "metadata": {},
   "source": [
    "<details>\n",
    "  <summary>Click here</summary>\n",
    "\n",
    "Method ```pop()``` always deleted the last element of the list. To delete a specific element, ```remove()```.\n",
    "\n",
    "</details>"
   ]
  },
  {
   "cell_type": "markdown",
   "id": "f81bdd74",
   "metadata": {},
   "source": [
    " "
   ]
  },
  {
   "cell_type": "markdown",
   "id": "67e33990",
   "metadata": {},
   "source": [
    " "
   ]
  },
  {
   "cell_type": "markdown",
   "id": "8faebd2e",
   "metadata": {},
   "source": [
    " "
   ]
  },
  {
   "cell_type": "markdown",
   "id": "453b2654",
   "metadata": {},
   "source": [
    "Let's assume that in some contest jury gave to the participant the following points. The final score is the average of the grades without the lowest and highest values.\n",
    "\n",
    "```a = [6.7, 8.7, 7.3, 8.0, 7.1, 7.9]```"
   ]
  },
  {
   "cell_type": "markdown",
   "id": "132a7a31",
   "metadata": {},
   "source": [
    "18. What is the algorithm to calculate the final score of the participant?"
   ]
  },
  {
   "cell_type": "markdown",
   "id": "2627d8e6",
   "metadata": {},
   "source": [
    " "
   ]
  },
  {
   "cell_type": "markdown",
   "id": "bf685753",
   "metadata": {},
   "source": [
    " "
   ]
  },
  {
   "cell_type": "markdown",
   "id": "7ae9acd2",
   "metadata": {},
   "source": [
    " "
   ]
  },
  {
   "cell_type": "code",
   "execution_count": null,
   "id": "dc5fda8a",
   "metadata": {},
   "outputs": [],
   "source": [
    "a = [6.7, 8.7, 7.3, 8.0, 7.1, 7.9]"
   ]
  },
  {
   "cell_type": "markdown",
   "id": "b423e80c",
   "metadata": {},
   "source": [
    "19. How to remove minimum and maximum values from the list?"
   ]
  },
  {
   "cell_type": "code",
   "execution_count": null,
   "id": "36b6930d",
   "metadata": {},
   "outputs": [],
   "source": []
  },
  {
   "cell_type": "markdown",
   "id": "5322223e",
   "metadata": {},
   "source": [
    "20. How to calculate the average?"
   ]
  },
  {
   "cell_type": "code",
   "execution_count": null,
   "id": "233017da",
   "metadata": {},
   "outputs": [],
   "source": []
  },
  {
   "cell_type": "markdown",
   "id": "3d6a30b6",
   "metadata": {},
   "source": [
    " "
   ]
  },
  {
   "cell_type": "markdown",
   "id": "e0a16803",
   "metadata": {},
   "source": [
    " "
   ]
  },
  {
   "cell_type": "markdown",
   "id": "82803e4d",
   "metadata": {},
   "source": [
    "21. How to merge two lists?"
   ]
  },
  {
   "cell_type": "code",
   "execution_count": null,
   "id": "8425818b",
   "metadata": {},
   "outputs": [],
   "source": [
    "a = [1,2]\n",
    "b = [3,4]"
   ]
  },
  {
   "cell_type": "markdown",
   "id": "a1aa89ac",
   "metadata": {},
   "source": [
    "## Strings"
   ]
  },
  {
   "cell_type": "code",
   "execution_count": null,
   "id": "fa2053e8",
   "metadata": {},
   "outputs": [],
   "source": [
    "name = 'John Ronald Reuel Tolkien'"
   ]
  },
  {
   "cell_type": "markdown",
   "id": "7f7af64f",
   "metadata": {},
   "source": [
    "22. What will be the output of the following line?"
   ]
  },
  {
   "cell_type": "code",
   "execution_count": null,
   "id": "198f5442",
   "metadata": {},
   "outputs": [],
   "source": [
    "name[-8:]"
   ]
  },
  {
   "cell_type": "markdown",
   "id": "8ba99cf6",
   "metadata": {},
   "source": [
    "  "
   ]
  },
  {
   "cell_type": "markdown",
   "id": "bae32a3e",
   "metadata": {},
   "source": [
    "  "
   ]
  },
  {
   "cell_type": "markdown",
   "id": "ec76ee16",
   "metadata": {},
   "source": [
    "**Some useful commands for working with strings**"
   ]
  },
  {
   "cell_type": "markdown",
   "id": "05aceb2a",
   "metadata": {},
   "source": [
    "To separate words inside the string, you can use ```split()```"
   ]
  },
  {
   "cell_type": "markdown",
   "id": "7dbf09ba",
   "metadata": {},
   "source": [
    "name.split(\" \")"
   ]
  },
  {
   "cell_type": "code",
   "execution_count": null,
   "id": "a48b2442",
   "metadata": {},
   "outputs": [],
   "source": [
    "name_list = name.split(\" \")"
   ]
  },
  {
   "cell_type": "markdown",
   "id": "626a3c44",
   "metadata": {},
   "source": [
    " "
   ]
  },
  {
   "cell_type": "markdown",
   "id": "18c5200b",
   "metadata": {},
   "source": [
    "Python strings have special symborls such as ```\\t``` and ```\\n```. Examples:"
   ]
  },
  {
   "cell_type": "code",
   "execution_count": null,
   "id": "bd3708ae",
   "metadata": {},
   "outputs": [],
   "source": [
    "print(\"my\\tname\")"
   ]
  },
  {
   "cell_type": "code",
   "execution_count": null,
   "id": "e1cef1ab",
   "metadata": {},
   "outputs": [],
   "source": [
    "print(\"my\\nname\")"
   ]
  },
  {
   "cell_type": "markdown",
   "id": "cf61f194",
   "metadata": {},
   "source": [
    "To replace all matching parts of the string, we can use ```replace()``` method."
   ]
  },
  {
   "cell_type": "code",
   "execution_count": null,
   "id": "0903b811",
   "metadata": {},
   "outputs": [],
   "source": [
    "name.replace(\"T\", \"R\")"
   ]
  },
  {
   "cell_type": "markdown",
   "id": "650e83c7",
   "metadata": {},
   "source": [
    " "
   ]
  },
  {
   "cell_type": "markdown",
   "id": "ea3cf5a2",
   "metadata": {},
   "source": [
    " "
   ]
  },
  {
   "cell_type": "markdown",
   "id": "0dbbdab6",
   "metadata": {},
   "source": [
    "23. How to print \"John Ronald\" with each word from new line using ```name_list```?"
   ]
  },
  {
   "cell_type": "code",
   "execution_count": null,
   "id": "e955d3f0",
   "metadata": {},
   "outputs": [],
   "source": []
  },
  {
   "cell_type": "markdown",
   "id": "3c50b976",
   "metadata": {},
   "source": [
    "24. How to print all words in ```name``` from new line?"
   ]
  },
  {
   "cell_type": "code",
   "execution_count": null,
   "id": "109982fb",
   "metadata": {},
   "outputs": [],
   "source": []
  },
  {
   "cell_type": "markdown",
   "id": "9e7707de-046b-424d-a677-3afa1348b40c",
   "metadata": {},
   "source": [
    "## Next week: f-string, if-else statements and loops! "
   ]
  },
  {
   "cell_type": "code",
   "execution_count": null,
   "id": "df2d9670-24fa-44bc-be85-b69e8e4050bd",
   "metadata": {},
   "outputs": [],
   "source": []
  }
 ],
 "metadata": {
  "kernelspec": {
   "display_name": "Python 3 (ipykernel)",
   "language": "python",
   "name": "python3"
  },
  "language_info": {
   "codemirror_mode": {
    "name": "ipython",
    "version": 3
   },
   "file_extension": ".py",
   "mimetype": "text/x-python",
   "name": "python",
   "nbconvert_exporter": "python",
   "pygments_lexer": "ipython3",
   "version": "3.8.8"
  }
 },
 "nbformat": 4,
 "nbformat_minor": 5
}
