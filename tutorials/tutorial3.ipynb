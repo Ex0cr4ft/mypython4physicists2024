{
 "cells": [
  {
   "cell_type": "markdown",
   "id": "378c3623",
   "metadata": {},
   "source": [
    "# Tutorial 3"
   ]
  },
  {
   "cell_type": "markdown",
   "id": "4b86a03f-d512-411a-8469-fec99b65a9b9",
   "metadata": {},
   "source": [
    "# Conditional statemetns"
   ]
  },
  {
   "cell_type": "markdown",
   "id": "b3e10cd6",
   "metadata": {},
   "source": [
    "1.  What is the output of the following code?"
   ]
  },
  {
   "cell_type": "code",
   "execution_count": null,
   "id": "01416497-90e3-4c20-b45b-e94a84700f87",
   "metadata": {},
   "outputs": [],
   "source": [
    "a = 1\n",
    "if a>0:\n",
    "print(a)"
   ]
  },
  {
   "cell_type": "markdown",
   "id": "6d69b0da",
   "metadata": {},
   "source": [
    "2. Will the following code snippet be executed without errors?"
   ]
  },
  {
   "cell_type": "code",
   "execution_count": null,
   "id": "888a4265",
   "metadata": {},
   "outputs": [],
   "source": [
    "a=1\n",
    "if a>0: print(a)"
   ]
  },
  {
   "cell_type": "markdown",
   "id": "a697472b",
   "metadata": {},
   "source": [
    "3. ...and this one?"
   ]
  },
  {
   "cell_type": "code",
   "execution_count": null,
   "id": "30dffe13",
   "metadata": {},
   "outputs": [],
   "source": [
    "a=1\n",
    "print(a) if a>0 else print(0)"
   ]
  },
  {
   "cell_type": "markdown",
   "id": "a93d6210-4c90-4644-8a4a-6c95d818f098",
   "metadata": {},
   "source": [
    "4. What will be the output of the following code?"
   ]
  },
  {
   "cell_type": "code",
   "execution_count": null,
   "id": "ec05a15d-272d-4483-a53f-d3b907777fb2",
   "metadata": {},
   "outputs": [],
   "source": [
    "d = []\n",
    "if d:\n",
    "    print(1)\n",
    "else:\n",
    "    print(2)"
   ]
  },
  {
   "cell_type": "markdown",
   "id": "a697b628",
   "metadata": {},
   "source": [
    "5. Which number(s) will be printed out?"
   ]
  },
  {
   "cell_type": "code",
   "execution_count": null,
   "id": "9a1db49f-2350-4912-94ce-a00039d12fb2",
   "metadata": {},
   "outputs": [],
   "source": [
    "a = -100\n",
    "\n",
    "if a>0:\n",
    "    print(1)\n",
    "if a%10==0:\n",
    "    print(2)\n",
    "else:\n",
    "    print(3)\n"
   ]
  },
  {
   "cell_type": "markdown",
   "id": "fc2aa433",
   "metadata": {},
   "source": [
    "6. Which number(s) will be printed out?"
   ]
  },
  {
   "cell_type": "code",
   "execution_count": null,
   "id": "2e27812e-ae53-4358-84f9-960475909004",
   "metadata": {},
   "outputs": [],
   "source": [
    "b = 40\n",
    "\n",
    "if b==0:\n",
    "    print(2)\n",
    "elif b%2==0:\n",
    "    print(3)\n",
    "elif b%5==0:\n",
    "    print(4)\n",
    "else:\n",
    "    print(4)"
   ]
  },
  {
   "cell_type": "markdown",
   "id": "d14e073a",
   "metadata": {},
   "source": [
    "7. Which number(s) will be printed out?"
   ]
  },
  {
   "cell_type": "code",
   "execution_count": null,
   "id": "cb01890e-3246-41f5-91fc-ed35cdcbfb8a",
   "metadata": {},
   "outputs": [],
   "source": [
    "b = 40\n",
    "\n",
    "if b%10==0:\n",
    "    print(1)\n",
    "if b%4==0:\n",
    "    print(2)\n",
    "elif b%2==0:\n",
    "    print(3)\n",
    "else:\n",
    "    print(4)"
   ]
  },
  {
   "cell_type": "markdown",
   "id": "f607e03c",
   "metadata": {},
   "source": [
    "8. Which number(s) will be printed out?"
   ]
  },
  {
   "cell_type": "code",
   "execution_count": null,
   "id": "f88e89e0-8bfb-4aec-9279-102ad7268424",
   "metadata": {},
   "outputs": [],
   "source": [
    "c = 20\n",
    "\n",
    "if c<0:\n",
    "    print(1)\n",
    "elif c==0:\n",
    "    print(2)\n",
    "else:\n",
    "    print(3)\n",
    "if c==2*10:\n",
    "    print(4)\n",
    "elif c==4*5:\n",
    "    print(5)\n",
    "else:\n",
    "    print(6)"
   ]
  },
  {
   "cell_type": "markdown",
   "id": "8a2bd545",
   "metadata": {},
   "source": [
    "9. Which number(s) will be printed out?"
   ]
  },
  {
   "cell_type": "code",
   "execution_count": null,
   "id": "8c9fcb93-f1b4-4bc1-aae2-75c240c95ed8",
   "metadata": {},
   "outputs": [],
   "source": [
    "a = 0\n",
    "match a:\n",
    "    case -1:\n",
    "        print(-1)\n",
    "    case -2:\n",
    "        print(-2)\n",
    "    case 0:\n",
    "        print(0)\n",
    "    case 1:\n",
    "        print(1)\n",
    "    case 2:\n",
    "        print(2)"
   ]
  },
  {
   "cell_type": "markdown",
   "id": "dd71a9ae-1f1a-40eb-9b1f-8554feef446a",
   "metadata": {},
   "source": [
    "# Loops"
   ]
  },
  {
   "cell_type": "markdown",
   "id": "b7494e86",
   "metadata": {},
   "source": [
    "10. What will be the output of the following line?"
   ]
  },
  {
   "cell_type": "code",
   "execution_count": null,
   "id": "7eb8032c-e8e2-4515-9cb1-60b8bd784f79",
   "metadata": {},
   "outputs": [],
   "source": [
    "print(range(0,5))"
   ]
  },
  {
   "cell_type": "markdown",
   "id": "93b10f2b-d5a2-48c4-b6dc-8001bfc8e0de",
   "metadata": {},
   "source": [
    "<details>\n",
    "  <summary>Click here</summary>\n",
    "This is because range is a specific data **structure** (not a function!). To display it as standard Python data types, we have to convert it to array. How to convert data types in Python?\n",
    "    \n",
    "</details>"
   ]
  },
  {
   "cell_type": "code",
   "execution_count": null,
   "id": "7c94bac3-2784-4bf0-93b5-ea2bdf291e1a",
   "metadata": {},
   "outputs": [],
   "source": [
    "#do data type conversion here\n",
    "print(range(0,5))"
   ]
  },
  {
   "cell_type": "markdown",
   "id": "4b6166f6",
   "metadata": {},
   "source": [
    "11. What will be printed after execution of the following cell?"
   ]
  },
  {
   "cell_type": "code",
   "execution_count": null,
   "id": "6043ed64-1fcc-466d-b9f0-3d99288706ed",
   "metadata": {},
   "outputs": [],
   "source": [
    "for i in range(5):\n",
    "    print(i)"
   ]
  },
  {
   "cell_type": "markdown",
   "id": "4a441ee4-b225-4c68-99cf-fe506164a054",
   "metadata": {},
   "source": [
    "12. What other objects can be used for iterations in python?"
   ]
  },
  {
   "cell_type": "markdown",
   "id": "a59c37a3-4a6a-4d23-92e3-26f50b08bbea",
   "metadata": {},
   "source": [
    "13. How to print the following structure using loops?\n",
    "\n",
    "```*****\n",
    "****\n",
    "***\n",
    "**\n",
    "*\n",
    "```"
   ]
  },
  {
   "cell_type": "code",
   "execution_count": null,
   "id": "305c6b92",
   "metadata": {},
   "outputs": [],
   "source": [
    "# your code here"
   ]
  },
  {
   "cell_type": "markdown",
   "id": "6d192c4d-581b-456f-9048-1ead8cdc932b",
   "metadata": {},
   "source": [
    "14. What is the output of the following code snippet?"
   ]
  },
  {
   "cell_type": "code",
   "execution_count": null,
   "id": "ae8140a4-40c9-457d-8540-dc61cedda2cc",
   "metadata": {},
   "outputs": [],
   "source": [
    "count = 0\n",
    "while count < 5:\n",
    "    print(count)\n",
    "    count = count + 1\n",
    "    if count == 3:\n",
    "        break"
   ]
  },
  {
   "cell_type": "markdown",
   "id": "9d8f7330",
   "metadata": {},
   "source": [
    "15. Which numbers will be printed out upon execution of the following cell?"
   ]
  },
  {
   "cell_type": "code",
   "execution_count": null,
   "id": "2d20142c-be2f-471d-8dc7-e64851a25af6",
   "metadata": {},
   "outputs": [],
   "source": [
    "count = 0\n",
    "while count < 5:\n",
    "    if count == 3:\n",
    "        count = count + 1\n",
    "        continue\n",
    "    print(count)\n",
    "    count = count + 1"
   ]
  },
  {
   "cell_type": "markdown",
   "id": "7860dd74",
   "metadata": {},
   "source": [
    "16. What is the output of the following code snippet?"
   ]
  },
  {
   "cell_type": "code",
   "execution_count": null,
   "id": "f6b886e7-8e9f-4003-9a34-a2887bde1d30",
   "metadata": {},
   "outputs": [],
   "source": [
    "n=3\n",
    "while True:\n",
    "    print(n)\n",
    "    n-=1\n",
    "    if n<=0:\n",
    "        break"
   ]
  },
  {
   "cell_type": "markdown",
   "id": "b4bfa756",
   "metadata": {},
   "source": [
    "17. What is the output of the following code snippet?"
   ]
  },
  {
   "cell_type": "code",
   "execution_count": null,
   "id": "82c22bee-7652-408a-8b98-6664bdd86e1f",
   "metadata": {},
   "outputs": [],
   "source": [
    "for _ in range(5):\n",
    "    print(\"Hello!\")"
   ]
  },
  {
   "cell_type": "markdown",
   "id": "c265b593",
   "metadata": {},
   "source": [
    "# f-strings"
   ]
  },
  {
   "cell_type": "markdown",
   "id": "0e903f60",
   "metadata": {},
   "source": [
    "18. What will be printed after execution of the following cell?"
   ]
  },
  {
   "cell_type": "code",
   "execution_count": null,
   "id": "5c0ddcfe-f368-4ca1-9b3d-47b9b95defa7",
   "metadata": {},
   "outputs": [],
   "source": [
    "a = 1\n",
    "print(f\"I have {a} apple\")"
   ]
  },
  {
   "cell_type": "markdown",
   "id": "3679db99",
   "metadata": {},
   "source": [
    "19. Does the following code work as well? Note `' '` instead of `\" \"`"
   ]
  },
  {
   "cell_type": "code",
   "execution_count": null,
   "id": "e6289949-a24b-40c2-ace3-94cccc995e9e",
   "metadata": {},
   "outputs": [],
   "source": [
    "a = 1\n",
    "print(f'I have {a} apple')"
   ]
  },
  {
   "cell_type": "markdown",
   "id": "478a240a",
   "metadata": {},
   "source": [
    "20. How print a table of radii and corresponding areas (with 2 numbers after decimal point) separated by ``tab``?"
   ]
  },
  {
   "cell_type": "code",
   "execution_count": null,
   "id": "259f0ee4-08bb-4b1a-966e-5cebd8689ff6",
   "metadata": {},
   "outputs": [],
   "source": [
    "R = [1, 2, 3]\n",
    "pi = 3.1415\n",
    "\n",
    "print(\"R \\t Area\")\n",
    "for r in R:\n",
    "#    print()"
   ]
  },
  {
   "cell_type": "markdown",
   "id": "af7d3f2d",
   "metadata": {},
   "source": [
    "21. How to print a table of \n",
    "\n",
    "$$\\frac{1}{n}  \\;\\; \\frac{1}{n^2} \\;\\; \\frac{1}{n^3}$$\n",
    "\n",
    "separated by space? Each shoud be printed with only 4 numbers after decimal point."
   ]
  },
  {
   "cell_type": "code",
   "execution_count": null,
   "id": "077498b5-3921-4cec-86a2-5f0ebb18f021",
   "metadata": {},
   "outputs": [],
   "source": [
    "numbers = [3, 5, 7, 9, 11]\n",
    "for n in numbers:\n",
    "#    print()"
   ]
  },
  {
   "cell_type": "markdown",
   "id": "80f561dc-2764-4270-b627-eb1e1e38a49a",
   "metadata": {},
   "source": [
    "## A big task!"
   ]
  },
  {
   "cell_type": "code",
   "execution_count": null,
   "id": "deae476f-03d1-4670-b1b1-256ba64c93d1",
   "metadata": {},
   "outputs": [],
   "source": [
    "months = {1:'January', 2:'February', 3:'March', 4:'April', 5:'May', 6:'June', 7:'July', 8:'August', 9:'September', 10:'October', 11:'November', 12:'December'}\n",
    "dates = ['01.11.68', '29.08.02', '08.11.24']"
   ]
  },
  {
   "cell_type": "markdown",
   "id": "a45039ab-2992-42b3-b34b-5ac4a7f73dc1",
   "metadata": {},
   "source": [
    "How to print dates in the format `January 1, 1996`?"
   ]
  },
  {
   "cell_type": "markdown",
   "id": "529cc95d",
   "metadata": {},
   "source": [
    "22. What is the algorithm for solving this task?"
   ]
  },
  {
   "cell_type": "code",
   "execution_count": null,
   "id": "a6b851ae",
   "metadata": {},
   "outputs": [],
   "source": [
    "# your code here"
   ]
  },
  {
   "cell_type": "markdown",
   "id": "e99d6586",
   "metadata": {},
   "source": [
    "<details>\n",
    "  <summary>Click here</summary>\n",
    "    \n",
    "```\n",
    "for date in dates:\n",
    "    if int(date[6:])<25:\n",
    "        year_pr = '20'\n",
    "        if int(date[6:])<10:\n",
    "            year_pr = '200'\n",
    "    else:\n",
    "        year_pr = '19'\n",
    "    year_pr\n",
    "    print(f\"{months[int(date[3:5])]} {int(date[0:2])}, {year_pr}{int(date[6:])}\")\n",
    " ```\n",
    "\n",
    "</details>"
   ]
  },
  {
   "cell_type": "markdown",
   "id": "9e7707de-046b-424d-a677-3afa1348b40c",
   "metadata": {},
   "source": [
    "## Next week: **fun**ctions! "
   ]
  }
 ],
 "metadata": {
  "kernelspec": {
   "display_name": "Python 3 (ipykernel)",
   "language": "python",
   "name": "python3"
  },
  "language_info": {
   "codemirror_mode": {
    "name": "ipython",
    "version": 3
   },
   "file_extension": ".py",
   "mimetype": "text/x-python",
   "name": "python",
   "nbconvert_exporter": "python",
   "pygments_lexer": "ipython3",
   "version": "3.8.8"
  }
 },
 "nbformat": 4,
 "nbformat_minor": 5
}
